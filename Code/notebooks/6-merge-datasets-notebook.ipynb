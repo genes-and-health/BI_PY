{
 "cells": [
  {
   "cell_type": "markdown",
   "id": "d3f29faa",
   "metadata": {},
   "source": [
    "# 6-merge-datasets-notebook - Plan\n",
    "\n",
    "In this notebook, we are going to load all the data from file that was created in notebooks 2 to 5. We are aiming to get all the data of the same type together so we end up with:\n",
    "\n",
    "1) ICD10 dataset\n",
    "2) OPCS dataset\n",
    "3) SNOMED dataset\n",
    "\n",
    "In addition to this, we have mapped the SNOMED datasets to ICD10 and we will merge these in as well so we end up with:\n",
    "\n",
    "4) SNOMED_MAPPED_AND_ICD dataset"
   ]
  },
  {
   "cell_type": "markdown",
   "id": "6712ebb0",
   "metadata": {},
   "source": [
    "# Locations/paths naming convention\n",
    "\n",
    "1. We do not use relative paths.\n",
    "2. We do not explicitly use the word FOLDER in the naming, so `MEGADATA_LOCATION`, not `MEGADATA_FOLDER_LOCATION`. \n",
    "1. Location and path are in `UPPER_CASE`.\n",
    "2. When referred to as `_LOCATION`, the variable contain a string with the path.\n",
    "3. When referred to as `_PATH`, the variable is an `AnyPath` path object.\n",
    "4. The folder order is \"what it is\" / \"Where it's from\" so, for example megadata/primary_care not primary_care/megadata; so `MEGADATA_PRIMARY_CARE_LOCATION` or `PROCESSED_DATASETS_PRIMARY_CARE_PATH`\n"
   ]
  },
  {
   "cell_type": "code",
   "execution_count": null,
   "id": "4a9e0ea3",
   "metadata": {},
   "outputs": [],
   "source": [
    "VERSION = 'version010_2025_05_SR'"
   ]
  },
  {
   "cell_type": "code",
   "execution_count": null,
   "id": "470df334",
   "metadata": {},
   "outputs": [],
   "source": [
    "from datetime import datetime\n",
    "from tretools.datasets.processed_dataset import ProcessedDataset\n",
    "from tretools.datasets.dataset_enums.dataset_types import DatasetType\n",
    "from tretools.codelists.codelist_types import CodelistType"
   ]
  },
  {
   "cell_type": "code",
   "execution_count": null,
   "id": "7cc7c389",
   "metadata": {},
   "outputs": [],
   "source": [
    "import polars as pl\n",
    "from cloudpathlib import AnyPath"
   ]
  },
  {
   "cell_type": "markdown",
   "id": "c0a318a1",
   "metadata": {},
   "source": [
    "## Paths"
   ]
  },
  {
   "cell_type": "code",
   "execution_count": null,
   "id": "6d9b5748",
   "metadata": {},
   "outputs": [],
   "source": [
    "ROOT_LOCATION = \"/home/ivm/BI_PY\"\n",
    "MEGADATA_LOCATION = f\"{ROOT_LOCATION}/{VERSION}/megadata\""
   ]
  },
  {
   "cell_type": "code",
   "execution_count": null,
   "id": "141c0a42",
   "metadata": {},
   "outputs": [],
   "source": [
    "# INPUT_PATH = f\"{ROOT_LOCATION}/{VERSION}/processed_datasets\"\n",
    "# OUTPUT_PATH = f\"{ROOT_LOCATION}/{VERSION}/merged_datasets\"\n",
    "# AnyPath(OUTPUT_PATH).mkdir(parents=True, exist_ok=True)"
   ]
  },
  {
   "cell_type": "markdown",
   "id": "9d328737",
   "metadata": {},
   "source": [
    "### Scripting for automated next notebook initation"
   ]
  },
  {
   "cell_type": "code",
   "execution_count": null,
   "id": "ec5a8595",
   "metadata": {},
   "outputs": [],
   "source": [
    "from IPython.display import Javascript"
   ]
  },
  {
   "cell_type": "code",
   "execution_count": null,
   "id": "f748f7d2",
   "metadata": {},
   "outputs": [],
   "source": [
    "def redirect_to_next_notebook_in_pipeline(other_notebook):\n",
    "    \n",
    "    js_code = f\"\"\"\n",
    "    if (typeof Jupyter !== 'undefined' && Jupyter.notebook && Jupyter.notebook.kernel) {{\n",
    "        // only runs when cell is executed, not from cached output\n",
    "        console.log(\"Redirecting to next notebook in pipeline...\");\n",
    "        Jupyter.notebook.save_checkpoint();\n",
    "        Jupyter.notebook.session.delete();\n",
    "        \n",
    "        setTimeout(function() {{\n",
    "            window.location.href = '{other_notebook}.ipynb';\n",
    "        }}, 1500)\n",
    "    }} else {{\n",
    "        console.log(\"Found cached output. Not an active notebook context. Skipping redirect.\")\n",
    "    }}\n",
    "    \"\"\"\n",
    "    display(Javascript(js_code))"
   ]
  },
  {
   "cell_type": "markdown",
   "id": "33b3ea50",
   "metadata": {},
   "source": [
    "### ICD10 Datasets \\[Native\\]\n",
    "\n",
    "Datasets are Primary, Barts, Bradford, NHSD but there is no native ICD-10 data in Primary, hence only 3 native ICD datasets collected."
   ]
  },
  {
   "cell_type": "code",
   "execution_count": null,
   "id": "a170b5fa",
   "metadata": {},
   "outputs": [],
   "source": [
    "barts_icd = ProcessedDataset(path=f\"{MEGADATA_LOCATION}/barts_health/merged_ICD.arrow\", \n",
    "                             dataset_type=\"MEGA\", \n",
    "                             coding_system=CodelistType.ICD10.value,\n",
    "                             log_path=f\"{MEGADATA_LOCATION}/barts_health/merged_ICD_log.txt\")"
   ]
  },
  {
   "cell_type": "code",
   "execution_count": null,
   "id": "57062cb6",
   "metadata": {},
   "outputs": [],
   "source": [
    "bradford_icd = ProcessedDataset(path=f\"{MEGADATA_LOCATION}/bradford/icd.arrow\", \n",
    "                             dataset_type=\"MEGA\", \n",
    "                             coding_system=CodelistType.ICD10.value,\n",
    "                             log_path=f\"{MEGADATA_LOCATION}/bradford/icd_log.txt\")"
   ]
  },
  {
   "cell_type": "code",
   "execution_count": null,
   "id": "7a4a99d3",
   "metadata": {},
   "outputs": [],
   "source": [
    "nhs_d_icd = ProcessedDataset(path=f\"{MEGADATA_LOCATION}/nhs_digital/nhs_d_merged_ICD10.arrow\", \n",
    "                             dataset_type=\"MEGA\", \n",
    "                             coding_system=CodelistType.ICD10.value,\n",
    "                             log_path=f\"{MEGADATA_LOCATION}/nhs_digital/nhs_d_merged_ICD10_log.txt\")"
   ]
  },
  {
   "cell_type": "code",
   "execution_count": null,
   "id": "c0c0cbea",
   "metadata": {},
   "outputs": [],
   "source": [
    "barts_icd.merge_with_dataset(bradford_icd)"
   ]
  },
  {
   "cell_type": "code",
   "execution_count": null,
   "id": "c3d7c97c",
   "metadata": {},
   "outputs": [],
   "source": [
    "barts_icd.merge_with_dataset(nhs_d_icd)"
   ]
  },
  {
   "cell_type": "code",
   "execution_count": null,
   "id": "3940fbdb",
   "metadata": {},
   "outputs": [],
   "source": [
    "dedup = barts_icd.deduplicate()"
   ]
  },
  {
   "cell_type": "code",
   "execution_count": null,
   "id": "fc1e0343",
   "metadata": {},
   "outputs": [],
   "source": [
    "for log in bradford_icd.log:\n",
    "    dedup.log.append(log)\n",
    "\n",
    "for log in nhs_d_icd.log:\n",
    "    dedup.log.append(log)\n",
    "dedup.log.sort()"
   ]
  },
  {
   "cell_type": "code",
   "execution_count": null,
   "id": "decec10f",
   "metadata": {},
   "outputs": [],
   "source": [
    "dedup.write_to_feather(f\"{MEGADATA_LOCATION}/icd_only.arrow\")\n",
    "dedup.write_to_log(f\"{MEGADATA_LOCATION}/icd_only_log.txt\")"
   ]
  },
  {
   "cell_type": "markdown",
   "id": "079261b8",
   "metadata": {},
   "source": [
    "### OPCS Datasets\n",
    "\n",
    "Only (hospital) secondary care sources use OPCS, i.e Bart and Bradford"
   ]
  },
  {
   "cell_type": "code",
   "execution_count": null,
   "id": "6f6a7dd4",
   "metadata": {},
   "outputs": [],
   "source": [
    "barts_opcs = ProcessedDataset(path=f\"{MEGADATA_LOCATION}/barts_health/merged_OPCS.arrow\", \n",
    "                             dataset_type=\"MEGA\", \n",
    "                             coding_system=CodelistType.OPCS.value,\n",
    "                             log_path=f\"{MEGADATA_LOCATION}/barts_health/merged_OPCS_log.txt\")"
   ]
  },
  {
   "cell_type": "code",
   "execution_count": null,
   "id": "ea9113db",
   "metadata": {},
   "outputs": [],
   "source": [
    "bradford_opcs = ProcessedDataset(path=f\"{MEGADATA_LOCATION}/bradford/opcs.arrow\", \n",
    "                             dataset_type=\"MEGA\", \n",
    "                             coding_system=CodelistType.OPCS.value,\n",
    "                             log_path=f\"{MEGADATA_LOCATION}/bradford/opcs_log.txt\")"
   ]
  },
  {
   "cell_type": "code",
   "execution_count": null,
   "id": "cef9d872",
   "metadata": {},
   "outputs": [],
   "source": [
    "barts_opcs.merge_with_dataset(bradford_opcs)"
   ]
  },
  {
   "cell_type": "code",
   "execution_count": null,
   "id": "2de459b0",
   "metadata": {},
   "outputs": [],
   "source": [
    "dedup = barts_opcs.deduplicate()"
   ]
  },
  {
   "cell_type": "code",
   "execution_count": null,
   "id": "988ef80a",
   "metadata": {},
   "outputs": [],
   "source": [
    "for log in bradford_opcs.log:\n",
    "    dedup.log.append(log)\n",
    "\n",
    "dedup.log.sort()"
   ]
  },
  {
   "cell_type": "code",
   "execution_count": null,
   "id": "9b29d3a7",
   "metadata": {},
   "outputs": [],
   "source": [
    "dedup.write_to_feather(f\"{MEGADATA_LOCATION}/opcs_only.arrow\")\n",
    "dedup.write_to_log(f\"{MEGADATA_LOCATION}/opcs_only_log.txt\")"
   ]
  },
  {
   "cell_type": "markdown",
   "id": "93c64609",
   "metadata": {},
   "source": [
    "### SNOMED Datasets"
   ]
  },
  {
   "cell_type": "code",
   "execution_count": null,
   "id": "0d53916e",
   "metadata": {},
   "outputs": [],
   "source": [
    "primary_snomed = ProcessedDataset(path=f\"{MEGADATA_LOCATION}/primary_care/final_merged_data.arrow\", \n",
    "                             dataset_type=\"MEGA\", \n",
    "                             coding_system=CodelistType.SNOMED.value,\n",
    "                             log_path=f\"{MEGADATA_LOCATION}/primary_care/final_log.txt\")"
   ]
  },
  {
   "cell_type": "code",
   "execution_count": null,
   "id": "959e2f27",
   "metadata": {},
   "outputs": [],
   "source": [
    "barts_snomed = ProcessedDataset(path=f\"{MEGADATA_LOCATION}/barts_health/merged_SNOMED.arrow\", \n",
    "                             dataset_type=\"MEGA\", \n",
    "                             coding_system=CodelistType.SNOMED.value,\n",
    "                             log_path=f\"{MEGADATA_LOCATION}/barts_health/merged_SNOMED_log.txt\")"
   ]
  },
  {
   "cell_type": "code",
   "execution_count": null,
   "id": "041ba32d",
   "metadata": {},
   "outputs": [],
   "source": [
    "bradford_snomed = ProcessedDataset(path=f\"{MEGADATA_LOCATION}/bradford/snomed.arrow\", \n",
    "                             dataset_type=\"MEGA\", \n",
    "                             coding_system=CodelistType.SNOMED.value,\n",
    "                             log_path=f\"{MEGADATA_LOCATION}/bradford/snomed_log.txt\")"
   ]
  },
  {
   "cell_type": "code",
   "execution_count": null,
   "id": "4b917397",
   "metadata": {},
   "outputs": [],
   "source": [
    "nhs_d_snomed = ProcessedDataset(path=f\"{MEGADATA_LOCATION}/nhs_digital/nhs_d_merged_SNOMED.arrow\", \n",
    "                             dataset_type=\"MEGA\", \n",
    "                             coding_system=CodelistType.SNOMED.value,\n",
    "                             log_path=f\"{MEGADATA_LOCATION}/nhs_digital/nhs_d_merged_SNOMED_log.txt\")"
   ]
  },
  {
   "cell_type": "code",
   "execution_count": null,
   "id": "3224c019",
   "metadata": {},
   "outputs": [],
   "source": [
    "primary_snomed.merge_with_dataset(barts_snomed)\n",
    "primary_snomed.merge_with_dataset(bradford_snomed)"
   ]
  },
  {
   "cell_type": "code",
   "execution_count": null,
   "id": "81ff06d9",
   "metadata": {},
   "outputs": [],
   "source": [
    "nhs_d_snomed.data = (\n",
    "    # We have to do a little madness here to comply with expected tretools input\n",
    "    nhs_d_snomed.data\n",
    "    .with_columns(\n",
    "        pl.col(\"code\")\n",
    "        .cast(pl.Int64, strict=False)\n",
    "    )\n",
    "    .filter(\n",
    "        pl.col(\"code\").is_not_null()\n",
    "    )\n",
    ")\n",
    "primary_snomed.merge_with_dataset(nhs_d_snomed)"
   ]
  },
  {
   "cell_type": "code",
   "execution_count": null,
   "id": "0930ccfe",
   "metadata": {},
   "outputs": [],
   "source": [
    "dedup = primary_snomed.deduplicate()"
   ]
  },
  {
   "cell_type": "code",
   "execution_count": null,
   "id": "5cac88a0",
   "metadata": {},
   "outputs": [],
   "source": [
    "for log in barts_snomed.log:\n",
    "    dedup.log.append(log)\n",
    "\n",
    "for log in bradford_snomed.log:\n",
    "    dedup.log.append(log)\n",
    "\n",
    "for log in nhs_d_snomed.log:\n",
    "    dedup.log.append(log)\n",
    "    \n",
    "dedup.log.sort()"
   ]
  },
  {
   "cell_type": "code",
   "execution_count": null,
   "id": "e542da2f",
   "metadata": {},
   "outputs": [],
   "source": [
    "dedup.write_to_feather(f\"{MEGADATA_LOCATION}/snomed_only.arrow\")\n",
    "dedup.write_to_log(f\"{MEGADATA_LOCATION}/snomed_log.txt\")"
   ]
  },
  {
   "cell_type": "markdown",
   "id": "8a214d50",
   "metadata": {},
   "source": [
    "### Now we create the merged ICD dataset\n",
    "#### This combines \"native\" ICD10 with SNOMED -> ICD10 mapped codes\n",
    "\n",
    "We first load the mapped dataset (that is the dataset that is mapped from SNOMED to ICD dataset). "
   ]
  },
  {
   "cell_type": "code",
   "execution_count": null,
   "id": "672f0dbf",
   "metadata": {},
   "outputs": [],
   "source": [
    "mapped_data_primary_icd = ProcessedDataset( # Notebook #2\n",
    "    path=f\"{MEGADATA_LOCATION}/primary_care/final_mapped_data.arrow\",\n",
    "    dataset_type=\"MEGA\",\n",
    "    coding_system=CodelistType.ICD10.value,\n",
    "    log_path=f\"{MEGADATA_LOCATION}/primary_care/final_mapped_log.txt\"\n",
    ")"
   ]
  },
  {
   "cell_type": "code",
   "execution_count": null,
   "id": "5d2e8f91",
   "metadata": {},
   "outputs": [],
   "source": [
    "mapped_data_barts_icd = ProcessedDataset( # Notebook #3\n",
    "    path=f\"{MEGADATA_LOCATION}/barts_health/final_mapped_snomed_to_icd.arrow\",\n",
    "    dataset_type=\"MEGA\",\n",
    "    coding_system=CodelistType.ICD10.value,\n",
    "    log_path=f\"{MEGADATA_LOCATION}/barts_health/final_mapped_snomed_to_icd_log.txt\"\n",
    ")"
   ]
  },
  {
   "cell_type": "code",
   "execution_count": null,
   "id": "2a608ea7",
   "metadata": {},
   "outputs": [],
   "source": [
    "mapped_data_bradford_icd = ProcessedDataset( # Notebook #4\n",
    "    path=f\"{MEGADATA_LOCATION}/bradford/final_mapped_snomed_to_icd.arrow\",\n",
    "    dataset_type=\"MEGA\",\n",
    "    coding_system=CodelistType.ICD10.value,\n",
    "    log_path=f\"{MEGADATA_LOCATION}/bradford/final_mapped_snomed_to_icd_log.txt\"\n",
    ")"
   ]
  },
  {
   "cell_type": "code",
   "execution_count": null,
   "id": "1f65dc86",
   "metadata": {},
   "outputs": [],
   "source": [
    "mapped_data_nhs_digital_icd = ProcessedDataset( # Notebook #5\n",
    "    path=f\"{MEGADATA_LOCATION}/nhs_digital/final_mapped_snomed_to_icd.arrow\",\n",
    "    dataset_type=\"MEGA\",\n",
    "    coding_system=CodelistType.ICD10.value,\n",
    "    log_path=f\"{MEGADATA_LOCATION}/nhs_digital/final_mapped_snomed_to_icd_log.txt\"\n",
    ")"
   ]
  },
  {
   "cell_type": "markdown",
   "id": "bd8c1972",
   "metadata": {},
   "source": [
    "Then we load the mega file of ICD 10 datas (i.e. the one we just made above)"
   ]
  },
  {
   "cell_type": "code",
   "execution_count": null,
   "id": "c7591ee4",
   "metadata": {},
   "outputs": [],
   "source": [
    "icd_mega_file = ProcessedDataset(\n",
    "    path=f\"{MEGADATA_LOCATION}/icd_only.arrow\",\n",
    "    dataset_type=\"MEGA\",\n",
    "    coding_system=CodelistType.ICD10.value,\n",
    "    log_path=f\"{MEGADATA_LOCATION}/icd_only_log.txt\"\n",
    ")"
   ]
  },
  {
   "cell_type": "markdown",
   "id": "e6ee8121",
   "metadata": {},
   "source": [
    "Now we merge everything together and deduplicate. We merge all the log files together and write to file. "
   ]
  },
  {
   "cell_type": "code",
   "execution_count": null,
   "id": "a4da5afe",
   "metadata": {},
   "outputs": [],
   "source": [
    "icd_mega_file.merge_with_dataset(mapped_data_primary_icd)"
   ]
  },
  {
   "cell_type": "code",
   "execution_count": null,
   "id": "2fe27955",
   "metadata": {},
   "outputs": [],
   "source": [
    "icd_mega_file.merge_with_dataset(mapped_data_barts_icd)"
   ]
  },
  {
   "cell_type": "code",
   "execution_count": null,
   "id": "0b379428",
   "metadata": {},
   "outputs": [],
   "source": [
    "icd_mega_file.merge_with_dataset(mapped_data_bradford_icd)"
   ]
  },
  {
   "cell_type": "code",
   "execution_count": null,
   "id": "bb308264",
   "metadata": {},
   "outputs": [],
   "source": [
    "icd_mega_file.merge_with_dataset(mapped_data_nhs_digital_icd)"
   ]
  },
  {
   "cell_type": "code",
   "execution_count": null,
   "id": "3b19e450",
   "metadata": {},
   "outputs": [],
   "source": [
    "dedup = icd_mega_file.deduplicate()"
   ]
  },
  {
   "cell_type": "code",
   "execution_count": null,
   "id": "cbb9a3b0",
   "metadata": {},
   "outputs": [],
   "source": [
    "for log in mapped_data_primary_icd.log:\n",
    "    dedup.log.append(log)\n",
    "\n",
    "for log in mapped_data_barts_icd.log:\n",
    "    dedup.log.append(log)\n",
    "\n",
    "for log in mapped_data_bradford_icd.log:\n",
    "    dedup.log.append(log)\n",
    "\n",
    "for log in mapped_data_nhs_digital_icd.log:\n",
    "    dedup.log.append(log)\n",
    "\n",
    "dedup.log.sort()"
   ]
  },
  {
   "cell_type": "code",
   "execution_count": null,
   "id": "1fc4c1df",
   "metadata": {},
   "outputs": [],
   "source": [
    "dedup.write_to_feather(f\"{MEGADATA_LOCATION}/icd_and_mapped_snomed.arrow\")\n",
    "dedup.write_to_log(f\"{MEGADATA_LOCATION}/icd_and_mapped_snomed_log.txt\")"
   ]
  },
  {
   "cell_type": "code",
   "execution_count": null,
   "id": "790053d9",
   "metadata": {
    "scrolled": true
   },
   "outputs": [],
   "source": [
    "dedup = ProcessedDataset(\n",
    "    path=f\"{MEGADATA_LOCATION}/icd_and_mapped_snomed.arrow\",\n",
    "    dataset_type=\"MEGA\",\n",
    "    coding_system=CodelistType.ICD10.value,\n",
    "    log_path=f\"{MEGADATA_LOCATION}/icd_and_mapped_snomed_log.txt\"\n",
    ")"
   ]
  },
  {
   "cell_type": "markdown",
   "id": "d09218fe",
   "metadata": {},
   "source": [
    "We are now going to truncate all the ICD10 codes so they they only have 3 digits and save this as its own dataset. \n",
    "\n",
    "This uses tretools' `truncate_icd_to_3_digits()` which literally just takes first 3 characters of the code field, i.e. does not do anything with `\"NA\"` or invalid codes (e.g. `\"-1\"`)"
   ]
  },
  {
   "cell_type": "code",
   "execution_count": null,
   "id": "80a4f277",
   "metadata": {},
   "outputs": [],
   "source": [
    "three_digit_only = dedup.truncate_icd_to_3_digits()"
   ]
  },
  {
   "cell_type": "code",
   "execution_count": null,
   "id": "fdf20404",
   "metadata": {},
   "outputs": [],
   "source": [
    "three_digit_only.write_to_feather(f\"{MEGADATA_LOCATION}/icd_and_mapped_snomed_3_digit_only.arrow\")\n",
    "three_digit_only.write_to_log(f\"{MEGADATA_LOCATION}/icd_and_mapped_snomed_3_digit_only_log.txt\")"
   ]
  },
  {
   "cell_type": "markdown",
   "id": "fac05807",
   "metadata": {},
   "source": [
    "Now we are going deduplicate this and save again. "
   ]
  },
  {
   "cell_type": "code",
   "execution_count": null,
   "id": "ef18ff67",
   "metadata": {},
   "outputs": [],
   "source": [
    "merged = ProcessedDataset(\n",
    "    path=f\"{MEGADATA_LOCATION}/icd_and_mapped_snomed_3_digit_only.arrow\",\n",
    "    dataset_type=\"MEGA\",\n",
    "    coding_system=CodelistType.ICD10.value,\n",
    "    log_path=f\"{MEGADATA_LOCATION}/icd_and_mapped_snomed_3_digit_only_log.txt\"\n",
    ")"
   ]
  },
  {
   "cell_type": "code",
   "execution_count": null,
   "id": "915ff35b",
   "metadata": {},
   "outputs": [],
   "source": [
    "dedup_3_digit = merged.deduplicate()"
   ]
  },
  {
   "cell_type": "code",
   "execution_count": null,
   "id": "73e28476",
   "metadata": {},
   "outputs": [],
   "source": [
    "dedup_3_digit.write_to_feather(f\"{MEGADATA_LOCATION}/icd_and_mapped_snomed_3_digit_deduplication.arrow\")"
   ]
  },
  {
   "cell_type": "code",
   "execution_count": null,
   "id": "75bc353f",
   "metadata": {},
   "outputs": [],
   "source": [
    "dedup_3_digit.write_to_log(f\"{MEGADATA_LOCATION}/icd_and_mapped_snomed_3_digit_deduplication_log.txt\")"
   ]
  },
  {
   "cell_type": "markdown",
   "id": "d4b90afb",
   "metadata": {},
   "source": [
    "### Run next cell to initiate next notebook"
   ]
  },
  {
   "cell_type": "code",
   "execution_count": null,
   "id": "a904447b",
   "metadata": {},
   "outputs": [],
   "source": [
    "redirect_to_next_notebook_in_pipeline(\"7-three-and-four-digit-ICD\")"
   ]
  },
  {
   "cell_type": "markdown",
   "id": "6297599f",
   "metadata": {},
   "source": [
    "**THIS vvvvvvvv NOT RUN**"
   ]
  },
  {
   "cell_type": "markdown",
   "id": "2d4325f8",
   "metadata": {},
   "source": [
    "## Data without NHS-D\n",
    "\n",
    "One of the industry partners requested a clean dataset - merged - without the NHS-D data included as they do not have a current license. Below is the code run - 26th March 2024 - to produce this. "
   ]
  },
  {
   "cell_type": "code",
   "execution_count": null,
   "id": "ebb52aaa",
   "metadata": {},
   "outputs": [],
   "source": [
    "from datetime import datetime\n",
    "from tretools.datasets.processed_dataset import ProcessedDataset\n",
    "from tretools.datasets.dataset_enums.dataset_types import DatasetType\n",
    "from tretools.codelists.codelist_types import CodelistType\n",
    "import pathlib"
   ]
  },
  {
   "cell_type": "code",
   "execution_count": null,
   "id": "f3d3b097",
   "metadata": {},
   "outputs": [],
   "source": [
    "INPUT_PATH = \"processed_datasets\"\n",
    "OUTPUT_PATH = \"merged_datasets\"\n",
    "AnyPath(OUTPUT_PATH).mkdir(parents=True, exist_ok=True)"
   ]
  },
  {
   "cell_type": "markdown",
   "id": "d5c6f3a7",
   "metadata": {},
   "source": [
    "### ICD10 Datasets"
   ]
  },
  {
   "cell_type": "code",
   "execution_count": null,
   "id": "b14188ef",
   "metadata": {},
   "outputs": [],
   "source": [
    "barts_icd = ProcessedDataset(path=f\"{INPUT_PATH}/barts_health/megadata/merged_ICD.arrow\", \n",
    "                             dataset_type=\"MEGA\", \n",
    "                             coding_system=CodelistType.ICD10.value,\n",
    "                             log_path=f\"{INPUT_PATH}/barts_health/megadata/merged_ICD_log.txt\")"
   ]
  },
  {
   "cell_type": "code",
   "execution_count": null,
   "id": "02f1ca17",
   "metadata": {},
   "outputs": [],
   "source": [
    "bradford_icd = ProcessedDataset(path=f\"{INPUT_PATH}/bradford/megadata/icd.arrow\", \n",
    "                             dataset_type=\"MEGA\", \n",
    "                             coding_system=CodelistType.ICD10.value,\n",
    "                             log_path=f\"{INPUT_PATH}/bradford/megadata/icd_log.txt\")"
   ]
  },
  {
   "cell_type": "code",
   "execution_count": null,
   "id": "3c604d2f",
   "metadata": {},
   "outputs": [],
   "source": [
    "barts_icd.merge_with_dataset(bradford_icd)"
   ]
  },
  {
   "cell_type": "code",
   "execution_count": null,
   "id": "63debf18",
   "metadata": {},
   "outputs": [],
   "source": [
    "dedup = barts_icd.deduplicate()"
   ]
  },
  {
   "cell_type": "code",
   "execution_count": null,
   "id": "4b7fb951",
   "metadata": {},
   "outputs": [],
   "source": [
    "for log in bradford_icd.log:\n",
    "    dedup.log.append(log)\n",
    "    \n",
    "dedup.log.sort()"
   ]
  },
  {
   "cell_type": "code",
   "execution_count": null,
   "id": "3a1fbc5c",
   "metadata": {},
   "outputs": [],
   "source": [
    "dedup.write_to_feather(f\"{OUTPUT_PATH}/icd_only_no_nhs_d.arrow\")\n",
    "dedup.write_to_log(f\"{OUTPUT_PATH}/icd_only_no_nhs_d_log.txt\")"
   ]
  },
  {
   "cell_type": "code",
   "execution_count": null,
   "id": "80754f63",
   "metadata": {},
   "outputs": [],
   "source": [
    "dedup.write_to_csv(f\"{OUTPUT_PATH}/icd_only_no_nhs_d.csv\")"
   ]
  },
  {
   "cell_type": "markdown",
   "id": "849f5454",
   "metadata": {},
   "source": [
    "### Merging without NHS-D data"
   ]
  },
  {
   "cell_type": "markdown",
   "id": "d9f5ee25",
   "metadata": {},
   "source": [
    "SNOMED mapped to ICD and merged with ICD10"
   ]
  },
  {
   "cell_type": "code",
   "execution_count": null,
   "id": "42b911db",
   "metadata": {},
   "outputs": [],
   "source": [
    "snomed_mapped = ProcessedDataset(path=f\"{INPUT_PATH}/primary_care/megadata/final_mapped_data.arrow\", \n",
    "                             dataset_type=\"MEGA\", \n",
    "                             coding_system=CodelistType.ICD10.value,\n",
    "                             log_path=f\"{INPUT_PATH}/primary_care/megadata/final_mapped_log.txt\")"
   ]
  },
  {
   "cell_type": "code",
   "execution_count": null,
   "id": "4c2e7e38",
   "metadata": {},
   "outputs": [],
   "source": [
    "snomed_mapped.merge_with_dataset(bradford_icd)"
   ]
  },
  {
   "cell_type": "code",
   "execution_count": null,
   "id": "b590c47b",
   "metadata": {},
   "outputs": [],
   "source": [
    "snomed_mapped.merge_with_dataset(barts_icd)"
   ]
  },
  {
   "cell_type": "code",
   "execution_count": null,
   "id": "e734c625",
   "metadata": {},
   "outputs": [],
   "source": [
    "dedup = snomed_mapped.deduplicate()"
   ]
  },
  {
   "cell_type": "code",
   "execution_count": null,
   "id": "482276d9",
   "metadata": {},
   "outputs": [],
   "source": [
    "for log in bradford_icd.log:\n",
    "    dedup.log.append(log)\n",
    "\n",
    "for log in barts_icd.log:\n",
    "    dedup.log.append(log)    \n",
    "    \n",
    "dedup.log.sort()"
   ]
  },
  {
   "cell_type": "code",
   "execution_count": null,
   "id": "e906304d",
   "metadata": {},
   "outputs": [],
   "source": [
    "dedup.write_to_feather(f\"{OUTPUT_PATH}/icd_with_mapped_snomed_no_nhs_d.arrow\")\n",
    "dedup.write_to_log(f\"{OUTPUT_PATH}/icd_with_mapped_snomed_no_nhs_d_log.txt\")"
   ]
  }
 ],
 "metadata": {
  "kernelspec": {
   "display_name": "Python 3 (ipykernel)",
   "language": "python",
   "name": "python3"
  },
  "language_info": {
   "codemirror_mode": {
    "name": "ipython",
    "version": 3
   },
   "file_extension": ".py",
   "mimetype": "text/x-python",
   "name": "python",
   "nbconvert_exporter": "python",
   "pygments_lexer": "ipython3",
   "version": "3.9.2"
  }
 },
 "nbformat": 4,
 "nbformat_minor": 5
}
