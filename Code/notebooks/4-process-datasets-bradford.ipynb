{
 "cells": [
  {
   "cell_type": "markdown",
   "id": "809f3568",
   "metadata": {},
   "source": [
    "# 4-process-datasets-bradford -- Plan\n",
    "This notebook is for processing the various datasets we have. We take in raw datasets, and we output processed datasets as feather files (binary) with their log files where appropriate. \n",
    "\n",
    "In this notebook, we do the following:\n",
    "\n",
    "1) Process Bradford datasets - ICD10\n",
    "2) Process Bradford dataset - OPCS\n",
    "3) Process Bradford datasets - SNOMED\n",
    "4) Map the SNOMED data to ICD\n",
    "\n",
    "\n",
    "## Processing Bradford Datasets\n",
    "The Bradford datasets are in SNOMED, ICD10 and OPCS. There are 3 \"cuts\" of data representing 3 time periods when the data was made available. Each dataset comprises of multiple CSV files. \n",
    "\n",
    "We process the datasets in the following way:\n",
    "1) Load the data for each \"type\" of coding system per file\n",
    "2) Deduplicate and process\n",
    "3) Save as arrow file and with log file. \n",
    "4) Then we add in the demographic data created by the first notebook and remove unreaslistic data\n",
    "5) Save this \"clean\" data\n",
    "\n",
    "Once we have done this:\n",
    "1) Reload each dataset from file and merge with other datasets of the same type for a time period (i.e. the same cut of the data)\n",
    "2) Deduplicate and merge all the log files together\n",
    "3) Save\n",
    "\n",
    "Finally merge all the same types of dataset together, deduplicate and save. \n"
   ]
  },
  {
   "cell_type": "markdown",
   "id": "6712ebb0",
   "metadata": {},
   "source": [
    "# Locations/paths naming convention\n",
    "\n",
    "1. We do not use relative paths.\n",
    "2. We do not explicitly use the word FOLDER in the naming, so `MEGADATA_LOCATION`, not `MEGADATA_FOLDER_LOCATION`. \n",
    "1. Location and path are in `UPPER_CASE`.\n",
    "2. When referred to as `_LOCATION`, the variable contain a string with the path.\n",
    "3. When referred to as `_PATH`, the variable is an `AnyPath` path object.\n",
    "4. The folder order is \"what it is\" / \"Where it's from\" so, for example megadata/primary_care not primary_care/megadata; so `MEGADATA_PRIMARY_CARE_LOCATION` or `PROCESSED_DATASETS_PRIMARY_CARE_PATH`\n"
   ]
  },
  {
   "cell_type": "code",
   "execution_count": null,
   "id": "76797a6f",
   "metadata": {},
   "outputs": [],
   "source": [
    "VERSION = \"version010_2025_05_SR\""
   ]
  },
  {
   "cell_type": "markdown",
   "id": "0c5e9717",
   "metadata": {},
   "source": [
    "### Imports\n",
    "This is where imports from tretools are pulled in. "
   ]
  },
  {
   "cell_type": "code",
   "execution_count": null,
   "id": "684718f1",
   "metadata": {},
   "outputs": [],
   "source": [
    "from datetime import datetime\n",
    "from cloudpathlib import AnyPath\n",
    "\n",
    "from tretools.datasets.raw_dataset import RawDataset\n",
    "from tretools.datasets.dataset_enums.dataset_types import DatasetType\n",
    "from tretools.codelists.codelist_types import CodelistType\n",
    "from tretools.datasets.demographic_dataset import DemographicDataset\n",
    "from tretools.datasets.processed_dataset import ProcessedDataset"
   ]
  },
  {
   "cell_type": "code",
   "execution_count": null,
   "id": "eb329d56",
   "metadata": {},
   "outputs": [],
   "source": [
    "import pandas as pd # Why Pandas? \n",
    "# Maybe because at the time of writing polars has limited read_xlsx support?\n",
    "# if we were to use polars for the .xlsx imports, then the `fastexcel` package must be installed:\n",
    "# \"\"\"\n",
    "# ModuleNotFoundError: required package 'fastexcel' not found.\n",
    "# \"\"\"\n",
    "# when using `import polars as pl` and `pl.read_excel(...)`"
   ]
  },
  {
   "cell_type": "code",
   "execution_count": null,
   "id": "785392ec",
   "metadata": {},
   "outputs": [],
   "source": [
    "INPUT_FOLDER = (\n",
    "    \"/genesandhealth/library-red/genesandhealth/phenotypes_rawdata/\"\n",
    "    \"DSA__BradfordTeachingHospitals_NHSFoundation_Trust\"\n",
    ")"
   ]
  },
  {
   "cell_type": "code",
   "execution_count": null,
   "id": "e570dcb9",
   "metadata": {},
   "outputs": [],
   "source": [
    "ROOT_LOCATION = \"/home/ivm/BI_PY\""
   ]
  },
  {
   "cell_type": "code",
   "execution_count": null,
   "id": "e8dd0dc4",
   "metadata": {},
   "outputs": [],
   "source": [
    "PROCESSED_DATASETS_LOCATION = f\"{ROOT_LOCATION}/{VERSION}/processed_datasets\"\n",
    "MEGADATA_LOCATION = f\"{ROOT_LOCATION}/{VERSION}/megadata\"\n",
    "PREPROCESSED_FILES_LOCATION = f\"{ROOT_LOCATION}/{VERSION}/preprocessed_files\"\n",
    "MAPPING_FILES_LOCATION =  f\"{ROOT_LOCATION}/{VERSION}/mapping_files\""
   ]
  },
  {
   "cell_type": "code",
   "execution_count": null,
   "id": "8f2a7d28",
   "metadata": {},
   "outputs": [],
   "source": [
    "PROCESSED_DATASETS_BRADFORD_LOCATION = f\"{PROCESSED_DATASETS_LOCATION}/bradford\"\n",
    "MEGADATA_BRADFORD_LOCATION = f\"{MEGADATA_LOCATION}/bradford\"\n",
    "\n",
    "AnyPath(PROCESSED_DATASETS_BRADFORD_LOCATION).mkdir(parents=True, exist_ok=True)\n",
    "AnyPath(MEGADATA_BRADFORD_LOCATION).mkdir(parents=True, exist_ok=True)"
   ]
  },
  {
   "cell_type": "markdown",
   "id": "9d328737",
   "metadata": {},
   "source": [
    "### Scripting for automated next notebook initation"
   ]
  },
  {
   "cell_type": "code",
   "execution_count": null,
   "id": "ec5a8595",
   "metadata": {},
   "outputs": [],
   "source": [
    "from IPython.display import Javascript"
   ]
  },
  {
   "cell_type": "code",
   "execution_count": null,
   "id": "f748f7d2",
   "metadata": {},
   "outputs": [],
   "source": [
    "def redirect_to_next_notebook_in_pipeline(other_notebook):\n",
    "    \n",
    "    js_code = f\"\"\"\n",
    "    if (typeof Jupyter !== 'undefined' && Jupyter.notebook && Jupyter.notebook.kernel) {{\n",
    "        // only runs when cell is executed, not from cached output\n",
    "        console.log(\"Redirecting to next notebook in pipeline...\");\n",
    "        Jupyter.notebook.save_checkpoint();\n",
    "        Jupyter.notebook.session.delete();\n",
    "        \n",
    "        setTimeout(function() {{\n",
    "            window.location.href = '{other_notebook}.ipynb';\n",
    "        }}, 1500)\n",
    "    }} else {{\n",
    "        console.log(\"Found cached output. Not an active notebook context. Skipping redirect.\")\n",
    "    }}\n",
    "    \"\"\"\n",
    "    display(Javascript(js_code))"
   ]
  },
  {
   "cell_type": "code",
   "execution_count": null,
   "id": "0a954c20",
   "metadata": {},
   "outputs": [],
   "source": [
    "# 4th cut 2024_12\n",
    "# No useable binary trait data in this cut\n",
    "# dec_2024_path = f\"{INPUT_FOLDER}/2024_12_BTHNFT\"\n",
    "\n",
    "# 3rd cut 2023_05\n",
    "may_2023_path = f\"{INPUT_FOLDER}/2023_05_BTHNFT\"\n",
    "\n",
    "# 2nd cut 2022_06\n",
    "june_2022_path = f\"{INPUT_FOLDER}/2022_06_BTHNFT\"\n",
    "\n",
    "# 1st cut 2021_02\n",
    "feb_2021_path = f\"{INPUT_FOLDER}/2021_02_BTHFT_ICD10_OPCS\"\n"
   ]
  },
  {
   "cell_type": "markdown",
   "id": "d3f35eca",
   "metadata": {},
   "source": [
    "Load data and transform it\n"
   ]
  },
  {
   "cell_type": "code",
   "execution_count": null,
   "id": "2126ce1e",
   "metadata": {},
   "outputs": [],
   "source": [
    "demographic_file_path = f\"{PROCESSED_DATASETS_LOCATION}/demographics/clean_demographics.arrow\""
   ]
  },
  {
   "cell_type": "code",
   "execution_count": null,
   "id": "97dec1b2",
   "metadata": {},
   "outputs": [],
   "source": [
    "date_start=datetime.strptime(\"1910-01-01\", \"%Y-%m-%d\")\n",
    "date_end=datetime.today() # Was hardcoded as 2024-01-29.\n",
    "demographics = DemographicDataset(path=demographic_file_path)"
   ]
  },
  {
   "cell_type": "code",
   "execution_count": null,
   "id": "243b4b91",
   "metadata": {},
   "outputs": [],
   "source": [
    "deduplication_options = ['nhs_number', 'code', 'date']"
   ]
  },
  {
   "cell_type": "markdown",
   "id": "5b430fb0",
   "metadata": {},
   "source": [
    "### 1st cut of data - Feb 2021 Data\n",
    "\n",
    "In this first set of data we have 1 ICD file and 1 OPCS file. \n",
    "\n",
    "We do need to do some pre-processsing with these datasets as they are saved in Excel. This step will be removed with the next update of `tretools` but is included here for speed. I am doing this pre-processing step in pandas for now as I am just reading in the file and saving as a CSV, and polars is missing a library. This has been requested to the TRE team. "
   ]
  },
  {
   "cell_type": "markdown",
   "id": "72131e6b",
   "metadata": {},
   "source": [
    "**Preprocessing**"
   ]
  },
  {
   "cell_type": "code",
   "execution_count": null,
   "id": "78d24f1c",
   "metadata": {},
   "outputs": [],
   "source": [
    "# PREPROCESSED_DATASETS_PATH = f\"{OUTPUT_FOLDER}/bradford/preprocessed_datasets/feb_2021\"\n",
    "# AnyPath(PREPROCESSED_DATASETS_PATH).mkdir(parents=True, exist_ok=True)"
   ]
  },
  {
   "cell_type": "code",
   "execution_count": null,
   "id": "6f8d3472",
   "metadata": {},
   "outputs": [],
   "source": [
    "icd_pre_data = pd.read_excel(f\"{feb_2021_path}/icd10_bfs_1578_2021-02-02_deident.xlsx\")"
   ]
  },
  {
   "cell_type": "code",
   "execution_count": null,
   "id": "bd011401",
   "metadata": {},
   "outputs": [],
   "source": [
    "icd_pre_data.to_csv(f\"{PREPROCESSED_FILES_LOCATION}/Brad_icd_cut_1.csv\")"
   ]
  },
  {
   "cell_type": "code",
   "execution_count": null,
   "id": "2a6d0437",
   "metadata": {},
   "outputs": [],
   "source": [
    "opcs_pre_data = pd.read_excel(f\"{feb_2021_path}/opcs_bfd_1578_2021-02-02_deident.xlsx\")"
   ]
  },
  {
   "cell_type": "code",
   "execution_count": null,
   "id": "98c6e616",
   "metadata": {},
   "outputs": [],
   "source": [
    "opcs_pre_data.to_csv(f\"{PREPROCESSED_FILES_LOCATION}/Brad_opcs_cut_1.csv\")"
   ]
  },
  {
   "cell_type": "markdown",
   "id": "c8d398f3",
   "metadata": {},
   "source": [
    "**ICD Processing**"
   ]
  },
  {
   "cell_type": "code",
   "execution_count": null,
   "id": "7e6f3f49",
   "metadata": {},
   "outputs": [],
   "source": [
    "FEB_2021_FOLDER = f\"{PROCESSED_DATASETS_BRADFORD_LOCATION}/feb_2021/processed_data\"\n",
    "AnyPath(FEB_2021_FOLDER).mkdir(parents=True, exist_ok=True)\n",
    "FEB_2021_CLEAN_FOLDER = f\"{PROCESSED_DATASETS_BRADFORD_LOCATION}/feb_2021/clean_processed_data\"\n",
    "AnyPath(FEB_2021_CLEAN_FOLDER).mkdir(parents=True, exist_ok=True)"
   ]
  },
  {
   "cell_type": "code",
   "execution_count": null,
   "id": "7bb069d0",
   "metadata": {},
   "outputs": [],
   "source": [
    "icd_data = RawDataset(path=f\"{PREPROCESSED_FILES_LOCATION}/Brad_icd_cut_1.csv\", \n",
    "                      dataset_type=DatasetType.BRADFORD.value, \n",
    "                      coding_system=CodelistType.ICD10.value)"
   ]
  },
  {
   "cell_type": "code",
   "execution_count": null,
   "id": "9ef75e6d",
   "metadata": {},
   "outputs": [],
   "source": [
    "col_maps = {\n",
    "    \"pseudonhs\": \"nhs_number\",\n",
    "    \"icd10_code\": \"code\",\n",
    "    \"icd10_name\": \"term\",\n",
    "    \"episode_start_date\": \"date\"\n",
    "}"
   ]
  },
  {
   "cell_type": "code",
   "execution_count": null,
   "id": "f40ac6ea",
   "metadata": {},
   "outputs": [],
   "source": [
    "processed_icd_data = icd_data.process_dataset(deduplication_options=deduplication_options, column_maps=col_maps)"
   ]
  },
  {
   "cell_type": "code",
   "execution_count": null,
   "id": "825f42c8",
   "metadata": {},
   "outputs": [],
   "source": [
    "processed_icd_data.write_to_feather(\n",
    "    f\"{FEB_2021_FOLDER}/icd.arrow\")\n",
    "processed_icd_data.write_to_log(\n",
    "    f\"{FEB_2021_FOLDER}/icd_log.txt\")"
   ]
  },
  {
   "cell_type": "markdown",
   "id": "67003c69",
   "metadata": {},
   "source": [
    "We now remove the unrealistic data (i.e. event before birth, before 1st Jan 1910 or after 29th Jan 2024) and save this into a cleaned_processed_data folder"
   ]
  },
  {
   "cell_type": "code",
   "execution_count": null,
   "id": "34719094",
   "metadata": {},
   "outputs": [],
   "source": [
    "cleaned_dataset = processed_icd_data.remove_unrealistic_dates(date_start=date_start,\n",
    "                                                                 date_end=date_end,\n",
    "                                                                 before_born=True,\n",
    "                                                                 demographic_dataset=demographics)\n"
   ]
  },
  {
   "cell_type": "code",
   "execution_count": null,
   "id": "5f081e4f",
   "metadata": {},
   "outputs": [],
   "source": [
    "cleaned_dataset.write_to_feather(f\"{FEB_2021_CLEAN_FOLDER}/icd.arrow\")\n",
    "cleaned_dataset.write_to_log(f\"{FEB_2021_CLEAN_FOLDER}/icd_log.txt\")"
   ]
  },
  {
   "cell_type": "markdown",
   "id": "c0d512c0",
   "metadata": {},
   "source": [
    "**OPCS Processing**\n",
    "\n",
    "Note here I have taken `episode_start_date` as the date, rather than `procedure` date. "
   ]
  },
  {
   "cell_type": "code",
   "execution_count": null,
   "id": "497319cc",
   "metadata": {},
   "outputs": [],
   "source": [
    "opcs_data = RawDataset(path=f\"{PREPROCESSED_FILES_LOCATION}/Brad_opcs_cut_1.csv\", \n",
    "                      dataset_type=DatasetType.BRADFORD.value, \n",
    "                      coding_system=CodelistType.OPCS.value)"
   ]
  },
  {
   "cell_type": "code",
   "execution_count": null,
   "id": "b67984d5",
   "metadata": {},
   "outputs": [],
   "source": [
    "col_maps = {\n",
    "    \"pseudonhs\": \"nhs_number\",\n",
    "    \"opcs_code\": \"code\",\n",
    "    \"opcs_procedure_description\": \"term\",\n",
    "    \"episode_start_date\": \"date\"\n",
    "}"
   ]
  },
  {
   "cell_type": "code",
   "execution_count": null,
   "id": "9559057a",
   "metadata": {},
   "outputs": [],
   "source": [
    "processed_opcs_data = opcs_data.process_dataset(deduplication_options=deduplication_options, column_maps=col_maps)"
   ]
  },
  {
   "cell_type": "code",
   "execution_count": null,
   "id": "bf119a1c",
   "metadata": {},
   "outputs": [],
   "source": [
    "processed_opcs_data.write_to_feather(f\"{FEB_2021_FOLDER}/opcs.arrow\")\n",
    "processed_opcs_data.write_to_log(f\"{FEB_2021_FOLDER}/opcs_log.txt\")"
   ]
  },
  {
   "cell_type": "markdown",
   "id": "046b7365",
   "metadata": {},
   "source": [
    "We now remove the unrealistic data (i.e. event before birth, before 1st Jan 1910 or after 29th Jan 2024) and save this into a cleaned_processed_data folder"
   ]
  },
  {
   "cell_type": "code",
   "execution_count": null,
   "id": "1fb65eec",
   "metadata": {},
   "outputs": [],
   "source": [
    "cleaned_dataset = processed_opcs_data.remove_unrealistic_dates(date_start=date_start,\n",
    "                                                                 date_end=date_end,\n",
    "                                                                 before_born=True,\n",
    "                                                                 demographic_dataset=demographics)\n",
    "cleaned_dataset.write_to_feather(f\"{FEB_2021_CLEAN_FOLDER}/opcs.arrow\")\n",
    "cleaned_dataset.write_to_log(f\"{FEB_2021_CLEAN_FOLDER}/opcs_log.txt\")"
   ]
  },
  {
   "cell_type": "markdown",
   "id": "c3c74993",
   "metadata": {},
   "source": [
    "### 2nd cut of data - June 2022 Data\n",
    "\n",
    "In this second set of data we have 1 ICD file, 1 OPCS file and 2 SNOMED files (diagnosis and problems).  "
   ]
  },
  {
   "cell_type": "code",
   "execution_count": null,
   "id": "f15a172f",
   "metadata": {},
   "outputs": [],
   "source": [
    "JUNE_2022_FOLDER = f\"{PROCESSED_DATASETS_BRADFORD_LOCATION}/june_2022/processed_data\"\n",
    "JUNE_2022_CLEAN_FOLDER = f\"{PROCESSED_DATASETS_BRADFORD_LOCATION}/june_2022/cleaned_processed_data\"\n",
    "AnyPath(JUNE_2022_FOLDER).mkdir(parents=True, exist_ok=True)\n",
    "AnyPath(JUNE_2022_CLEAN_FOLDER).mkdir(parents=True, exist_ok=True)\n"
   ]
  },
  {
   "cell_type": "markdown",
   "id": "384d26fc",
   "metadata": {},
   "source": [
    "**ICD Processing**"
   ]
  },
  {
   "cell_type": "code",
   "execution_count": null,
   "id": "e5afd6b3",
   "metadata": {},
   "outputs": [],
   "source": [
    "icd_data = RawDataset(path=f\"{june_2022_path}/1578_gh_diagnoses_2022-06-10_redacted.tsv\", \n",
    "                      dataset_type=DatasetType.BRADFORD.value, \n",
    "                      coding_system=CodelistType.ICD10.value)"
   ]
  },
  {
   "cell_type": "code",
   "execution_count": null,
   "id": "de2f84e1",
   "metadata": {},
   "outputs": [],
   "source": [
    "col_maps = {\n",
    "    \"PseudoNHS\": \"nhs_number\",\n",
    "    \"icd10_code\": \"code\",\n",
    "    \"icd10_name\": \"term\",\n",
    "    \"episode_start_date\": \"date\"\n",
    "}"
   ]
  },
  {
   "cell_type": "code",
   "execution_count": null,
   "id": "5124e7b5",
   "metadata": {},
   "outputs": [],
   "source": [
    "processed_icd_data = icd_data.process_dataset(deduplication_options, col_maps)"
   ]
  },
  {
   "cell_type": "code",
   "execution_count": null,
   "id": "7b078be4",
   "metadata": {},
   "outputs": [],
   "source": [
    "processed_icd_data.write_to_feather(f\"{JUNE_2022_FOLDER}/icd.arrow\")\n",
    "processed_icd_data.write_to_log(f\"{JUNE_2022_FOLDER}/icd_log.txt\")"
   ]
  },
  {
   "cell_type": "markdown",
   "id": "c0e1f951",
   "metadata": {},
   "source": [
    "We now remove the unrealistic data (i.e. event before birth, before 1st Jan 1910 or after 29th Jan 2024) and save this into a cleaned_processed_data folder"
   ]
  },
  {
   "cell_type": "code",
   "execution_count": null,
   "id": "6cb00e3e",
   "metadata": {},
   "outputs": [],
   "source": [
    "cleaned_dataset = processed_icd_data.remove_unrealistic_dates(date_start=date_start,\n",
    "                                                                 date_end=date_end,\n",
    "                                                                 before_born=True,\n",
    "                                                                 demographic_dataset=demographics)\n",
    "cleaned_dataset.write_to_feather(f\"{JUNE_2022_CLEAN_FOLDER}/icd.arrow\")\n",
    "cleaned_dataset.write_to_log(f\"{JUNE_2022_CLEAN_FOLDER}/icd_log.txt\")"
   ]
  },
  {
   "cell_type": "markdown",
   "id": "edaa4006",
   "metadata": {},
   "source": [
    "**OPCS Processing**"
   ]
  },
  {
   "cell_type": "code",
   "execution_count": null,
   "id": "022043cc",
   "metadata": {},
   "outputs": [],
   "source": [
    "opcs_data = RawDataset(path=f\"{june_2022_path}/1578_gh_procedures_2022-06-10_redacted.tsv\", \n",
    "                      dataset_type=DatasetType.BRADFORD.value, \n",
    "                      coding_system=CodelistType.OPCS.value)"
   ]
  },
  {
   "cell_type": "code",
   "execution_count": null,
   "id": "a9abb7db",
   "metadata": {},
   "outputs": [],
   "source": [
    "col_maps = {\n",
    "    \"PseudoNHS\": \"nhs_number\",\n",
    "    \"opcs_code\": \"code\",\n",
    "    \"opcs_procedure_description\": \"term\",\n",
    "    \"episode_start_date\": \"date\"\n",
    "}"
   ]
  },
  {
   "cell_type": "code",
   "execution_count": null,
   "id": "4bbc6367",
   "metadata": {},
   "outputs": [],
   "source": [
    "processed_opcs_data = opcs_data.process_dataset(deduplication_options, col_maps)"
   ]
  },
  {
   "cell_type": "code",
   "execution_count": null,
   "id": "0ab37883",
   "metadata": {},
   "outputs": [],
   "source": [
    "processed_opcs_data.write_to_feather(f\"{JUNE_2022_FOLDER}/opcs.arrow\")\n",
    "processed_opcs_data.write_to_log(f\"{JUNE_2022_FOLDER}/opcs_log.txt\")"
   ]
  },
  {
   "cell_type": "markdown",
   "id": "7e4874bd",
   "metadata": {},
   "source": [
    "We now remove the unrealistic data (i.e. event before birth, before 1st Jan 1910 or after 29th Jan 2024) and save this into a cleaned_processed_data folder"
   ]
  },
  {
   "cell_type": "code",
   "execution_count": null,
   "id": "8881f812",
   "metadata": {},
   "outputs": [],
   "source": [
    "cleaned_dataset = processed_opcs_data.remove_unrealistic_dates(date_start=date_start,\n",
    "                                                                 date_end=date_end,\n",
    "                                                                 before_born=True,\n",
    "                                                                 demographic_dataset=demographics)\n",
    "cleaned_dataset.write_to_feather(f\"{JUNE_2022_CLEAN_FOLDER}/opcs.arrow\")\n",
    "cleaned_dataset.write_to_log(f\"{JUNE_2022_CLEAN_FOLDER}/opcs_log.txt\")"
   ]
  },
  {
   "cell_type": "markdown",
   "id": "65e99507",
   "metadata": {},
   "source": [
    "**SNOMED diagnosis**"
   ]
  },
  {
   "cell_type": "code",
   "execution_count": null,
   "id": "4a49fa90",
   "metadata": {},
   "outputs": [],
   "source": [
    "diagnosis_data = RawDataset(path=f\"{june_2022_path}/bradford_cerner_diagnoses_with_conceptIDs_14July2022edits_redacted.tsv\", \n",
    "                      dataset_type=DatasetType.BRADFORD.value, \n",
    "                      coding_system=CodelistType.SNOMED.value)"
   ]
  },
  {
   "cell_type": "code",
   "execution_count": null,
   "id": "a57dc68f",
   "metadata": {},
   "outputs": [],
   "source": [
    "col_maps = {\n",
    "    \"PseudoNHS\": \"nhs_number\",\n",
    "    \"conceptId\": \"code\",\n",
    "    \"term\": \"term\",\n",
    "    \"date_of_diagnosis_entry\": \"date\"\n",
    "}"
   ]
  },
  {
   "cell_type": "code",
   "execution_count": null,
   "id": "48214a7d",
   "metadata": {},
   "outputs": [],
   "source": [
    "processed_diagnosis_data = diagnosis_data.process_dataset(deduplication_options, col_maps)"
   ]
  },
  {
   "cell_type": "code",
   "execution_count": null,
   "id": "a3a20bdd",
   "metadata": {},
   "outputs": [],
   "source": [
    "processed_diagnosis_data.write_to_feather(f\"{JUNE_2022_FOLDER}/snomed_diagnosis.arrow\")\n",
    "processed_diagnosis_data.write_to_log(f\"{JUNE_2022_FOLDER}/snomed_diagnosis_log.txt\")"
   ]
  },
  {
   "cell_type": "markdown",
   "id": "91e9cb33",
   "metadata": {},
   "source": [
    "We now remove the unrealistic data (i.e. event before birth, before 1st Jan 1910 or after 29th Jan 2024) and save this into a cleaned_processed_data folder"
   ]
  },
  {
   "cell_type": "code",
   "execution_count": null,
   "id": "02d1878d",
   "metadata": {},
   "outputs": [],
   "source": [
    "cleaned_dataset = processed_diagnosis_data.remove_unrealistic_dates(date_start=date_start,\n",
    "                                                                 date_end=date_end,\n",
    "                                                                 before_born=True,\n",
    "                                                                 demographic_dataset=demographics)\n",
    "cleaned_dataset.write_to_feather(f\"{JUNE_2022_CLEAN_FOLDER}/snomed_diagnosis.arrow\")\n",
    "cleaned_dataset.write_to_log(f\"{JUNE_2022_CLEAN_FOLDER}/snomed_diagnosis_log.txt\")"
   ]
  },
  {
   "cell_type": "markdown",
   "id": "ec366e49",
   "metadata": {},
   "source": [
    "**SNOMED Problems**"
   ]
  },
  {
   "cell_type": "code",
   "execution_count": null,
   "id": "4b119dad",
   "metadata": {},
   "outputs": [],
   "source": [
    "prob_data = RawDataset(path=f\"{june_2022_path}/bradford_cerner_problems_with_conceptIDs_14July2022edits_redacted.tsv\", \n",
    "                      dataset_type=DatasetType.BRADFORD.value, \n",
    "                      coding_system=CodelistType.SNOMED.value)"
   ]
  },
  {
   "cell_type": "code",
   "execution_count": null,
   "id": "3d73a4ec",
   "metadata": {},
   "outputs": [],
   "source": [
    "col_maps = {\n",
    "    \"PseudoNHS\": \"nhs_number\",\n",
    "    \"conceptId\": \"code\",\n",
    "    \"term\": \"term\",\n",
    "    \"date_of_problem_entry\": \"date\"\n",
    "}"
   ]
  },
  {
   "cell_type": "code",
   "execution_count": null,
   "id": "377a25c1",
   "metadata": {},
   "outputs": [],
   "source": [
    "processed_prob_data = prob_data.process_dataset(deduplication_options, col_maps)"
   ]
  },
  {
   "cell_type": "code",
   "execution_count": null,
   "id": "de398e43",
   "metadata": {},
   "outputs": [],
   "source": [
    "processed_prob_data.write_to_feather(f\"{JUNE_2022_FOLDER}/snomed_prob.arrow\")\n",
    "processed_prob_data.write_to_log(f\"{JUNE_2022_FOLDER}/snomed_prob_log.txt\")"
   ]
  },
  {
   "cell_type": "markdown",
   "id": "14db6633",
   "metadata": {},
   "source": [
    "We now remove the unrealistic data (i.e. event before birth, before 1st Jan 1910 or after 29th Jan 2024) and save this into a cleaned_processed_data folder"
   ]
  },
  {
   "cell_type": "code",
   "execution_count": null,
   "id": "54c93a82",
   "metadata": {},
   "outputs": [],
   "source": [
    "cleaned_dataset = processed_prob_data.remove_unrealistic_dates(date_start=date_start,\n",
    "                                                                 date_end=date_end,\n",
    "                                                                 before_born=True,\n",
    "                                                                 demographic_dataset=demographics)\n",
    "cleaned_dataset.write_to_feather(f\"{JUNE_2022_CLEAN_FOLDER}/snomed_prob.arrow\")\n",
    "cleaned_dataset.write_to_log(f\"{JUNE_2022_CLEAN_FOLDER}/snomed_prob_log.txt\")"
   ]
  },
  {
   "cell_type": "markdown",
   "id": "d413bc22",
   "metadata": {},
   "source": [
    "**Merged data**\n",
    "\n",
    "Now we are going to merge the SNOMED datasets together. We are loading these from file to ensure they are loaded correctly. "
   ]
  },
  {
   "cell_type": "code",
   "execution_count": null,
   "id": "849bc3de",
   "metadata": {},
   "outputs": [],
   "source": [
    "prob_data = ProcessedDataset(path=f\"{JUNE_2022_CLEAN_FOLDER}/snomed_prob.arrow\", \n",
    "                             dataset_type=DatasetType.BRADFORD.value,\n",
    "                             coding_system=CodelistType.SNOMED.value, \n",
    "                             log_path=f\"{JUNE_2022_CLEAN_FOLDER}/snomed_prob_log.txt\")"
   ]
  },
  {
   "cell_type": "code",
   "execution_count": null,
   "id": "2c74fabf",
   "metadata": {},
   "outputs": [],
   "source": [
    "diag_data = ProcessedDataset(path=f\"{JUNE_2022_CLEAN_FOLDER}/snomed_diagnosis.arrow\", \n",
    "                             dataset_type=DatasetType.BRADFORD.value,\n",
    "                             coding_system=CodelistType.SNOMED.value, \n",
    "                             log_path=f\"{JUNE_2022_CLEAN_FOLDER}/snomed_diagnosis_log.txt\")"
   ]
  },
  {
   "cell_type": "code",
   "execution_count": null,
   "id": "7c239147",
   "metadata": {},
   "outputs": [],
   "source": [
    "prob_data.merge_with_dataset(diag_data)"
   ]
  },
  {
   "cell_type": "code",
   "execution_count": null,
   "id": "99b3cdab",
   "metadata": {},
   "outputs": [],
   "source": [
    "dedup_data = prob_data.deduplicate()"
   ]
  },
  {
   "cell_type": "code",
   "execution_count": null,
   "id": "69d2ac5f",
   "metadata": {},
   "outputs": [],
   "source": [
    "for log in diag_data.log:\n",
    "    dedup_data.log.append(log)\n",
    "\n",
    "dedup_data.log.sort()"
   ]
  },
  {
   "cell_type": "code",
   "execution_count": null,
   "id": "8ee0d3cc",
   "metadata": {},
   "outputs": [],
   "source": [
    "dedup_data.write_to_feather(f\"{JUNE_2022_CLEAN_FOLDER}/snomed_merged.arrow\")"
   ]
  },
  {
   "cell_type": "code",
   "execution_count": null,
   "id": "4db8eb16",
   "metadata": {},
   "outputs": [],
   "source": [
    "dedup_data.write_to_log(f\"{JUNE_2022_CLEAN_FOLDER}/snomed_merged_log.txt\")"
   ]
  },
  {
   "cell_type": "markdown",
   "id": "8746578f",
   "metadata": {},
   "source": [
    "### 3rd cut of data - May 2023 Data\n",
    "\n",
    "In this 3rd set of data we have 1 ICD file, 1 OPCS file and 2 SNOMED files (diagnosis and problems).  Unlike the 1st cut of the data (excel) and the 2nd cut (tsv), these files are in tab files. "
   ]
  },
  {
   "cell_type": "code",
   "execution_count": null,
   "id": "ef86bb9b",
   "metadata": {},
   "outputs": [],
   "source": [
    "MAY_2023_CLEAN_FOLDER = f\"{PROCESSED_DATASETS_BRADFORD_LOCATION}/may_2023/clean_processed_data\"\n",
    "AnyPath(MAY_2023_CLEAN_FOLDER).mkdir(parents=True, exist_ok=True)\n",
    "MAY_2023_FOLDER = f\"{PROCESSED_DATASETS_BRADFORD_LOCATION}/may_2023/processed_data\"\n",
    "AnyPath(MAY_2023_FOLDER).mkdir(parents=True, exist_ok=True)"
   ]
  },
  {
   "cell_type": "markdown",
   "id": "d4e2ebb1",
   "metadata": {},
   "source": [
    "**ICD Processing**"
   ]
  },
  {
   "cell_type": "code",
   "execution_count": null,
   "id": "6a4e1bbf",
   "metadata": {},
   "outputs": [],
   "source": [
    "icd_data = RawDataset(path=f\"{may_2023_path}/1578_gh_diagnoses_2023-06-09.ascii.redacted.tab\", \n",
    "                      dataset_type=DatasetType.BRADFORD.value, \n",
    "                      coding_system=CodelistType.ICD10.value)"
   ]
  },
  {
   "cell_type": "code",
   "execution_count": null,
   "id": "ce8baea8",
   "metadata": {},
   "outputs": [],
   "source": [
    "col_maps = {\n",
    "    \"PseudoNHS_2023_04_24\": \"nhs_number\",\n",
    "    \"icd10_code\": \"code\",\n",
    "    \"icd10_name\": \"term\",\n",
    "    \"episode_start_date\": \"date\"\n",
    "}"
   ]
  },
  {
   "cell_type": "code",
   "execution_count": null,
   "id": "412f6b14",
   "metadata": {},
   "outputs": [],
   "source": [
    "processed_icd_data = icd_data.process_dataset(deduplication_options, col_maps)"
   ]
  },
  {
   "cell_type": "code",
   "execution_count": null,
   "id": "73bc9e91",
   "metadata": {},
   "outputs": [],
   "source": [
    "processed_icd_data.write_to_feather(f\"{MAY_2023_FOLDER}/icd.arrow\")\n",
    "processed_icd_data.write_to_log(f\"{MAY_2023_FOLDER}/icd_log.txt\")"
   ]
  },
  {
   "cell_type": "markdown",
   "id": "5f0a0b2e",
   "metadata": {},
   "source": [
    "We now remove the unrealistic data (i.e. event before birth, before 1st Jan 1910 or after 29th Jan 2024) and save this into a cleaned_processed_data folder"
   ]
  },
  {
   "cell_type": "code",
   "execution_count": null,
   "id": "2018f658",
   "metadata": {},
   "outputs": [],
   "source": [
    "cleaned_dataset = processed_icd_data.remove_unrealistic_dates(date_start=date_start,\n",
    "                                                                 date_end=date_end,\n",
    "                                                                 before_born=True,\n",
    "                                                                 demographic_dataset=demographics)\n",
    "cleaned_dataset.write_to_feather(f\"{MAY_2023_CLEAN_FOLDER}/icd.arrow\")\n",
    "cleaned_dataset.write_to_log(f\"{MAY_2023_CLEAN_FOLDER}/icd_log.txt\")"
   ]
  },
  {
   "cell_type": "markdown",
   "id": "d1255472",
   "metadata": {},
   "source": [
    "**OPCS Processing**"
   ]
  },
  {
   "cell_type": "code",
   "execution_count": null,
   "id": "82b8da89",
   "metadata": {},
   "outputs": [],
   "source": [
    "opcs_data = RawDataset(path=f\"{may_2023_path}/1578_gh_procedures_2023-06-09.ascii.redacted.tab\", \n",
    "                      dataset_type=DatasetType.BRADFORD.value, \n",
    "                      coding_system=CodelistType.OPCS.value)"
   ]
  },
  {
   "cell_type": "code",
   "execution_count": null,
   "id": "7441b9e6",
   "metadata": {},
   "outputs": [],
   "source": [
    "col_maps = {\n",
    "    \"PseudoNHS_2023_04_24\": \"nhs_number\",\n",
    "    \"opcs_code\": \"code\",\n",
    "    \"opcs_procedure_description\": \"term\",\n",
    "    \"episode_start_date\": \"date\"\n",
    "}"
   ]
  },
  {
   "cell_type": "code",
   "execution_count": null,
   "id": "fc93001c",
   "metadata": {},
   "outputs": [],
   "source": [
    "processed_opcs_data = opcs_data.process_dataset(deduplication_options, col_maps)\n",
    "processed_opcs_data.write_to_feather(f\"{MAY_2023_FOLDER}/opcs.arrow\")\n",
    "processed_opcs_data.write_to_log(f\"{MAY_2023_FOLDER}/opcs_log.txt\")"
   ]
  },
  {
   "cell_type": "code",
   "execution_count": null,
   "id": "490cdba2",
   "metadata": {},
   "outputs": [],
   "source": [
    "cleaned_dataset = processed_opcs_data.remove_unrealistic_dates(date_start=date_start,\n",
    "                                                                 date_end=date_end,\n",
    "                                                                 before_born=True,\n",
    "                                                                 demographic_dataset=demographics)\n",
    "cleaned_dataset.write_to_feather(f\"{MAY_2023_CLEAN_FOLDER}/opcs.arrow\")\n",
    "cleaned_dataset.write_to_log(f\"{MAY_2023_CLEAN_FOLDER}/opcs_log.txt\")"
   ]
  },
  {
   "cell_type": "markdown",
   "id": "97ace875",
   "metadata": {},
   "source": [
    "**SNOMED Diagnosis Processing**"
   ]
  },
  {
   "cell_type": "code",
   "execution_count": null,
   "id": "ba0db1a0",
   "metadata": {},
   "outputs": [],
   "source": [
    "diag = RawDataset(path=f\"{may_2023_path}/1578_gh_cerner_diagnoses_2023-06-09.ascii.redacted.tab\", \n",
    "                      dataset_type=DatasetType.BRADFORD.value, \n",
    "                      coding_system=CodelistType.SNOMED.value)"
   ]
  },
  {
   "cell_type": "code",
   "execution_count": null,
   "id": "50f6346b",
   "metadata": {},
   "outputs": [],
   "source": [
    "col_maps = {\n",
    "    \"PseudoNHS_2023_04_24\": \"nhs_number\",\n",
    "    \"DIAGNOSIS_ID\": \"code\",\n",
    "    \"CONCEPT_NAME\": \"term\",\n",
    "    \"date_of_diagnosis_entry\": \"date\"\n",
    "}"
   ]
  },
  {
   "cell_type": "code",
   "execution_count": null,
   "id": "cf4aa494",
   "metadata": {},
   "outputs": [],
   "source": [
    "processed_diag = diag.process_dataset(deduplication_options, col_maps)"
   ]
  },
  {
   "cell_type": "code",
   "execution_count": null,
   "id": "ec7a80a0",
   "metadata": {},
   "outputs": [],
   "source": [
    "processed_diag.write_to_feather(f\"{MAY_2023_FOLDER}/snomed_diagnosis.arrow\")\n",
    "processed_diag.write_to_log(f\"{MAY_2023_FOLDER}/snomed_diagnosis_log.txt\")"
   ]
  },
  {
   "cell_type": "code",
   "execution_count": null,
   "id": "ff3ee864",
   "metadata": {},
   "outputs": [],
   "source": [
    "cleaned_dataset = processed_diag.remove_unrealistic_dates(date_start=date_start,\n",
    "                                                                 date_end=date_end,\n",
    "                                                                 before_born=True,\n",
    "                                                                 demographic_dataset=demographics)\n",
    "cleaned_dataset.write_to_feather(f\"{MAY_2023_CLEAN_FOLDER}/snomed_diagnosis.arrow\")\n",
    "cleaned_dataset.write_to_log(f\"{MAY_2023_CLEAN_FOLDER}/snomed_diagnosis_log.txt\")"
   ]
  },
  {
   "cell_type": "markdown",
   "id": "53434d2d",
   "metadata": {},
   "source": [
    "**SNOMED Problems Processing**"
   ]
  },
  {
   "cell_type": "code",
   "execution_count": null,
   "id": "65094505",
   "metadata": {},
   "outputs": [],
   "source": [
    "prob = RawDataset(path=f\"{may_2023_path}/1578_gh_cerner_problems_2023-06-09.ascii.redacted.tab\", \n",
    "                      dataset_type=DatasetType.BRADFORD.value, \n",
    "                      coding_system=CodelistType.SNOMED.value)"
   ]
  },
  {
   "cell_type": "code",
   "execution_count": null,
   "id": "b8cfef54",
   "metadata": {},
   "outputs": [],
   "source": [
    "col_maps = {\n",
    "    \"PseudoNHS_2023_04_24\": \"nhs_number\",\n",
    "    \"PROBLEM_ID\": \"code\",\n",
    "    \"problem_description\": \"term\",\n",
    "    \"date_of_problem_entry\": \"date\"\n",
    "}"
   ]
  },
  {
   "cell_type": "code",
   "execution_count": null,
   "id": "eb9d9ea2",
   "metadata": {},
   "outputs": [],
   "source": [
    "processed_prob = prob.process_dataset(deduplication_options, col_maps)"
   ]
  },
  {
   "cell_type": "code",
   "execution_count": null,
   "id": "023bd3fd",
   "metadata": {},
   "outputs": [],
   "source": [
    "processed_prob.write_to_feather(f\"{MAY_2023_FOLDER}/snomed_problems.arrow\")\n",
    "processed_prob.write_to_log(f\"{MAY_2023_FOLDER}/snomed_problems_log.txt\")"
   ]
  },
  {
   "cell_type": "code",
   "execution_count": null,
   "id": "a8f87df3",
   "metadata": {},
   "outputs": [],
   "source": [
    "cleaned_dataset = processed_prob.remove_unrealistic_dates(date_start=date_start,\n",
    "                                                                 date_end=date_end,\n",
    "                                                                 before_born=True,\n",
    "                                                                 demographic_dataset=demographics)\n",
    "cleaned_dataset.write_to_feather(f\"{MAY_2023_CLEAN_FOLDER}/snomed_problems.arrow\")\n",
    "cleaned_dataset.write_to_log(f\"{MAY_2023_CLEAN_FOLDER}/snomed_problems_log.txt\")"
   ]
  },
  {
   "cell_type": "markdown",
   "id": "d1f3b47a",
   "metadata": {},
   "source": [
    "**Merged data**\n",
    "\n",
    "Now we are going to merge the SNOMED datasets together. We are loading these from file to ensure they are loaded correctly. "
   ]
  },
  {
   "cell_type": "code",
   "execution_count": null,
   "id": "d80fd659",
   "metadata": {},
   "outputs": [],
   "source": [
    "prob_data = ProcessedDataset(path=f\"{MAY_2023_CLEAN_FOLDER}/snomed_problems.arrow\", \n",
    "                             dataset_type=DatasetType.BRADFORD.value,\n",
    "                             coding_system=CodelistType.SNOMED.value, \n",
    "                             log_path=f\"{MAY_2023_CLEAN_FOLDER}/snomed_problems_log.txt\")"
   ]
  },
  {
   "cell_type": "code",
   "execution_count": null,
   "id": "d072f7e5",
   "metadata": {},
   "outputs": [],
   "source": [
    "diag_data = ProcessedDataset(path=f\"{MAY_2023_CLEAN_FOLDER}/snomed_diagnosis.arrow\", \n",
    "                             dataset_type=DatasetType.BRADFORD.value,\n",
    "                             coding_system=CodelistType.SNOMED.value, \n",
    "                             log_path=f\"{MAY_2023_CLEAN_FOLDER}/snomed_diagnosis_log.txt\")"
   ]
  },
  {
   "cell_type": "code",
   "execution_count": null,
   "id": "9662c406",
   "metadata": {},
   "outputs": [],
   "source": [
    "prob_data.merge_with_dataset(diag_data)"
   ]
  },
  {
   "cell_type": "code",
   "execution_count": null,
   "id": "15205ab7",
   "metadata": {},
   "outputs": [],
   "source": [
    "dedup_data = prob_data.deduplicate()"
   ]
  },
  {
   "cell_type": "code",
   "execution_count": null,
   "id": "cb240ec8",
   "metadata": {},
   "outputs": [],
   "source": [
    "for log in diag_data.log:\n",
    "    dedup_data.log.append(log)\n",
    "\n",
    "dedup_data.log.sort()"
   ]
  },
  {
   "cell_type": "code",
   "execution_count": null,
   "id": "f03ce28f",
   "metadata": {},
   "outputs": [],
   "source": [
    "dedup_data.write_to_feather(f\"{MAY_2023_CLEAN_FOLDER}/snomed_merged.arrow\")\n",
    "dedup_data.write_to_log(f\"{MAY_2023_CLEAN_FOLDER}/snomed_merged_log.txt\")"
   ]
  },
  {
   "cell_type": "markdown",
   "id": "fc8fc1ed",
   "metadata": {},
   "source": [
    "### 4th cut of data - Dec 2024 Data\n",
    "\n",
    "At present, no useable binary trait data in this cut.  All cells pretaining to this cut are \"raw\""
   ]
  },
  {
   "cell_type": "markdown",
   "id": "864e3f94",
   "metadata": {},
   "source": [
    "###### 4th Cut end"
   ]
  },
  {
   "cell_type": "markdown",
   "id": "7ff1a2ec",
   "metadata": {},
   "source": [
    "## Merge all the data together of the same type\n",
    "\n",
    "We are merging all the data together:\n",
    "\n",
    "- ICD10 data\n",
    "- OPCS data\n",
    "- SNOMED data\n",
    "\n",
    "This is across all the data cuts. "
   ]
  },
  {
   "cell_type": "markdown",
   "id": "26ec8788",
   "metadata": {},
   "source": [
    "**ICD10 Dataset**\n",
    "\n",
    "We are merging all the datasets together. We will load the data from file to start. "
   ]
  },
  {
   "cell_type": "code",
   "execution_count": null,
   "id": "df603a8f",
   "metadata": {},
   "outputs": [],
   "source": [
    "icd_1 = ProcessedDataset(path=f\"{FEB_2021_CLEAN_FOLDER}/icd.arrow\", \n",
    "                         dataset_type=DatasetType.BRADFORD.value, \n",
    "                         coding_system=CodelistType.ICD10.value, \n",
    "                         log_path=f\"{FEB_2021_CLEAN_FOLDER}/icd_log.txt\")"
   ]
  },
  {
   "cell_type": "code",
   "execution_count": null,
   "id": "3a3316e3",
   "metadata": {},
   "outputs": [],
   "source": [
    "icd_2 = ProcessedDataset(path=f\"{JUNE_2022_CLEAN_FOLDER}/icd.arrow\", \n",
    "                         dataset_type=DatasetType.BRADFORD.value, \n",
    "                         coding_system=CodelistType.ICD10.value, \n",
    "                         log_path=f\"{JUNE_2022_CLEAN_FOLDER}/icd_log.txt\")"
   ]
  },
  {
   "cell_type": "code",
   "execution_count": null,
   "id": "71df051f",
   "metadata": {},
   "outputs": [],
   "source": [
    "icd_3 = ProcessedDataset(path=f\"{MAY_2023_CLEAN_FOLDER}/icd.arrow\", \n",
    "                         dataset_type=DatasetType.BRADFORD.value, \n",
    "                         coding_system=CodelistType.ICD10.value, \n",
    "                         log_path=f\"{MAY_2023_CLEAN_FOLDER}/icd_log.txt\")"
   ]
  },
  {
   "cell_type": "code",
   "execution_count": null,
   "id": "95dd79df",
   "metadata": {},
   "outputs": [],
   "source": [
    "icd_1.merge_with_dataset(icd_2)"
   ]
  },
  {
   "cell_type": "code",
   "execution_count": null,
   "id": "8c5c8658",
   "metadata": {},
   "outputs": [],
   "source": [
    "icd_1.merge_with_dataset(icd_3)"
   ]
  },
  {
   "cell_type": "code",
   "execution_count": null,
   "id": "d5587c7b",
   "metadata": {},
   "outputs": [],
   "source": [
    "dedup = icd_1.deduplicate()"
   ]
  },
  {
   "cell_type": "code",
   "execution_count": null,
   "id": "66e34602",
   "metadata": {},
   "outputs": [],
   "source": [
    "for log in icd_2.log:\n",
    "    dedup.log.append(log)\n",
    "for log in icd_3.log:\n",
    "    dedup.log.append(log)\n",
    "dedup.log.sort()"
   ]
  },
  {
   "cell_type": "code",
   "execution_count": null,
   "id": "f8630336",
   "metadata": {},
   "outputs": [],
   "source": [
    "dedup.write_to_feather(f\"{MEGADATA_BRADFORD_LOCATION}/icd.arrow\")\n",
    "dedup.write_to_log(f\"{MEGADATA_BRADFORD_LOCATION}/icd_log.txt\")"
   ]
  },
  {
   "cell_type": "markdown",
   "id": "9e9fc492",
   "metadata": {},
   "source": [
    "**OPCS Dataset**\n",
    "\n",
    "We are merging all the datasets together. We will load the data from file to start. "
   ]
  },
  {
   "cell_type": "code",
   "execution_count": null,
   "id": "effaef6d",
   "metadata": {},
   "outputs": [],
   "source": [
    "opcs_1 = ProcessedDataset(path=f\"{FEB_2021_CLEAN_FOLDER}/opcs.arrow\", \n",
    "                         dataset_type=DatasetType.BRADFORD.value, \n",
    "                         coding_system=CodelistType.ICD10.value, \n",
    "                         log_path=f\"{FEB_2021_CLEAN_FOLDER}/opcs_log.txt\")"
   ]
  },
  {
   "cell_type": "code",
   "execution_count": null,
   "id": "6a4e3c6f",
   "metadata": {},
   "outputs": [],
   "source": [
    "opcs_2 = ProcessedDataset(path=f\"{JUNE_2022_CLEAN_FOLDER}/opcs.arrow\", \n",
    "                         dataset_type=DatasetType.BRADFORD.value, \n",
    "                         coding_system=CodelistType.ICD10.value, \n",
    "                         log_path=f\"{JUNE_2022_CLEAN_FOLDER}/opcs_log.txt\")"
   ]
  },
  {
   "cell_type": "code",
   "execution_count": null,
   "id": "3a05db0b",
   "metadata": {},
   "outputs": [],
   "source": [
    "opcs_3 = ProcessedDataset(path=f\"{MAY_2023_CLEAN_FOLDER}/opcs.arrow\", \n",
    "                         dataset_type=DatasetType.BRADFORD.value, \n",
    "                         coding_system=CodelistType.ICD10.value, \n",
    "                         log_path=f\"{MAY_2023_CLEAN_FOLDER}/opcs_log.txt\")"
   ]
  },
  {
   "cell_type": "code",
   "execution_count": null,
   "id": "d76e80d9",
   "metadata": {},
   "outputs": [],
   "source": [
    "opcs_1.merge_with_dataset(opcs_2)\n",
    "opcs_1.merge_with_dataset(opcs_3)"
   ]
  },
  {
   "cell_type": "code",
   "execution_count": null,
   "id": "3e57caf7",
   "metadata": {},
   "outputs": [],
   "source": [
    "dedup = opcs_1.deduplicate()"
   ]
  },
  {
   "cell_type": "code",
   "execution_count": null,
   "id": "c18e1f34",
   "metadata": {},
   "outputs": [],
   "source": [
    "for log in opcs_2.log:\n",
    "    dedup.log.append(log)\n",
    "for log in opcs_3.log:\n",
    "    dedup.log.append(log)\n",
    "dedup.log.sort()"
   ]
  },
  {
   "cell_type": "code",
   "execution_count": null,
   "id": "8d3382c2",
   "metadata": {},
   "outputs": [],
   "source": [
    "dedup.write_to_feather(f\"{MEGADATA_BRADFORD_LOCATION}/opcs.arrow\")\n",
    "dedup.write_to_log(f\"{MEGADATA_BRADFORD_LOCATION}/opcs_log.txt\")"
   ]
  },
  {
   "cell_type": "markdown",
   "id": "69e13d07",
   "metadata": {},
   "source": [
    "**SNOMED Dataset**\n",
    "\n",
    "We are merging all the datasets together. We will load the data from file to start. "
   ]
  },
  {
   "cell_type": "code",
   "execution_count": null,
   "id": "d5dbceef",
   "metadata": {},
   "outputs": [],
   "source": [
    "snomed_1 = ProcessedDataset(path=f\"{JUNE_2022_CLEAN_FOLDER}/snomed_merged.arrow\", \n",
    "                         dataset_type=DatasetType.BRADFORD.value, \n",
    "                         coding_system=CodelistType.ICD10.value, \n",
    "                         log_path=f\"{JUNE_2022_CLEAN_FOLDER}/snomed_merged_log.txt\")\n",
    "snomed_2 = ProcessedDataset(path=f\"{MAY_2023_CLEAN_FOLDER}/snomed_merged.arrow\", \n",
    "                         dataset_type=DatasetType.BRADFORD.value, \n",
    "                         coding_system=CodelistType.ICD10.value, \n",
    "                         log_path=f\"{MAY_2023_CLEAN_FOLDER}/snomed_merged_log.txt\")"
   ]
  },
  {
   "cell_type": "code",
   "execution_count": null,
   "id": "2af6e72a",
   "metadata": {},
   "outputs": [],
   "source": [
    "snomed_1.merge_with_dataset(snomed_2)\n",
    "dedup = snomed_1.deduplicate()"
   ]
  },
  {
   "cell_type": "code",
   "execution_count": null,
   "id": "d0b6d649",
   "metadata": {},
   "outputs": [],
   "source": [
    "for log in snomed_2.log:\n",
    "    dedup.log.append(log)\n",
    "dedup.log.sort()"
   ]
  },
  {
   "cell_type": "code",
   "execution_count": null,
   "id": "67e7c9ab",
   "metadata": {},
   "outputs": [],
   "source": [
    "dedup.write_to_feather(f\"{MEGADATA_BRADFORD_LOCATION}/snomed.arrow\")\n",
    "dedup.write_to_log(f\"{MEGADATA_BRADFORD_LOCATION}/snomed_log.txt\")"
   ]
  },
  {
   "cell_type": "markdown",
   "id": "8fafd58a",
   "metadata": {},
   "source": [
    "**Map SNOMED to ICD10** \n",
    "\n",
    "Load the data from saved SNOMED dataset and map it from the mapping file. \n",
    "\n",
    "Note added 06.12.2024: Caroline's mapping files are in her /red/ directory, if full path to these is not given, these steps will only work if run from Caroline's directory.  Modified to give full path to look-up tables.\n",
    "\n",
    "Issues:\n",
    "1. Should we move the look-tables to /library-red/reference_files/\n",
    "2. What is the source of these lookup tables?  When were they last updated?"
   ]
  },
  {
   "cell_type": "code",
   "execution_count": null,
   "id": "aa1a60eb",
   "metadata": {},
   "outputs": [],
   "source": [
    "snomed_data = ProcessedDataset(path=f\"{MEGADATA_BRADFORD_LOCATION}/snomed.arrow\", \n",
    "                               dataset_type=DatasetType.BRADFORD.value, \n",
    "                               coding_system=CodelistType.SNOMED.value,\n",
    "                               log_path=f\"{MEGADATA_BRADFORD_LOCATION}/snomed_log.txt\"\n",
    "                              )"
   ]
  },
  {
   "cell_type": "code",
   "execution_count": null,
   "id": "d8ac7843",
   "metadata": {},
   "outputs": [],
   "source": [
    "mapped_data = snomed_data.map_snomed_to_icd(\n",
    "    mapping_file=f\"{MAPPING_FILES_LOCATION}/processed_mapping_file.csv\",\n",
    "    snomed_col=\"conceptId\",\n",
    "    icd_col=\"mapTarget\"\n",
    ")"
   ]
  },
  {
   "cell_type": "code",
   "execution_count": null,
   "id": "e6eeab17",
   "metadata": {},
   "outputs": [],
   "source": [
    "final_dedup = mapped_data.deduplicate()"
   ]
  },
  {
   "cell_type": "code",
   "execution_count": null,
   "id": "166b290b",
   "metadata": {},
   "outputs": [],
   "source": [
    "for log in mapped_data.log:\n",
    "    final_dedup.log.append(log)"
   ]
  },
  {
   "cell_type": "code",
   "execution_count": null,
   "id": "655f1899",
   "metadata": {},
   "outputs": [],
   "source": [
    "final_dedup.log.sort()"
   ]
  },
  {
   "cell_type": "code",
   "execution_count": null,
   "id": "c180f36a",
   "metadata": {},
   "outputs": [],
   "source": [
    "final_dedup.write_to_feather(f\"{MEGADATA_BRADFORD_LOCATION}/final_mapped_snomed_to_icd.arrow\")\n",
    "final_dedup.write_to_log(f\"{MEGADATA_BRADFORD_LOCATION}/final_mapped_snomed_to_icd_log.txt\")"
   ]
  },
  {
   "cell_type": "code",
   "execution_count": null,
   "id": "7ec11251",
   "metadata": {},
   "outputs": [],
   "source": [
    "final_dedup.coding_system = CodelistType.ICD10.value"
   ]
  },
  {
   "cell_type": "markdown",
   "id": "bd31612a",
   "metadata": {},
   "source": [
    "**Merge with the ICD data and deduplicate**"
   ]
  },
  {
   "cell_type": "code",
   "execution_count": null,
   "id": "c6cbc9b4",
   "metadata": {},
   "outputs": [],
   "source": [
    "icd_data = ProcessedDataset(path=f\"{MEGADATA_BRADFORD_LOCATION}/icd.arrow\", \n",
    "                               dataset_type=DatasetType.BRADFORD.value, \n",
    "                               coding_system=CodelistType.ICD10.value,\n",
    "                               log_path=f\"{MEGADATA_BRADFORD_LOCATION}/icd_log.txt\"\n",
    "                              )"
   ]
  },
  {
   "cell_type": "code",
   "execution_count": null,
   "id": "81d4913e",
   "metadata": {},
   "outputs": [],
   "source": [
    "icd_data.merge_with_dataset(final_dedup)"
   ]
  },
  {
   "cell_type": "code",
   "execution_count": null,
   "id": "51c183a3",
   "metadata": {},
   "outputs": [],
   "source": [
    "merged_dedup = icd_data.deduplicate()"
   ]
  },
  {
   "cell_type": "code",
   "execution_count": null,
   "id": "e632e48d",
   "metadata": {},
   "outputs": [],
   "source": [
    "for log in icd_data.log:\n",
    "    merged_dedup.log.append(log)"
   ]
  },
  {
   "cell_type": "code",
   "execution_count": null,
   "id": "06d8696e",
   "metadata": {},
   "outputs": [],
   "source": [
    "merged_dedup.log.sort()"
   ]
  },
  {
   "cell_type": "code",
   "execution_count": null,
   "id": "6514fa3e",
   "metadata": {},
   "outputs": [],
   "source": [
    "merged_dedup.write_to_feather(f\"{MEGADATA_BRADFORD_LOCATION}/merged_and_mapped.arrow\")\n",
    "merged_dedup.write_to_log(f\"{MEGADATA_BRADFORD_LOCATION}/merged_and_mapped_log.txt\")"
   ]
  },
  {
   "cell_type": "markdown",
   "id": "d4b90afb",
   "metadata": {},
   "source": [
    "### Run next cell to initiate next notebook"
   ]
  },
  {
   "cell_type": "code",
   "execution_count": null,
   "id": "a904447b",
   "metadata": {},
   "outputs": [],
   "source": [
    "redirect_to_next_notebook_in_pipeline(\"5-process-datasets-nhs-digital\")"
   ]
  },
  {
   "cell_type": "code",
   "execution_count": null,
   "id": "283564bc",
   "metadata": {},
   "outputs": [],
   "source": []
  }
 ],
 "metadata": {
  "kernelspec": {
   "display_name": "Python 3 (ipykernel)",
   "language": "python",
   "name": "python3"
  },
  "language_info": {
   "codemirror_mode": {
    "name": "ipython",
    "version": 3
   },
   "file_extension": ".py",
   "mimetype": "text/x-python",
   "name": "python",
   "nbconvert_exporter": "python",
   "pygments_lexer": "ipython3",
   "version": "3.9.2"
  }
 },
 "nbformat": 4,
 "nbformat_minor": 5
}
