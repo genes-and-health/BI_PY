{
 "cells": [
  {
   "cell_type": "markdown",
   "id": "8be318d7",
   "metadata": {},
   "source": [
    "# 3-process-datasets-barts-health -- Plan\n",
    "\n",
    "This notebook is for processing the various datasets we have. We take in raw datasets, and we output processed datasets as feather files (binary) with their log files where appropriate.\n",
    "\n",
    "In this second notebook, we do the following:\n",
    "\n",
    "1.    Process barts health care datasets - SNOMED\n",
    "2.   Process barts health care dataset - ICD10\n",
    "3.   Process barts health care datast - OPCS\n",
    "4.   Map SNOMED datasets to ICD and combine with ICD10 dataset\n",
    "\n",
    "## Processing Barts Health Datasets\n",
    "\n",
    "The barts healthcare datasets are in SNOMED, ICD10 and OPCS. There are 5 \"cuts\" of data representing 5 time periods when the data was made available. Each dataset comprises of multiple CSV files.\n",
    "\n",
    "We process the datasets in the following way:\n",
    "\n",
    "1.   Load the data for each \"type\" of coding system per file\n",
    "2.   Deduplicate and process\n",
    "3.   Save as arrow file and with log file.\n",
    "4.   We then remove all unrealistic dates via the dataset that we created in the first notebook\n",
    "5.   Save this cleaned data file with log\n",
    "\n",
    "Once all the datasets have been created:\n",
    "\n",
    "1.  Reload each dataset from file and merge with other datasets of the same type for a time period (i.e. the same cut of the data)\n",
    "2. Deduplicate and merge all the log files together\n",
    "3. Save in processed merged data folder\n",
    "\n",
    "Finally merge all the same types of dataset together, deduplicate and save.\n",
    "\n",
    "NB. processing of Bradford data now takes place in notebook \\#4."
   ]
  },
  {
   "cell_type": "markdown",
   "id": "6712ebb0",
   "metadata": {},
   "source": [
    "# Locations/paths naming convention\n",
    "\n",
    "1. We do not use relative paths.\n",
    "2. We do not explicitly use the word FOLDER in the naming, so `MEGADATA_LOCATION`, not `MEGADATA_FOLDER_LOCATION`. \n",
    "1. Location and path are in `UPPER_CASE`.\n",
    "2. When referred to as `_LOCATION`, the variable contain a string with the path.\n",
    "3. When referred to as `_PATH`, the variable is an `AnyPath` path object.\n",
    "4. The folder order is \"what it is\" / \"Where it's from\" so, for example megadata/primary_care not primary_care/megadata; so `MEGADATA_PRIMARY_CARE_LOCATION` or `PROCESSED_DATASETS_PRIMARY_CARE_PATH`\n"
   ]
  },
  {
   "cell_type": "code",
   "execution_count": null,
   "id": "4a9e0ea3",
   "metadata": {},
   "outputs": [],
   "source": [
    "VERSION = 'version010_2025_05_SR'"
   ]
  },
  {
   "cell_type": "markdown",
   "id": "d149bc7c",
   "metadata": {},
   "source": [
    "## Imports\n",
    "\n",
    "This is where imports for tretools + other are pulled in"
   ]
  },
  {
   "cell_type": "code",
   "execution_count": null,
   "id": "6d602779",
   "metadata": {},
   "outputs": [],
   "source": [
    "from datetime import datetime\n",
    "from tretools.datasets.raw_dataset import RawDataset\n",
    "from tretools.datasets.dataset_enums.dataset_types import DatasetType\n",
    "from tretools.codelists.codelist_types import CodelistType\n",
    "from tretools.datasets.demographic_dataset import DemographicDataset\n",
    "from tretools.datasets.processed_dataset import ProcessedDataset\n",
    "\n",
    "from cloudpathlib import AnyPath\n",
    "import polars as pl\n",
    "import subprocess"
   ]
  },
  {
   "cell_type": "markdown",
   "id": "7a15fa7b",
   "metadata": {},
   "source": [
    "## Paths"
   ]
  },
  {
   "cell_type": "code",
   "execution_count": null,
   "id": "6d9b5748",
   "metadata": {},
   "outputs": [],
   "source": [
    "ROOT_LOCATION = \"/home/ivm/BI_PY\""
   ]
  },
  {
   "cell_type": "code",
   "execution_count": null,
   "id": "7720a6d8",
   "metadata": {},
   "outputs": [],
   "source": [
    "INPUT_LOCATION = \"/genesandhealth/library-red/genesandhealth/phenotypes_rawdata/DSA__BartsHealth_NHS_Trust\""
   ]
  },
  {
   "cell_type": "code",
   "execution_count": null,
   "id": "35df4bd2",
   "metadata": {},
   "outputs": [],
   "source": [
    "PROCESSED_DATASETS_LOCATION =  f\"{ROOT_LOCATION}/{VERSION}/processed_datasets\"\n",
    "MEGADATA_LOCATION = f\"{ROOT_LOCATION}/{VERSION}/megadata\"\n",
    "MAPPING_FILES_LOCATION =  f\"{ROOT_LOCATION}/{VERSION}/mapping_files\""
   ]
  },
  {
   "cell_type": "code",
   "execution_count": null,
   "id": "208e9f94",
   "metadata": {},
   "outputs": [],
   "source": [
    "PROCESSED_DATASETS_BARTS_LOCATION = f\"{PROCESSED_DATASETS_LOCATION}/barts_health\"\n",
    "MEGADATA_BARTS_LOCATION = f\"{MEGADATA_LOCATION}/barts_health\""
   ]
  },
  {
   "cell_type": "code",
   "execution_count": null,
   "id": "550cf1d1",
   "metadata": {},
   "outputs": [],
   "source": [
    "PREPROCESSED_FILES_LOCATION = f\"{ROOT_LOCATION}/{VERSION}/preprocessed_files\""
   ]
  },
  {
   "cell_type": "markdown",
   "id": "6aca4d15",
   "metadata": {},
   "source": [
    "## Create paths as necessary"
   ]
  },
  {
   "cell_type": "code",
   "execution_count": null,
   "id": "ccf6ac46",
   "metadata": {},
   "outputs": [],
   "source": [
    "# PROCESSED_DATASETS_BARTS_LOCATION = f\"{PROCESSED_DATASETS_LOCATION}/barts_health/processed_datasets\"\n",
    "# MEGADATA_PATH = f\"{PROCESSED_DATASETS_LOCATION}/barts_health/megadata\"\n",
    "\n",
    "AnyPath(PROCESSED_DATASETS_BARTS_LOCATION).mkdir(parents=True, exist_ok=True)\n",
    "AnyPath(MEGADATA_BARTS_LOCATION).mkdir(parents=True, exist_ok=True)\n",
    "AnyPath(PREPROCESSED_FILES_LOCATION).mkdir(parents=True, exist_ok=True)"
   ]
  },
  {
   "cell_type": "markdown",
   "id": "044f4bc0",
   "metadata": {},
   "source": [
    "We create the paths to the dataset original folders"
   ]
  },
  {
   "cell_type": "code",
   "execution_count": null,
   "id": "7595c8c3",
   "metadata": {},
   "outputs": [],
   "source": [
    "MAR_2022_INPUT_PATH = f\"{INPUT_LOCATION}/2022_03_ResearchDatasetv1.3\"\n",
    "MAY_2023_INPUT_PATH = f\"{INPUT_LOCATION}/2023_05_ResearchDatasetv1.5\"\n",
    "DEC_2023_INPUT_PATH = f\"{INPUT_LOCATION}/2023_12_ResearchDatasetv1.6\"\n",
    "SEP_2024_INPUT_PATH = f\"{INPUT_LOCATION}/2024_09_ResearchDataset\"\n",
    "\n",
    "# At present, we also omit\n",
    "# apr_2021_path = f\"{INPUT_LOCATION}/2021_04_PathologyLab\""
   ]
  },
  {
   "cell_type": "markdown",
   "id": "9d328737",
   "metadata": {},
   "source": [
    "## Scripting for automated next notebook initation"
   ]
  },
  {
   "cell_type": "code",
   "execution_count": null,
   "id": "ec5a8595",
   "metadata": {},
   "outputs": [],
   "source": [
    "from IPython.display import Javascript"
   ]
  },
  {
   "cell_type": "code",
   "execution_count": null,
   "id": "f748f7d2",
   "metadata": {},
   "outputs": [],
   "source": [
    "def redirect_to_next_notebook_in_pipeline(other_notebook):\n",
    "    \n",
    "    js_code = f\"\"\"\n",
    "    if (typeof Jupyter !== 'undefined' && Jupyter.notebook && Jupyter.notebook.kernel) {{\n",
    "        // only runs when cell is executed, not from cached output\n",
    "        console.log(\"Redirecting to next notebook in pipeline...\");\n",
    "        Jupyter.notebook.save_checkpoint();\n",
    "        Jupyter.notebook.session.delete();\n",
    "        \n",
    "        setTimeout(function() {{\n",
    "            window.location.href = '{other_notebook}.ipynb';\n",
    "        }}, 1500)\n",
    "    }} else {{\n",
    "        console.log(\"Found cached output. Not an active notebook context. Skipping redirect.\")\n",
    "    }}\n",
    "    \"\"\"\n",
    "    display(Javascript(js_code))"
   ]
  },
  {
   "cell_type": "markdown",
   "id": "e717909c",
   "metadata": {},
   "source": [
    "# Load the data and transform it\n",
    "\n",
    "We are loading the demographic data that was created in notebook 1 so that we can remove unrealistic dates.\n"
   ]
  },
  {
   "cell_type": "code",
   "execution_count": null,
   "id": "99d03667",
   "metadata": {},
   "outputs": [],
   "source": [
    "deduplication_options = ['nhs_number', 'code', 'date']"
   ]
  },
  {
   "cell_type": "code",
   "execution_count": null,
   "id": "3c078754",
   "metadata": {},
   "outputs": [],
   "source": [
    "demographic_file_path = f\"{PROCESSED_DATASETS_LOCATION}/demographics/clean_demographics.arrow\""
   ]
  },
  {
   "cell_type": "code",
   "execution_count": null,
   "id": "3d9ce2ad",
   "metadata": {},
   "outputs": [],
   "source": [
    "date_start=datetime.strptime(\"1910-01-01\", \"%Y-%m-%d\")\n",
    "# date_end=datetime.strptime(\"2024-01-29\", \"%Y-%m-%d\")\n",
    "# Modified to lastest date found in source dir\n",
    "## MS to consider extracting reasonable end date automatically from file/dir timestamps (low priority)\n",
    "date_end=datetime.today()  # datetime.strptime(\"2024-10-26\", \"%Y-%m-%d\")"
   ]
  },
  {
   "cell_type": "code",
   "execution_count": null,
   "id": "13ee1fd5",
   "metadata": {},
   "outputs": [],
   "source": [
    "#  Line creating demographic object not present, now added SR\n",
    "demographics = DemographicDataset(path=demographic_file_path)"
   ]
  },
  {
   "cell_type": "markdown",
   "id": "968cc41f",
   "metadata": {},
   "source": [
    "\n",
    "# 1st cut of data - March 2022 Data\n",
    "\n",
    "In this first set of data we have 1 ICD file, 1 OPCS file and 3 SNOMED files that relate to diagosis, procedures and problems. We will combine the snomed codes into one dataset.\n",
    "\n",
    "We will save a copy of the files in `processed_data/` folder. We will then remove unrealistic dates with the demographic dataset, and save these files in to `clean_processed_data/`.\n"
   ]
  },
  {
   "cell_type": "code",
   "execution_count": null,
   "id": "c94eb1f3",
   "metadata": {},
   "outputs": [],
   "source": [
    "dataset_icd_path = f\"{MAR_2022_INPUT_PATH}/2022_05_23__icd10_combined_redacted.txt\"\n",
    "dataset_opcs_path = f\"{MAR_2022_INPUT_PATH}/2022_05_26__opcs_combined_redacted.txt\"\n",
    "dataset_diagnosis_snomed_path = f\"{MAR_2022_INPUT_PATH}/GandH_PC_Diagnosis_202203191144_redacted_with_conceptIDs_ConfirmedOnly.csv\"\n",
    "dataset_problems_snomed_path = f\"{MAR_2022_INPUT_PATH}/GandH_PC_Problems_202203191144_redacted_with_conceptIDs_ConfirmedOnly.csv\"\n",
    "dataset_procedures_snomed_path = f\"{MAR_2022_INPUT_PATH}/GandH_PC_Procedures_202203191144_redacted_with_conceptIDs.csv\""
   ]
  },
  {
   "cell_type": "markdown",
   "id": "c964efaa",
   "metadata": {},
   "source": [
    "This is where we are saving each log and feather file per dataset. This is to store them so we don't need to process them again."
   ]
  },
  {
   "cell_type": "code",
   "execution_count": null,
   "id": "c71375e7",
   "metadata": {},
   "outputs": [],
   "source": [
    "AnyPath(f\"{PROCESSED_DATASETS_BARTS_LOCATION}/march_2022/processed_data\").mkdir(parents=True, exist_ok=True)\n",
    "AnyPath(f\"{PROCESSED_DATASETS_BARTS_LOCATION}/march_2022/clean_processed_data\").mkdir(parents=True, exist_ok=True)"
   ]
  },
  {
   "cell_type": "markdown",
   "id": "75a2ee49",
   "metadata": {},
   "source": [
    "# ICD10 dataset\n",
    "\n",
    "Unlike the primary care datasets, all the different datasets have different column headers in the raw form so it is necessary to have individual column maps.\n"
   ]
  },
  {
   "cell_type": "code",
   "execution_count": null,
   "id": "9a58cfbe",
   "metadata": {},
   "outputs": [],
   "source": [
    "col_maps_icd = {\"ICD10_code\": \"code\", \"ICD10_name\": \"term\", \"CodingDate\": \"date\", \"PseudoNHS\": \"nhs_number\"}"
   ]
  },
  {
   "cell_type": "code",
   "execution_count": null,
   "id": "f0814306",
   "metadata": {},
   "outputs": [],
   "source": [
    "dataset_icd = RawDataset(\n",
    "    path=dataset_icd_path,\n",
    "    dataset_type=DatasetType.BARTS_HEALTH.value,\n",
    "    coding_system=CodelistType.ICD10.value\n",
    ")"
   ]
  },
  {
   "cell_type": "code",
   "execution_count": null,
   "id": "fb388389",
   "metadata": {},
   "outputs": [],
   "source": [
    "processed_dataset_icd = dataset_icd.process_dataset(deduplication_options=deduplication_options, \n",
    "                                                    column_maps=col_maps_icd)"
   ]
  },
  {
   "cell_type": "code",
   "execution_count": null,
   "id": "3ea5e082",
   "metadata": {},
   "outputs": [],
   "source": [
    "processed_dataset_icd.write_to_feather(\n",
    "    f\"{PROCESSED_DATASETS_BARTS_LOCATION}/march_2022/processed_data/dataset_ICD.arrow\"\n",
    ")"
   ]
  },
  {
   "cell_type": "code",
   "execution_count": null,
   "id": "2b07b0e5",
   "metadata": {},
   "outputs": [],
   "source": [
    "processed_dataset_icd.write_to_log(\n",
    "    f\"{PROCESSED_DATASETS_BARTS_LOCATION}/march_2022/processed_data/dataset_ICD_log.txt\"\n",
    ")"
   ]
  },
  {
   "cell_type": "markdown",
   "id": "f5144565",
   "metadata": {},
   "source": [
    "We now remove the unrealistic data (i.e. event before birth, before 1st Jan 1910 or after \\[run date of script\\]) and save this into a cleaned_processed_data folder"
   ]
  },
  {
   "cell_type": "code",
   "execution_count": null,
   "id": "588a5f30",
   "metadata": {},
   "outputs": [],
   "source": [
    "cleaned_dataset = processed_dataset_icd.remove_unrealistic_dates(\n",
    "    date_start=date_start,\n",
    "    date_end=date_end,\n",
    "    before_born=True,\n",
    "    demographic_dataset=demographics\n",
    ")"
   ]
  },
  {
   "cell_type": "code",
   "execution_count": null,
   "id": "7cf28a44",
   "metadata": {},
   "outputs": [],
   "source": [
    "cleaned_dataset.write_to_feather(\n",
    "    f\"{PROCESSED_DATASETS_BARTS_LOCATION}/march_2022/clean_processed_data/dataset_ICD.arrow\"\n",
    ")\n",
    "cleaned_dataset.write_to_log(\n",
    "    f\"{PROCESSED_DATASETS_BARTS_LOCATION}/march_2022/clean_processed_data/dataset_ICD_log.txt\"\n",
    ")"
   ]
  },
  {
   "cell_type": "markdown",
   "id": "44ecd927",
   "metadata": {},
   "source": [
    "### OPCS dataset"
   ]
  },
  {
   "cell_type": "code",
   "execution_count": null,
   "id": "d7442333",
   "metadata": {},
   "outputs": [],
   "source": [
    "col_maps_opcs = {\"OPCS_code\": \"code\", \"OPCS_name\": \"term\", \"CodingDate\": \"date\", \"PseudoNHS\": \"nhs_number\"}"
   ]
  },
  {
   "cell_type": "code",
   "execution_count": null,
   "id": "e750d988",
   "metadata": {},
   "outputs": [],
   "source": [
    "dataset_opcs = RawDataset(\n",
    "    path=dataset_opcs_path,\n",
    "    dataset_type=DatasetType.BARTS_HEALTH.value,\n",
    "    coding_system=CodelistType.OPCS.value\n",
    ")"
   ]
  },
  {
   "cell_type": "code",
   "execution_count": null,
   "id": "da3b4360",
   "metadata": {},
   "outputs": [],
   "source": [
    "%%time\n",
    "processed_dataset_opcs = dataset_opcs.process_dataset(\n",
    "    deduplication_options=deduplication_options,\n",
    "    column_maps=col_maps_opcs\n",
    ")"
   ]
  },
  {
   "cell_type": "code",
   "execution_count": null,
   "id": "0ac5c9e0",
   "metadata": {},
   "outputs": [],
   "source": [
    "processed_dataset_opcs.write_to_feather(\n",
    "    f\"{PROCESSED_DATASETS_BARTS_LOCATION}/march_2022/processed_data/dataset_OPCS.arrow\"\n",
    ")"
   ]
  },
  {
   "cell_type": "code",
   "execution_count": null,
   "id": "17f844ab",
   "metadata": {},
   "outputs": [],
   "source": [
    "processed_dataset_opcs.write_to_log(\n",
    "    f\"{PROCESSED_DATASETS_BARTS_LOCATION}/march_2022/processed_data/dataset_OPCS_log.txt\"\n",
    ")"
   ]
  },
  {
   "cell_type": "markdown",
   "id": "925811f8",
   "metadata": {},
   "source": [
    "We now remove the unrealistic data (i.e. event before birth, before 1st Jan 1910 or after \\[run date of script\\]) and save this into a cleaned_processed_data folder"
   ]
  },
  {
   "cell_type": "code",
   "execution_count": null,
   "id": "996679de",
   "metadata": {},
   "outputs": [],
   "source": [
    "## cleaned_dataset has been used already, ?change to cleaned_dataset_opcs\n",
    "cleaned_dataset = processed_dataset_opcs.remove_unrealistic_dates(\n",
    "    date_start=date_start,\n",
    "    date_end=date_end,\n",
    "    before_born=True,\n",
    "    demographic_dataset=demographics\n",
    ")"
   ]
  },
  {
   "cell_type": "code",
   "execution_count": null,
   "id": "4f32dbe6",
   "metadata": {},
   "outputs": [],
   "source": [
    "cleaned_dataset.write_to_feather(\n",
    "    f\"{PROCESSED_DATASETS_BARTS_LOCATION}/march_2022/clean_processed_data/dataset_OPCS.arrow\"\n",
    ")\n",
    "cleaned_dataset.write_to_log(\n",
    "    f\"{PROCESSED_DATASETS_BARTS_LOCATION}/march_2022/clean_processed_data/dataset_OPCS_log.txt\"\n",
    ")"
   ]
  },
  {
   "cell_type": "markdown",
   "id": "e9e62b3c",
   "metadata": {},
   "source": [
    "\n",
    "### SNOMED\n",
    "\n",
    "We are processing 3 different SNOMED datasets here. We will process and save them individually, then combine them, deduplicate and save this.\n",
    "\n",
    "### Diagnosis Snomed Dataset\n",
    "\n",
    "Here we are loading the data. Now the data is loading the conceptId snomed codes as floats as they have some scientific notation in them. We do an extra step to convert these to integers immediately on loading."
   ]
  },
  {
   "cell_type": "code",
   "execution_count": null,
   "id": "fbcc4f6f",
   "metadata": {},
   "outputs": [],
   "source": [
    "%%time\n",
    "dataset_diagnosis = RawDataset(\n",
    "    path=dataset_diagnosis_snomed_path,\n",
    "    dataset_type=DatasetType.BARTS_HEALTH.value,\n",
    "    coding_system=CodelistType.SNOMED.value\n",
    ")"
   ]
  },
  {
   "cell_type": "code",
   "execution_count": null,
   "id": "93f7228d",
   "metadata": {},
   "outputs": [],
   "source": [
    "%%time\n",
    "## Why is the polar read with Barts Diagnoiis (2022) importing column DiscriptionID as int64 w/ no problem but only\n",
    "## importing conceptId as float64 requiring a recast to int64?\n",
    "\n",
    "## Note that this seems specific to this file (?to all Diagnosis files) as no recasting needed with Procedures\n",
    "dataset_diagnosis.data = dataset_diagnosis.data.with_columns(\n",
    "    dataset_diagnosis.data['conceptId'].cast(pl.Int64).alias('code')\n",
    ")"
   ]
  },
  {
   "cell_type": "code",
   "execution_count": null,
   "id": "e0a3a8b6",
   "metadata": {},
   "outputs": [],
   "source": [
    "col_maps_snomed = {\n",
    "    \"code\": \"code\",\n",
    "    \"term\": \"term\",\n",
    "    \"DiagDt\": \"date\",\n",
    "    \"PseudoNHSNumber\": \"nhs_number\"\n",
    "}"
   ]
  },
  {
   "cell_type": "code",
   "execution_count": null,
   "id": "024ebf00",
   "metadata": {},
   "outputs": [],
   "source": [
    "%time\n",
    "processed_diagnosis = dataset_diagnosis.process_dataset(deduplication_options=deduplication_options,\n",
    "                                                        column_maps=col_maps_snomed)"
   ]
  },
  {
   "cell_type": "code",
   "execution_count": null,
   "id": "b2850ec4",
   "metadata": {},
   "outputs": [],
   "source": [
    "%time\n",
    "processed_diagnosis.write_to_feather(\n",
    "    f\"{PROCESSED_DATASETS_BARTS_LOCATION}/march_2022/processed_data/dataset_SNOMED_diagnosis.arrow\"\n",
    ")\n",
    "processed_diagnosis.write_to_log(\n",
    "    f\"{PROCESSED_DATASETS_BARTS_LOCATION}/march_2022/processed_data/dataset_SNOMED_diagnosis_log.txt\"\n",
    ")"
   ]
  },
  {
   "cell_type": "markdown",
   "id": "b2f48cb2",
   "metadata": {},
   "source": [
    "We now remove the unrealistic data (i.e. event before birth, before 1st Jan 1910 or after \\[run date of script\\]) and save this into a cleaned_processed_data folder"
   ]
  },
  {
   "cell_type": "code",
   "execution_count": null,
   "id": "26528de6",
   "metadata": {},
   "outputs": [],
   "source": [
    "%time\n",
    "cleaned_dataset = processed_diagnosis.remove_unrealistic_dates(date_start=date_start,\n",
    "                                                                             date_end=date_end,\n",
    "                                                                             before_born=True,\n",
    "                                                                             demographic_dataset=demographics)"
   ]
  },
  {
   "cell_type": "code",
   "execution_count": null,
   "id": "b010c34e",
   "metadata": {},
   "outputs": [],
   "source": [
    "cleaned_dataset.write_to_feather(\n",
    "    f\"{PROCESSED_DATASETS_BARTS_LOCATION}/march_2022/clean_processed_data/dataset_SNOMED_diagnosis.arrow\"\n",
    ")\n",
    "cleaned_dataset.write_to_log(\n",
    "    f\"{PROCESSED_DATASETS_BARTS_LOCATION}/march_2022/clean_processed_data/dataset_SNOMED_diagnosis_log.txt\"\n",
    ")"
   ]
  },
  {
   "cell_type": "markdown",
   "id": "2c8c11a9",
   "metadata": {},
   "source": [
    "### Procedures Snomed Dataset"
   ]
  },
  {
   "cell_type": "code",
   "execution_count": null,
   "id": "53ca67ed",
   "metadata": {},
   "outputs": [],
   "source": [
    "dataset_procedures = RawDataset(\n",
    "    dataset_procedures_snomed_path,\n",
    "    dataset_type=DatasetType.BARTS_HEALTH.value,\n",
    "    coding_system=CodelistType.SNOMED.value\n",
    ")"
   ]
  },
  {
   "cell_type": "code",
   "execution_count": null,
   "id": "653d5b72",
   "metadata": {},
   "outputs": [],
   "source": [
    "procedure_map = {\n",
    "    \"PseudoNHSNumber\": \"nhs_number\",\n",
    "    \"conceptId\": \"code\",\n",
    "    \"ProcDt\": \"date\"\n",
    "}"
   ]
  },
  {
   "cell_type": "code",
   "execution_count": null,
   "id": "eeeeff9a",
   "metadata": {},
   "outputs": [],
   "source": [
    "processed_dataset_procedures = dataset_procedures.process_dataset(\n",
    "    deduplication_options=deduplication_options,\n",
    "    column_maps=procedure_map\n",
    ")\n"
   ]
  },
  {
   "cell_type": "code",
   "execution_count": null,
   "id": "b3332f1a",
   "metadata": {},
   "outputs": [],
   "source": [
    "processed_dataset_procedures.write_to_feather(\n",
    "    f\"{PROCESSED_DATASETS_BARTS_LOCATION}/march_2022/processed_data/dataset_SNOMED_procedures.arrow\"\n",
    ")\n",
    "processed_dataset_procedures.write_to_log(\n",
    "    f\"{PROCESSED_DATASETS_BARTS_LOCATION}/march_2022/processed_data/dataset_SNOMED_procedures_log.txt\"\n",
    ")"
   ]
  },
  {
   "cell_type": "markdown",
   "id": "aa250f8c",
   "metadata": {},
   "source": [
    "We now remove the unrealistic data (i.e. event before birth, before 1st Jan 1910 or after \\[run date of script\\]) and save this into a cleaned_processed_data folder"
   ]
  },
  {
   "cell_type": "code",
   "execution_count": null,
   "id": "1f860ad9",
   "metadata": {},
   "outputs": [],
   "source": [
    "cleaned_dataset = processed_dataset_procedures.remove_unrealistic_dates(date_start=date_start,\n",
    "                                                                             date_end=date_end,\n",
    "                                                                             before_born=True,\n",
    "                                                                             demographic_dataset=demographics)"
   ]
  },
  {
   "cell_type": "code",
   "execution_count": null,
   "id": "d74e9209",
   "metadata": {},
   "outputs": [],
   "source": [
    "cleaned_dataset.write_to_feather(\n",
    "    f\"{PROCESSED_DATASETS_BARTS_LOCATION}/march_2022/clean_processed_data/dataset_SNOMED_procedures.arrow\"\n",
    ")\n",
    "cleaned_dataset.write_to_log(\n",
    "    f\"{PROCESSED_DATASETS_BARTS_LOCATION}/march_2022/clean_processed_data/dataset_SNOMED_procedures_log.txt\"\n",
    ")"
   ]
  },
  {
   "cell_type": "markdown",
   "id": "69a4f439",
   "metadata": {},
   "source": [
    "### Problems Snomed Dataset\n",
    "\n",
    "The conceptId column contains the snomed code but because it has some Nulls in it, the dataframe is reading it in as strings. We are converting these to integers directly.\n",
    "\n",
    "Notes added by SR/MS 06.12.24:\n",
    "1. OK but also null in conceptId in Diagnoses and Procedure, in former, conceptId came in as f64 in latter comes in as i64!\n",
    "2. Does Caroline mean \"dataframe is reading it in as f64\" (cf strings)"
   ]
  },
  {
   "cell_type": "code",
   "execution_count": null,
   "id": "2c464b7c",
   "metadata": {
    "scrolled": true
   },
   "outputs": [],
   "source": [
    "## When run on 06.12.2024, this gave us the following error message\n",
    "# '''\n",
    "# ComputeError: found more fields than defined in 'Schema'\n",
    "\n",
    "# Consider setting 'truncate_ragged_lines=True'.\n",
    "# '''\n",
    "## Problem was tracked down to line 6010 which truncates early; it's the only problem line found\n",
    "# dataset_problems = RawDataset(\n",
    "#     dataset_problems_snomed_path, \n",
    "#     dataset_type=DatasetType.BARTS_HEALTH.value, \n",
    "#     coding_system=CodelistType.SNOMED.value\n",
    "# )\n"
   ]
  },
  {
   "cell_type": "code",
   "execution_count": null,
   "id": "1b65353f",
   "metadata": {},
   "outputs": [],
   "source": [
    "line_to_exclude = \"6010\"\n",
    "processed_file_name = (\n",
    "    AnyPath(\n",
    "        dataset_problems_snomed_path\n",
    "    ).stem +\n",
    "    f\"_without_line_{line_to_exclude}\" +\n",
    "    AnyPath(\n",
    "        dataset_problems_snomed_path\n",
    "    ).suffix\n",
    ")"
   ]
  },
  {
   "cell_type": "code",
   "execution_count": null,
   "id": "6485097d",
   "metadata": {},
   "outputs": [],
   "source": [
    "barts_2022_03_preprocessing_command = (\n",
    "    f\"\"\"sed '{line_to_exclude}d' \"\"\"\n",
    "    f\"\"\"\\\"{dataset_problems_snomed_path}\\\" > \"\"\"\n",
    "    f\"\"\"\\\"{PREPROCESSED_FILES_LOCATION}/{processed_file_name}\\\"\"\"\"\n",
    ")"
   ]
  },
  {
   "cell_type": "code",
   "execution_count": null,
   "id": "c1bb10cb",
   "metadata": {
    "scrolled": true
   },
   "outputs": [],
   "source": [
    "subprocess.run(\n",
    "    barts_2022_03_preprocessing_command,\n",
    "    shell=True,\n",
    "    check=True,\n",
    "    capture_output=True,\n",
    "    text=True\n",
    ")"
   ]
  },
  {
   "cell_type": "code",
   "execution_count": null,
   "id": "60a7c16a",
   "metadata": {},
   "outputs": [],
   "source": [
    "## In order to allow pipeline to run, we have created a file with no truncated line\n",
    "dataset_problems = RawDataset(\n",
    "    f\"{PREPROCESSED_FILES_LOCATION}/{processed_file_name}\",\n",
    "    dataset_type=DatasetType.BARTS_HEALTH.value, \n",
    "    coding_system=CodelistType.SNOMED.value\n",
    ")"
   ]
  },
  {
   "cell_type": "code",
   "execution_count": null,
   "id": "fcbd9b27",
   "metadata": {},
   "outputs": [],
   "source": [
    "## This line perhaps pertinent when using file with truncated line issue\n",
    "## Recasting not longer necessary with problem line removed\n",
    "## This kept:\n",
    "## 1. To preserve original pipeline\n",
    "## 2. to rename create 'code' column\n",
    "\n",
    "dataset_problems.data = dataset_problems.data.with_columns(\n",
    "    dataset_problems.data['conceptId']\n",
    "    .cast(pl.Int64)\n",
    "    .alias('code')\n",
    ")"
   ]
  },
  {
   "cell_type": "code",
   "execution_count": null,
   "id": "cdedfc29",
   "metadata": {},
   "outputs": [],
   "source": [
    "problems_map = {\n",
    "    \"PseudoNHSNumber\": \"nhs_number\",\n",
    "    \"code\": \"code\",\n",
    "    \"OnsetDate\": \"date\"\n",
    "}"
   ]
  },
  {
   "cell_type": "code",
   "execution_count": null,
   "id": "f566b953",
   "metadata": {},
   "outputs": [],
   "source": [
    "processed_dataset_problems = dataset_problems.process_dataset(\n",
    "    deduplication_options=deduplication_options,\n",
    "    column_maps=problems_map\n",
    ")"
   ]
  },
  {
   "cell_type": "code",
   "execution_count": null,
   "id": "45a99e24",
   "metadata": {},
   "outputs": [],
   "source": [
    "processed_dataset_problems.write_to_feather(\n",
    "    f\"{PROCESSED_DATASETS_BARTS_LOCATION}/march_2022/processed_data/dataset_SNOMED_problems.arrow\"\n",
    ")\n",
    "processed_dataset_problems.write_to_log(\n",
    "    f\"{PROCESSED_DATASETS_BARTS_LOCATION}/march_2022/processed_data/dataset_SNOMED_problems.txt\"\n",
    ")"
   ]
  },
  {
   "cell_type": "markdown",
   "id": "e854071f",
   "metadata": {},
   "source": [
    "We now remove the unrealistic data (i.e. event before birth, before 1st Jan 1910 or after \\[run date of script\\]) and save this into a cleaned_processed_data folder"
   ]
  },
  {
   "cell_type": "code",
   "execution_count": null,
   "id": "076cfbc3",
   "metadata": {},
   "outputs": [],
   "source": [
    "cleaned_dataset = processed_dataset_problems.remove_unrealistic_dates(date_start=date_start,\n",
    "                                                                             date_end=date_end,\n",
    "                                                                             before_born=True,\n",
    "                                                                             demographic_dataset=demographics)"
   ]
  },
  {
   "cell_type": "code",
   "execution_count": null,
   "id": "5e227a4f",
   "metadata": {},
   "outputs": [],
   "source": [
    "cleaned_dataset.write_to_feather(\n",
    "    f\"{PROCESSED_DATASETS_BARTS_LOCATION}/march_2022/clean_processed_data/dataset_SNOMED_problems.arrow\")\n",
    "cleaned_dataset.write_to_log(\n",
    "    f\"{PROCESSED_DATASETS_BARTS_LOCATION}/march_2022/clean_processed_data/dataset_SNOMED_problems.txt\")"
   ]
  },
  {
   "cell_type": "markdown",
   "id": "8fac0262",
   "metadata": {},
   "source": [
    "## Merge all the SNOMED datasets from March 2022 together\n",
    "\n",
    "First we load all the datasets from the files that we created earlier. We merged them in and deduplicate."
   ]
  },
  {
   "cell_type": "code",
   "execution_count": null,
   "id": "438f243a",
   "metadata": {},
   "outputs": [],
   "source": [
    "dataset_diagnosis = ProcessedDataset(path=f\"{PROCESSED_DATASETS_BARTS_LOCATION}/march_2022/clean_processed_data/dataset_SNOMED_diagnosis.arrow\", \n",
    "                                     dataset_type=DatasetType.BARTS_HEALTH.value, \n",
    "                                     coding_system=CodelistType.SNOMED.value, \n",
    "                                     log_path=f\"{PROCESSED_DATASETS_BARTS_LOCATION}/march_2022/clean_processed_data/dataset_SNOMED_diagnosis_log.txt\")"
   ]
  },
  {
   "cell_type": "code",
   "execution_count": null,
   "id": "8449a3bf",
   "metadata": {},
   "outputs": [],
   "source": [
    "dataset_problems = ProcessedDataset(path=f\"{PROCESSED_DATASETS_BARTS_LOCATION}/march_2022/clean_processed_data/dataset_SNOMED_problems.arrow\", \n",
    "                                    dataset_type=DatasetType.BARTS_HEALTH.value, \n",
    "                                    coding_system=CodelistType.SNOMED.value, \n",
    "                                    log_path=f\"{PROCESSED_DATASETS_BARTS_LOCATION}/march_2022/clean_processed_data/dataset_SNOMED_problems.txt\")"
   ]
  },
  {
   "cell_type": "code",
   "execution_count": null,
   "id": "fcf8ce54",
   "metadata": {},
   "outputs": [],
   "source": [
    "dataset_procedures = ProcessedDataset(path=f\"{PROCESSED_DATASETS_BARTS_LOCATION}/march_2022/clean_processed_data/dataset_SNOMED_procedures.arrow\", \n",
    "                                      dataset_type=DatasetType.BARTS_HEALTH.value, \n",
    "                                      coding_system=CodelistType.SNOMED.value, \n",
    "                                      log_path=f\"{PROCESSED_DATASETS_BARTS_LOCATION}/march_2022/clean_processed_data/dataset_SNOMED_procedures_log.txt\")\n"
   ]
  },
  {
   "cell_type": "code",
   "execution_count": null,
   "id": "1d62ba44",
   "metadata": {},
   "outputs": [],
   "source": [
    "dataset_diagnosis.merge_with_dataset(dataset_procedures)"
   ]
  },
  {
   "cell_type": "code",
   "execution_count": null,
   "id": "24696ab8",
   "metadata": {},
   "outputs": [],
   "source": [
    "dataset_diagnosis.merge_with_dataset(dataset_problems)"
   ]
  },
  {
   "cell_type": "code",
   "execution_count": null,
   "id": "845ab376",
   "metadata": {},
   "outputs": [],
   "source": [
    "# Now we deduplicate"
   ]
  },
  {
   "cell_type": "code",
   "execution_count": null,
   "id": "93cab005",
   "metadata": {},
   "outputs": [],
   "source": [
    "dedup = dataset_diagnosis.deduplicate()"
   ]
  },
  {
   "cell_type": "code",
   "execution_count": null,
   "id": "b363ccb5",
   "metadata": {},
   "outputs": [],
   "source": [
    "dedup.write_to_feather(\n",
    "    f\"{PROCESSED_DATASETS_BARTS_LOCATION}/march_2022/clean_processed_data/merged_SNOMED.arrow\")"
   ]
  },
  {
   "cell_type": "code",
   "execution_count": null,
   "id": "7502ddee",
   "metadata": {},
   "outputs": [],
   "source": [
    "# Add all the logs from the datasets to this final log and sort"
   ]
  },
  {
   "cell_type": "code",
   "execution_count": null,
   "id": "e8851eb9",
   "metadata": {},
   "outputs": [],
   "source": [
    "for l in dataset_problems.log:\n",
    "    dedup.log.append(l)\n",
    "    \n",
    "for l in dataset_procedures.log:\n",
    "    dedup.log.append(l)\n",
    "\n",
    "dedup.log.sort()\n",
    "dedup.write_to_log(\n",
    "    f\"{PROCESSED_DATASETS_BARTS_LOCATION}/march_2022/clean_processed_data/merged_SNOMED_log.txt\")"
   ]
  },
  {
   "cell_type": "markdown",
   "id": "2acfd24a",
   "metadata": {},
   "source": [
    "## 2nd cut of data - May 2023 Data\n",
    "\n",
    "In this first set of data we have 2 ICD file, 2 OPCS file and 3 SNOMED files that relate to diagosis, procedures and problems. We will combine the datasets with the same \"types\" of codes into one dataset."
   ]
  },
  {
   "cell_type": "code",
   "execution_count": null,
   "id": "08c64feb",
   "metadata": {},
   "outputs": [],
   "source": [
    "dataset_icd1_path = f\"{MAY_2023_INPUT_PATH}/GH_APC_Diagnosis_202305071650.ascii.redacted.tab\"\n",
    "dataset_icd2_path = f\"{MAY_2023_INPUT_PATH}/GH_OP_Diagnosis_202305071650.ascii.redacted.tab\"\n",
    "dataset_opcs1_path = f\"{MAY_2023_INPUT_PATH}/GH_APC_OPCS_202305071650.ascii.redacted.tab\"\n",
    "dataset_opcs2_path = f\"{MAY_2023_INPUT_PATH}/GH_OPA_OPCS_202305071651.ascii.redacted.tab\"\n",
    "dataset_diagnosis_snomed_path = f\"{MAY_2023_INPUT_PATH}/GH_PC_Diagnosis_202305071654.ascii.redacted_ConfirmedOnly.tab\"\n",
    "dataset_problems_snomed_path = f\"{MAY_2023_INPUT_PATH}/GH_PC_Problems_202305071654.ascii.redacted_ConfirmedOnly.tab\"\n",
    "dataset_procedures_snomed_path = f\"{MAY_2023_INPUT_PATH}/GH_PC_Procedures_202305071654.ascii.redacted.tab\""
   ]
  },
  {
   "cell_type": "code",
   "execution_count": null,
   "id": "8ba84836",
   "metadata": {},
   "outputs": [],
   "source": [
    "AnyPath(f\"{PROCESSED_DATASETS_BARTS_LOCATION}/may_2023/clean_processed_data\").mkdir(parents=True, exist_ok=True)\n",
    "AnyPath(f\"{PROCESSED_DATASETS_BARTS_LOCATION}/may_2023/processed_data\").mkdir(parents=True, exist_ok=True)"
   ]
  },
  {
   "cell_type": "markdown",
   "id": "07a45f7c",
   "metadata": {},
   "source": [
    "### ICD10 Codes\n",
    "\n",
    "We load both ICD datasets, clean and save them as feather files, and then merge them together, deduplicate this, and save again."
   ]
  },
  {
   "cell_type": "code",
   "execution_count": null,
   "id": "515570be",
   "metadata": {},
   "outputs": [],
   "source": [
    "dataset_icd1 = RawDataset(\n",
    "    path=dataset_icd1_path,\n",
    "    dataset_type=DatasetType.BARTS_HEALTH.value,\n",
    "    coding_system=CodelistType.ICD10.value\n",
    ")"
   ]
  },
  {
   "cell_type": "code",
   "execution_count": null,
   "id": "30f65d80",
   "metadata": {},
   "outputs": [],
   "source": [
    "col_mapping = {\n",
    "    \"PseudoNHS_2023_04_24\": \"nhs_number\",\n",
    "    \"ICD_Diagnosis_Cd\": \"code\",\n",
    "    \"ICD_Diag_Desc\": \"term\",\n",
    "    \"Activity_date\": \"date\"\n",
    "}"
   ]
  },
  {
   "cell_type": "code",
   "execution_count": null,
   "id": "8382a058",
   "metadata": {},
   "outputs": [],
   "source": [
    "processed_dataset_icd1 = dataset_icd1.process_dataset(\n",
    "    deduplication_options=deduplication_options,\n",
    "    column_maps=col_mapping\n",
    ")"
   ]
  },
  {
   "cell_type": "code",
   "execution_count": null,
   "id": "f86df91b",
   "metadata": {},
   "outputs": [],
   "source": [
    "processed_dataset_icd1.write_to_feather(\n",
    "    f\"{PROCESSED_DATASETS_BARTS_LOCATION}/may_2023/processed_data/apc_ICD.arrow\")\n",
    "processed_dataset_icd1.write_to_log(\n",
    "    f\"{PROCESSED_DATASETS_BARTS_LOCATION}/may_2023/processed_data/apc_ICD_log.txt\")"
   ]
  },
  {
   "cell_type": "code",
   "execution_count": null,
   "id": "c483e946",
   "metadata": {},
   "outputs": [],
   "source": [
    "dataset_icd2 = RawDataset(\n",
    "    path=dataset_icd2_path,\n",
    "    dataset_type=DatasetType.BARTS_HEALTH.value,\n",
    "    coding_system=CodelistType.ICD10.value\n",
    ")"
   ]
  },
  {
   "cell_type": "code",
   "execution_count": null,
   "id": "1635e3ca",
   "metadata": {},
   "outputs": [],
   "source": [
    "processed_dataset_icd2 = dataset_icd2.process_dataset(\n",
    "    deduplication_options=deduplication_options,\n",
    "    column_maps=col_mapping)"
   ]
  },
  {
   "cell_type": "code",
   "execution_count": null,
   "id": "2e81de0d",
   "metadata": {},
   "outputs": [],
   "source": [
    "processed_dataset_icd2.write_to_feather(\n",
    "    f\"{PROCESSED_DATASETS_BARTS_LOCATION}/may_2023/processed_data/op_ICD.arrow\")\n",
    "processed_dataset_icd2.write_to_log(\n",
    "    f\"{PROCESSED_DATASETS_BARTS_LOCATION}/may_2023/processed_data/op_ICD_log.txt\")"
   ]
  },
  {
   "cell_type": "markdown",
   "id": "9f0798bf",
   "metadata": {},
   "source": [
    "Merge the ICD dataset from May 2023 together"
   ]
  },
  {
   "cell_type": "code",
   "execution_count": null,
   "id": "4f0cb006",
   "metadata": {},
   "outputs": [],
   "source": [
    "processed_dataset_icd1.merge_with_dataset(processed_dataset_icd2)"
   ]
  },
  {
   "cell_type": "code",
   "execution_count": null,
   "id": "9c765380",
   "metadata": {},
   "outputs": [],
   "source": [
    "merged_icd = processed_dataset_icd1.deduplicate()"
   ]
  },
  {
   "cell_type": "code",
   "execution_count": null,
   "id": "b1f91170",
   "metadata": {},
   "outputs": [],
   "source": [
    "merged_icd.write_to_feather(f\"{PROCESSED_DATASETS_BARTS_LOCATION}/may_2023/processed_data/merged_ICD.arrow\")"
   ]
  },
  {
   "cell_type": "code",
   "execution_count": null,
   "id": "e6a29b38",
   "metadata": {},
   "outputs": [],
   "source": [
    "for log in processed_dataset_icd2.log:\n",
    "    merged_icd.log.append(log)\n",
    "\n",
    "merged_icd.log.sort()\n",
    "merged_icd.write_to_log(f\"{PROCESSED_DATASETS_BARTS_LOCATION}/may_2023/processed_data/merged_ICD_log.txt\")"
   ]
  },
  {
   "cell_type": "markdown",
   "id": "67b8e11e",
   "metadata": {},
   "source": [
    "We now remove the unrealistic data (i.e. event before birth, before 1st Jan 1910 or after \\[run date of script\\]) and save this into a cleaned_processed_data folder"
   ]
  },
  {
   "cell_type": "code",
   "execution_count": null,
   "id": "5b290d92",
   "metadata": {},
   "outputs": [],
   "source": [
    "cleaned_dataset = merged_icd.remove_unrealistic_dates(date_start=date_start, \n",
    "                                                      date_end=date_end,\n",
    "                                                      before_born=True,\n",
    "                                                      demographic_dataset=demographics)"
   ]
  },
  {
   "cell_type": "code",
   "execution_count": null,
   "id": "4e5999cc",
   "metadata": {},
   "outputs": [],
   "source": [
    "cleaned_dataset.write_to_feather(\n",
    "    f\"{PROCESSED_DATASETS_BARTS_LOCATION}/may_2023/clean_processed_data/merged_ICD.arrow\")\n",
    "cleaned_dataset.write_to_log(\n",
    "    f\"{PROCESSED_DATASETS_BARTS_LOCATION}/may_2023/clean_processed_data/merged_ICD_log.txt\")"
   ]
  },
  {
   "cell_type": "markdown",
   "id": "4d9f904c",
   "metadata": {},
   "source": [
    "### OPCS"
   ]
  },
  {
   "cell_type": "code",
   "execution_count": null,
   "id": "9bd1e4e7",
   "metadata": {},
   "outputs": [],
   "source": [
    "dataset_opcs1 = RawDataset(\n",
    "    path=dataset_opcs1_path,\n",
    "    dataset_type=DatasetType.BARTS_HEALTH.value,\n",
    "    coding_system=CodelistType.OPCS.value\n",
    ")"
   ]
  },
  {
   "cell_type": "code",
   "execution_count": null,
   "id": "eaa33a3c",
   "metadata": {},
   "outputs": [],
   "source": [
    "col_mapping = {\n",
    "    \"PseudoNHS_2023_04_24\": \"nhs_number\",\n",
    "    \"OPCS_Proc_Cd\": \"code\",\n",
    "    \"Proc_Desc\": \"term\",\n",
    "    \"Activity_date\": \"date\"\n",
    "}"
   ]
  },
  {
   "cell_type": "code",
   "execution_count": null,
   "id": "7fb61446",
   "metadata": {},
   "outputs": [],
   "source": [
    "processed_dataset_opcs1 = dataset_opcs1.process_dataset(\n",
    "    deduplication_options=deduplication_options,\n",
    "    column_maps=col_mapping\n",
    ")"
   ]
  },
  {
   "cell_type": "code",
   "execution_count": null,
   "id": "d09a16d1",
   "metadata": {},
   "outputs": [],
   "source": [
    "processed_dataset_opcs1.write_to_feather(\n",
    "    f\"{PROCESSED_DATASETS_BARTS_LOCATION}/may_2023/processed_data/apc_OPCS.arrow\")\n",
    "processed_dataset_opcs1.write_to_log(\n",
    "    f\"{PROCESSED_DATASETS_BARTS_LOCATION}/may_2023/processed_data/apc_OPCS_log.txt\")"
   ]
  },
  {
   "cell_type": "code",
   "execution_count": null,
   "id": "abc40e10",
   "metadata": {},
   "outputs": [],
   "source": [
    "dataset_opcs2 = RawDataset(\n",
    "    path=dataset_opcs2_path,\n",
    "    dataset_type=DatasetType.BARTS_HEALTH.value,\n",
    "    coding_system=CodelistType.OPCS.value\n",
    ")"
   ]
  },
  {
   "cell_type": "code",
   "execution_count": null,
   "id": "8266462c",
   "metadata": {},
   "outputs": [],
   "source": [
    "processed_dataset_opcs2 = dataset_opcs2.process_dataset(\n",
    "    deduplication_options=deduplication_options,\n",
    "    column_maps=col_mapping\n",
    ")"
   ]
  },
  {
   "cell_type": "code",
   "execution_count": null,
   "id": "b2863415",
   "metadata": {},
   "outputs": [],
   "source": [
    "processed_dataset_opcs2.write_to_feather(\n",
    "    f\"{PROCESSED_DATASETS_BARTS_LOCATION}/may_2023/processed_data/op_OPCS.arrow\")\n",
    "processed_dataset_opcs2.write_to_log(\n",
    "    f\"{PROCESSED_DATASETS_BARTS_LOCATION}/may_2023/processed_data/op_OPCS_log.txt\")"
   ]
  },
  {
   "cell_type": "markdown",
   "id": "e55cc32a",
   "metadata": {},
   "source": [
    "Merge the OPCS dataset from May 2023 together"
   ]
  },
  {
   "cell_type": "code",
   "execution_count": null,
   "id": "553f56f9",
   "metadata": {},
   "outputs": [],
   "source": [
    "processed_dataset_opcs1.merge_with_dataset(processed_dataset_opcs2)\n",
    "merged_opcs = processed_dataset_opcs1.deduplicate()\n",
    "merged_opcs.write_to_feather(f\"{PROCESSED_DATASETS_BARTS_LOCATION}/may_2023/processed_data/merged_OPCS.arrow\")"
   ]
  },
  {
   "cell_type": "code",
   "execution_count": null,
   "id": "c23f3828",
   "metadata": {},
   "outputs": [],
   "source": [
    "for log in processed_dataset_opcs2.log:\n",
    "    merged_opcs.log.append(log)\n",
    "\n",
    "merged_opcs.log.sort()\n",
    "merged_opcs.write_to_log(f\"{PROCESSED_DATASETS_BARTS_LOCATION}/may_2023/processed_data/merged_OPCS_log.txt\")"
   ]
  },
  {
   "cell_type": "markdown",
   "id": "9da5b147",
   "metadata": {},
   "source": [
    "We now remove the unrealistic data (i.e. event before birth, before 1st Jan 1910 or after \\[run date of script\\]) and save this into a cleaned_processed_data folder"
   ]
  },
  {
   "cell_type": "code",
   "execution_count": null,
   "id": "de4983dd",
   "metadata": {},
   "outputs": [],
   "source": [
    "cleaned_dataset = merged_opcs.remove_unrealistic_dates(date_start=date_start, \n",
    "                                                      date_end=date_end,\n",
    "                                                      before_born=True,\n",
    "                                                      demographic_dataset=demographics)\n",
    "cleaned_dataset.write_to_feather(\n",
    "    f\"{PROCESSED_DATASETS_BARTS_LOCATION}/may_2023/clean_processed_data/merged_OPCS.arrow\")\n",
    "cleaned_dataset.write_to_log(\n",
    "    f\"{PROCESSED_DATASETS_BARTS_LOCATION}/may_2023/clean_processed_data/merged_OPCS_log.txt\")"
   ]
  },
  {
   "cell_type": "markdown",
   "id": "41ff5493",
   "metadata": {},
   "source": [
    "### SNOMED\n",
    "\n",
    "### Diagnosis Snomed Dataset\n",
    "\n",
    "Here we loading the snomed data for diagnoses. For some reason, there are 2 codes out of 389,794 that are not SNOMED codes - they are `G51.0` and `G51.0         ` with whitespace. I have removed these codes for now."
   ]
  },
  {
   "cell_type": "code",
   "execution_count": null,
   "id": "ca0744c7",
   "metadata": {},
   "outputs": [],
   "source": [
    "dataset_diagnosis = RawDataset(\n",
    "    path=dataset_diagnosis_snomed_path,\n",
    "    dataset_type=DatasetType.BARTS_HEALTH.value,\n",
    "    coding_system=CodelistType.SNOMED.value\n",
    ")"
   ]
  },
  {
   "cell_type": "code",
   "execution_count": null,
   "id": "11bc3f66",
   "metadata": {},
   "outputs": [],
   "source": [
    "dataset_diagnosis.log.append(f\"{datetime.now()}: There are {dataset_diagnosis.data.shape[0]} rows\")"
   ]
  },
  {
   "cell_type": "code",
   "execution_count": null,
   "id": "4a4f808a",
   "metadata": {},
   "outputs": [],
   "source": [
    "dataset_diagnosis.data = dataset_diagnosis.data.filter(dataset_diagnosis.data['DiagCode'] != \"G51.0\")"
   ]
  },
  {
   "cell_type": "code",
   "execution_count": null,
   "id": "d1711dab",
   "metadata": {},
   "outputs": [],
   "source": [
    "dataset_diagnosis.data = dataset_diagnosis.data.filter(dataset_diagnosis.data['DiagCode'] != \"G51.0          \")"
   ]
  },
  {
   "cell_type": "code",
   "execution_count": null,
   "id": "1b5a3f7d",
   "metadata": {},
   "outputs": [],
   "source": [
    "dataset_diagnosis.log.append(f\"{datetime.now()}: After removing ICD codes (G51.0) {dataset_diagnosis.data.shape[0]} rows\")"
   ]
  },
  {
   "cell_type": "code",
   "execution_count": null,
   "id": "5b7de0e5",
   "metadata": {},
   "outputs": [],
   "source": [
    "dataset_diagnosis.data = dataset_diagnosis.data.with_columns(\n",
    "    dataset_diagnosis.data['DiagCode'].cast(pl.Int64).alias('code'))"
   ]
  },
  {
   "cell_type": "code",
   "execution_count": null,
   "id": "d0f77034",
   "metadata": {},
   "outputs": [],
   "source": [
    "col_maps_snomed = {\"code\": \"code\", \"Diagnosis\": \"term\", \"DiagDt\": \"date\", \"PseudoNHS_2023_04_24\": \"nhs_number\"}"
   ]
  },
  {
   "cell_type": "code",
   "execution_count": null,
   "id": "704d35bf",
   "metadata": {},
   "outputs": [],
   "source": [
    "processed_diagnosis = dataset_diagnosis.process_dataset(deduplication_options=deduplication_options,\n",
    "                                                        column_maps=col_maps_snomed)"
   ]
  },
  {
   "cell_type": "code",
   "execution_count": null,
   "id": "867acbbe",
   "metadata": {},
   "outputs": [],
   "source": [
    "processed_diagnosis.write_to_feather(\n",
    "    f\"{PROCESSED_DATASETS_BARTS_LOCATION}/may_2023/processed_data/dataset_SNOMED_diagnosis.arrow\")\n",
    "processed_diagnosis.write_to_log(\n",
    "    f\"{PROCESSED_DATASETS_BARTS_LOCATION}/may_2023/processed_data/dataset_SNOMED_diagnosis_log.txt\")"
   ]
  },
  {
   "cell_type": "markdown",
   "id": "41ff2a75",
   "metadata": {},
   "source": [
    "### Procedures\n",
    "\n",
    "Procedures tab file has a number of different issues. First of all there are a mixtue of OPCS codes and SNOMED codes used. Secondaly the SNOMED codes have a white space at the end of each SNOMED code. E.g. `1489351015          `, this means it is being read in as a string. We need to do some pre-processing to account for this.\n"
   ]
  },
  {
   "cell_type": "code",
   "execution_count": null,
   "id": "b8e97acf",
   "metadata": {},
   "outputs": [],
   "source": [
    "preprocessed_data = pl.read_csv(dataset_procedures_snomed_path,\n",
    "                                infer_schema_length=0,\n",
    "                                null_values=['', ' ', 'NULL', \"NA\"],\n",
    "                                separator=\"\\t\"\n",
    "                               )"
   ]
  },
  {
   "cell_type": "code",
   "execution_count": null,
   "id": "b017064c",
   "metadata": {},
   "outputs": [],
   "source": [
    "log = [f'{datetime.now()}: Load dataset from {dataset_diagnosis_snomed_path} for preprocessing. This step was needed to deal with some unexpected NAs, empty strings at the end of codes and ICD10 codes. There are {preprocessed_data.shape[0]} rows in original dataset. ']"
   ]
  },
  {
   "cell_type": "markdown",
   "id": "0e3b637b",
   "metadata": {},
   "source": [
    "First we remove all the extra whitespace."
   ]
  },
  {
   "cell_type": "code",
   "execution_count": null,
   "id": "be15cf0a",
   "metadata": {},
   "outputs": [],
   "source": [
    "preprocessed_data = preprocessed_data.with_columns(preprocessed_data['ProcCD'].str.replace(r\"\\s+$\", \"\"))"
   ]
  },
  {
   "cell_type": "code",
   "execution_count": null,
   "id": "6674c872",
   "metadata": {},
   "outputs": [],
   "source": [
    "log.append(f\"{datetime.now()}: Whitespace from the procedure code removed\")"
   ]
  },
  {
   "cell_type": "markdown",
   "id": "1627516e",
   "metadata": {},
   "source": [
    "Split into different datasets based on type of code from ProcType column."
   ]
  },
  {
   "cell_type": "code",
   "execution_count": null,
   "id": "ed2ff0c9",
   "metadata": {},
   "outputs": [],
   "source": [
    "opcs_procedures_preprocessed = preprocessed_data.filter(pl.col('ProcType') == \"OPCS4\")"
   ]
  },
  {
   "cell_type": "code",
   "execution_count": null,
   "id": "ad3675ba",
   "metadata": {},
   "outputs": [],
   "source": [
    "opcs_log = log.copy()\n",
    "opcs_log.append(f\"{datetime.now()}: OPCS dataset separated from SNOMED dataset. This results in {opcs_procedures_preprocessed.shape[0]} rows\")"
   ]
  },
  {
   "cell_type": "code",
   "execution_count": null,
   "id": "61ec13c6",
   "metadata": {},
   "outputs": [],
   "source": [
    "snomed_procedures_preprocessed = preprocessed_data.filter(pl.col('ProcType') == \"SNOMED CT\")"
   ]
  },
  {
   "cell_type": "code",
   "execution_count": null,
   "id": "2a5a0639",
   "metadata": {},
   "outputs": [],
   "source": [
    "snomed_log = log.copy()\n",
    "snomed_log.append(f\"{datetime.now()}: SNOMED dataset separated from OPCS dataset. This results in {snomed_procedures_preprocessed.shape[0]} rows\")"
   ]
  },
  {
   "cell_type": "markdown",
   "id": "173bd25b",
   "metadata": {},
   "source": [
    "Now we deal with each dataset separately."
   ]
  },
  {
   "cell_type": "code",
   "execution_count": null,
   "id": "7cc62df2",
   "metadata": {},
   "outputs": [],
   "source": [
    "snomed_file_to_save_path = f\"{PREPROCESSED_FILES_LOCATION}/snomed_procedures.csv\"\n",
    "snomed_logs_to_save_path = f\"{PREPROCESSED_FILES_LOCATION}/snomed_procedures_log.txt\"\n",
    "opcs_file_to_save_path = f\"{PREPROCESSED_FILES_LOCATION}/opcs_procedures.csv\"\n",
    "opcs_logs_to_save_path = f\"{PREPROCESSED_FILES_LOCATION}/opcs_procedures_log.txt\""
   ]
  },
  {
   "cell_type": "code",
   "execution_count": null,
   "id": "e811ea98",
   "metadata": {},
   "outputs": [],
   "source": [
    "snomed_procedures_preprocessed.write_csv(snomed_file_to_save_path)\n",
    "snomed_log.append(f\"{datetime.now()}: Save dataset after preprocessing into {snomed_file_to_save_path}\")\n",
    "with open(snomed_logs_to_save_path, \"w\") as f:\n",
    "    for line in snomed_log:\n",
    "        f.write(line + \"\\n\")"
   ]
  },
  {
   "cell_type": "code",
   "execution_count": null,
   "id": "20cd8483",
   "metadata": {},
   "outputs": [],
   "source": [
    "opcs_procedures_preprocessed.write_csv(opcs_file_to_save_path)\n",
    "opcs_log.append(f\"{datetime.now()}: Save dataset after preprocessing into {opcs_file_to_save_path}\")\n",
    "with open(opcs_logs_to_save_path, \"w\") as f:\n",
    "    for line in opcs_log:\n",
    "        f.write(line + \"\\n\")"
   ]
  },
  {
   "cell_type": "markdown",
   "id": "deb7e0f9",
   "metadata": {},
   "source": [
    "### Processing\n",
    "\n",
    "We have now done all the pre-processing. We can load the data from file and process it.\n",
    "\n",
    "We start with SNOMED."
   ]
  },
  {
   "cell_type": "code",
   "execution_count": null,
   "id": "bae81b68",
   "metadata": {},
   "outputs": [],
   "source": [
    "dataset_procedures = RawDataset(\n",
    "    path=snomed_file_to_save_path,\n",
    "    dataset_type=DatasetType.BARTS_HEALTH.value,\n",
    "    coding_system=CodelistType.SNOMED.value\n",
    ")"
   ]
  },
  {
   "cell_type": "code",
   "execution_count": null,
   "id": "d9fbdace",
   "metadata": {},
   "outputs": [],
   "source": [
    "col_maps_snomed = {\"ProcCD\": \"code\", \"ProcDetails\": \"term\", \"ProcDt\": \"date\", \"PseudoNHS_2023_04_24\": \"nhs_number\"}"
   ]
  },
  {
   "cell_type": "code",
   "execution_count": null,
   "id": "aecf0d7d",
   "metadata": {},
   "outputs": [],
   "source": [
    "processed_procedures = dataset_procedures.process_dataset(\n",
    "    deduplication_options=deduplication_options,\n",
    "    column_maps=col_maps_snomed\n",
    ")"
   ]
  },
  {
   "cell_type": "code",
   "execution_count": null,
   "id": "126d9c67",
   "metadata": {},
   "outputs": [],
   "source": [
    "processed_procedures.write_to_feather(\n",
    "    f\"{PROCESSED_DATASETS_BARTS_LOCATION}/may_2023/processed_data/dataset_SNOMED_procedures.arrow\")\n",
    "processed_procedures.write_to_log(\n",
    "    f\"{PROCESSED_DATASETS_BARTS_LOCATION}/may_2023/processed_data/dataset_SNOMED_procedures_log.txt\")"
   ]
  },
  {
   "cell_type": "markdown",
   "id": "476aa805",
   "metadata": {},
   "source": [
    "And now OPCS. Remember this is the OPCS dataset that has come from SNOMED."
   ]
  },
  {
   "cell_type": "code",
   "execution_count": null,
   "id": "23fe8310",
   "metadata": {},
   "outputs": [],
   "source": [
    "dataset_procedures_opcs = RawDataset(\n",
    "    path=opcs_file_to_save_path,\n",
    "    dataset_type=DatasetType.BARTS_HEALTH.value,\n",
    "    coding_system=CodelistType.OPCS.value\n",
    ")"
   ]
  },
  {
   "cell_type": "code",
   "execution_count": null,
   "id": "7db445c9",
   "metadata": {},
   "outputs": [],
   "source": [
    "processed_procedures_opcs = dataset_procedures_opcs.process_dataset(\n",
    "    deduplication_options=deduplication_options,\n",
    "    column_maps=col_maps_snomed\n",
    ")"
   ]
  },
  {
   "cell_type": "code",
   "execution_count": null,
   "id": "012c2809",
   "metadata": {},
   "outputs": [],
   "source": [
    "processed_procedures_opcs.write_to_feather(\n",
    "    f\"{PROCESSED_DATASETS_BARTS_LOCATION}/may_2023/processed_data/dataset_OPCS_procedures.arrow\")\n",
    "processed_procedures_opcs.write_to_log(\n",
    "    f\"{PROCESSED_DATASETS_BARTS_LOCATION}/may_2023/processed_data/dataset_OPCS_procedures_log.txt\")"
   ]
  },
  {
   "cell_type": "markdown",
   "id": "97ad317f",
   "metadata": {},
   "source": [
    "We now remove the unrealistic data (i.e. event before birth, before 1st Jan 1910 or after \\[run date of script\\]) and save this into a cleaned_processed_data folder"
   ]
  },
  {
   "cell_type": "code",
   "execution_count": null,
   "id": "491bf1ff",
   "metadata": {},
   "outputs": [],
   "source": [
    "cleaned_dataset = processed_procedures_opcs.remove_unrealistic_dates(date_start=date_start, \n",
    "                                                      date_end=date_end,\n",
    "                                                      before_born=True,\n",
    "                                                      demographic_dataset=demographics)\n",
    "cleaned_dataset.write_to_feather(\n",
    "    f\"{PROCESSED_DATASETS_BARTS_LOCATION}/may_2023/clean_processed_data/dataset_OPCS_procedures.arrow\")\n",
    "cleaned_dataset.write_to_log(\n",
    "    f\"{PROCESSED_DATASETS_BARTS_LOCATION}/may_2023/clean_processed_data/dataset_OPCS_procedures_log.txt\")"
   ]
  },
  {
   "cell_type": "markdown",
   "id": "3f55e214",
   "metadata": {},
   "source": [
    "### Problems\n",
    "\n",
    "Again, the SNOMED codes have a white space at the end of each SNOMED code. E.g. 1489351015          , this means it is being read in as a string. We need to do some pre-processing to account for this.\n",
    "\n",
    "### Pre-processing\n"
   ]
  },
  {
   "cell_type": "code",
   "execution_count": null,
   "id": "4120897b",
   "metadata": {},
   "outputs": [],
   "source": [
    "preprocessed_data = pl.read_csv(dataset_problems_snomed_path,\n",
    "                                infer_schema_length=0,\n",
    "                                null_values=['', ' ', 'NULL', \"NA\"],\n",
    "                                separator=\"\\t\"\n",
    "                               )"
   ]
  },
  {
   "cell_type": "code",
   "execution_count": null,
   "id": "5ba4d4a4",
   "metadata": {},
   "outputs": [],
   "source": [
    "logs = [f'{datetime.now()}: Load dataset from {dataset_problems_snomed_path} for preprocessing. This step was needed to deal with some unexpected NAs, empty strings at the end of codes and ICD10 codes. There are {preprocessed_data.shape[0]} rows in original dataset. ']"
   ]
  },
  {
   "cell_type": "code",
   "execution_count": null,
   "id": "2ca5fbd2",
   "metadata": {},
   "outputs": [],
   "source": [
    "preprocessed_data = preprocessed_data.with_columns(preprocessed_data['ProbCode'].str.replace(r\"\\s+$\", \"\"))\n",
    "logs.append(f\"{datetime.now()}: Whitespace from the ProbCode code removed\")"
   ]
  },
  {
   "cell_type": "code",
   "execution_count": null,
   "id": "d5768f6b",
   "metadata": {},
   "outputs": [],
   "source": [
    "snomed_file_to_save_path = f\"{PREPROCESSED_FILES_LOCATION}/snomed_problems.csv\"\n",
    "snomed_logs_to_save_path = f\"{PREPROCESSED_FILES_LOCATION}/snomed_problems_log.txt\""
   ]
  },
  {
   "cell_type": "code",
   "execution_count": null,
   "id": "6935c5a1",
   "metadata": {},
   "outputs": [],
   "source": [
    "preprocessed_data.write_csv(snomed_file_to_save_path)"
   ]
  },
  {
   "cell_type": "code",
   "execution_count": null,
   "id": "3ab689bf",
   "metadata": {},
   "outputs": [],
   "source": [
    "logs.append(f\"{datetime.now()}: Save dataset after preprocessing into {snomed_file_to_save_path}\")\n",
    "with open(snomed_logs_to_save_path, \"w\") as f:\n",
    "    for line in snomed_log:\n",
    "        f.write(line + \"\\n\")"
   ]
  },
  {
   "cell_type": "markdown",
   "id": "dadf287f",
   "metadata": {},
   "source": [
    "### Processsing\n",
    "\n",
    "Now we load this saved file and process as normal."
   ]
  },
  {
   "cell_type": "code",
   "execution_count": null,
   "id": "d01cafdf",
   "metadata": {},
   "outputs": [],
   "source": [
    "dataset_problems = RawDataset(\n",
    "    path=snomed_file_to_save_path,\n",
    "    dataset_type=DatasetType.BARTS_HEALTH.value,\n",
    "    coding_system=CodelistType.SNOMED.value\n",
    ")"
   ]
  },
  {
   "cell_type": "code",
   "execution_count": null,
   "id": "2d2c642c",
   "metadata": {},
   "outputs": [],
   "source": [
    "dataset_problems.data = dataset_problems.data.with_columns(\n",
    "    dataset_problems.data['ProbCode']\n",
    "    .cast(pl.Int64)\n",
    "    .alias('code')\n",
    ")"
   ]
  },
  {
   "cell_type": "code",
   "execution_count": null,
   "id": "688c9f04",
   "metadata": {},
   "outputs": [],
   "source": [
    "col_maps_snomed = {\n",
    "    \"code\": \"code\",\n",
    "    \"Problem\": \"term\",\n",
    "    \"OnsetDate\": \"date\",\n",
    "    \"PseudoNHS_2023_04_24\": \"nhs_number\"\n",
    "}"
   ]
  },
  {
   "cell_type": "code",
   "execution_count": null,
   "id": "b4fef5ff",
   "metadata": {},
   "outputs": [],
   "source": [
    "processed_problems = dataset_problems.process_dataset(\n",
    "    deduplication_options=deduplication_options,\n",
    "    column_maps=col_maps_snomed\n",
    ")"
   ]
  },
  {
   "cell_type": "code",
   "execution_count": null,
   "id": "64ec52ec",
   "metadata": {},
   "outputs": [],
   "source": [
    "processed_problems.write_to_feather(\n",
    "    f\"{PROCESSED_DATASETS_BARTS_LOCATION}/may_2023/processed_data/dataset_SNOMED_problems.arrow\")\n",
    "processed_problems.write_to_log(\n",
    "    f\"{PROCESSED_DATASETS_BARTS_LOCATION}/may_2023/processed_data/dataset_SNOMED_problems_log.txt\")"
   ]
  },
  {
   "cell_type": "markdown",
   "id": "82002f96",
   "metadata": {},
   "source": [
    "### Merge all snomed data together for May 2023\n",
    "\n",
    "We merge the datasets together and then deduplicate the data. We also add the logs together.\n",
    "\n",
    "Again we are loading from file just in case the cells got run out of order."
   ]
  },
  {
   "cell_type": "code",
   "execution_count": null,
   "id": "10257efa",
   "metadata": {},
   "outputs": [],
   "source": [
    "processed_diagnosis = ProcessedDataset(\n",
    "    path=f\"{PROCESSED_DATASETS_BARTS_LOCATION}/may_2023/processed_data/dataset_SNOMED_diagnosis.arrow\",\n",
    "    dataset_type=DatasetType.BARTS_HEALTH.value,\n",
    "    coding_system=CodelistType.SNOMED.value,\n",
    "    log_path=f\"{PROCESSED_DATASETS_BARTS_LOCATION}/may_2023/processed_data/dataset_SNOMED_diagnosis_log.txt\")"
   ]
  },
  {
   "cell_type": "code",
   "execution_count": null,
   "id": "fdab8b8e",
   "metadata": {},
   "outputs": [],
   "source": [
    "processed_procedures = ProcessedDataset(\n",
    "    path=f\"{PROCESSED_DATASETS_BARTS_LOCATION}/may_2023/processed_data/dataset_SNOMED_procedures.arrow\",\n",
    "    dataset_type=DatasetType.BARTS_HEALTH.value,\n",
    "    coding_system=CodelistType.SNOMED.value,\n",
    "    log_path=f\"{PROCESSED_DATASETS_BARTS_LOCATION}/may_2023/processed_data/dataset_SNOMED_procedures_log.txt\")"
   ]
  },
  {
   "cell_type": "code",
   "execution_count": null,
   "id": "542b271f",
   "metadata": {},
   "outputs": [],
   "source": [
    "processed_problems = ProcessedDataset(\n",
    "    path=f\"{PROCESSED_DATASETS_BARTS_LOCATION}/may_2023/processed_data/dataset_SNOMED_problems.arrow\",\n",
    "    dataset_type=DatasetType.BARTS_HEALTH.value,\n",
    "    coding_system=CodelistType.SNOMED.value,\n",
    "    log_path=f\"{PROCESSED_DATASETS_BARTS_LOCATION}/may_2023/processed_data/dataset_SNOMED_problems_log.txt\")"
   ]
  },
  {
   "cell_type": "markdown",
   "id": "fac77643",
   "metadata": {},
   "source": [
    "We merge them together."
   ]
  },
  {
   "cell_type": "code",
   "execution_count": null,
   "id": "9248538c",
   "metadata": {},
   "outputs": [],
   "source": [
    "processed_problems.merge_with_dataset(processed_procedures)"
   ]
  },
  {
   "cell_type": "code",
   "execution_count": null,
   "id": "8ba811d6",
   "metadata": {},
   "outputs": [],
   "source": [
    "processed_problems.merge_with_dataset(processed_diagnosis)"
   ]
  },
  {
   "cell_type": "code",
   "execution_count": null,
   "id": "c2f91a11",
   "metadata": {},
   "outputs": [],
   "source": [
    "dedup = processed_problems.deduplicate()\n",
    "dedup.write_to_feather(f\"{PROCESSED_DATASETS_BARTS_LOCATION}/may_2023/processed_data/merged_SNOMED.arrow\")"
   ]
  },
  {
   "cell_type": "code",
   "execution_count": null,
   "id": "68f21520",
   "metadata": {},
   "outputs": [],
   "source": [
    "for l in processed_procedures.log:\n",
    "    dedup.log.append(l)\n",
    "        \n",
    "for l in processed_diagnosis.log:\n",
    "    dedup.log.append(l)\n",
    "\n",
    "dedup.log.sort()\n",
    "dedup.write_to_log(f\"{PROCESSED_DATASETS_BARTS_LOCATION}/may_2023/processed_data/merged_SNOMED_log.txt\")\n"
   ]
  },
  {
   "cell_type": "markdown",
   "id": "db3f0878",
   "metadata": {},
   "source": [
    "We now remove the unrealistic data (i.e. event before birth, before 1st Jan 1910 or after \\[run date of script\\]) and save this into a cleaned_processed_data folder"
   ]
  },
  {
   "cell_type": "code",
   "execution_count": null,
   "id": "2e20d4bd",
   "metadata": {},
   "outputs": [],
   "source": [
    "cleaned_dataset = dedup.remove_unrealistic_dates(date_start=date_start, \n",
    "                                                      date_end=date_end,\n",
    "                                                      before_born=True,\n",
    "                                                      demographic_dataset=demographics)\n",
    "cleaned_dataset.write_to_feather(\n",
    "    f\"{PROCESSED_DATASETS_BARTS_LOCATION}/may_2023/clean_processed_data/merged_SNOMED.arrow\")\n",
    "cleaned_dataset.write_to_log(\n",
    "    f\"{PROCESSED_DATASETS_BARTS_LOCATION}/may_2023/clean_processed_data/merged_SNOMED_log.txt\")"
   ]
  },
  {
   "cell_type": "markdown",
   "id": "097fc771",
   "metadata": {},
   "source": [
    "## 3rd cut of data - Dec 2023 Data\n",
    "\n",
    "In this 3rd set of data we have 2 ICD file, 2 OPCS file and 1 SNOMED file that relate to diagosis, procedures and problems. We will combine the datasets with the same \"types\" of codes into one dataset."
   ]
  },
  {
   "cell_type": "code",
   "execution_count": null,
   "id": "bf4d17d4",
   "metadata": {},
   "outputs": [],
   "source": [
    "dataset_icd1_path = f\"{DEC_2023_INPUT_PATH}/GH_APC_Diagnosis__20231211.ascii.redacted.tab\"\n",
    "dataset_icd2_path = f\"{DEC_2023_INPUT_PATH}/GH_OP_Diagnosis__20231211.ascii.redacted.tab\"\n",
    "dataset_opcs1_path = f\"{DEC_2023_INPUT_PATH}/GH_APC_OPCS__20231211.ascii.redacted.tab\"\n",
    "dataset_opcs2_path = f\"{DEC_2023_INPUT_PATH}/GH_OPA_OPCS__20231211.ascii.redacted.tab\"\n",
    "dataset_snomed_path = f\"{DEC_2023_INPUT_PATH}/GH_PC_Diagnosis_Problems_Procedures_mappedConceptIDs_ConfirmedOnly.csv\""
   ]
  },
  {
   "cell_type": "code",
   "execution_count": null,
   "id": "41ee0632",
   "metadata": {},
   "outputs": [],
   "source": [
    "AnyPath(f\"{PROCESSED_DATASETS_BARTS_LOCATION}/dec_2023/processed_data\").mkdir(parents=True, exist_ok=True)\n",
    "AnyPath(f\"{PROCESSED_DATASETS_BARTS_LOCATION}/dec_2023/clean_processed_data\").mkdir(parents=True, exist_ok=True)"
   ]
  },
  {
   "cell_type": "markdown",
   "id": "c1ba8006",
   "metadata": {},
   "source": [
    "### ICD10"
   ]
  },
  {
   "cell_type": "code",
   "execution_count": null,
   "id": "51b6340b",
   "metadata": {},
   "outputs": [],
   "source": [
    "dataset_icd1 = RawDataset(\n",
    "    path=dataset_icd1_path,\n",
    "    dataset_type=DatasetType.BARTS_HEALTH.value,\n",
    "    coding_system=CodelistType.ICD10.value\n",
    ")"
   ]
  },
  {
   "cell_type": "code",
   "execution_count": null,
   "id": "2e6d0554",
   "metadata": {},
   "outputs": [],
   "source": [
    "icd_col_map = {\n",
    "    \"PseudoNHS_2023_04_24\": \"nhs_number\",\n",
    "    \"ICD_Diagnosis_Cd\": \"code\",\n",
    "    \"ICD_Diag_Desc\": \"term\",\n",
    "    \"Activity_date\": \"date\"\n",
    "}"
   ]
  },
  {
   "cell_type": "code",
   "execution_count": null,
   "id": "bc776467",
   "metadata": {},
   "outputs": [],
   "source": [
    "processed_icd_1 = dataset_icd1.process_dataset(\n",
    "    deduplication_options=deduplication_options,\n",
    "    column_maps=icd_col_map\n",
    ")"
   ]
  },
  {
   "cell_type": "code",
   "execution_count": null,
   "id": "31d0da48",
   "metadata": {},
   "outputs": [],
   "source": [
    "processed_icd_1.write_to_feather(\n",
    "    f\"{PROCESSED_DATASETS_BARTS_LOCATION}/dec_2023/processed_data/APC_ICD_10.arrow\")"
   ]
  },
  {
   "cell_type": "code",
   "execution_count": null,
   "id": "756f47d0",
   "metadata": {},
   "outputs": [],
   "source": [
    "processed_icd_1.write_to_log(\n",
    "    f\"{PROCESSED_DATASETS_BARTS_LOCATION}/dec_2023/processed_data/APC_ICD_10_log.txt\")"
   ]
  },
  {
   "cell_type": "code",
   "execution_count": null,
   "id": "6acc90ea",
   "metadata": {},
   "outputs": [],
   "source": [
    "dataset_icd2 = RawDataset(\n",
    "    path=dataset_icd2_path,\n",
    "    dataset_type=DatasetType.BARTS_HEALTH.value,\n",
    "    coding_system=CodelistType.ICD10.value\n",
    ")"
   ]
  },
  {
   "cell_type": "code",
   "execution_count": null,
   "id": "85819374",
   "metadata": {},
   "outputs": [],
   "source": [
    "icd_col_map = {\n",
    "    \"PseudoNHS_2023_11_08\": \"nhs_number\",\n",
    "    \"ICD_Diagnosis_Cd\": \"code\",\n",
    "    \"ICD_Diag_Desc\": \"term\",\n",
    "    \"Activity_date\": \"date\"\n",
    "}"
   ]
  },
  {
   "cell_type": "code",
   "execution_count": null,
   "id": "62d772a2",
   "metadata": {},
   "outputs": [],
   "source": [
    "processed_icd_2 = dataset_icd2.process_dataset(\n",
    "    deduplication_options=deduplication_options,\n",
    "    column_maps=icd_col_map\n",
    ")"
   ]
  },
  {
   "cell_type": "code",
   "execution_count": null,
   "id": "963b3567",
   "metadata": {},
   "outputs": [],
   "source": [
    "processed_icd_2.write_to_feather(\n",
    "    f\"{PROCESSED_DATASETS_BARTS_LOCATION}/dec_2023/processed_data/OP_ICD_10.arrow\")\n",
    "processed_icd_2.write_to_log(\n",
    "    f\"{PROCESSED_DATASETS_BARTS_LOCATION}/dec_2023/processed_data/OP_ICD_10_log.txt\")"
   ]
  },
  {
   "cell_type": "code",
   "execution_count": null,
   "id": "aef01614",
   "metadata": {},
   "outputs": [],
   "source": [
    "processed_icd_1.merge_with_dataset(processed_icd_2)\n",
    "merged_icd = processed_icd_1.deduplicate()\n",
    "merged_icd.write_to_feather(f\"{PROCESSED_DATASETS_BARTS_LOCATION}/dec_2023/processed_data/merged_ICD.arrow\")\n",
    "\n",
    "for log in processed_icd_2.log:\n",
    "    merged_icd.log.append(log)\n",
    "\n",
    "merged_icd.log.sort()\n",
    "merged_icd.write_to_log(f\"{PROCESSED_DATASETS_BARTS_LOCATION}/dec_2023/processed_data/merged_ICD_log.txt\")"
   ]
  },
  {
   "cell_type": "markdown",
   "id": "38b4d9b9",
   "metadata": {},
   "source": [
    "We now remove the unrealistic data (i.e. event before birth, before 1st Jan 1910 or after \\[run date of script\\]) and save this into a cleaned_processed_data folder"
   ]
  },
  {
   "cell_type": "code",
   "execution_count": null,
   "id": "a24d4e2e",
   "metadata": {},
   "outputs": [],
   "source": [
    "cleaned_dataset = merged_icd.remove_unrealistic_dates(date_start=date_start, \n",
    "                                                      date_end=date_end,\n",
    "                                                      before_born=True,\n",
    "                                                      demographic_dataset=demographics)\n",
    "cleaned_dataset.write_to_feather(\n",
    "    f\"{PROCESSED_DATASETS_BARTS_LOCATION}/dec_2023/clean_processed_data/merged_ICD.arrow\")\n",
    "cleaned_dataset.write_to_log(\n",
    "    f\"{PROCESSED_DATASETS_BARTS_LOCATION}/dec_2023/clean_processed_data/merged_ICD_log.txt\")"
   ]
  },
  {
   "cell_type": "markdown",
   "id": "840f703d",
   "metadata": {},
   "source": [
    "### OPCS"
   ]
  },
  {
   "cell_type": "code",
   "execution_count": null,
   "id": "059dadda",
   "metadata": {},
   "outputs": [],
   "source": [
    "opcs_1 = RawDataset(path=dataset_opcs1_path, dataset_type=DatasetType.BARTS_HEALTH.value, coding_system=CodelistType.OPCS.value)"
   ]
  },
  {
   "cell_type": "code",
   "execution_count": null,
   "id": "8ba1184a",
   "metadata": {},
   "outputs": [],
   "source": [
    "col_map = {\n",
    "    \"PseudoNHS_2023_11_08\": \"nhs_number\",\n",
    "    \"OPCS_Proc_Cd\": \"code\",\n",
    "    \"OPCS_Proc_Dt\": \"date\"\n",
    "}"
   ]
  },
  {
   "cell_type": "code",
   "execution_count": null,
   "id": "03c6f512",
   "metadata": {},
   "outputs": [],
   "source": [
    "processed_opcs1 = opcs_1.process_dataset(deduplication_options=deduplication_options, column_maps=col_map)"
   ]
  },
  {
   "cell_type": "code",
   "execution_count": null,
   "id": "c69211d0",
   "metadata": {},
   "outputs": [],
   "source": [
    "processed_opcs1.write_to_feather(f\"{PROCESSED_DATASETS_BARTS_LOCATION}/dec_2023/processed_data/APC_OPCS.arrow\")\n",
    "processed_opcs1.write_to_log(f\"{PROCESSED_DATASETS_BARTS_LOCATION}/dec_2023/processed_data/APC_OPCS_log.txt\")"
   ]
  },
  {
   "cell_type": "code",
   "execution_count": null,
   "id": "bae456e8",
   "metadata": {},
   "outputs": [],
   "source": [
    "opcs_2 = RawDataset(path=dataset_opcs2_path, dataset_type=DatasetType.BARTS_HEALTH.value, coding_system=CodelistType.OPCS.value)"
   ]
  },
  {
   "cell_type": "code",
   "execution_count": null,
   "id": "c9d2b541",
   "metadata": {},
   "outputs": [],
   "source": [
    "processed_opcs2 = opcs_2.process_dataset(deduplication_options=deduplication_options, column_maps=col_map)"
   ]
  },
  {
   "cell_type": "code",
   "execution_count": null,
   "id": "b3003d27",
   "metadata": {},
   "outputs": [],
   "source": [
    "processed_opcs2.write_to_feather(f\"{PROCESSED_DATASETS_BARTS_LOCATION}/dec_2023/processed_data/OP_OPCS.arrow\")\n",
    "processed_opcs2.write_to_log(f\"{PROCESSED_DATASETS_BARTS_LOCATION}/dec_2023/processed_data/OP_OPCS_log.txt\")"
   ]
  },
  {
   "cell_type": "markdown",
   "id": "ff440b39",
   "metadata": {},
   "source": [
    "Merged"
   ]
  },
  {
   "cell_type": "code",
   "execution_count": null,
   "id": "0a3115ca",
   "metadata": {},
   "outputs": [],
   "source": [
    "processed_opcs1.merge_with_dataset(processed_opcs2)\n",
    "merged_opcs = processed_opcs1.deduplicate()\n",
    "merged_opcs.write_to_feather(f\"{PROCESSED_DATASETS_BARTS_LOCATION}/dec_2023/processed_data/merged_OPCS.arrow\")\n",
    "\n",
    "for log in processed_opcs2.log:\n",
    "    merged_opcs.log.append(log)\n",
    "\n",
    "merged_opcs.log.sort()\n",
    "merged_opcs.write_to_log(f\"{PROCESSED_DATASETS_BARTS_LOCATION}/dec_2023/processed_data/merged_OPCS_log.txt\")"
   ]
  },
  {
   "cell_type": "markdown",
   "id": "805b83ba",
   "metadata": {},
   "source": [
    "We now remove the unrealistic data (i.e. event before birth, before 1st Jan 1910 or after \\[run date of script\\]) and save this into a cleaned_processed_data folder"
   ]
  },
  {
   "cell_type": "code",
   "execution_count": null,
   "id": "5319c8e4",
   "metadata": {},
   "outputs": [],
   "source": [
    "cleaned_dataset = merged_opcs.remove_unrealistic_dates(date_start=date_start, \n",
    "                                                      date_end=date_end,\n",
    "                                                      before_born=True,\n",
    "                                                      demographic_dataset=demographics)\n",
    "cleaned_dataset.write_to_feather(\n",
    "    f\"{PROCESSED_DATASETS_BARTS_LOCATION}/dec_2023/clean_processed_data/merged_OPCS.arrow\")\n",
    "cleaned_dataset.write_to_log(\n",
    "    f\"{PROCESSED_DATASETS_BARTS_LOCATION}/dec_2023/clean_processed_data/merged_OPCS_log.txt\")"
   ]
  },
  {
   "cell_type": "markdown",
   "id": "f76f8b7a",
   "metadata": {},
   "source": [
    "### SNOMED\n",
    "\n",
    "This dataset is slightly different as it has already been merged together and saved on the TRE. I do not have the original files. SOme of the SNOMED codes have been saved in the CSV with scientific notation (i.e row 17728 has a SNOMED code 6.92851E+14. For now I have dropped these. I have dropped the `SNOMED_descriptionID` column here as this seems to be where many of the errors with scientific notation come in and since we don't use this anyway."
   ]
  },
  {
   "cell_type": "code",
   "execution_count": null,
   "id": "f64e897b",
   "metadata": {},
   "outputs": [],
   "source": [
    "snomed_data = RawDataset(path=dataset_snomed_path, dataset_type=DatasetType.BARTS_HEALTH.value, coding_system=CodelistType.SNOMED.value)"
   ]
  },
  {
   "cell_type": "code",
   "execution_count": null,
   "id": "a8bca51f",
   "metadata": {},
   "outputs": [],
   "source": [
    "col_map = {\n",
    "    \"PseudoNHS_2023_11_08\": \"nhs_number\",\n",
    "    \"SNOMED_conceptID_mapped\": \"code\",\n",
    "    \"date\": \"date\",\n",
    "    \"term\": \"term\"\n",
    "}"
   ]
  },
  {
   "cell_type": "code",
   "execution_count": null,
   "id": "7ec5ee39",
   "metadata": {},
   "outputs": [],
   "source": [
    "processed_snomed = snomed_data.process_dataset(deduplication_options=deduplication_options, column_maps=col_map)"
   ]
  },
  {
   "cell_type": "code",
   "execution_count": null,
   "id": "e0bf330c",
   "metadata": {},
   "outputs": [],
   "source": [
    "processed_snomed.write_to_feather(\n",
    "    f\"{PROCESSED_DATASETS_BARTS_LOCATION}/dec_2023/processed_data/dataset_SNOMED.arrow\")\n",
    "processed_snomed.write_to_log(\n",
    "    f\"{PROCESSED_DATASETS_BARTS_LOCATION}/dec_2023/processed_data/dataset_SNOMED_log.txt\")"
   ]
  },
  {
   "cell_type": "markdown",
   "id": "13478bd7",
   "metadata": {},
   "source": [
    "We now remove the unrealistic data (i.e. event before birth, before 1st Jan 1910 or after \\[run date of script\\]) and save this into a cleaned_processed_data folder"
   ]
  },
  {
   "cell_type": "code",
   "execution_count": null,
   "id": "2d5d43f9",
   "metadata": {},
   "outputs": [],
   "source": [
    "cleaned_dataset = processed_snomed.remove_unrealistic_dates(date_start=date_start, \n",
    "                                                      date_end=date_end,\n",
    "                                                      before_born=True,\n",
    "                                                      demographic_dataset=demographics)\n",
    "cleaned_dataset.write_to_feather(\n",
    "    f\"{PROCESSED_DATASETS_BARTS_LOCATION}/dec_2023/clean_processed_data/merged_SNOMED.arrow\")\n",
    "cleaned_dataset.write_to_log(\n",
    "    f\"{PROCESSED_DATASETS_BARTS_LOCATION}/dec_2023/clean_processed_data/merged_SNOMED_log.txt\")"
   ]
  },
  {
   "cell_type": "markdown",
   "id": "e1dc1581",
   "metadata": {},
   "source": [
    "###### 2024_12 cut start"
   ]
  },
  {
   "cell_type": "markdown",
   "id": "828c6333",
   "metadata": {},
   "source": [
    "## 4th cut of data - September 2024 Data\n",
    "\n",
    "Suitable files were released from quarantine following redacting of identifying data by DvH in APril 2025\n",
    "\n",
    "Files:\n",
    "\n",
    "```\n",
    "        \"RDE_MSDS_Diagnosis.ascii.redacted.tab\",\n",
    "        \"RDE_PC_DIAGNOSIS.ascii.redacted.tab\",\n",
    "        \"RDE_OP_DIAGNOSIS.ascii.redacted.tab\",\n",
    "        \"RDE_PC_PROBLEMS.ascii.redacted.tab\",\n",
    "        \"RDE_PC_PROCEDURES.ascii.redacted.tab\",\n",
    "        \"RDE_OPA_OPCS.ascii.redacted.tab\",\n",
    "        \"RDE_APC_OPCS.ascii.redacted.tab\", \n",
    "        \"RDE_APC_DIAGNOSIS.ascii.redacted.tab\", \n",
    "        \"RDE_ALL_PROCEDURES.ascii.redacted.tab\",  \n",
    " ```\n",
    "\n",
    "Here we use a slightly different approach than previous cuts, this is because the file formats have changed slightly.  Therefore, we extract all data, deduplicate them and then segregate them by codeset.  We then can import into these into this pipeline's usual per codeset frames."
   ]
  },
  {
   "cell_type": "code",
   "execution_count": null,
   "id": "646d70ee",
   "metadata": {},
   "outputs": [],
   "source": [
    "files = {\n",
    "    file.split(\".\", 1)[0]:\n",
    "    f\"{INPUT_LOCATION}/2024_09_ResearchDataset/\" \n",
    "    + file \n",
    "    for file in [\n",
    "        \"RDE_MSDS_Diagnosis.ascii.redacted.tab\",\n",
    "        \"RDE_PC_DIAGNOSIS.ascii.redacted.tab\",\n",
    "        \"RDE_OP_DIAGNOSIS.ascii.redacted.tab\",\n",
    "        \"RDE_PC_PROBLEMS.ascii.redacted.tab\",\n",
    "        \"RDE_PC_PROCEDURES.ascii.redacted.tab\",\n",
    "        \"RDE_OPA_OPCS.ascii.redacted.tab\",\n",
    "        \"RDE_APC_OPCS.ascii.redacted.tab\", \n",
    "        \"RDE_APC_DIAGNOSIS.ascii.redacted.tab\", \n",
    "        \"RDE_ALL_PROCEDURES.ascii.redacted.tab\",  \n",
    "    ]\n",
    "}"
   ]
  },
  {
   "cell_type": "code",
   "execution_count": null,
   "id": "a5a4bb9c",
   "metadata": {},
   "outputs": [],
   "source": [
    "provenance_enum = pl.Enum(files.keys())"
   ]
  },
  {
   "cell_type": "code",
   "execution_count": null,
   "id": "04b99e90",
   "metadata": {},
   "outputs": [],
   "source": [
    "codesets_enum = pl.Enum(CodelistType)"
   ]
  },
  {
   "cell_type": "code",
   "execution_count": null,
   "id": "766af4a2",
   "metadata": {},
   "outputs": [],
   "source": [
    "HASH_COLUMN = (\n",
    "    pl.struct(\n",
    "        [\n",
    "            pl.col(\"pseudo_nhs_number\"), \n",
    "            pl.col(\"date\"),\n",
    "            pl.col(\"codeset\"),\n",
    "            pl.col(\"original_code\"),\n",
    "            pl.col(\"original_term\"),\n",
    "        ]\n",
    "    ).hash()\n",
    "    .alias(\"hash\")\n",
    ")"
   ]
  },
  {
   "cell_type": "code",
   "execution_count": null,
   "id": "c3787188",
   "metadata": {},
   "outputs": [],
   "source": [
    "TARGET_OUTPUT_COLUMNS = [\n",
    "    pl.col(\"pseudo_nhs_number\"), \n",
    "    pl.col(\"date\"),\n",
    "    pl.col(\"codeset\"),\n",
    "    pl.col(\"original_code\"),\n",
    "    pl.col(\"original_term\"),\n",
    "    pl.col(\"provenance\"),\n",
    "]"
   ]
  },
  {
   "cell_type": "code",
   "execution_count": null,
   "id": "4ed7585c",
   "metadata": {},
   "outputs": [],
   "source": [
    "TARGET_OUTPUT_COLUMNS_WITH_HASH = TARGET_OUTPUT_COLUMNS + [pl.col(\"hash\")]"
   ]
  },
  {
   "cell_type": "code",
   "execution_count": null,
   "id": "be05c5d6",
   "metadata": {},
   "outputs": [],
   "source": [
    "OUTPUT_DATAFRAMES = {}"
   ]
  },
  {
   "cell_type": "markdown",
   "id": "890bb09c",
   "metadata": {},
   "source": [
    "### 1. RDE_MSDS_Diagnosis\n",
    "\n",
    "```\n",
    "Rows: 1\n",
    "Columns: 8\n",
    "$ PseudoNHS_2024-07-10 <str> 'XXXXXXXXXXXXXXXXXXXXXXXXXXXXXXXXXXXXXXXXXXXXXXXXXXXXXXXXXXXXXXXX'\n",
    "$ DiagScheme           <str> '06'\n",
    "$ Diagnosis            <str> '10151000132103'\n",
    "$ DiagDate             <str> '00/00/0000 00:00'\n",
    "$ LocalFetalID         <str> None\n",
    "$ FetalOrder           <str> None\n",
    "$ SnomedCD             <str> '10151000132103'\n",
    "$ DiagDesc             <str> 'Viral fever'\n",
    "```"
   ]
  },
  {
   "cell_type": "code",
   "execution_count": null,
   "id": "e5ce68f1",
   "metadata": {},
   "outputs": [],
   "source": [
    "OUTPUT_DATAFRAMES['rde_msds_diagnosis'] = (\n",
    "    pl.scan_csv(\n",
    "        files[\"RDE_MSDS_Diagnosis\"],\n",
    "        separator=\"\\t\",\n",
    "        infer_schema=False,\n",
    "    )\n",
    "    .select(\n",
    "        pl.col(\"PseudoNHS_2024-07-10\").alias(\"pseudo_nhs_number\"),\n",
    "        pl.col(\"DiagDate\").str.to_date(format=\"%d/%m/%Y %H:%M\").alias(\"date\"),\n",
    "        pl.lit(\"SNOMED\").cast(codesets_enum).alias(\"codeset\"),\n",
    "        pl.col(\"Diagnosis\").alias(\"original_code\"),  # SNOMED codes, can be cast to .cast(pl.Int64) succesfully.\n",
    "        pl.col(\"DiagDesc\").alias(\"original_term\"),  # Description of diagnosis\n",
    "        pl.lit(\"RDE_MSDS_Diagnosis\").cast(provenance_enum).alias(\"provenance\")\n",
    "#         pl.col(\"DiagScheme\"),  # always \"6\"\n",
    "#         pl.col(\"LocalFetalID\"),  # null throughout\n",
    "#         pl.col(\"FetalOrder\"),  # null throughout\n",
    "#         pl.col(\"SnomedCD\"),  # Duplicate of Diagnosis. verified with .filter(pl.col(\"Diagnosis\") != pl.col(\"SnomedCD\")): SNOMED codes, can be cast to .cast(pl.Int64) succesfully.\n",
    "\n",
    "    )\n",
    "    .with_columns(\n",
    "        HASH_COLUMN       \n",
    "    )\n",
    "    .unique(\"hash\")\n",
    "    .select(\n",
    "        TARGET_OUTPUT_COLUMNS_WITH_HASH\n",
    "    )\n",
    "#     .collect()\n",
    ")\n",
    "# rde_msds_diagnosis #.write_csv(\"rde_msds_diagnosis.csv\")"
   ]
  },
  {
   "cell_type": "markdown",
   "id": "c575d85e",
   "metadata": {},
   "source": [
    "### 2. RDE_PC_DIAGNOSIS\n",
    "\n",
    "#### RDE_PC_DIAGNOSIS does not have codes, we could consider recovering these from a lookup table\n",
    "\n",
    "```\n",
    "Rows: 1\n",
    "Columns: 10\n",
    "$ PseudoNHS_2024-07-10 <str> 'XXXXXXXXXXXXXXXXXXXXXXXXXXXXXXXXXXXXXXXXXXXXXXXXXXXXXXXXXXXXXXXX'\n",
    "$ Diagnosis            <str> 'Positional vertigo'\n",
    "$ Confirmation         <str> 'Differential'\n",
    "$ DiagDt               <str> '00/00/0000 00:00'\n",
    "$ Classification       <str> '.'\n",
    "$ ClinService          <str> 'Non-Specified'\n",
    "$ DiagType             <str> None\n",
    "$ DiagCode             <str> None\n",
    "$ Vocab                <str> None\n",
    "$ Axis                 <str> None\n",
    "```"
   ]
  },
  {
   "cell_type": "code",
   "execution_count": null,
   "id": "1b75a160",
   "metadata": {},
   "outputs": [],
   "source": [
    "OUTPUT_DATAFRAMES[\"rde_pc_diagnosis\"] = (\n",
    "    pl.scan_csv(\n",
    "        files[\"RDE_PC_DIAGNOSIS\"],\n",
    "        separator=\"\\t\",\n",
    "        infer_schema=False,\n",
    "    )\n",
    "    .filter(\n",
    "        pl.col(\"Confirmation\").eq(\"Confirmed\"),\n",
    "#         pl.col(\"DiagCode\").is_not_null(),   \n",
    "    )\n",
    "    .select(\n",
    "        pl.col(\"PseudoNHS_2024-07-10\").alias(\"pseudo_nhs_number\"),\n",
    "        pl.col(\"DiagDt\").str.to_date(format=\"%d/%m/%Y %H:%M\").alias(\"date\"),\n",
    "        pl.lit(\"SNOMED\").cast(codesets_enum).alias(\"codeset\"),\n",
    "        pl.col(\"DiagCode\").alias(\"original_code\"),\n",
    "        pl.col(\"Diagnosis\").alias(\"original_term\"),\n",
    "        pl.lit(\"RDE_PC_DIAGNOSIS\").cast(provenance_enum).alias(\"provenance\")\n",
    "\n",
    "#         pl.col('Confirmation'),\n",
    "#         pl.col('Classification'),\n",
    "#         pl.col('ClinService'),\n",
    "#         pl.col('DiagType'),\n",
    "#         pl.col('Vocab'),\n",
    "#         pl.col('Axis'),\n",
    "    )\n",
    "    .with_columns(\n",
    "        HASH_COLUMN       \n",
    "    )\n",
    "    .unique(\"hash\")\n",
    "    .select(\n",
    "        TARGET_OUTPUT_COLUMNS_WITH_HASH\n",
    "    )\n",
    "#     .collect()\n",
    ")"
   ]
  },
  {
   "cell_type": "markdown",
   "id": "1f286b08",
   "metadata": {},
   "source": [
    "### 3. RDE_OP_DIAGNOSIS\n",
    "```\n",
    "Rows: 1\n",
    "Columns: 7\n",
    "$ PseudoNHS_2024-07-10 <str> 'XXXXXXXXXXXXXXXXXXXXXXXXXXXXXXXXXXXXXXXXXXXXXXXXXXXXXXXXXXXXXXXX'\n",
    "$ ICD_Diagnosis_Num    <str> '1'\n",
    "$ ICD_Diagnosis_Cd     <str> 'Z349'\n",
    "$ ICD_Diag_Desc        <str> '\"Supervision of normal pregnancy, unspecified\"'\n",
    "$ NHS_Number           <str> '00/00/0000 00:00'\n",
    "$ Activity_date        <str> '00/00/0000'\n",
    "$ CDS_Activity_Dt      <str> None\n",
    "```\n"
   ]
  },
  {
   "cell_type": "code",
   "execution_count": null,
   "id": "b465521a",
   "metadata": {},
   "outputs": [],
   "source": [
    "OUTPUT_DATAFRAMES[\"rde_op_diagnosis\"] = (\n",
    "    pl.scan_csv(\n",
    "        files[\"RDE_OP_DIAGNOSIS\"],\n",
    "        separator=\"\\t\",\n",
    "        infer_schema=False,\n",
    "    )\n",
    "    .select(\n",
    "        pl.col(\"PseudoNHS_2024-07-10\").alias(\"pseudo_nhs_number\"),\n",
    "        pl.col(\"Activity_date\").str.to_date(format=\"%d/%m/%Y\").alias(\"date\"),\n",
    "        pl.lit(\"ICD10\").cast(codesets_enum).alias(\"codeset\"),\n",
    "        pl.col(\"ICD_Diagnosis_Cd\").alias(\"original_code\"),\n",
    "        pl.col(\"ICD_Diag_Desc\").alias(\"original_term\"),\n",
    "        pl.lit(\"RDE_OP_DIAGNOSIS\").cast(provenance_enum).alias(\"provenance\"),\n",
    "    )\n",
    "    .with_columns(\n",
    "        HASH_COLUMN       \n",
    "    )\n",
    "    .unique(\"hash\")\n",
    "    .select(\n",
    "        TARGET_OUTPUT_COLUMNS_WITH_HASH\n",
    "    )\n",
    "#     .collect()\n",
    ")\n",
    "# rde_op_diagnosis"
   ]
  },
  {
   "cell_type": "markdown",
   "id": "2cafc4a8",
   "metadata": {},
   "source": [
    "### 4. RDE_PC_PROBLEMS\n",
    "\n",
    "Some file corruption is present (in the original file), e.g. Confirmation includes things like `\" severe with psychotic feature\"`\n",
    "\n",
    "These can be overcome by selecting only:\n",
    "1. `Confirmation` == `Confirmed`\n",
    "2. `Vocab` == `SNOMED CT`\n",
    "\n",
    "\n",
    "`Problem` is always the same as `Annot_Disp`\n",
    "\n",
    "`ProbCode` can have trailing spaces.\n",
    "\n",
    "```\n",
    "Rows: 1\n",
    "Columns: 13\n",
    "$ PseudoNHS_2024-07-10 <str> 'XXXXXXXXXXXXXXXXXXXXXXXXXXXXXXXXXXXXXXXXXXXXXXXXXXXXXXXXXXXXXXXX'\n",
    "$ Problem              <str> 'SARS-CoV'\n",
    "$ Annot_Disp           <str> 'SARS-CoV'\n",
    "$ Confirmation         <str> 'Confirmed'\n",
    "$ Classification       <str> 'Infection Risk'\n",
    "$ OnsetDate            <str> '2020-12-15 00:00'\n",
    "$ StatusDate           <str> '2020-12-16 00:00'\n",
    "$ Stat_LifeCycle       <str> 'Active'\n",
    "$ LifeCycleCancReson   <str> None\n",
    "$ Vocab                <str> 'SNOMED CT'\n",
    "$ Axis                 <str> 'Organism'\n",
    "$ SecDesc              <str> None\n",
    "$ ProbCode             <str> '2537007017          '\n",
    "```\n"
   ]
  },
  {
   "cell_type": "code",
   "execution_count": null,
   "id": "52aa9229",
   "metadata": {
    "scrolled": true
   },
   "outputs": [],
   "source": [
    "OUTPUT_DATAFRAMES[\"rde_pc_problems\"] = (\n",
    "    pl.scan_csv(\n",
    "        files[\"RDE_PC_PROBLEMS\"],\n",
    "        separator=\"\\t\",\n",
    "        infer_schema=False,\n",
    "    )\n",
    "    .filter(\n",
    "        pl.col(\"Confirmation\").eq(\"Confirmed\"),\n",
    "        pl.col(\"Vocab\").eq(\"SNOMED CT\")\n",
    "    )\n",
    "    .select(\n",
    "        pl.col(\"PseudoNHS_2024-07-10\").alias(\"pseudo_nhs_number\"),\n",
    "        pl.col(\"OnsetDate\").str.to_date(format=\"%Y-%m-%d %H:%M\").alias(\"date\"), # note hypens separating date elements\n",
    "        pl.lit(\"SNOMED\").cast(codesets_enum).alias(\"codeset\"),\n",
    "        pl.col(\"ProbCode\").str.strip_chars().alias(\"original_code\"),\n",
    "        pl.col(\"Problem\").alias(\"original_term\"),\n",
    "        pl.lit(\"RDE_PC_PROBLEMS\").cast(provenance_enum).alias(\"provenance\"),\n",
    "    )\n",
    "    .with_columns(\n",
    "        HASH_COLUMN       \n",
    "    )\n",
    "    .unique(\"hash\")\n",
    "    .select(\n",
    "        TARGET_OUTPUT_COLUMNS_WITH_HASH\n",
    "    )\n",
    "#     .collect()\n",
    ")\n",
    "# rde_pc_problems"
   ]
  },
  {
   "cell_type": "markdown",
   "id": "f94a498a",
   "metadata": {},
   "source": [
    "### 5. RDE_PC_PROCEDURES\n",
    "\n",
    "Issues:\n",
    "\n",
    "1. 10,685 SNOMED CT codes are in scientific notation \"at source\" (i.e. unrecoverable)\n",
    "2. Some `ProcType` (i.e. `original_code`) have spaces, e.g. `\"1761631000000114    \"`\n",
    "3. Some `EncType` have spaces, e.g. `\"Inpatient                                    \"`\n",
    "3. `Comment` is always `null`\n",
    "\n",
    "\n",
    "```\n",
    "Rows: 1\n",
    "Columns: 11\n",
    "$ PseudoNHS_2024-07-10 <str> 'XXXXXXXXXXXXXXXXXXXXXXXXXXXXXXXXXXXXXXXXXXXXXXXXXXXXXXXXXXXXXXXX'\n",
    "$ AdmissionDT          <str> '00/00/0000 00:00'\n",
    "$ DischargeDT          <str> '00/00/0000 00:00'\n",
    "$ TreatmentFunc        <str> 'Interventional Cardiology'\n",
    "$ Specialty            <str> 'Cardiology'\n",
    "$ ProcDt               <str> '00/00/0000 00:00'\n",
    "$ ProcDetails          <str> 'Cardiac rehabilitation - phase 1'\n",
    "$ ProcCD               <str> '1489351015'\n",
    "$ ProcType             <str> 'SNOMED CT'\n",
    "$ EncType              <str> 'Inpatient                                    '\n",
    "$ Comment              <str> None\n",
    "```\n"
   ]
  },
  {
   "cell_type": "code",
   "execution_count": null,
   "id": "190d8d66",
   "metadata": {},
   "outputs": [],
   "source": [
    "OUTPUT_DATAFRAMES['rde_pc_procedures'] = (\n",
    "    pl.scan_csv(\n",
    "        [\n",
    "            files[\"RDE_PC_PROCEDURES\"],\n",
    "        ],\n",
    "        separator=\"\\t\"\n",
    "    )\n",
    "    .select(\n",
    "        pl.col(\"PseudoNHS_2024-07-10\").alias(\"pseudo_nhs_number\"),\n",
    "        pl.col(\"ProcType\")\n",
    "        .str.replace(\"SNOMED CT\", \"SNOMED\")\n",
    "        .str.replace(\"OPCS4\", \"OPCS\")\n",
    "        .cast(codesets_enum)\n",
    "        .alias(\"codeset\"),\n",
    "#         pl.col(\"AdmissionDT\"),\n",
    "#         pl.col(\"DischargeDT\"),\n",
    "#         pl.col(\"TreatmentFunc\"),\n",
    "#         pl.col(\"Specialty\"),\n",
    "        pl.col(\"ProcDt\").str.to_date(format=\"%d/%m/%Y %H:%M\").alias(\"date\"),\n",
    "        pl.col(\"ProcCD\").alias(\"original_code\"),\n",
    "        pl.col(\"ProcDetails\").alias(\"original_term\"),\n",
    "        pl.lit(\"RDE_PC_PROCEDURES\").cast(provenance_enum).alias(\"provenance\")\n",
    "    )\n",
    "    .with_columns(\n",
    "        HASH_COLUMN       \n",
    "    )\n",
    "    .unique(\"hash\")\n",
    "    .select(\n",
    "        TARGET_OUTPUT_COLUMNS_WITH_HASH\n",
    "    )\n",
    "#     .collect()\n",
    ")\n",
    "\n",
    "# rde_pc_procedures"
   ]
  },
  {
   "cell_type": "markdown",
   "id": "d6a719d1",
   "metadata": {},
   "source": [
    "### 6. RDE_OPA_OPCS\n",
    "\n",
    "```\n",
    "Rows: 1\n",
    "Columns: 7\n",
    "$ PseudoNHS_2024-07-10 <str> 'XXXXXXXXXXXXXXXXXXXXXXXXXXXXXXXXXXXXXXXXXXXXXXXXXXXXXXXXXXXXXXXX'\n",
    "$ OPCS_Proc_Num        <i64> 1\n",
    "$ OPCS_Proc_Scheme_Cd  <i64> 2\n",
    "$ OPCS_Proc_Cd         <str> 'D152'\n",
    "$ Proc_Desc            <str> 'Suction clearance of middle ear'\n",
    "$ OPCS_Proc_Dt         <str> '00/00/0000 00:00'\n",
    "$ CDS_Activity_Dt      <str> '00/00/0000'\n",
    "```\n"
   ]
  },
  {
   "cell_type": "code",
   "execution_count": null,
   "id": "b94adb41",
   "metadata": {},
   "outputs": [],
   "source": [
    "OUTPUT_DATAFRAMES[\"rde_opa_opcs\"] = (\n",
    "    pl.scan_csv(\n",
    "        [\n",
    "            files[\"RDE_OPA_OPCS\"],\n",
    "        ],\n",
    "        separator=\"\\t\"\n",
    "    )\n",
    "    .select(\n",
    "        pl.col(\"PseudoNHS_2024-07-10\").alias(\"pseudo_nhs_number\"),\n",
    "        pl.col(\"OPCS_Proc_Dt\").str.to_date(format=\"%d/%m/%Y %H:%M\").alias(\"date\"),\n",
    "        pl.lit(\"OPCS\").cast(codesets_enum).alias(\"codeset\"),\n",
    "        pl.col(\"OPCS_Proc_Cd\").alias(\"original_code\"),\n",
    "        pl.col(\"Proc_Desc\").alias(\"original_term\"),\n",
    "        pl.lit(\"RDE_OPA_OPCS\").cast(provenance_enum).alias(\"provenance\")\n",
    "    )\n",
    "    .with_columns(\n",
    "        HASH_COLUMN       \n",
    "    )\n",
    "    .unique(\"hash\")\n",
    "    .select(\n",
    "        TARGET_OUTPUT_COLUMNS_WITH_HASH\n",
    "    )\n",
    "#     .collect()\n",
    ")\n",
    "\n",
    "# rde_opa_opcs"
   ]
  },
  {
   "cell_type": "markdown",
   "id": "9451208f",
   "metadata": {},
   "source": [
    "### 7. RDE_APC_OPCS\n",
    "\n",
    "```\n",
    "Rows: 1\n",
    "Columns: 8\n",
    "$ PseudoNHS_2024-07-10 <str> 'XXXXXXXXXXXXXXXXXXXXXXXXXXXXXXXXXXXXXXXXXXXXXXXXXXXXXXXXXXXXXXXX'\n",
    "$ OPCS_Proc_Num        <i64> 3\n",
    "$ OPCS_Proc_Scheme_Cd  <i64> 2\n",
    "$ OPCS_Proc_Cd         <str> 'Z943'\n",
    "$ Proc_Desc            <str> 'Left sided operation'\n",
    "$ OPCS_Proc_Dt         <str> '00/00/0000 00:00'\n",
    "$ Activity_date        <str> '00/00/0000 00:00'\n",
    "$ CDS_Activity_Dt      <str> '00/00/0000 00:00'\n",
    "```\n"
   ]
  },
  {
   "cell_type": "code",
   "execution_count": null,
   "id": "6d3e1c38",
   "metadata": {},
   "outputs": [],
   "source": [
    "OUTPUT_DATAFRAMES[\"rde_apc_opcs\"] = (\n",
    "    pl.scan_csv(\n",
    "        [\n",
    "            files[\"RDE_APC_OPCS\"],\n",
    "        ],\n",
    "        separator=\"\\t\"\n",
    "    )\n",
    "    .select(\n",
    "        pl.col(\"PseudoNHS_2024-07-10\").alias(\"pseudo_nhs_number\"),\n",
    "        pl.col(\"OPCS_Proc_Dt\").str.to_date(format=\"%d/%m/%Y %H:%M\").alias(\"date\"),\n",
    "        pl.lit(\"OPCS\").cast(codesets_enum).alias(\"codeset\"),\n",
    "        pl.col(\"OPCS_Proc_Cd\").alias(\"original_code\"),\n",
    "        pl.col(\"Proc_Desc\").alias(\"original_term\"),\n",
    "        pl.lit(\"RDE_APC_OPCS\").cast(provenance_enum).alias(\"provenance\")\n",
    "    )\n",
    "    .with_columns(\n",
    "        HASH_COLUMN       \n",
    "    )\n",
    "    .unique(\"hash\")\n",
    "    .select(\n",
    "        TARGET_OUTPUT_COLUMNS_WITH_HASH\n",
    "    )\n",
    "#     .collect()\n",
    ")\n",
    "\n",
    "# rde_opa_opcs"
   ]
  },
  {
   "cell_type": "markdown",
   "id": "113b235e",
   "metadata": {},
   "source": [
    "### 8. RDE_APC_DIAGNOSIS\n",
    "\n",
    "```\n",
    "Rows: 1\n",
    "Columns: 6\n",
    "$ PseudoNHS_2024-07-10 <str> 'XXXXXXXXXXXXXXXXXXXXXXXXXXXXXXXXXXXXXXXXXXXXXXXXXXXXXXXXXXXXXXXX'\n",
    "$ ICD_Diagnosis_Num    <i64> 1\n",
    "$ ICD_Diagnosis_Cd     <str> 'D561'\n",
    "$ ICD_Diag_Desc        <str> 'Beta thalassaemia'\n",
    "$ Activity_date        <str> '00/00/0000 00:00'\n",
    "$ CDS_Activity_Dt      <str> '00/00/0000 00:00'\n",
    "```\n"
   ]
  },
  {
   "cell_type": "code",
   "execution_count": null,
   "id": "0d09b9f1",
   "metadata": {},
   "outputs": [],
   "source": [
    "OUTPUT_DATAFRAMES[\"rde_apc_diagnosis\"] = (\n",
    "    pl.scan_csv(\n",
    "        [\n",
    "            files[\"RDE_APC_DIAGNOSIS\"],\n",
    "        ],\n",
    "        separator=\"\\t\"\n",
    "    )\n",
    "    .select(\n",
    "        pl.col(\"PseudoNHS_2024-07-10\").alias(\"pseudo_nhs_number\"),\n",
    "        pl.col(\"Activity_date\").str.to_date(format=\"%d/%m/%Y %H:%M\").alias(\"date\"),\n",
    "        pl.lit(\"ICD10\").cast(codesets_enum).alias(\"codeset\"),\n",
    "        pl.col(\"ICD_Diagnosis_Cd\").alias(\"original_code\"),\n",
    "        pl.col(\"ICD_Diag_Desc\").alias(\"original_term\"),\n",
    "        pl.lit(\"RDE_APC_DIAGNOSIS\").cast(provenance_enum).alias(\"provenance\")\n",
    "    )\n",
    "    .with_columns(\n",
    "        HASH_COLUMN       \n",
    "    )\n",
    "    .unique(\"hash\")\n",
    "    .select(\n",
    "        TARGET_OUTPUT_COLUMNS_WITH_HASH\n",
    "    )\n",
    "#     .collect()\n",
    ")\n",
    "\n",
    "# rde_apc_diagnosis"
   ]
  },
  {
   "cell_type": "markdown",
   "id": "06c868b8",
   "metadata": {},
   "source": [
    "### 9. RDE_ALL_PROCEDURES\n",
    "\n",
    "Issues:\n",
    "\n",
    "1. In the original file, some fields have a triple quote at the start and end (i.e. `\"\"\"<some_text>\"\"\"`) which completely throws the polars parser.  There are two options:\n",
    "    1. preprocess the file to remove all double-quotes\n",
    "    2. parse with `quote_char` set to `None` and correct fields post-hoc. **We chose this option.**\n",
    "2. One date is in a different invalid format (`\"1899-12-30 00:00\"`, i.e. separated by hyphens not forward slashes).  We reject those 2 rows.\n",
    "    \n",
    "\n",
    "\n",
    "```\n",
    "Rows: 1\n",
    "Columns: 6\n",
    "$ PseudoNHS_2024-07-10 <str> 'XXXXXXXXXXXXXXXXXXXXXXXXXXXXXXXXXXXXXXXXXXXXXXXXXXXXXXXXXXXXXXXX'\n",
    "$ Procedure_Code       <str> '1489351015'\n",
    "$ Catalogue            <str> 'SNOMED'\n",
    "$ Code_text            <str> 'Cardiac rehabilitation - phase 1'\n",
    "$ Procedure_note       <str> 'Cardiac rehabilitation - phase 1'\n",
    "$ Procedure_date       <str> '00/00/0000 00:00'\n",
    "```\n"
   ]
  },
  {
   "cell_type": "code",
   "execution_count": null,
   "id": "a6f83cc1",
   "metadata": {
    "scrolled": true
   },
   "outputs": [],
   "source": [
    "OUTPUT_DATAFRAMES[\"rde_all_procedures\"] = (\n",
    "    pl.scan_csv(\n",
    "        [\n",
    "            files[\"RDE_ALL_PROCEDURES\"],\n",
    "        ],\n",
    "        separator=\"\\t\",\n",
    "        quote_char=None,\n",
    "    )\n",
    "    .filter(\n",
    "        pl.col(\"Procedure_date\").ne(\"1899-12-30 00:00\")\n",
    "    )\n",
    "    .select(\n",
    "        pl.col(\"PseudoNHS_2024-07-10\").alias(\"pseudo_nhs_number\"),\n",
    "        pl.col(\"Procedure_date\").str.to_date(format=\"%d/%m/%Y %H:%M\").alias(\"date\"),\n",
    "        (\n",
    "            pl.col(\"Catalogue\")\n",
    "            .str.replace(\"ICD10WHO\", \"ICD10\")\n",
    "            .str.replace(\"SNOMED CT\", \"SNOMED\")\n",
    "            .str.replace(\"OPCS4\", \"OPCS\")\n",
    "            .cast(codesets_enum)\n",
    "        ).alias(\"codeset\"),\n",
    "        pl.col(\"Procedure_Code\").alias(\"original_code\"),\n",
    "        pl.col(\"Code_text\").str.replace_all('\"+', '').alias(\"original_term\"),\n",
    "        pl.lit(\"RDE_ALL_PROCEDURES\").cast(provenance_enum).alias(\"provenance\")\n",
    "    )\n",
    "    .with_columns(\n",
    "        HASH_COLUMN       \n",
    "    )\n",
    "    .unique(\"hash\")\n",
    "    .select(\n",
    "        TARGET_OUTPUT_COLUMNS_WITH_HASH\n",
    "    )\n",
    "#     .collect()\n",
    ")\n",
    "\n",
    "# rde_all_procedures"
   ]
  },
  {
   "cell_type": "markdown",
   "id": "428207ed",
   "metadata": {},
   "source": [
    "### 10. Now concat all 9 lazyframes into a single dataframe"
   ]
  },
  {
   "cell_type": "code",
   "execution_count": null,
   "id": "50cb0544",
   "metadata": {},
   "outputs": [],
   "source": [
    "rde_all_all = pl.concat(OUTPUT_DATAFRAMES.values()).collect()"
   ]
  },
  {
   "cell_type": "markdown",
   "id": "77d952f7",
   "metadata": {},
   "source": [
    "#### De-duplicate concatenated 2024_09 cut"
   ]
  },
  {
   "cell_type": "code",
   "execution_count": null,
   "id": "5fb74973",
   "metadata": {},
   "outputs": [],
   "source": [
    "height_before = rde_all_all.shape[0]"
   ]
  },
  {
   "cell_type": "code",
   "execution_count": null,
   "id": "6792aacc",
   "metadata": {},
   "outputs": [],
   "source": [
    "rde_all_all = (\n",
    "    rde_all_all\n",
    "    .unique(\"hash\")\n",
    ")"
   ]
  },
  {
   "cell_type": "code",
   "execution_count": null,
   "id": "1755f062",
   "metadata": {},
   "outputs": [],
   "source": [
    "height_after = rde_all_all.shape[0]"
   ]
  },
  {
   "cell_type": "code",
   "execution_count": null,
   "id": "1ea0e3e5",
   "metadata": {},
   "outputs": [],
   "source": [
    "print(f\"{height_before - height_after} rows removed by de-duplicating.\")"
   ]
  },
  {
   "cell_type": "markdown",
   "id": "b983a791",
   "metadata": {},
   "source": [
    "## Now export this final concatenated deduplicated version\n",
    "\n"
   ]
  },
  {
   "cell_type": "code",
   "execution_count": null,
   "id": "c023db4c",
   "metadata": {},
   "outputs": [],
   "source": [
    "rde_all_all.write_ipc(\n",
    "    AnyPath(\n",
    "        PREPROCESSED_FILES_LOCATION,\n",
    "        \"2024_09_Barts_RDE_ALL.arrow\"\n",
    "    )\n",
    ")"
   ]
  },
  {
   "cell_type": "code",
   "execution_count": null,
   "id": "49aff973",
   "metadata": {},
   "outputs": [],
   "source": [
    "for codeset in codesets_enum.categories:\n",
    "    (\n",
    "        rde_all_all\n",
    "        .filter(\n",
    "            pl.col(\"codeset\").eq(codeset),\n",
    "            pl.col(\"date\").is_not_null(),\n",
    "        )\n",
    "        .with_columns(\n",
    "            # in order to comply wit tretools specifications, we have to recast \"date\" as a string\n",
    "            pl.col(\"date\").cast(pl.Utf8)\n",
    "        )\n",
    "        .write_ipc(\n",
    "            AnyPath(\n",
    "                PREPROCESSED_FILES_LOCATION,\n",
    "                f\"2024_09_Barts_RDE_{codeset}.arrow\"\n",
    "            )\n",
    "        )\n",
    "    )"
   ]
  },
  {
   "cell_type": "code",
   "execution_count": null,
   "id": "815678db",
   "metadata": {},
   "outputs": [],
   "source": [
    "## Ick, but works\n",
    "for codeset in codesets_enum.categories:\n",
    "    globals()[f\"dataset_{codeset.lower()}_path\"] = AnyPath(\n",
    "                PREPROCESSED_FILES_LOCATION,\n",
    "                f\"2024_09_Barts_RDE_{codeset}.arrow\"\n",
    "            ).__fspath__()"
   ]
  },
  {
   "cell_type": "code",
   "execution_count": null,
   "id": "6702020f",
   "metadata": {},
   "outputs": [],
   "source": [
    "AnyPath(f\"{PROCESSED_DATASETS_BARTS_LOCATION}/sep_2024/processed_data\").mkdir(parents=True, exist_ok=True)\n",
    "AnyPath(f\"{PROCESSED_DATASETS_BARTS_LOCATION}/sep_2024/clean_processed_data\").mkdir(parents=True, exist_ok=True)"
   ]
  },
  {
   "cell_type": "markdown",
   "id": "6b0074bb",
   "metadata": {},
   "source": [
    "### ICD10"
   ]
  },
  {
   "cell_type": "code",
   "execution_count": null,
   "id": "e0881f9f",
   "metadata": {},
   "outputs": [],
   "source": [
    "dataset_icd = RawDataset(\n",
    "    path=dataset_icd10_path, \n",
    "    dataset_type=DatasetType.BARTS_HEALTH.value, \n",
    "    coding_system=CodelistType.ICD10.value,\n",
    ")"
   ]
  },
  {
   "cell_type": "code",
   "execution_count": null,
   "id": "cca4d6ee",
   "metadata": {},
   "outputs": [],
   "source": [
    "col_map = {\n",
    "    \"pseudo_nhs_number\": \"nhs_number\",\n",
    "    \"original_code\": \"code\",\n",
    "    \"original_term\": \"term\",\n",
    "    \"date\": \"date\"\n",
    "}"
   ]
  },
  {
   "cell_type": "code",
   "execution_count": null,
   "id": "77454951",
   "metadata": {},
   "outputs": [],
   "source": [
    "processed_icd = dataset_icd.process_dataset(\n",
    "    deduplication_options=deduplication_options,\n",
    "    column_maps=col_map\n",
    ")"
   ]
  },
  {
   "cell_type": "code",
   "execution_count": null,
   "id": "744861e5",
   "metadata": {},
   "outputs": [],
   "source": [
    "processed_icd.write_to_feather(f\"{PROCESSED_DATASETS_BARTS_LOCATION}/sep_2024/processed_data/ALL_ICD_10.arrow\")"
   ]
  },
  {
   "cell_type": "code",
   "execution_count": null,
   "id": "37ca646e",
   "metadata": {},
   "outputs": [],
   "source": [
    "processed_icd.write_to_log(f\"{PROCESSED_DATASETS_BARTS_LOCATION}/sep_2024/processed_data/ALL_ICD_10_log.txt\")"
   ]
  },
  {
   "cell_type": "markdown",
   "id": "a41b9e70",
   "metadata": {},
   "source": [
    "We now remove the unrealistic data (i.e. event before birth, before 1st Jan 1910 or after \\[run date of script\\]) and save this into a cleaned_processed_data folder"
   ]
  },
  {
   "cell_type": "code",
   "execution_count": null,
   "id": "a03b454e",
   "metadata": {},
   "outputs": [],
   "source": [
    "cleaned_dataset = processed_icd.remove_unrealistic_dates(date_start=date_start, \n",
    "                                                      date_end=date_end,\n",
    "                                                      before_born=True,\n",
    "                                                      demographic_dataset=demographics)\n",
    "cleaned_dataset.write_to_feather(\n",
    "    f\"{PROCESSED_DATASETS_BARTS_LOCATION}/sep_2024/clean_processed_data/merged_ICD.arrow\")\n",
    "cleaned_dataset.write_to_log(\n",
    "    f\"{PROCESSED_DATASETS_BARTS_LOCATION}/sep_2024/clean_processed_data/merged_ICD_log.txt\")"
   ]
  },
  {
   "cell_type": "markdown",
   "id": "9ad5b862",
   "metadata": {},
   "source": [
    "### OPCS"
   ]
  },
  {
   "cell_type": "code",
   "execution_count": null,
   "id": "49004813",
   "metadata": {},
   "outputs": [],
   "source": [
    "opcs = RawDataset(\n",
    "    path=dataset_opcs_path, \n",
    "    dataset_type=DatasetType.BARTS_HEALTH.value, \n",
    "    coding_system=CodelistType.OPCS.value\n",
    ")"
   ]
  },
  {
   "cell_type": "code",
   "execution_count": null,
   "id": "2bbc3db0",
   "metadata": {},
   "outputs": [],
   "source": [
    "processed_opcs = opcs.process_dataset(\n",
    "    deduplication_options=deduplication_options,\n",
    "    column_maps=col_map\n",
    ")"
   ]
  },
  {
   "cell_type": "code",
   "execution_count": null,
   "id": "62a632ae",
   "metadata": {},
   "outputs": [],
   "source": [
    "processed_opcs.write_to_feather(\n",
    "    f\"{PROCESSED_DATASETS_BARTS_LOCATION}/sep_2024/processed_data/ALL_OPCS.arrow\")\n",
    "processed_opcs.write_to_log(\n",
    "    f\"{PROCESSED_DATASETS_BARTS_LOCATION}/sep_2024/processed_data/ALL_OPCS_log.txt\")"
   ]
  },
  {
   "cell_type": "markdown",
   "id": "3aec398b",
   "metadata": {},
   "source": [
    "We now remove the unrealistic data (i.e. event before birth, before 1st Jan 1910 or after \\[run date of script\\]) and save this into a cleaned_processed_data folder"
   ]
  },
  {
   "cell_type": "code",
   "execution_count": null,
   "id": "49d9dd48",
   "metadata": {},
   "outputs": [],
   "source": [
    "cleaned_dataset = processed_opcs.remove_unrealistic_dates(\n",
    "    date_start=date_start, \n",
    "    date_end=date_end,\n",
    "    before_born=True,\n",
    "    demographic_dataset=demographics\n",
    ")\n",
    "\n",
    "cleaned_dataset.write_to_feather(\n",
    "    f\"{PROCESSED_DATASETS_BARTS_LOCATION}/sep_2024/clean_processed_data/merged_OPCS.arrow\")\n",
    "cleaned_dataset.write_to_log(\n",
    "    f\"{PROCESSED_DATASETS_BARTS_LOCATION}/sep_2024/clean_processed_data/merged_OPCS_log.txt\")"
   ]
  },
  {
   "cell_type": "markdown",
   "id": "e457a970",
   "metadata": {},
   "source": [
    "### SNOMED"
   ]
  },
  {
   "cell_type": "code",
   "execution_count": null,
   "id": "a04d8440",
   "metadata": {},
   "outputs": [],
   "source": [
    "snomed_data = RawDataset(\n",
    "    path=dataset_snomed_path, \n",
    "    dataset_type=DatasetType.BARTS_HEALTH.value, \n",
    "    coding_system=CodelistType.SNOMED.value\n",
    ")"
   ]
  },
  {
   "cell_type": "code",
   "execution_count": null,
   "id": "53c28a65",
   "metadata": {},
   "outputs": [],
   "source": [
    "processed_snomed = snomed_data.process_dataset(deduplication_options=deduplication_options, column_maps=col_map)"
   ]
  },
  {
   "cell_type": "code",
   "execution_count": null,
   "id": "528cdc8a",
   "metadata": {},
   "outputs": [],
   "source": [
    "processed_snomed.write_to_feather(\n",
    "    f\"{PROCESSED_DATASETS_BARTS_LOCATION}/sep_2024/processed_data/dataset_SNOMED.arrow\")\n",
    "processed_snomed.write_to_log(\n",
    "    f\"{PROCESSED_DATASETS_BARTS_LOCATION}/sep_2024/processed_data/dataset_SNOMED_log.txt\")"
   ]
  },
  {
   "cell_type": "markdown",
   "id": "2c900284",
   "metadata": {},
   "source": [
    "We now remove the unrealistic data (i.e. event before birth, before 1st Jan 1910 or after \\[run date of script\\]) and save this into a cleaned_processed_data folder"
   ]
  },
  {
   "cell_type": "code",
   "execution_count": null,
   "id": "2fe6ba7c",
   "metadata": {},
   "outputs": [],
   "source": [
    "cleaned_dataset = processed_snomed.remove_unrealistic_dates(\n",
    "    date_start=date_start, \n",
    "    date_end=date_end,\n",
    "    before_born=True,\n",
    "    demographic_dataset=demographics\n",
    ")\n",
    "\n",
    "cleaned_dataset.write_to_feather(\n",
    "    f\"{PROCESSED_DATASETS_BARTS_LOCATION}/sep_2024/clean_processed_data/merged_SNOMED.arrow\")\n",
    "cleaned_dataset.write_to_log(\n",
    "    f\"{PROCESSED_DATASETS_BARTS_LOCATION}/sep_2024/clean_processed_data/merged_SNOMED_log.txt\")"
   ]
  },
  {
   "cell_type": "markdown",
   "id": "68eb31c9",
   "metadata": {},
   "source": [
    "###### 2024_09 cut end"
   ]
  },
  {
   "cell_type": "markdown",
   "id": "4a6bc899",
   "metadata": {},
   "source": [
    "## Merging all the data together for Barts Health\n",
    "\n",
    "Here we are merging all the data together per coding system (i.e. ICD10, SNOMED and OPCS).\n",
    "\n",
    "### ICD 10 codes\n"
   ]
  },
  {
   "cell_type": "code",
   "execution_count": null,
   "id": "b30df88a",
   "metadata": {},
   "outputs": [],
   "source": [
    "march_2022_icd = ProcessedDataset(path=f\"{PROCESSED_DATASETS_BARTS_LOCATION}/march_2022/clean_processed_data/dataset_ICD.arrow\", \n",
    "                                  dataset_type=DatasetType.BARTS_HEALTH.value, \n",
    "                                  coding_system=CodelistType.ICD10.value, \n",
    "                                  log_path=f\"{PROCESSED_DATASETS_BARTS_LOCATION}/march_2022/clean_processed_data/dataset_ICD_log.txt\")"
   ]
  },
  {
   "cell_type": "code",
   "execution_count": null,
   "id": "aa3d0085",
   "metadata": {},
   "outputs": [],
   "source": [
    "may_2023_icd = ProcessedDataset(path=f\"{PROCESSED_DATASETS_BARTS_LOCATION}/may_2023/clean_processed_data/merged_ICD.arrow\", \n",
    "                                  dataset_type=DatasetType.BARTS_HEALTH.value, \n",
    "                                  coding_system=CodelistType.ICD10.value, \n",
    "                                  log_path=f\"{PROCESSED_DATASETS_BARTS_LOCATION}/may_2023/clean_processed_data/merged_ICD_log.txt\")"
   ]
  },
  {
   "cell_type": "code",
   "execution_count": null,
   "id": "7bda83fe",
   "metadata": {},
   "outputs": [],
   "source": [
    "dec_2023_icd = ProcessedDataset(path=f\"{PROCESSED_DATASETS_BARTS_LOCATION}/dec_2023/clean_processed_data/merged_ICD.arrow\", \n",
    "                                  dataset_type=DatasetType.BARTS_HEALTH.value, \n",
    "                                  coding_system=CodelistType.ICD10.value, \n",
    "                                  log_path=f\"{PROCESSED_DATASETS_BARTS_LOCATION}/dec_2023/clean_processed_data/merged_ICD_log.txt\")"
   ]
  },
  {
   "cell_type": "code",
   "execution_count": null,
   "id": "55cc25a5",
   "metadata": {},
   "outputs": [],
   "source": [
    "sep_2024_icd = ProcessedDataset(path=f\"{PROCESSED_DATASETS_BARTS_LOCATION}/sep_2024/clean_processed_data/merged_ICD.arrow\", \n",
    "                                  dataset_type=DatasetType.BARTS_HEALTH.value, \n",
    "                                  coding_system=CodelistType.ICD10.value, \n",
    "                                  log_path=f\"{PROCESSED_DATASETS_BARTS_LOCATION}/sep_2024/clean_processed_data/merged_ICD_log.txt\")"
   ]
  },
  {
   "cell_type": "code",
   "execution_count": null,
   "id": "466ce98f",
   "metadata": {},
   "outputs": [],
   "source": [
    "march_2022_icd.merge_with_dataset(may_2023_icd)"
   ]
  },
  {
   "cell_type": "code",
   "execution_count": null,
   "id": "5c8c7747",
   "metadata": {},
   "outputs": [],
   "source": [
    "march_2022_icd.merge_with_dataset(dec_2023_icd)"
   ]
  },
  {
   "cell_type": "code",
   "execution_count": null,
   "id": "8479485a",
   "metadata": {},
   "outputs": [],
   "source": [
    "march_2022_icd.merge_with_dataset(sep_2024_icd)"
   ]
  },
  {
   "cell_type": "code",
   "execution_count": null,
   "id": "ff8044c4",
   "metadata": {},
   "outputs": [],
   "source": [
    "dedup_icd = march_2022_icd.deduplicate()"
   ]
  },
  {
   "cell_type": "code",
   "execution_count": null,
   "id": "40895b96",
   "metadata": {},
   "outputs": [],
   "source": [
    "for log in may_2023_icd.log:\n",
    "    dedup_icd.log.append(log)\n",
    "\n",
    "for log in dec_2023_icd.log:\n",
    "    dedup_icd.log.append(log)\n",
    "    \n",
    "for log in sep_2024_icd.log:\n",
    "    dedup_icd.log.append(log)\n",
    "\n",
    "dedup_icd.log.sort()"
   ]
  },
  {
   "cell_type": "code",
   "execution_count": null,
   "id": "55a57ea1",
   "metadata": {},
   "outputs": [],
   "source": [
    "dedup_icd.write_to_feather(f\"{MEGADATA_BARTS_LOCATION}/merged_ICD.arrow\")\n",
    "dedup_icd.write_to_log(f\"{MEGADATA_BARTS_LOCATION}/merged_ICD_log.txt\")"
   ]
  },
  {
   "cell_type": "markdown",
   "id": "1fb866bc",
   "metadata": {},
   "source": [
    "### OPCS codes"
   ]
  },
  {
   "cell_type": "code",
   "execution_count": null,
   "id": "c3487c51",
   "metadata": {},
   "outputs": [],
   "source": [
    "march_2022_opcs = ProcessedDataset(path=f\"{PROCESSED_DATASETS_BARTS_LOCATION}/march_2022/clean_processed_data/dataset_OPCS.arrow\", \n",
    "                                  dataset_type=DatasetType.BARTS_HEALTH.value, \n",
    "                                  coding_system=CodelistType.OPCS.value, \n",
    "                                  log_path=f\"{PROCESSED_DATASETS_BARTS_LOCATION}/march_2022/clean_processed_data/dataset_OPCS_log.txt\")"
   ]
  },
  {
   "cell_type": "code",
   "execution_count": null,
   "id": "09972050",
   "metadata": {},
   "outputs": [],
   "source": [
    "may_2023_opcs = ProcessedDataset(path=f\"{PROCESSED_DATASETS_BARTS_LOCATION}/may_2023/clean_processed_data/merged_OPCS.arrow\", \n",
    "                                  dataset_type=DatasetType.BARTS_HEALTH.value, \n",
    "                                  coding_system=CodelistType.OPCS.value, \n",
    "                                  log_path=f\"{PROCESSED_DATASETS_BARTS_LOCATION}/may_2023/clean_processed_data/merged_OPCS_log.txt\")"
   ]
  },
  {
   "cell_type": "code",
   "execution_count": null,
   "id": "5a5ef100",
   "metadata": {},
   "outputs": [],
   "source": [
    "dec_2023_opcs = ProcessedDataset(path=f\"{PROCESSED_DATASETS_BARTS_LOCATION}/dec_2023/clean_processed_data/merged_OPCS.arrow\", \n",
    "                                  dataset_type=DatasetType.BARTS_HEALTH.value, \n",
    "                                  coding_system=CodelistType.OPCS.value, \n",
    "                                  log_path=f\"{PROCESSED_DATASETS_BARTS_LOCATION}/dec_2023/clean_processed_data/merged_OPCS_log.txt\")"
   ]
  },
  {
   "cell_type": "code",
   "execution_count": null,
   "id": "1c9eef4b",
   "metadata": {},
   "outputs": [],
   "source": [
    "sep_2024_opcs = ProcessedDataset(path=f\"{PROCESSED_DATASETS_BARTS_LOCATION}/sep_2024/clean_processed_data/merged_OPCS.arrow\",\n",
    "                                  dataset_type=DatasetType.BARTS_HEALTH.value, \n",
    "                                  coding_system=CodelistType.OPCS.value, \n",
    "                                  log_path=f\"{PROCESSED_DATASETS_BARTS_LOCATION}/sep_2024/clean_processed_data/merged_OPCS_log.txt\")"
   ]
  },
  {
   "cell_type": "code",
   "execution_count": null,
   "id": "737dfad3",
   "metadata": {},
   "outputs": [],
   "source": [
    "march_2022_opcs.merge_with_dataset(may_2023_opcs)"
   ]
  },
  {
   "cell_type": "code",
   "execution_count": null,
   "id": "e02f9218",
   "metadata": {},
   "outputs": [],
   "source": [
    "march_2022_opcs.merge_with_dataset(dec_2023_opcs)"
   ]
  },
  {
   "cell_type": "code",
   "execution_count": null,
   "id": "a28c34d7",
   "metadata": {},
   "outputs": [],
   "source": [
    "march_2022_opcs.merge_with_dataset(sep_2024_opcs)"
   ]
  },
  {
   "cell_type": "code",
   "execution_count": null,
   "id": "6fa64a2f",
   "metadata": {},
   "outputs": [],
   "source": [
    "dedup_opcs = march_2022_opcs.deduplicate()"
   ]
  },
  {
   "cell_type": "code",
   "execution_count": null,
   "id": "4d70b5a1",
   "metadata": {},
   "outputs": [],
   "source": [
    "for log in may_2023_opcs.log:\n",
    "    dedup_opcs.log.append(log)\n",
    "    \n",
    "for log in dec_2023_opcs.log:\n",
    "    dedup_opcs.log.append(log)\n",
    "\n",
    "for log in sep_2024_opcs.log:\n",
    "    dedup_opcs.log.append(log)\n",
    "\n",
    "dedup_opcs.log.sort()"
   ]
  },
  {
   "cell_type": "code",
   "execution_count": null,
   "id": "e953d3c4",
   "metadata": {},
   "outputs": [],
   "source": [
    "dedup_opcs.write_to_feather(f\"{MEGADATA_BARTS_LOCATION}/merged_OPCS.arrow\")\n",
    "dedup_opcs.write_to_log(f\"{MEGADATA_BARTS_LOCATION}/merged_OPCS_log.txt\")"
   ]
  },
  {
   "cell_type": "markdown",
   "id": "6f278808",
   "metadata": {},
   "source": [
    "### SNOMED codes"
   ]
  },
  {
   "cell_type": "code",
   "execution_count": null,
   "id": "e1abbc70",
   "metadata": {},
   "outputs": [],
   "source": [
    "march_2022_snomed = ProcessedDataset(path=f\"{PROCESSED_DATASETS_BARTS_LOCATION}/march_2022/clean_processed_data/merged_SNOMED.arrow\", \n",
    "                                  dataset_type=DatasetType.BARTS_HEALTH.value, \n",
    "                                  coding_system=CodelistType.SNOMED.value, \n",
    "                                  log_path=f\"{PROCESSED_DATASETS_BARTS_LOCATION}/march_2022/clean_processed_data/merged_SNOMED_log.txt\")"
   ]
  },
  {
   "cell_type": "code",
   "execution_count": null,
   "id": "37ffde8d",
   "metadata": {},
   "outputs": [],
   "source": [
    "may_2023_snomed = ProcessedDataset(path=f\"{PROCESSED_DATASETS_BARTS_LOCATION}/may_2023/clean_processed_data/merged_SNOMED.arrow\", \n",
    "                                  dataset_type=DatasetType.BARTS_HEALTH.value, \n",
    "                                  coding_system=CodelistType.SNOMED.value, \n",
    "                                  log_path=f\"{PROCESSED_DATASETS_BARTS_LOCATION}/may_2023/clean_processed_data/merged_SNOMED_log.txt\")"
   ]
  },
  {
   "cell_type": "code",
   "execution_count": null,
   "id": "e433a95b",
   "metadata": {},
   "outputs": [],
   "source": [
    "dec_2023_snomed = ProcessedDataset(path=f\"{PROCESSED_DATASETS_BARTS_LOCATION}/dec_2023/clean_processed_data/merged_SNOMED.arrow\", \n",
    "                                  dataset_type=DatasetType.BARTS_HEALTH.value, \n",
    "                                  coding_system=CodelistType.SNOMED.value, \n",
    "                                  log_path=f\"{PROCESSED_DATASETS_BARTS_LOCATION}/dec_2023/clean_processed_data/merged_SNOMED_log.txt\")"
   ]
  },
  {
   "cell_type": "code",
   "execution_count": null,
   "id": "20e97a71",
   "metadata": {},
   "outputs": [],
   "source": [
    "sep_2024_snomed = ProcessedDataset(path=f\"{PROCESSED_DATASETS_BARTS_LOCATION}/sep_2024/clean_processed_data/merged_SNOMED.arrow\", \n",
    "                                  dataset_type=DatasetType.BARTS_HEALTH.value, \n",
    "                                  coding_system=CodelistType.SNOMED.value, \n",
    "                                  log_path=f\"{PROCESSED_DATASETS_BARTS_LOCATION}/sep_2024/clean_processed_data/merged_SNOMED_log.txt\")"
   ]
  },
  {
   "cell_type": "code",
   "execution_count": null,
   "id": "344e7aee",
   "metadata": {},
   "outputs": [],
   "source": [
    "march_2022_snomed.merge_with_dataset(may_2023_snomed)"
   ]
  },
  {
   "cell_type": "code",
   "execution_count": null,
   "id": "5820e0b5",
   "metadata": {},
   "outputs": [],
   "source": [
    "march_2022_snomed.merge_with_dataset(dec_2023_snomed)"
   ]
  },
  {
   "cell_type": "code",
   "execution_count": null,
   "id": "a569ef35",
   "metadata": {},
   "outputs": [],
   "source": [
    "sep_2024_snomed.data = (\n",
    "    # We have to do a little madness here to comply with expected tretools input\n",
    "    sep_2024_snomed.data\n",
    "    .with_columns(\n",
    "        pl.col(\"code\")\n",
    "        .cast(pl.Int64, strict=False)\n",
    "    )\n",
    "    .filter(\n",
    "        pl.col(\"code\").is_not_null()\n",
    "    )\n",
    ")\n",
    "march_2022_snomed.merge_with_dataset(sep_2024_snomed)"
   ]
  },
  {
   "cell_type": "code",
   "execution_count": null,
   "id": "417b3ce9",
   "metadata": {},
   "outputs": [],
   "source": [
    "dedup_snomed = march_2022_snomed.deduplicate()"
   ]
  },
  {
   "cell_type": "code",
   "execution_count": null,
   "id": "c976f732",
   "metadata": {},
   "outputs": [],
   "source": [
    "for log in may_2023_snomed.log:\n",
    "    dedup_snomed.log.append(log)\n",
    "    \n",
    "for log in dec_2023_snomed.log:\n",
    "    dedup_snomed.log.append(log)\n",
    "\n",
    "for log in sep_2024_snomed.log:\n",
    "    dedup_snomed.log.append(log)\n",
    "     \n",
    "dedup_snomed.log.sort()"
   ]
  },
  {
   "cell_type": "code",
   "execution_count": null,
   "id": "40fc6529",
   "metadata": {},
   "outputs": [],
   "source": [
    "dedup_snomed.write_to_feather(f\"{MEGADATA_BARTS_LOCATION}/merged_SNOMED.arrow\")\n",
    "dedup_snomed.write_to_log(f\"{MEGADATA_BARTS_LOCATION}/merged_SNOMED_log.txt\")"
   ]
  },
  {
   "cell_type": "markdown",
   "id": "07c95df3",
   "metadata": {},
   "source": [
    "## Mapping SNOMED to ICD\n",
    "\n",
    "We also going to map the SNOMED data to ICD10 and merge with the ICD10 datasets. We already saved the mapping file in the previous notebook. We will load this first.\n",
    "\n",
    "Note added 06.12.2024: Caroline's mapping files are in her /red/ directory, if full path to these is not given, these steps will only work if run from Caroline's directory.  Modified to give full path to look-up tables.\n",
    "\n",
    "2025-04-14: mapping file is generated in notebook \\#2 \n",
    "\n",
    "Issues:\n",
    "1. SHould we move the look-tables to /library-red/reference_files/\n",
    "2. What is the source of these lookup tables?  When were they last updated?"
   ]
  },
  {
   "cell_type": "code",
   "execution_count": null,
   "id": "4a755e57",
   "metadata": {},
   "outputs": [],
   "source": [
    "snomed_data = ProcessedDataset(path=f\"{MEGADATA_BARTS_LOCATION}/merged_SNOMED.arrow\", \n",
    "                               dataset_type=DatasetType.BARTS_HEALTH.value, \n",
    "                               coding_system=CodelistType.SNOMED.value,\n",
    "                               log_path=f\"{MEGADATA_BARTS_LOCATION}/merged_SNOMED_log.txt\"\n",
    "                              )"
   ]
  },
  {
   "cell_type": "code",
   "execution_count": null,
   "id": "3b118d4d",
   "metadata": {},
   "outputs": [],
   "source": []
  },
  {
   "cell_type": "code",
   "execution_count": null,
   "id": "203d59ed",
   "metadata": {},
   "outputs": [],
   "source": [
    "mapped_data = snomed_data.map_snomed_to_icd(\n",
    "    mapping_file=f\"{MAPPING_FILES_LOCATION}/processed_mapping_file.csv\",\n",
    "    snomed_col=\"conceptId\",\n",
    "    icd_col=\"mapTarget\"\n",
    ")"
   ]
  },
  {
   "cell_type": "code",
   "execution_count": null,
   "id": "90fdb4af",
   "metadata": {},
   "outputs": [],
   "source": [
    "final_dedup = mapped_data.deduplicate()"
   ]
  },
  {
   "cell_type": "code",
   "execution_count": null,
   "id": "71412d72",
   "metadata": {},
   "outputs": [],
   "source": [
    "final_dedup.write_to_feather(f\"{MEGADATA_BARTS_LOCATION}/final_mapped_snomed_to_icd.arrow\")\n",
    "final_dedup.write_to_log(f\"{MEGADATA_BARTS_LOCATION}/final_mapped_snomed_to_icd_log.txt\")"
   ]
  },
  {
   "cell_type": "markdown",
   "id": "278e1c31",
   "metadata": {},
   "source": [
    "Now we merged with the ICD codes"
   ]
  },
  {
   "cell_type": "code",
   "execution_count": null,
   "id": "82796f7f",
   "metadata": {},
   "outputs": [],
   "source": [
    "icd_data = ProcessedDataset(path=f\"{MEGADATA_BARTS_LOCATION}/merged_ICD.arrow\", \n",
    "                               dataset_type=DatasetType.BARTS_HEALTH.value, \n",
    "                               coding_system=CodelistType.ICD10.value,\n",
    "                               log_path=f\"{MEGADATA_BARTS_LOCATION}/merged_ICD_log.txt\"\n",
    "                              )"
   ]
  },
  {
   "cell_type": "code",
   "execution_count": null,
   "id": "09f11fdf",
   "metadata": {},
   "outputs": [],
   "source": [
    "snomed_to_icd_data =  ProcessedDataset(path=f\"{MEGADATA_BARTS_LOCATION}/final_mapped_snomed_to_icd.arrow\", \n",
    "                               dataset_type=DatasetType.BARTS_HEALTH.value, \n",
    "                               coding_system=CodelistType.ICD10.value,\n",
    "                               log_path=f\"{MEGADATA_BARTS_LOCATION}/final_mapped_snomed_to_icd_log.txt\"\n",
    "                              )"
   ]
  },
  {
   "cell_type": "code",
   "execution_count": null,
   "id": "8475e12e",
   "metadata": {},
   "outputs": [],
   "source": [
    "icd_data.merge_with_dataset(snomed_to_icd_data)"
   ]
  },
  {
   "cell_type": "code",
   "execution_count": null,
   "id": "99f4659d",
   "metadata": {},
   "outputs": [],
   "source": [
    "merged_final = icd_data.deduplicate()"
   ]
  },
  {
   "cell_type": "code",
   "execution_count": null,
   "id": "d52d021f",
   "metadata": {},
   "outputs": [],
   "source": [
    "merged_final.write_to_feather(f\"{MEGADATA_BARTS_LOCATION}/merged_and_mapped_icd.arrow\")"
   ]
  },
  {
   "cell_type": "code",
   "execution_count": null,
   "id": "9b282b23",
   "metadata": {},
   "outputs": [],
   "source": [
    "for log in snomed_to_icd_data.log:\n",
    "    merged_final.log.append(log)\n",
    "\n",
    "merged_final.log.sort()\n",
    "\n",
    "merged_final.write_to_log(f\"{MEGADATA_BARTS_LOCATION}/merged_and_mapped_icd_log.txt\")"
   ]
  },
  {
   "cell_type": "markdown",
   "id": "7d6e2570",
   "metadata": {},
   "source": [
    "### Run next cell to initiate next notebook"
   ]
  },
  {
   "cell_type": "code",
   "execution_count": null,
   "id": "dd9061f2",
   "metadata": {},
   "outputs": [],
   "source": [
    "redirect_to_next_notebook_in_pipeline(\"4-process-datasets-bradford\")"
   ]
  },
  {
   "cell_type": "code",
   "execution_count": null,
   "id": "50ef7fba",
   "metadata": {},
   "outputs": [],
   "source": []
  }
 ],
 "metadata": {
  "kernelspec": {
   "display_name": "Python 3 (ipykernel)",
   "language": "python",
   "name": "python3"
  },
  "language_info": {
   "codemirror_mode": {
    "name": "ipython",
    "version": 3
   },
   "file_extension": ".py",
   "mimetype": "text/x-python",
   "name": "python",
   "nbconvert_exporter": "python",
   "pygments_lexer": "ipython3",
   "version": "3.9.2"
  }
 },
 "nbformat": 4,
 "nbformat_minor": 5
}
