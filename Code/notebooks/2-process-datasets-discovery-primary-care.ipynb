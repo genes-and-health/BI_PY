{
 "cells": [
  {
   "cell_type": "markdown",
   "id": "7ccbbf0b",
   "metadata": {},
   "source": [
    "# 2-process-datasets-discovery-primary-care - Plan\n",
    "This notebook is for processing the various datasets we have. We take in raw datasets, and we output processed datasets as feather files (binary) with their log files where appropriate. \n",
    "\n",
    "In this first notebook, we do the following:\n",
    "\n",
    "1) Process primary care datasets - SNOMED \n",
    "2) Map primary care datasets to ICD \n",
    "\n",
    "## Processing Primary Care Datasets\n",
    "The primary care datasets are in SNOMED. There are 5 \"cuts\" of data representing 5 time periods when the data was made available. Each dataset comprises of at least two CSV files - a procedures and an observation file - but some have more. \n",
    "\n",
    "We process datasets in the following way:\n",
    "1) Load data from the CSV in each dataset\n",
    "2) Deduplicate on code, nhs number and date ==> this means the same SNOMED code on a different date is preserved as a separate event for now\n",
    "3) Save this dataset in its own folder\n",
    "4) Load the demographic dataset and use the remove unrealistic dates method to remove rows where the event took place before 1st Jan 1910, after today's date (5th Dec 2024) or before the patient was born. \n",
    "5) Save this dataset\n",
    "\n",
    "We do this processs for observations and procedure csv files separately. Then we:\n",
    "\n",
    "1) Reload the cleaned and deduplicated observation dataset from processed file made in step 5 above. \n",
    "2) Reload the cleaned and deduplicated procedures dataset from processed file made in step 5 above. \n",
    "3) Merge observations and procedures datasets together\n",
    "4) Deduplicate this merged dataset on code, nhs number and date\n",
    "5) Save this merged processed dataset under the date of the original dataset\n",
    "\n",
    "Finally once we have done this to all the 5 time cuts of the data, we do the following:\n",
    "\n",
    "1) Merge all the processed datasets together\n",
    "2) Deduplicate this \"megafile\"\n",
    "3) Save as feather file"
   ]
  },
  {
   "cell_type": "markdown",
   "id": "6712ebb0",
   "metadata": {},
   "source": [
    "# Locations/paths naming convention\n",
    "\n",
    "1. We do not use relative paths.\n",
    "2. We do not explicitly use the word FOLDER in the naming, so `MEGADATA_LOCATION`, not `MEGADATA_FOLDER_LOCATION`. \n",
    "1. Location and path are in `UPPER_CASE`.\n",
    "2. When referred to as `_LOCATION`, the variable contain a string with the path.\n",
    "3. When referred to as `_PATH`, the variable is an `AnyPath` path object.\n",
    "4. The folder order is \"what it is\" / \"Where it's from\" so, for example megadata/primary_care not primary_care/megadata; so `MEGADATA_PRIMARY_CARE_LOCATION` or `PROCESSED_DATASETS_PRIMARY_CARE_PATH`\n"
   ]
  },
  {
   "cell_type": "code",
   "execution_count": null,
   "id": "76797a6f",
   "metadata": {},
   "outputs": [],
   "source": [
    "VERSION = \"version010_2025_05_SR\""
   ]
  },
  {
   "cell_type": "code",
   "execution_count": null,
   "id": "8f840910",
   "metadata": {},
   "outputs": [],
   "source": [
    "from cloudpathlib import AnyPath\n",
    "import polars as pl\n",
    "from datetime import datetime"
   ]
  },
  {
   "cell_type": "markdown",
   "id": "9d328737",
   "metadata": {},
   "source": [
    "### Scripting for automated next notebook initation"
   ]
  },
  {
   "cell_type": "code",
   "execution_count": null,
   "id": "ec5a8595",
   "metadata": {},
   "outputs": [],
   "source": [
    "from IPython.display import Javascript"
   ]
  },
  {
   "cell_type": "code",
   "execution_count": null,
   "id": "f748f7d2",
   "metadata": {},
   "outputs": [],
   "source": [
    "def redirect_to_next_notebook_in_pipeline(other_notebook):\n",
    "    \n",
    "    js_code = f\"\"\"\n",
    "    if (typeof Jupyter !== 'undefined' && Jupyter.notebook && Jupyter.notebook.kernel) {{\n",
    "        // only runs when cell is executed, not from cached output\n",
    "        console.log(\"Redirecting to next notebook in pipeline...\");\n",
    "        Jupyter.notebook.save_checkpoint();\n",
    "        Jupyter.notebook.session.delete();\n",
    "        \n",
    "        setTimeout(function() {{\n",
    "            window.location.href = '{other_notebook}.ipynb';\n",
    "        }}, 1500)\n",
    "    }} else {{\n",
    "        console.log(\"Found cached output. Not an active notebook context. Skipping redirect.\")\n",
    "    }}\n",
    "    \"\"\"\n",
    "    display(Javascript(js_code))"
   ]
  },
  {
   "cell_type": "markdown",
   "id": "5b82eaed",
   "metadata": {},
   "source": [
    "### Paths\n",
    "\n",
    "Here we are defining the paths that are going to be key in this notebook, and where appropriate we are making folders to store the processed datasets in. "
   ]
  },
  {
   "cell_type": "code",
   "execution_count": null,
   "id": "e570dcb9",
   "metadata": {},
   "outputs": [],
   "source": [
    "ROOT_LOCATION = \"/home/ivm/BI_PY\""
   ]
  },
  {
   "cell_type": "code",
   "execution_count": null,
   "id": "873b4c4e",
   "metadata": {},
   "outputs": [],
   "source": [
    "INPUT_LOCATION = \"/genesandhealth/library-red/genesandhealth/phenotypes_rawdata/DSA__Discovery_7CCGs\"\n"
   ]
  },
  {
   "cell_type": "code",
   "execution_count": null,
   "id": "ecf54925",
   "metadata": {
    "scrolled": true
   },
   "outputs": [],
   "source": [
    "PROCESSED_DATASETS_LOCATION = f\"{ROOT_LOCATION}/{VERSION}/processed_datasets\"\n",
    "MEGADATA_LOCATION = f\"{ROOT_LOCATION}/{VERSION}/megadata\"\n",
    "DEMOGRAPHICS_LOCATION = f\"{PROCESSED_DATASETS_LOCATION}/demographics\" # Created in pipeline notebook #1"
   ]
  },
  {
   "cell_type": "code",
   "execution_count": null,
   "id": "7c3639de",
   "metadata": {},
   "outputs": [],
   "source": [
    "# 2025-04-16: mapping file imported from Caroline Morton .../red/ directory\n",
    "MAPPING_FILES_LOCATION =  f\"{ROOT_LOCATION}/{VERSION}/mapping_files\""
   ]
  },
  {
   "cell_type": "markdown",
   "id": "90bc03b0",
   "metadata": {},
   "source": [
    "Here we are making the folders to save all the files:"
   ]
  },
  {
   "cell_type": "code",
   "execution_count": null,
   "id": "e53580d3",
   "metadata": {},
   "outputs": [],
   "source": [
    "PROCESSED_DATASETS_PRIMARY_CARE_LOCATION = f\"{PROCESSED_DATASETS_LOCATION}/primary_care\"\n",
    "MEGADATA_PRIMARY_CARE_LOCATION = f\"{MEGADATA_LOCATION}/primary_care\"\n",
    "\n",
    "AnyPath(PROCESSED_DATASETS_PRIMARY_CARE_LOCATION).mkdir(parents=True, exist_ok=True)\n",
    "AnyPath(MEGADATA_PRIMARY_CARE_LOCATION).mkdir(parents=True, exist_ok=True)\n",
    "AnyPath(MAPPING_FILES_LOCATION).mkdir(parents=True, exist_ok=True)"
   ]
  },
  {
   "cell_type": "markdown",
   "id": "310f7493",
   "metadata": {},
   "source": [
    "We create the paths to the dataset original folders"
   ]
  },
  {
   "cell_type": "code",
   "execution_count": null,
   "id": "d5db41eb",
   "metadata": {},
   "outputs": [],
   "source": [
    "april_2022_path = f\"{INPUT_LOCATION}/2022_04_Discovery\"\n",
    "dec_2022_path = f\"{INPUT_LOCATION}/2022_12_Discovery\"\n",
    "jan_2023_path = f\"{INPUT_LOCATION}/2023_01_Discovery\"\n",
    "mar_2023_path = f\"{INPUT_LOCATION}/2023_03_Discovery\"\n",
    "nov_2023_path = f\"{INPUT_LOCATION}/2023_11_Discovery\"\n",
    "july_2024_path = f\"{INPUT_LOCATION}/2024_07_Discovery\"\n",
    "dec_2024_path = f\"{INPUT_LOCATION}/2024_12_Discovery\""
   ]
  },
  {
   "cell_type": "code",
   "execution_count": null,
   "id": "6690843c",
   "metadata": {},
   "outputs": [],
   "source": [
    "DEMOGRAPHICS_FILE_LOCATION = f\"{DEMOGRAPHICS_LOCATION}/clean_demographics.arrow\""
   ]
  },
  {
   "cell_type": "markdown",
   "id": "b0ce8cf0",
   "metadata": {},
   "source": [
    "### Imports\n",
    "This is where imports from tretools are pulled in. "
   ]
  },
  {
   "cell_type": "code",
   "execution_count": null,
   "id": "fd51907b",
   "metadata": {},
   "outputs": [],
   "source": [
    "from tretools.datasets.raw_dataset import RawDataset\n",
    "from tretools.datasets.processed_dataset import ProcessedDataset\n",
    "from tretools.datasets.dataset_enums.dataset_types import DatasetType\n",
    "from tretools.codelists.codelist_types import CodelistType\n",
    "from tretools.datasets.demographic_dataset import DemographicDataset"
   ]
  },
  {
   "cell_type": "markdown",
   "id": "6336c721",
   "metadata": {},
   "source": [
    "## Load the data and transform it\n",
    "\n",
    "Here we are defining the common variables that we will need. We also load the demographics data file that was created in the first notebook so that we can run the remove the unrealistic dates method. "
   ]
  },
  {
   "cell_type": "code",
   "execution_count": null,
   "id": "5f56241e",
   "metadata": {},
   "outputs": [],
   "source": [
    "deduplication_options = ['nhs_number', 'code', 'date']"
   ]
  },
  {
   "cell_type": "code",
   "execution_count": null,
   "id": "b2275358",
   "metadata": {},
   "outputs": [],
   "source": [
    "col_maps = {\n",
    "    \"original_code\": \"code\",\n",
    "    \"original_term\": \"term\",\n",
    "    \"clinical_effective_date\": \"date\",\n",
    "    \"pseudo_nhs_number\": \"nhs_number\"\n",
    "}"
   ]
  },
  {
   "cell_type": "code",
   "execution_count": null,
   "id": "c0075c50",
   "metadata": {},
   "outputs": [],
   "source": [
    "demographics = DemographicDataset(path=DEMOGRAPHICS_FILE_LOCATION)"
   ]
  },
  {
   "cell_type": "code",
   "execution_count": null,
   "id": "766c8f63",
   "metadata": {},
   "outputs": [],
   "source": [
    "date_start=datetime.strptime(\"1910-01-01\", \"%Y-%m-%d\")\n",
    "# set end date to today\n",
    "date_end=datetime.today()"
   ]
  },
  {
   "cell_type": "markdown",
   "id": "5c0d3e6f",
   "metadata": {},
   "source": [
    "### 1st cut of data - April 2022 Data\n",
    "\n",
    "There are 4 different files in this dataset which we will merge together. There are 4 different files because according to the README, the volunteers in Tower Hamlets, Waltham Forest, Newham and City and Hackney, were kept in one dataset (observations and procedure files) and Barking, Havering, Redbridge Outer East London CCGs were kept in a different dataset. For reference, I will call the first dataset (Tower Hamlets, Waltham Forest, Newham and City and Hackney) one and the other one two. "
   ]
  },
  {
   "cell_type": "code",
   "execution_count": null,
   "id": "ad1c258e",
   "metadata": {},
   "outputs": [],
   "source": [
    "dataset_one_apr_2022_observations_path = f\"{april_2022_path}/GNH_thwfnech-phase2-outfiles_merge/GNH_thwfnech_observations_output_dataset_20220423.csv\"\n",
    "dataset_one_apr_2022_procedures_path = f\"{april_2022_path}/GNH_thwfnech-phase2-outfiles_merge/GNH_thwfnech_procedure_req_output_dataset_20220424.csv\"\n",
    "dataset_two_apr_2022_observations_path = f\"{april_2022_path}/GNH_bhr-phase2-outfiles_merge/GNH_bhr_observations_output_dataset_20220412.csv\"\n",
    "dataset_two_apr_2022_procedures_path = f\"{april_2022_path}/GNH_bhr-phase2-outfiles_merge/GNH_bhr_procedure_req_output_dataset_20220412.csv\""
   ]
  },
  {
   "cell_type": "code",
   "execution_count": null,
   "id": "29b15705",
   "metadata": {},
   "outputs": [],
   "source": [
    "AnyPath(f\"{PROCESSED_DATASETS_PRIMARY_CARE_LOCATION}/april_2022/clean_processed_data\").mkdir(parents=True, exist_ok=True)\n",
    "AnyPath(f\"{PROCESSED_DATASETS_PRIMARY_CARE_LOCATION}/april_2022/processed_data\").mkdir(parents=True, exist_ok=True)"
   ]
  },
  {
   "cell_type": "markdown",
   "id": "4e0d9906",
   "metadata": {},
   "source": [
    "**Dataset one observations processing**\n",
    "\n",
    "We load the data, process it by deduplicating on code, nhs number and date and save, with a log file. "
   ]
  },
  {
   "cell_type": "code",
   "execution_count": null,
   "id": "047458e1",
   "metadata": {},
   "outputs": [],
   "source": [
    "%%time\n",
    "dataset_one_obs = RawDataset(\n",
    "    path=dataset_one_apr_2022_observations_path,\n",
    "    dataset_type=DatasetType.PRIMARY_CARE.value,\n",
    "    coding_system=CodelistType.SNOMED.value\n",
    ")"
   ]
  },
  {
   "cell_type": "code",
   "execution_count": null,
   "id": "1c898622",
   "metadata": {},
   "outputs": [],
   "source": [
    "%%time\n",
    "processed_dataset_one_obs = (\n",
    "    dataset_one_obs\n",
    "    .process_dataset(\n",
    "        deduplication_options=deduplication_options,\n",
    "        column_maps=col_maps\n",
    "    )\n",
    ")"
   ]
  },
  {
   "cell_type": "code",
   "execution_count": null,
   "id": "a71d6015",
   "metadata": {
    "scrolled": true
   },
   "outputs": [],
   "source": [
    "processed_dataset_one_obs.write_to_feather(\n",
    "    f\"{PROCESSED_DATASETS_PRIMARY_CARE_LOCATION}/april_2022/processed_data/GNH_thwfnech_observations.arrow\"\n",
    ")"
   ]
  },
  {
   "cell_type": "code",
   "execution_count": null,
   "id": "1cd1d6df",
   "metadata": {},
   "outputs": [],
   "source": [
    "processed_dataset_one_obs.write_to_log(\n",
    "    f\"{PROCESSED_DATASETS_PRIMARY_CARE_LOCATION}/april_2022/processed_data/GNH_thwfnech_observations_log.txt\"\n",
    ")"
   ]
  },
  {
   "cell_type": "markdown",
   "id": "dfc3f95b",
   "metadata": {},
   "source": [
    "We now remove the unrealistic data (i.e. event before birth, before 1st Jan 1910 or after 5th Dec 2024) and save this into a cleaned_processed_data folder"
   ]
  },
  {
   "cell_type": "code",
   "execution_count": null,
   "id": "00e114d4",
   "metadata": {},
   "outputs": [],
   "source": [
    "%%time\n",
    "cleaned_dataset_one_obs = (\n",
    "    processed_dataset_one_obs\n",
    "    .remove_unrealistic_dates(\n",
    "        date_start=date_start,\n",
    "        date_end=date_end,\n",
    "        before_born=True,\n",
    "        demographic_dataset=demographics\n",
    "    )\n",
    ")"
   ]
  },
  {
   "cell_type": "code",
   "execution_count": null,
   "id": "1df9142e",
   "metadata": {},
   "outputs": [],
   "source": [
    "%%time\n",
    "(\n",
    "    cleaned_dataset_one_obs\n",
    "    .write_to_feather(\n",
    "        f\"{PROCESSED_DATASETS_PRIMARY_CARE_LOCATION}/april_2022/clean_processed_data/GNH_thwfnech_observations.arrow\"\n",
    "    )\n",
    ")"
   ]
  },
  {
   "cell_type": "code",
   "execution_count": null,
   "id": "49df618e",
   "metadata": {},
   "outputs": [],
   "source": [
    "%%time\n",
    "(\n",
    "    cleaned_dataset_one_obs\n",
    "    .write_to_log(f\"{PROCESSED_DATASETS_PRIMARY_CARE_LOCATION}/april_2022/clean_processed_data/GNH_thwfnech_observations_log.txt\")\n",
    ")"
   ]
  },
  {
   "cell_type": "markdown",
   "id": "c63b0fc1",
   "metadata": {},
   "source": [
    "**Dataset one procedures processing**"
   ]
  },
  {
   "cell_type": "code",
   "execution_count": null,
   "id": "9af17088",
   "metadata": {},
   "outputs": [],
   "source": [
    "%%time\n",
    "dataset_one_proc = RawDataset(\n",
    "    path=dataset_one_apr_2022_procedures_path, \n",
    "    dataset_type=DatasetType.PRIMARY_CARE.value, \n",
    "    coding_system=CodelistType.SNOMED.value\n",
    ")"
   ]
  },
  {
   "cell_type": "code",
   "execution_count": null,
   "id": "167f5a0b",
   "metadata": {},
   "outputs": [],
   "source": [
    "%%time\n",
    "processed_dataset_one_proc = dataset_one_proc.process_dataset(\n",
    "    deduplication_options=deduplication_options, \n",
    "    column_maps=col_maps\n",
    ")"
   ]
  },
  {
   "cell_type": "code",
   "execution_count": null,
   "id": "eadf236c",
   "metadata": {},
   "outputs": [],
   "source": [
    "%%time\n",
    "processed_dataset_one_proc.write_to_feather(\n",
    "    f\"{PROCESSED_DATASETS_PRIMARY_CARE_LOCATION}/april_2022/processed_data/GNH_thwfnech_procedures.arrow\"\n",
    ")"
   ]
  },
  {
   "cell_type": "code",
   "execution_count": null,
   "id": "44c728f9",
   "metadata": {},
   "outputs": [],
   "source": [
    "%%time\n",
    "processed_dataset_one_proc.write_to_log(\n",
    "    f\"{PROCESSED_DATASETS_PRIMARY_CARE_LOCATION}/april_2022/processed_data/GNH_thwfnech_procedures_log.txt\"\n",
    ")"
   ]
  },
  {
   "cell_type": "markdown",
   "id": "89a0dbe0",
   "metadata": {},
   "source": [
    "We now remove the unrealistic data (i.e. event before birth, before 1st Jan 1910 or after 5th Dec 2024) and save this into a cleaned_processed_data folder"
   ]
  },
  {
   "cell_type": "code",
   "execution_count": null,
   "id": "33834b86",
   "metadata": {},
   "outputs": [],
   "source": [
    "%%time\n",
    "cleaned_dataset_one_proc = processed_dataset_one_proc.remove_unrealistic_dates(\n",
    "    date_start=date_start,\n",
    "    date_end=date_end,\n",
    "    before_born=True,\n",
    "    demographic_dataset=demographics\n",
    ")"
   ]
  },
  {
   "cell_type": "code",
   "execution_count": null,
   "id": "d46614a7",
   "metadata": {},
   "outputs": [],
   "source": [
    "%%time\n",
    "cleaned_dataset_one_proc.write_to_feather(\n",
    "    f\"{PROCESSED_DATASETS_PRIMARY_CARE_LOCATION}/april_2022/clean_processed_data/GNH_thwfnech_procedures.arrow\"\n",
    ")"
   ]
  },
  {
   "cell_type": "code",
   "execution_count": null,
   "id": "de9bc4e3",
   "metadata": {},
   "outputs": [],
   "source": [
    "%%time\n",
    "cleaned_dataset_one_proc.write_to_log(\n",
    "    f\"{PROCESSED_DATASETS_PRIMARY_CARE_LOCATION}/april_2022/clean_processed_data/GNH_thwfnech_procedures_log.txt\"\n",
    ")"
   ]
  },
  {
   "cell_type": "markdown",
   "id": "b93f2c96",
   "metadata": {},
   "source": [
    "**Dataset two observations processing**"
   ]
  },
  {
   "cell_type": "code",
   "execution_count": null,
   "id": "945f35ca",
   "metadata": {},
   "outputs": [],
   "source": [
    "%%time\n",
    "dataset_two_obs = RawDataset(\n",
    "    path=dataset_two_apr_2022_observations_path, \n",
    "    dataset_type=DatasetType.PRIMARY_CARE.value, \n",
    "    coding_system=CodelistType.SNOMED.value\n",
    ")"
   ]
  },
  {
   "cell_type": "code",
   "execution_count": null,
   "id": "45dc8ddb",
   "metadata": {},
   "outputs": [],
   "source": [
    "%%time\n",
    "processed_dataset_two_obs = dataset_two_obs.process_dataset(\n",
    "    deduplication_options=deduplication_options, \n",
    "    column_maps=col_maps\n",
    ")"
   ]
  },
  {
   "cell_type": "code",
   "execution_count": null,
   "id": "dc25f921",
   "metadata": {},
   "outputs": [],
   "source": [
    "%%time\n",
    "processed_dataset_two_obs.write_to_feather(\n",
    "    f\"{PROCESSED_DATASETS_PRIMARY_CARE_LOCATION}/april_2022/processed_data/GNH_bhr_observations.arrow\"\n",
    ")"
   ]
  },
  {
   "cell_type": "code",
   "execution_count": null,
   "id": "1b15001a",
   "metadata": {},
   "outputs": [],
   "source": [
    "%%time\n",
    "processed_dataset_two_obs.write_to_log(\n",
    "    f\"{PROCESSED_DATASETS_PRIMARY_CARE_LOCATION}/april_2022/processed_data/GNH_bhr_observations_log.txt\"\n",
    ")"
   ]
  },
  {
   "cell_type": "markdown",
   "id": "4e993cd2",
   "metadata": {},
   "source": [
    "We now remove the unrealistic data (i.e. event before birth, before 1st Jan 1910 or after 5th Dec 2024) and save this into a cleaned_processed_data folder"
   ]
  },
  {
   "cell_type": "code",
   "execution_count": null,
   "id": "768f6cf4",
   "metadata": {},
   "outputs": [],
   "source": [
    "%%time\n",
    "cleaned_processed_dataset_two_obs = processed_dataset_two_obs.remove_unrealistic_dates(\n",
    "    date_start=date_start,\n",
    "    date_end=date_end,\n",
    "    before_born=True,\n",
    "    demographic_dataset=demographics\n",
    ")"
   ]
  },
  {
   "cell_type": "code",
   "execution_count": null,
   "id": "541453dc",
   "metadata": {},
   "outputs": [],
   "source": [
    "%%time\n",
    "cleaned_processed_dataset_two_obs.write_to_feather(f\"{PROCESSED_DATASETS_PRIMARY_CARE_LOCATION}/april_2022/clean_processed_data/GNH_bhr_observations.arrow\")"
   ]
  },
  {
   "cell_type": "code",
   "execution_count": null,
   "id": "ff710898",
   "metadata": {},
   "outputs": [],
   "source": [
    "%%time\n",
    "cleaned_processed_dataset_two_obs.write_to_log(f\"{PROCESSED_DATASETS_PRIMARY_CARE_LOCATION}/april_2022/clean_processed_data/GNH_bhr_observations_log.txt\")"
   ]
  },
  {
   "cell_type": "markdown",
   "id": "b9e0e87b",
   "metadata": {},
   "source": [
    "**Dataset two procedure processing**"
   ]
  },
  {
   "cell_type": "code",
   "execution_count": null,
   "id": "4fc2377e",
   "metadata": {},
   "outputs": [],
   "source": [
    "%%time\n",
    "dataset_two_proc = RawDataset(\n",
    "    path=dataset_two_apr_2022_procedures_path, \n",
    "    dataset_type=DatasetType.PRIMARY_CARE.value, \n",
    "    coding_system=CodelistType.SNOMED.value\n",
    ")"
   ]
  },
  {
   "cell_type": "code",
   "execution_count": null,
   "id": "985245c8",
   "metadata": {},
   "outputs": [],
   "source": [
    "%%time\n",
    "processed_dataset_two_proc = dataset_two_proc.process_dataset(\n",
    "    deduplication_options=deduplication_options, \n",
    "    column_maps=col_maps\n",
    ")"
   ]
  },
  {
   "cell_type": "code",
   "execution_count": null,
   "id": "a262e24d",
   "metadata": {},
   "outputs": [],
   "source": [
    "%%time\n",
    "processed_dataset_two_proc.write_to_feather(\n",
    "    f\"{PROCESSED_DATASETS_PRIMARY_CARE_LOCATION}/april_2022/processed_data/GNH_bhr_procedures.arrow\"\n",
    ")"
   ]
  },
  {
   "cell_type": "code",
   "execution_count": null,
   "id": "6352499e",
   "metadata": {},
   "outputs": [],
   "source": [
    "%%time\n",
    "processed_dataset_two_proc.write_to_log(\n",
    "    f\"{PROCESSED_DATASETS_PRIMARY_CARE_LOCATION}/april_2022/processed_data/GNH_bhr_procedures_log.txt\"\n",
    ")"
   ]
  },
  {
   "cell_type": "markdown",
   "id": "69feba62",
   "metadata": {},
   "source": [
    "We now remove the unrealistic data (i.e. event before birth, before 1st Jan 1910 or after 5th Dec 2024) and save this into a cleaned_processed_data folder"
   ]
  },
  {
   "cell_type": "code",
   "execution_count": null,
   "id": "a99cd6d0",
   "metadata": {},
   "outputs": [],
   "source": [
    "%%time\n",
    "cleaned_processed_dataset_two_proc = processed_dataset_two_proc.remove_unrealistic_dates(\n",
    "    date_start=date_start,\n",
    "    date_end=date_end,\n",
    "    before_born=True,\n",
    "    demographic_dataset=demographics\n",
    ")"
   ]
  },
  {
   "cell_type": "code",
   "execution_count": null,
   "id": "c68eb2b8",
   "metadata": {},
   "outputs": [],
   "source": [
    "%%time\n",
    "cleaned_processed_dataset_two_proc.write_to_feather(\n",
    "    f\"{PROCESSED_DATASETS_PRIMARY_CARE_LOCATION}/april_2022/clean_processed_data/GNH_bhr_procedures.arrow\"\n",
    ")"
   ]
  },
  {
   "cell_type": "code",
   "execution_count": null,
   "id": "699eea80",
   "metadata": {},
   "outputs": [],
   "source": [
    "%%time\n",
    "cleaned_processed_dataset_two_proc.write_to_log(\n",
    "    f\"{PROCESSED_DATASETS_PRIMARY_CARE_LOCATION}/april_2022/clean_processed_data/GNH_bhr_procedures_log.txt\"\n",
    ")"
   ]
  },
  {
   "cell_type": "markdown",
   "id": "287ca672",
   "metadata": {},
   "source": [
    "### Merge all the data from April 2022 together \n",
    "\n",
    "Now we merge all the datasets into one dataset. We are going to load these from file to ensure that we are loading the right files as sometimes we run cells in different orders and that can cause issues. "
   ]
  },
  {
   "cell_type": "markdown",
   "id": "8e41c3a9",
   "metadata": {},
   "source": [
    "Load from file"
   ]
  },
  {
   "cell_type": "code",
   "execution_count": null,
   "id": "c9cb0b69",
   "metadata": {},
   "outputs": [],
   "source": [
    "%%time\n",
    "processed_dataset_one_obs = ProcessedDataset(\n",
    "    path=f\"{PROCESSED_DATASETS_PRIMARY_CARE_LOCATION}/april_2022/clean_processed_data/GNH_thwfnech_observations.arrow\", \n",
    "    coding_system=CodelistType.SNOMED.value, \n",
    "    dataset_type=DatasetType.PRIMARY_CARE.value, \n",
    "    log_path=f\"{PROCESSED_DATASETS_PRIMARY_CARE_LOCATION}/april_2022/processed_data/GNH_thwfnech_observations_log.txt\"\n",
    ")"
   ]
  },
  {
   "cell_type": "code",
   "execution_count": null,
   "id": "81fb4d46",
   "metadata": {},
   "outputs": [],
   "source": [
    "%%time\n",
    "processed_dataset_one_proc = ProcessedDataset(\n",
    "    path=f\"{PROCESSED_DATASETS_PRIMARY_CARE_LOCATION}/april_2022/clean_processed_data/GNH_thwfnech_procedures.arrow\", \n",
    "    coding_system=CodelistType.SNOMED.value, \n",
    "    dataset_type=DatasetType.PRIMARY_CARE.value, \n",
    "    log_path=f\"{PROCESSED_DATASETS_PRIMARY_CARE_LOCATION}/april_2022/processed_data/GNH_thwfnech_procedures_log.txt\"\n",
    ")"
   ]
  },
  {
   "cell_type": "code",
   "execution_count": null,
   "id": "af89029a",
   "metadata": {},
   "outputs": [],
   "source": [
    "%%time\n",
    "processed_dataset_two_obs = ProcessedDataset(\n",
    "    path=f\"{PROCESSED_DATASETS_PRIMARY_CARE_LOCATION}/april_2022/clean_processed_data/GNH_bhr_observations.arrow\", \n",
    "    coding_system=CodelistType.SNOMED.value, \n",
    "    dataset_type=DatasetType.PRIMARY_CARE.value, \n",
    "    log_path=f\"{PROCESSED_DATASETS_PRIMARY_CARE_LOCATION}/april_2022/processed_data/GNH_bhr_observations_log.txt\"\n",
    ")"
   ]
  },
  {
   "cell_type": "code",
   "execution_count": null,
   "id": "16c446d7",
   "metadata": {},
   "outputs": [],
   "source": [
    "%%time\n",
    "processed_dataset_two_proc = ProcessedDataset(\n",
    "    path=f\"{PROCESSED_DATASETS_PRIMARY_CARE_LOCATION}/april_2022/clean_processed_data/GNH_bhr_procedures.arrow\",\n",
    "    coding_system=CodelistType.SNOMED.value, \n",
    "    dataset_type=DatasetType.PRIMARY_CARE.value, \n",
    "    log_path=f\"{PROCESSED_DATASETS_PRIMARY_CARE_LOCATION}/april_2022/processed_data/GNH_bhr_procedures_log.txt\"\n",
    ")"
   ]
  },
  {
   "cell_type": "markdown",
   "id": "7dc93e44",
   "metadata": {},
   "source": [
    "Merge all the data together"
   ]
  },
  {
   "cell_type": "code",
   "execution_count": null,
   "id": "3f864b2f",
   "metadata": {},
   "outputs": [],
   "source": [
    "%%time\n",
    "processed_dataset_one_obs.merge_with_dataset(processed_dataset_one_proc)"
   ]
  },
  {
   "cell_type": "code",
   "execution_count": null,
   "id": "83bfa8e6",
   "metadata": {},
   "outputs": [],
   "source": [
    "%%time\n",
    "processed_dataset_one_obs.merge_with_dataset(processed_dataset_two_obs)"
   ]
  },
  {
   "cell_type": "code",
   "execution_count": null,
   "id": "c7c32b63",
   "metadata": {},
   "outputs": [],
   "source": [
    "%%time\n",
    "processed_dataset_one_obs.merge_with_dataset(processed_dataset_two_proc)"
   ]
  },
  {
   "cell_type": "markdown",
   "id": "13e5703b",
   "metadata": {},
   "source": [
    "Deduplicate the data"
   ]
  },
  {
   "cell_type": "code",
   "execution_count": null,
   "id": "d24ca827",
   "metadata": {},
   "outputs": [],
   "source": [
    "%%time\n",
    "deduplicated_data = processed_dataset_one_obs.deduplicate()"
   ]
  },
  {
   "cell_type": "markdown",
   "id": "5f5576ca",
   "metadata": {},
   "source": [
    "We now merge all the logs from the creation of the datasets into the log, and then sort by timestamps. "
   ]
  },
  {
   "cell_type": "code",
   "execution_count": null,
   "id": "1217d606",
   "metadata": {},
   "outputs": [],
   "source": [
    "%%time\n",
    "for log in processed_dataset_one_proc.log:\n",
    "    deduplicated_data.log.append(log)"
   ]
  },
  {
   "cell_type": "code",
   "execution_count": null,
   "id": "0e2a195f",
   "metadata": {},
   "outputs": [],
   "source": [
    "%%time\n",
    "for log in processed_dataset_two_obs.log:\n",
    "    deduplicated_data.log.append(log)"
   ]
  },
  {
   "cell_type": "code",
   "execution_count": null,
   "id": "a997c001",
   "metadata": {},
   "outputs": [],
   "source": [
    "%%time\n",
    "for log in processed_dataset_two_proc.log:\n",
    "    deduplicated_data.log.append(log)"
   ]
  },
  {
   "cell_type": "code",
   "execution_count": null,
   "id": "becd9d0f",
   "metadata": {},
   "outputs": [],
   "source": [
    "%%time\n",
    "deduplicated_data.log.sort()"
   ]
  },
  {
   "cell_type": "markdown",
   "id": "89501c38",
   "metadata": {},
   "source": [
    "Writing the data and logs to files to allow permanent access"
   ]
  },
  {
   "cell_type": "code",
   "execution_count": null,
   "id": "23a79cb6",
   "metadata": {},
   "outputs": [],
   "source": [
    "%%time\n",
    "deduplicated_data.write_to_log(f\"{MEGADATA_PRIMARY_CARE_LOCATION}/log_apr_2022.txt\")"
   ]
  },
  {
   "cell_type": "code",
   "execution_count": null,
   "id": "f48114de",
   "metadata": {},
   "outputs": [],
   "source": [
    "%%time\n",
    "deduplicated_data.write_to_feather(f\"{MEGADATA_PRIMARY_CARE_LOCATION}/april_22.arrow\")"
   ]
  },
  {
   "cell_type": "markdown",
   "id": "e67763dc",
   "metadata": {},
   "source": [
    "### 2nd cut of data - Dec 2022 Data\n",
    "\n",
    "There are 4 different files in this dataset which we will merge together. There are 4 different files because according to the README, the volunteers in Tower Hamlets, Waltham Forest, Newham and City and Hackney, were kept in one dataset (observations and procedure files) and Barking, Havering, Redbridge Outer East London CCGs were kept in a different dataset. For reference, I will call the first dataset (Tower Hamlets, Waltham Forest, Newham and City and Hackney) one and the other one two. "
   ]
  },
  {
   "cell_type": "code",
   "execution_count": null,
   "id": "6dd3ee9e",
   "metadata": {},
   "outputs": [],
   "source": [
    "dataset_one_dec_2022_observations_path = f\"{dec_2022_path}/GNH_thwfnech-phase2-outfiles_merge/cohort_gh2_observations_output_dataset_20221207.csv\"\n",
    "dataset_one_dec_2022_procedures_path = f\"{dec_2022_path}/GNH_thwfnech-phase2-outfiles_merge/cohort_gh2_procedure_req_output_dataset_20221208.csv\"\n",
    "dataset_two_dec_2022_observations_path = f\"{dec_2022_path}/GNH_bhr-phase2-outfiles_merge/gh2_observations_dataset_20221207.csv\"\n",
    "dataset_two_dec_2022_procedures_path = f\"{dec_2022_path}/GNH_bhr-phase2-outfiles_merge/gh2_procedure_req_20221207.csv\""
   ]
  },
  {
   "cell_type": "code",
   "execution_count": null,
   "id": "9a094aa7",
   "metadata": {},
   "outputs": [],
   "source": [
    "AnyPath(f\"{PROCESSED_DATASETS_PRIMARY_CARE_LOCATION}/dec_2022/clean_processed_data\").mkdir(parents=True, exist_ok=True)\n",
    "AnyPath(f\"{PROCESSED_DATASETS_PRIMARY_CARE_LOCATION}/dec_2022/processed_data\").mkdir(parents=True, exist_ok=True)"
   ]
  },
  {
   "cell_type": "markdown",
   "id": "4ce13e2c",
   "metadata": {},
   "source": [
    "**Dataset one obs**"
   ]
  },
  {
   "cell_type": "code",
   "execution_count": null,
   "id": "a3780fba",
   "metadata": {},
   "outputs": [],
   "source": [
    "%%time\n",
    "dataset_one_obs = RawDataset(\n",
    "    path=dataset_one_dec_2022_observations_path, \n",
    "    dataset_type=DatasetType.PRIMARY_CARE.value, \n",
    "    coding_system=CodelistType.SNOMED.value\n",
    ")"
   ]
  },
  {
   "cell_type": "code",
   "execution_count": null,
   "id": "18eca2b1",
   "metadata": {},
   "outputs": [],
   "source": [
    "%%time\n",
    "processed_dataset_one_obs = dataset_one_obs.process_dataset(\n",
    "    deduplication_options=deduplication_options, \n",
    "    column_maps=col_maps\n",
    ")"
   ]
  },
  {
   "cell_type": "code",
   "execution_count": null,
   "id": "c543f589",
   "metadata": {},
   "outputs": [],
   "source": [
    "%%time\n",
    "processed_dataset_one_obs.write_to_feather(\n",
    "    f\"{PROCESSED_DATASETS_PRIMARY_CARE_LOCATION}/dec_2022/processed_data/GNH_thwfnech_observations.arrow\"\n",
    ")\n",
    "processed_dataset_one_obs.write_to_log(\n",
    "    f\"{PROCESSED_DATASETS_PRIMARY_CARE_LOCATION}/dec_2022/processed_data/GNH_thwfnech_observations_log.txt\"\n",
    ")"
   ]
  },
  {
   "cell_type": "markdown",
   "id": "72d5ac84",
   "metadata": {},
   "source": [
    "We now remove the unrealistic data (i.e. event before birth, before 1st Jan 1910 or after 5th Dec 2024) and save this into a cleaned_processed_data folder"
   ]
  },
  {
   "cell_type": "code",
   "execution_count": null,
   "id": "a22b0998",
   "metadata": {},
   "outputs": [],
   "source": [
    "%%time\n",
    "cleaned_dataset_one_obs = (\n",
    "    processed_dataset_one_obs\n",
    "    .remove_unrealistic_dates(\n",
    "        date_start=date_start,\n",
    "        date_end=date_end,\n",
    "        before_born=True,\n",
    "        demographic_dataset=demographics\n",
    "    )\n",
    ")"
   ]
  },
  {
   "cell_type": "code",
   "execution_count": null,
   "id": "83a8f838",
   "metadata": {},
   "outputs": [],
   "source": [
    "%%time\n",
    "cleaned_dataset_one_obs.write_to_feather(\n",
    "    f\"{PROCESSED_DATASETS_PRIMARY_CARE_LOCATION}/dec_2022/clean_processed_data/GNH_thwfnech_observations.arrow\"\n",
    ")\n",
    "cleaned_dataset_one_obs.write_to_log(\n",
    "    f\"{PROCESSED_DATASETS_PRIMARY_CARE_LOCATION}/dec_2022/clean_processed_data/GNH_thwfnech_observations_log.txt\"\n",
    ")"
   ]
  },
  {
   "cell_type": "markdown",
   "id": "a31317f6",
   "metadata": {},
   "source": [
    "**Dataset one procedures**"
   ]
  },
  {
   "cell_type": "code",
   "execution_count": null,
   "id": "a09e8ade",
   "metadata": {},
   "outputs": [],
   "source": [
    "%%time\n",
    "dataset_one_proc = RawDataset(\n",
    "    path=dataset_one_dec_2022_procedures_path, \n",
    "    dataset_type=DatasetType.PRIMARY_CARE.value, \n",
    "    coding_system=CodelistType.SNOMED.value\n",
    ")"
   ]
  },
  {
   "cell_type": "code",
   "execution_count": null,
   "id": "89d15c87",
   "metadata": {},
   "outputs": [],
   "source": [
    "%%time\n",
    "processed_dataset_one_proc = dataset_one_proc.process_dataset(\n",
    "    deduplication_options=deduplication_options, \n",
    "    column_maps=col_maps\n",
    ")"
   ]
  },
  {
   "cell_type": "code",
   "execution_count": null,
   "id": "efa8fc73",
   "metadata": {},
   "outputs": [],
   "source": [
    "%%time\n",
    "processed_dataset_one_proc.write_to_feather(\n",
    "    f\"{PROCESSED_DATASETS_PRIMARY_CARE_LOCATION}/dec_2022/processed_data/GNH_thwfnech_procedures.arrow\"\n",
    ")\n",
    "processed_dataset_one_proc.write_to_log(\n",
    "    f\"{PROCESSED_DATASETS_PRIMARY_CARE_LOCATION}/dec_2022/processed_data/GNH_thwfnech_procedures_log.txt\"\n",
    ")"
   ]
  },
  {
   "cell_type": "markdown",
   "id": "62969fab",
   "metadata": {},
   "source": [
    "We now remove the unrealistic data (i.e. event before birth, before 1st Jan 1910 or after 5th Dec 2024) and save this into a cleaned_processed_data folder"
   ]
  },
  {
   "cell_type": "code",
   "execution_count": null,
   "id": "aaf6cb3f",
   "metadata": {},
   "outputs": [],
   "source": [
    "%%time\n",
    "cleaned_dataset_one_proc = processed_dataset_one_proc.remove_unrealistic_dates(\n",
    "    date_start=date_start,\n",
    "    date_end=date_end,\n",
    "    before_born=True,\n",
    "    demographic_dataset=demographics\n",
    ")"
   ]
  },
  {
   "cell_type": "code",
   "execution_count": null,
   "id": "2a528fe3",
   "metadata": {},
   "outputs": [],
   "source": [
    "%%time\n",
    "cleaned_dataset_one_proc.write_to_feather(\n",
    "    f\"{PROCESSED_DATASETS_PRIMARY_CARE_LOCATION}/dec_2022/clean_processed_data/GNH_thwfnech_procedures.arrow\"\n",
    ")\n",
    "cleaned_dataset_one_proc.write_to_log(\n",
    "    f\"{PROCESSED_DATASETS_PRIMARY_CARE_LOCATION}/dec_2022/clean_processed_data/GNH_thwfnech_procedures_log.txt\"\n",
    ")"
   ]
  },
  {
   "cell_type": "markdown",
   "id": "92edbfd6",
   "metadata": {},
   "source": [
    "**Dataset two obs**"
   ]
  },
  {
   "cell_type": "code",
   "execution_count": null,
   "id": "3d6fd992",
   "metadata": {},
   "outputs": [],
   "source": [
    "%%time\n",
    "dataset_two_obs = RawDataset(\n",
    "    path=dataset_two_dec_2022_observations_path, \n",
    "    dataset_type=DatasetType.PRIMARY_CARE.value, \n",
    "    coding_system=CodelistType.SNOMED.value\n",
    ")"
   ]
  },
  {
   "cell_type": "code",
   "execution_count": null,
   "id": "c7b29890",
   "metadata": {},
   "outputs": [],
   "source": [
    "%%time\n",
    "processed_dataset_two_obs = dataset_two_obs.process_dataset(\n",
    "    deduplication_options=deduplication_options, \n",
    "    column_maps=col_maps\n",
    ")"
   ]
  },
  {
   "cell_type": "code",
   "execution_count": null,
   "id": "cce1fcd5",
   "metadata": {},
   "outputs": [],
   "source": [
    "%%time\n",
    "processed_dataset_two_obs.write_to_feather(\n",
    "    f\"{PROCESSED_DATASETS_PRIMARY_CARE_LOCATION}/dec_2022/processed_data/GNH_bhr_observations.arrow\"\n",
    ")\n",
    "processed_dataset_two_obs.write_to_log(\n",
    "    f\"{PROCESSED_DATASETS_PRIMARY_CARE_LOCATION}/dec_2022/processed_data/NH_bhr_observations_log.txt\"\n",
    ")"
   ]
  },
  {
   "cell_type": "markdown",
   "id": "21e5f787",
   "metadata": {},
   "source": [
    "We now remove the unrealistic data (i.e. event before birth, before 1st Jan 1910 or after 5th Dec 2024) and save this into a cleaned_processed_data folder"
   ]
  },
  {
   "cell_type": "code",
   "execution_count": null,
   "id": "9f531ae0",
   "metadata": {},
   "outputs": [],
   "source": [
    "%%time\n",
    "cleaned_dataset_two_obs = (\n",
    "    processed_dataset_two_obs\n",
    "    .remove_unrealistic_dates(\n",
    "        date_start=date_start,\n",
    "        date_end=date_end,\n",
    "        before_born=True,\n",
    "        demographic_dataset=demographics\n",
    "    )\n",
    ")"
   ]
  },
  {
   "cell_type": "code",
   "execution_count": null,
   "id": "10b77dc9",
   "metadata": {},
   "outputs": [],
   "source": [
    "%%time\n",
    "cleaned_dataset_two_obs.write_to_feather(\n",
    "    f\"{PROCESSED_DATASETS_PRIMARY_CARE_LOCATION}/dec_2022/clean_processed_data/GNH_bhr_observations.arrow\")\n",
    "cleaned_dataset_two_obs.write_to_log(\n",
    "    f\"{PROCESSED_DATASETS_PRIMARY_CARE_LOCATION}/dec_2022/clean_processed_data/GNH_bhr_observations_log.txt\")"
   ]
  },
  {
   "cell_type": "markdown",
   "id": "6c8013fc",
   "metadata": {},
   "source": [
    "**Dataset two proc**"
   ]
  },
  {
   "cell_type": "code",
   "execution_count": null,
   "id": "70f78291",
   "metadata": {},
   "outputs": [],
   "source": [
    "%%time\n",
    "dataset_two_proc = RawDataset(\n",
    "    path=dataset_two_dec_2022_procedures_path, \n",
    "    dataset_type=DatasetType.PRIMARY_CARE.value, \n",
    "    coding_system=CodelistType.SNOMED.value\n",
    ")"
   ]
  },
  {
   "cell_type": "code",
   "execution_count": null,
   "id": "7328a321",
   "metadata": {},
   "outputs": [],
   "source": [
    "%%time\n",
    "processed_dataset_two_proc = dataset_two_proc.process_dataset(\n",
    "    deduplication_options=deduplication_options, \n",
    "    column_maps=col_maps\n",
    ")"
   ]
  },
  {
   "cell_type": "code",
   "execution_count": null,
   "id": "0a253090",
   "metadata": {},
   "outputs": [],
   "source": [
    "%%time\n",
    "processed_dataset_two_proc.write_to_feather(\n",
    "    f\"{PROCESSED_DATASETS_PRIMARY_CARE_LOCATION}/dec_2022/processed_data/GNH_bhr_procedures.arrow\"\n",
    ")\n",
    "processed_dataset_two_proc.write_to_log(\n",
    "    f\"{PROCESSED_DATASETS_PRIMARY_CARE_LOCATION}/dec_2022/processed_data/GNH_bhr_procedures_log.txt\"\n",
    ")"
   ]
  },
  {
   "cell_type": "markdown",
   "id": "49ec86a6",
   "metadata": {},
   "source": [
    "We now remove the unrealistic data (i.e. event before birth, before 1st Jan 1910 or after 5th Dec 2024) and save this into a cleaned_processed_data folder"
   ]
  },
  {
   "cell_type": "code",
   "execution_count": null,
   "id": "9a8a539a",
   "metadata": {},
   "outputs": [],
   "source": [
    "%%time\n",
    "cleaned_dataset_two_proc = processed_dataset_two_proc.remove_unrealistic_dates(\n",
    "    date_start=date_start,\n",
    "    date_end=date_end,\n",
    "    before_born=True,\n",
    "    demographic_dataset=demographics\n",
    ")"
   ]
  },
  {
   "cell_type": "code",
   "execution_count": null,
   "id": "d4213182",
   "metadata": {},
   "outputs": [],
   "source": [
    "%%time\n",
    "cleaned_dataset_two_proc.write_to_feather(\n",
    "    f\"{PROCESSED_DATASETS_PRIMARY_CARE_LOCATION}/dec_2022/clean_processed_data/GNH_bhr_procedures.arrow\"\n",
    ")\n",
    "cleaned_dataset_two_proc.write_to_log(\n",
    "    f\"{PROCESSED_DATASETS_PRIMARY_CARE_LOCATION}/dec_2022/clean_processed_data/GNH_bhr_procedures_log.txt\"\n",
    ")"
   ]
  },
  {
   "cell_type": "markdown",
   "id": "801d8ba6",
   "metadata": {},
   "source": [
    "Now we merge all the datasets into one. For this we will merge `dataset_one_proc`, `dataset_two_obs` and `dataset_two_proc` into `dataset_one_obs`. We will reload them from file to be safe. "
   ]
  },
  {
   "cell_type": "code",
   "execution_count": null,
   "id": "89f31a48",
   "metadata": {},
   "outputs": [],
   "source": [
    "%%time\n",
    "processed_dataset_one_obs = ProcessedDataset(\n",
    "    path=f\"{PROCESSED_DATASETS_PRIMARY_CARE_LOCATION}/dec_2022/clean_processed_data/GNH_thwfnech_observations.arrow\", \n",
    "    coding_system=CodelistType.SNOMED.value, \n",
    "    dataset_type=DatasetType.PRIMARY_CARE.value, \n",
    "    log_path=f\"{PROCESSED_DATASETS_PRIMARY_CARE_LOCATION}/dec_2022/clean_processed_data/GNH_thwfnech_observations_log.txt\"\n",
    ")"
   ]
  },
  {
   "cell_type": "code",
   "execution_count": null,
   "id": "629ed8a0",
   "metadata": {},
   "outputs": [],
   "source": [
    "%%time\n",
    "processed_dataset_one_proc = ProcessedDataset(\n",
    "    path=f\"{PROCESSED_DATASETS_PRIMARY_CARE_LOCATION}/dec_2022/clean_processed_data/GNH_thwfnech_procedures.arrow\", \n",
    "    coding_system=CodelistType.SNOMED.value, \n",
    "    dataset_type=DatasetType.PRIMARY_CARE.value, \n",
    "    log_path=f\"{PROCESSED_DATASETS_PRIMARY_CARE_LOCATION}/dec_2022/clean_processed_data/GNH_thwfnech_procedures_log.txt\"\n",
    ")"
   ]
  },
  {
   "cell_type": "code",
   "execution_count": null,
   "id": "74706a0a",
   "metadata": {},
   "outputs": [],
   "source": [
    "%%time\n",
    "processed_dataset_two_obs = ProcessedDataset(\n",
    "    path=f\"{PROCESSED_DATASETS_PRIMARY_CARE_LOCATION}/dec_2022/clean_processed_data/GNH_bhr_observations.arrow\",\n",
    "    coding_system=CodelistType.SNOMED.value, \n",
    "    dataset_type=DatasetType.PRIMARY_CARE.value, \n",
    "    log_path=f\"{PROCESSED_DATASETS_PRIMARY_CARE_LOCATION}/dec_2022/clean_processed_data/GNH_bhr_observations_log.txt\"\n",
    ")"
   ]
  },
  {
   "cell_type": "code",
   "execution_count": null,
   "id": "ba3424a5",
   "metadata": {},
   "outputs": [],
   "source": [
    "%%time\n",
    "processed_dataset_two_proc = ProcessedDataset(\n",
    "    path=f\"{PROCESSED_DATASETS_PRIMARY_CARE_LOCATION}/dec_2022/clean_processed_data/GNH_bhr_procedures.arrow\",\n",
    "    coding_system=CodelistType.SNOMED.value, \n",
    "    dataset_type=DatasetType.PRIMARY_CARE.value, \n",
    "    log_path=f\"{PROCESSED_DATASETS_PRIMARY_CARE_LOCATION}/dec_2022/clean_processed_data/GNH_bhr_procedures_log.txt\"\n",
    ")"
   ]
  },
  {
   "cell_type": "code",
   "execution_count": null,
   "id": "8b92978f",
   "metadata": {},
   "outputs": [],
   "source": [
    "%%time\n",
    "processed_dataset_one_obs.merge_with_dataset(processed_dataset_one_proc)"
   ]
  },
  {
   "cell_type": "code",
   "execution_count": null,
   "id": "c594ade4",
   "metadata": {},
   "outputs": [],
   "source": [
    "%%time\n",
    "processed_dataset_one_obs.merge_with_dataset(processed_dataset_two_obs)"
   ]
  },
  {
   "cell_type": "code",
   "execution_count": null,
   "id": "a47c9ab3",
   "metadata": {},
   "outputs": [],
   "source": [
    "%%time\n",
    "processed_dataset_one_obs.merge_with_dataset(processed_dataset_two_proc)"
   ]
  },
  {
   "cell_type": "code",
   "execution_count": null,
   "id": "c35b0d8a",
   "metadata": {},
   "outputs": [],
   "source": [
    "%%time\n",
    "processed_dataset_one_obs.log.append(f\"{datetime.now()}: The merged datasets has {processed_dataset_one_obs.data.shape[0]} rows\")"
   ]
  },
  {
   "cell_type": "code",
   "execution_count": null,
   "id": "2f486914",
   "metadata": {},
   "outputs": [],
   "source": [
    "%%time\n",
    "deduplicated_data = processed_dataset_one_obs.deduplicate()"
   ]
  },
  {
   "cell_type": "markdown",
   "id": "5b94245d",
   "metadata": {},
   "source": [
    "We now merge all the logs from the creation of the datasets into the log, and then sort by timestamps. "
   ]
  },
  {
   "cell_type": "code",
   "execution_count": null,
   "id": "f06f964e",
   "metadata": {},
   "outputs": [],
   "source": [
    "%%time\n",
    "for log in processed_dataset_one_proc.log:\n",
    "    deduplicated_data.log.append(log)"
   ]
  },
  {
   "cell_type": "code",
   "execution_count": null,
   "id": "96383bf0",
   "metadata": {},
   "outputs": [],
   "source": [
    "%%time\n",
    "for log in processed_dataset_two_obs.log:\n",
    "    deduplicated_data.log.append(log)"
   ]
  },
  {
   "cell_type": "code",
   "execution_count": null,
   "id": "d3a6650d",
   "metadata": {},
   "outputs": [],
   "source": [
    "%%time\n",
    "for log in processed_dataset_two_proc.log:\n",
    "    deduplicated_data.log.append(log)"
   ]
  },
  {
   "cell_type": "code",
   "execution_count": null,
   "id": "e2575d83",
   "metadata": {},
   "outputs": [],
   "source": [
    "%%time\n",
    "deduplicated_data.log.sort()"
   ]
  },
  {
   "cell_type": "markdown",
   "id": "cd748fc8",
   "metadata": {},
   "source": [
    "Writing the data and logs to files to allow permanent access"
   ]
  },
  {
   "cell_type": "code",
   "execution_count": null,
   "id": "36d8a3db",
   "metadata": {
    "scrolled": true
   },
   "outputs": [],
   "source": [
    "%%time\n",
    "deduplicated_data.write_to_log(f\"{MEGADATA_PRIMARY_CARE_LOCATION}/log_dec_2022.txt\")"
   ]
  },
  {
   "cell_type": "code",
   "execution_count": null,
   "id": "d9195c15",
   "metadata": {},
   "outputs": [],
   "source": [
    "%%time\n",
    "deduplicated_data.write_to_feather(f\"{MEGADATA_PRIMARY_CARE_LOCATION}/dec_22.arrow\")"
   ]
  },
  {
   "cell_type": "markdown",
   "id": "7be237f9",
   "metadata": {},
   "source": [
    "### 3rd cut of data - Jan 2023 Data \\[Corrupted, Skipped\\]\n",
    "\n",
    "2025-04-14: In previous run of BI_PY, this note was present: \"The data had an error in procedures and observations according to the readme so this has been removed.\" but (in heading)refered to Dec 2022 cut which is fine.  Jan 2023 cut is however corrupted and should be skipped. \n"
   ]
  },
  {
   "cell_type": "markdown",
   "id": "735b90b5",
   "metadata": {},
   "source": [
    "### 4th cut of data - March 2023 Data\n",
    "\n",
    "There are 2 different files - observations and procedures for this cut of data. "
   ]
  },
  {
   "cell_type": "code",
   "execution_count": null,
   "id": "876ce03c",
   "metadata": {},
   "outputs": [],
   "source": [
    "dataset_one_march_2023_observations_path = f\"{mar_2023_path}/gh3_observations.csv\"\n",
    "dataset_one_march_2023_procedures_path = f\"{mar_2023_path}/gh3_procedure_req.csv\""
   ]
  },
  {
   "cell_type": "code",
   "execution_count": null,
   "id": "0fd8267e",
   "metadata": {},
   "outputs": [],
   "source": [
    "AnyPath(f\"{PROCESSED_DATASETS_PRIMARY_CARE_LOCATION}/march_2023/processed_data\").mkdir(parents=True, exist_ok=True)\n",
    "AnyPath(f\"{PROCESSED_DATASETS_PRIMARY_CARE_LOCATION}/march_2023/clean_processed_data\").mkdir(parents=True, exist_ok=True)"
   ]
  },
  {
   "cell_type": "markdown",
   "id": "8341f5ec",
   "metadata": {},
   "source": [
    "**Dataset one obs**"
   ]
  },
  {
   "cell_type": "code",
   "execution_count": null,
   "id": "c8e1e490",
   "metadata": {},
   "outputs": [],
   "source": [
    "%%time\n",
    "dataset_one_obs = RawDataset(path=dataset_one_march_2023_observations_path, dataset_type=DatasetType.PRIMARY_CARE.value, coding_system=CodelistType.SNOMED.value)"
   ]
  },
  {
   "cell_type": "code",
   "execution_count": null,
   "id": "6b2f3aca",
   "metadata": {},
   "outputs": [],
   "source": [
    "%%time\n",
    "processed_dataset_one_obs = dataset_one_obs.process_dataset(deduplication_options=deduplication_options, column_maps=col_maps)"
   ]
  },
  {
   "cell_type": "code",
   "execution_count": null,
   "id": "a33542ac",
   "metadata": {},
   "outputs": [],
   "source": [
    "%%time\n",
    "processed_dataset_one_obs.write_to_feather(\n",
    "    f\"{PROCESSED_DATASETS_PRIMARY_CARE_LOCATION}/march_2023/processed_data/observations.arrow\")\n",
    "processed_dataset_one_obs.write_to_log(\n",
    "    f\"{PROCESSED_DATASETS_PRIMARY_CARE_LOCATION}/march_2023/processed_data/observations_log.txt\")"
   ]
  },
  {
   "cell_type": "markdown",
   "id": "0114f65f",
   "metadata": {},
   "source": [
    "We now remove the unrealistic data (i.e. event before birth, before 1st Jan 1910 or after 5th Dec 2024) and save this into a cleaned_processed_data folder"
   ]
  },
  {
   "cell_type": "code",
   "execution_count": null,
   "id": "a35dded1",
   "metadata": {},
   "outputs": [],
   "source": [
    "%%time\n",
    "cleaned_dataset_one_obs = (\n",
    "    processed_dataset_one_obs.remove_unrealistic_dates(\n",
    "        date_start=date_start,\n",
    "        date_end=date_end,\n",
    "        before_born=True,\n",
    "        demographic_dataset=demographics\n",
    "    )\n",
    ")"
   ]
  },
  {
   "cell_type": "code",
   "execution_count": null,
   "id": "4ecd9c27",
   "metadata": {},
   "outputs": [],
   "source": [
    "%%time\n",
    "cleaned_dataset_one_obs.write_to_feather(\n",
    "    f\"{PROCESSED_DATASETS_PRIMARY_CARE_LOCATION}/march_2023/clean_processed_data/observations.arrow\")\n",
    "cleaned_dataset_one_obs.write_to_log(\n",
    "    f\"{PROCESSED_DATASETS_PRIMARY_CARE_LOCATION}/march_2023/clean_processed_data/observations_log.txt\")"
   ]
  },
  {
   "cell_type": "markdown",
   "id": "96550c78",
   "metadata": {},
   "source": [
    "**Dataset one procedures**"
   ]
  },
  {
   "cell_type": "code",
   "execution_count": null,
   "id": "6817c14e",
   "metadata": {},
   "outputs": [],
   "source": [
    "%%time\n",
    "dataset_one_proc = RawDataset(path=dataset_one_march_2023_procedures_path, dataset_type=DatasetType.PRIMARY_CARE.value, coding_system=CodelistType.SNOMED.value)"
   ]
  },
  {
   "cell_type": "code",
   "execution_count": null,
   "id": "7491ed79",
   "metadata": {},
   "outputs": [],
   "source": [
    "%%time\n",
    "processed_dataset_one_proc = dataset_one_proc.process_dataset(deduplication_options=deduplication_options, column_maps=col_maps)"
   ]
  },
  {
   "cell_type": "code",
   "execution_count": null,
   "id": "44b99e62",
   "metadata": {},
   "outputs": [],
   "source": [
    "%%time\n",
    "processed_dataset_one_proc.write_to_feather(\n",
    "    f\"{PROCESSED_DATASETS_PRIMARY_CARE_LOCATION}/march_2023/processed_data/procedures.arrow\"\n",
    ")\n",
    "processed_dataset_one_proc.write_to_log(\n",
    "    f\"{PROCESSED_DATASETS_PRIMARY_CARE_LOCATION}/march_2023/processed_data/procedures_log.txt\"\n",
    ")"
   ]
  },
  {
   "cell_type": "markdown",
   "id": "9bbf8e15",
   "metadata": {},
   "source": [
    "We now remove the unrealistic data (i.e. event before birth, before 1st Jan 1910 or after 5th Dec 2024) and save this into a cleaned_processed_data folder"
   ]
  },
  {
   "cell_type": "code",
   "execution_count": null,
   "id": "aee8f238",
   "metadata": {},
   "outputs": [],
   "source": [
    "%%time\n",
    "cleaned_dataset_one_proc = processed_dataset_one_proc.remove_unrealistic_dates(\n",
    "    date_start=date_start,\n",
    "    date_end=date_end,\n",
    "    before_born=True,\n",
    "    demographic_dataset=demographics\n",
    ")"
   ]
  },
  {
   "cell_type": "code",
   "execution_count": null,
   "id": "bd545130",
   "metadata": {},
   "outputs": [],
   "source": [
    "%%time\n",
    "cleaned_dataset_one_proc.write_to_feather(\n",
    "    f\"{PROCESSED_DATASETS_PRIMARY_CARE_LOCATION}/march_2023/clean_processed_data/procedures.arrow\"\n",
    ")\n",
    "cleaned_dataset_one_proc.write_to_log(\n",
    "    f\"{PROCESSED_DATASETS_PRIMARY_CARE_LOCATION}/march_2023/clean_processed_data/procedures_log.txt\"\n",
    ")"
   ]
  },
  {
   "cell_type": "markdown",
   "id": "248339fb",
   "metadata": {},
   "source": [
    "Now we merge all the datasets into one. For this we will merge `dataset_one_proc` into `dataset_one_obs`. We will load them file. "
   ]
  },
  {
   "cell_type": "code",
   "execution_count": null,
   "id": "cae28f74",
   "metadata": {},
   "outputs": [],
   "source": [
    "%%time\n",
    "cleaned_dataset_one_obs = ProcessedDataset(\n",
    "    path=f\"{PROCESSED_DATASETS_PRIMARY_CARE_LOCATION}/march_2023/clean_processed_data/observations.arrow\", \n",
    "    coding_system=CodelistType.SNOMED.value,\n",
    "    dataset_type=DatasetType.PRIMARY_CARE.value, \n",
    "    log_path=f\"{PROCESSED_DATASETS_PRIMARY_CARE_LOCATION}/march_2023/clean_processed_data/observations_log.txt\"\n",
    ")"
   ]
  },
  {
   "cell_type": "code",
   "execution_count": null,
   "id": "12dfe386",
   "metadata": {},
   "outputs": [],
   "source": [
    "%%time\n",
    "cleaned_dataset_one_proc = ProcessedDataset(\n",
    "    path=f\"{PROCESSED_DATASETS_PRIMARY_CARE_LOCATION}/march_2023/clean_processed_data/procedures.arrow\", \n",
    "    coding_system=CodelistType.SNOMED.value,\n",
    "    dataset_type=DatasetType.PRIMARY_CARE.value, \n",
    "    log_path=f\"{PROCESSED_DATASETS_PRIMARY_CARE_LOCATION}/march_2023/clean_processed_data/procedures_log.txt\"\n",
    ")"
   ]
  },
  {
   "cell_type": "code",
   "execution_count": null,
   "id": "d82cfb14",
   "metadata": {},
   "outputs": [],
   "source": [
    "%%time\n",
    "cleaned_dataset_one_obs.merge_with_dataset(cleaned_dataset_one_proc)"
   ]
  },
  {
   "cell_type": "markdown",
   "id": "0b648304",
   "metadata": {},
   "source": [
    "We now merge all the logs from the creation of the datasets into the log, and then sort by timestamps. "
   ]
  },
  {
   "cell_type": "code",
   "execution_count": null,
   "id": "6eea787c",
   "metadata": {},
   "outputs": [],
   "source": [
    "%%time\n",
    "deduplicated_data = cleaned_dataset_one_obs.deduplicate()"
   ]
  },
  {
   "cell_type": "code",
   "execution_count": null,
   "id": "a150a901",
   "metadata": {},
   "outputs": [],
   "source": [
    "%%time\n",
    "for log in processed_dataset_one_proc.log:\n",
    "    deduplicated_data.log.append(log)"
   ]
  },
  {
   "cell_type": "code",
   "execution_count": null,
   "id": "edf5cf77",
   "metadata": {},
   "outputs": [],
   "source": [
    "%%time\n",
    "deduplicated_data.log.sort()"
   ]
  },
  {
   "cell_type": "markdown",
   "id": "ead198ba",
   "metadata": {},
   "source": [
    "Writing the data and logs to files to allow permanent access"
   ]
  },
  {
   "cell_type": "code",
   "execution_count": null,
   "id": "97ff9046",
   "metadata": {},
   "outputs": [],
   "source": [
    "%%time\n",
    "deduplicated_data.write_to_log(f\"{MEGADATA_PRIMARY_CARE_LOCATION}/log_march_23.txt\")"
   ]
  },
  {
   "cell_type": "code",
   "execution_count": null,
   "id": "d9f5284b",
   "metadata": {},
   "outputs": [],
   "source": [
    "%%time\n",
    "deduplicated_data.write_to_feather(f\"{MEGADATA_PRIMARY_CARE_LOCATION}/march_2023.arrow\")"
   ]
  },
  {
   "cell_type": "markdown",
   "id": "75d44e65",
   "metadata": {},
   "source": [
    "### 5th cut of data - Nov 2023 Data\n",
    "\n",
    "There are 2 different files - observations and procedures for this cut of data. "
   ]
  },
  {
   "cell_type": "code",
   "execution_count": null,
   "id": "9f6bdddf",
   "metadata": {},
   "outputs": [],
   "source": [
    "%%time\n",
    "dataset_one_nov_2023_observations_path = f\"{nov_2023_path}/gh3_observations.csv\"\n",
    "dataset_one_nov_2023_procedures_path = f\"{nov_2023_path}/gh3_procedure_req.csv\""
   ]
  },
  {
   "cell_type": "code",
   "execution_count": null,
   "id": "816d97ae",
   "metadata": {},
   "outputs": [],
   "source": [
    "%%time\n",
    "AnyPath(f\"{PROCESSED_DATASETS_PRIMARY_CARE_LOCATION}/nov_2023/processed_data\").mkdir(parents=True, exist_ok=True)\n",
    "AnyPath(f\"{PROCESSED_DATASETS_PRIMARY_CARE_LOCATION}/nov_2023/clean_processed_data\").mkdir(parents=True, exist_ok=True)"
   ]
  },
  {
   "cell_type": "markdown",
   "id": "27e7bcde",
   "metadata": {},
   "source": [
    "**Dataset one obs**"
   ]
  },
  {
   "cell_type": "code",
   "execution_count": null,
   "id": "f55996cf",
   "metadata": {},
   "outputs": [],
   "source": [
    "%%time\n",
    "dataset_one_obs = RawDataset(\n",
    "    path=dataset_one_nov_2023_observations_path, \n",
    "    dataset_type=DatasetType.PRIMARY_CARE.value, \n",
    "    coding_system=CodelistType.SNOMED.value\n",
    ")"
   ]
  },
  {
   "cell_type": "code",
   "execution_count": null,
   "id": "54675765",
   "metadata": {
    "scrolled": true
   },
   "outputs": [],
   "source": [
    "%%time\n",
    "processed_dataset_one_obs = dataset_one_obs.process_dataset(\n",
    "    deduplication_options=deduplication_options, \n",
    "    column_maps=col_maps\n",
    ")"
   ]
  },
  {
   "cell_type": "code",
   "execution_count": null,
   "id": "f6d39f99",
   "metadata": {
    "scrolled": true
   },
   "outputs": [],
   "source": [
    "%%time\n",
    "processed_dataset_one_obs.write_to_feather(\n",
    "    f\"{PROCESSED_DATASETS_PRIMARY_CARE_LOCATION}/nov_2023/processed_data/observations.arrow\"\n",
    ")\n",
    "processed_dataset_one_obs.write_to_log(\n",
    "    f\"{PROCESSED_DATASETS_PRIMARY_CARE_LOCATION}/nov_2023/processed_data/observations_log.txt\"\n",
    ")"
   ]
  },
  {
   "cell_type": "markdown",
   "id": "9219c1cb",
   "metadata": {},
   "source": [
    "We now remove the unrealistic data (i.e. event before birth, before 1st Jan 1910 or after 5th Dec 2024) and save this into a cleaned_processed_data folder"
   ]
  },
  {
   "cell_type": "code",
   "execution_count": null,
   "id": "00dd5b95",
   "metadata": {},
   "outputs": [],
   "source": [
    "%%time\n",
    "cleaned_dataset_one_obs = processed_dataset_one_obs.remove_unrealistic_dates(\n",
    "    date_start=date_start,\n",
    "    date_end=date_end,\n",
    "    before_born=True,\n",
    "    demographic_dataset=demographics\n",
    ")"
   ]
  },
  {
   "cell_type": "code",
   "execution_count": null,
   "id": "4ec1e7b3",
   "metadata": {},
   "outputs": [],
   "source": [
    "%%time\n",
    "cleaned_dataset_one_obs.write_to_feather(\n",
    "    f\"{PROCESSED_DATASETS_PRIMARY_CARE_LOCATION}/nov_2023/clean_processed_data/observations.arrow\"\n",
    ")\n",
    "cleaned_dataset_one_obs.write_to_log(\n",
    "    f\"{PROCESSED_DATASETS_PRIMARY_CARE_LOCATION}/nov_2023/clean_processed_data/observations_log.txt\"\n",
    ")"
   ]
  },
  {
   "cell_type": "markdown",
   "id": "2a9253be",
   "metadata": {},
   "source": [
    "**Dataset one procedures**"
   ]
  },
  {
   "cell_type": "code",
   "execution_count": null,
   "id": "96213f43",
   "metadata": {},
   "outputs": [],
   "source": [
    "%%time\n",
    "dataset_one_proc = RawDataset(\n",
    "    path=dataset_one_nov_2023_procedures_path, \n",
    "    dataset_type=DatasetType.PRIMARY_CARE.value, \n",
    "    coding_system=CodelistType.SNOMED.value\n",
    ")"
   ]
  },
  {
   "cell_type": "code",
   "execution_count": null,
   "id": "7d8c06b7",
   "metadata": {},
   "outputs": [],
   "source": [
    "%%time\n",
    "processed_dataset_one_proc = dataset_one_proc.process_dataset(\n",
    "    deduplication_options=deduplication_options, \n",
    "    column_maps=col_maps\n",
    ")"
   ]
  },
  {
   "cell_type": "code",
   "execution_count": null,
   "id": "64fd53f3",
   "metadata": {},
   "outputs": [],
   "source": [
    "%%time\n",
    "processed_dataset_one_proc.write_to_feather(\n",
    "    f\"{PROCESSED_DATASETS_PRIMARY_CARE_LOCATION}/nov_2023/processed_data/procedures.arrow\"\n",
    ")\n",
    "processed_dataset_one_proc.write_to_log(\n",
    "    f\"{PROCESSED_DATASETS_PRIMARY_CARE_LOCATION}/nov_2023/processed_data/procedures_log.txt\"\n",
    ")"
   ]
  },
  {
   "cell_type": "markdown",
   "id": "b72ef92c",
   "metadata": {},
   "source": [
    "We now remove the unrealistic data (i.e. event before birth, before 1st Jan 1910 or after 5th Dec 2024) and save this into a cleaned_processed_data folder"
   ]
  },
  {
   "cell_type": "code",
   "execution_count": null,
   "id": "912a63d4",
   "metadata": {},
   "outputs": [],
   "source": [
    "%%time\n",
    "cleaned_dataset_one_proc = processed_dataset_one_proc.remove_unrealistic_dates(\n",
    "    date_start=date_start,\n",
    "    date_end=date_end,\n",
    "    before_born=True,\n",
    "    demographic_dataset=demographics\n",
    ")"
   ]
  },
  {
   "cell_type": "code",
   "execution_count": null,
   "id": "e2347065",
   "metadata": {},
   "outputs": [],
   "source": [
    "%%time\n",
    "cleaned_dataset_one_proc.write_to_feather(\n",
    "    f\"{PROCESSED_DATASETS_PRIMARY_CARE_LOCATION}/nov_2023/clean_processed_data/procedures.arrow\"\n",
    ")\n",
    "cleaned_dataset_one_proc.write_to_log(\n",
    "    f\"{PROCESSED_DATASETS_PRIMARY_CARE_LOCATION}/nov_2023/clean_processed_data/procedures_log.txt\"\n",
    ")"
   ]
  },
  {
   "cell_type": "markdown",
   "id": "42fc844d",
   "metadata": {},
   "source": [
    "Now we merge all the datasets into one. For this we will merge `dataset_one_proc` into `dataset_one_obs`. We are loading them from file into the datasets. "
   ]
  },
  {
   "cell_type": "code",
   "execution_count": null,
   "id": "c64f79f4",
   "metadata": {},
   "outputs": [],
   "source": [
    "%%time\n",
    "obs_data = ProcessedDataset(\n",
    "    path=f\"{PROCESSED_DATASETS_PRIMARY_CARE_LOCATION}/nov_2023/clean_processed_data/observations.arrow\", \n",
    "    coding_system=CodelistType.SNOMED.value, \n",
    "    dataset_type=DatasetType.PRIMARY_CARE.value, \n",
    "    log_path=f\"{PROCESSED_DATASETS_PRIMARY_CARE_LOCATION}/nov_2023/clean_processed_data/observations_log.txt\"\n",
    ")"
   ]
  },
  {
   "cell_type": "code",
   "execution_count": null,
   "id": "bbda1217",
   "metadata": {},
   "outputs": [],
   "source": [
    "%%time\n",
    "proc_data = ProcessedDataset(\n",
    "    path=f\"{PROCESSED_DATASETS_PRIMARY_CARE_LOCATION}/nov_2023/clean_processed_data/procedures.arrow\", \n",
    "    coding_system=CodelistType.SNOMED.value, \n",
    "    dataset_type=DatasetType.PRIMARY_CARE.value, \n",
    "    log_path=f\"{PROCESSED_DATASETS_PRIMARY_CARE_LOCATION}/nov_2023/clean_processed_data/procedures_log.txt\"\n",
    ")"
   ]
  },
  {
   "cell_type": "code",
   "execution_count": null,
   "id": "58838aa8",
   "metadata": {},
   "outputs": [],
   "source": [
    "%%time\n",
    "obs_data.merge_with_dataset(proc_data)"
   ]
  },
  {
   "cell_type": "code",
   "execution_count": null,
   "id": "227114c8",
   "metadata": {},
   "outputs": [],
   "source": [
    "%%time\n",
    "deduplicated_data = obs_data.deduplicate()"
   ]
  },
  {
   "cell_type": "code",
   "execution_count": null,
   "id": "820c55c6",
   "metadata": {},
   "outputs": [],
   "source": [
    "%%time\n",
    "for log in processed_dataset_one_proc.log:\n",
    "    deduplicated_data.log.append(log)"
   ]
  },
  {
   "cell_type": "code",
   "execution_count": null,
   "id": "e67bff1a",
   "metadata": {},
   "outputs": [],
   "source": [
    "%%time\n",
    "deduplicated_data.log.sort()"
   ]
  },
  {
   "cell_type": "markdown",
   "id": "85965a4f",
   "metadata": {},
   "source": [
    "Writing the data and logs to files to allow permanent access"
   ]
  },
  {
   "cell_type": "code",
   "execution_count": null,
   "id": "ee8d8c8c",
   "metadata": {},
   "outputs": [],
   "source": [
    "%%time\n",
    "deduplicated_data.write_to_log(f\"{MEGADATA_PRIMARY_CARE_LOCATION}/log_nov_23.txt\")"
   ]
  },
  {
   "cell_type": "code",
   "execution_count": null,
   "id": "be09d5b5",
   "metadata": {},
   "outputs": [],
   "source": [
    "%%time\n",
    "deduplicated_data.write_to_feather(f\"{MEGADATA_PRIMARY_CARE_LOCATION}/nov_2023.arrow\")"
   ]
  },
  {
   "cell_type": "markdown",
   "id": "8b09c144",
   "metadata": {},
   "source": [
    "### 6th cut of data - July 2024 Data\n",
    "\n",
    "There are 2 different files - observations and procedures for this cut of data. "
   ]
  },
  {
   "cell_type": "code",
   "execution_count": null,
   "id": "a1d4b674",
   "metadata": {
    "scrolled": true
   },
   "outputs": [],
   "source": [
    "%%time\n",
    "dataset_one_jul_2024_observations_path = f\"{july_2024_path}/gh3_observations.csv\"\n",
    "dataset_one_jul_2024_procedures_path = f\"{july_2024_path}/gh3_procedure_req.csv\""
   ]
  },
  {
   "cell_type": "code",
   "execution_count": null,
   "id": "cb469691",
   "metadata": {},
   "outputs": [],
   "source": [
    "%%time\n",
    "AnyPath(f\"{PROCESSED_DATASETS_PRIMARY_CARE_LOCATION}/jul_2024/processed_data\").mkdir(parents=True, exist_ok=True)\n",
    "AnyPath(f\"{PROCESSED_DATASETS_PRIMARY_CARE_LOCATION}/jul_2024/clean_processed_data\").mkdir(parents=True, exist_ok=True)"
   ]
  },
  {
   "cell_type": "markdown",
   "id": "25893299",
   "metadata": {},
   "source": [
    "**Dataset one obs**"
   ]
  },
  {
   "cell_type": "code",
   "execution_count": null,
   "id": "ea531b26",
   "metadata": {},
   "outputs": [],
   "source": [
    "%%time\n",
    "dataset_one_obs = RawDataset(\n",
    "    path=dataset_one_jul_2024_observations_path,\n",
    "    dataset_type=DatasetType.PRIMARY_CARE.value,\n",
    "    coding_system=CodelistType.SNOMED.value\n",
    ")"
   ]
  },
  {
   "cell_type": "code",
   "execution_count": null,
   "id": "f9d54b86",
   "metadata": {},
   "outputs": [],
   "source": [
    "%%time\n",
    "processed_dataset_one_obs = dataset_one_obs.process_dataset(\n",
    "    deduplication_options=deduplication_options,\n",
    "    column_maps=col_maps\n",
    ")"
   ]
  },
  {
   "cell_type": "code",
   "execution_count": null,
   "id": "3a7ecd99",
   "metadata": {},
   "outputs": [],
   "source": [
    "%%time\n",
    "processed_dataset_one_obs.write_to_feather(\n",
    "    f\"{PROCESSED_DATASETS_PRIMARY_CARE_LOCATION}/jul_2024/processed_data/observations.arrow\"\n",
    ")\n",
    "processed_dataset_one_obs.write_to_log(\n",
    "    f\"{PROCESSED_DATASETS_PRIMARY_CARE_LOCATION}/jul_2024/processed_data/observations_log.txt\"\n",
    ")"
   ]
  },
  {
   "cell_type": "markdown",
   "id": "43ea9ed8",
   "metadata": {},
   "source": [
    "We now remove the unrealistic data (i.e. event before birth, before 1st Jan 1910 or after 5th Dec 2024) and save this into a cleaned_processed_data folder"
   ]
  },
  {
   "cell_type": "code",
   "execution_count": null,
   "id": "a344e9e0",
   "metadata": {},
   "outputs": [],
   "source": [
    "%%time\n",
    "cleaned_dataset_one_obs = processed_dataset_one_obs.remove_unrealistic_dates(\n",
    "    date_start=date_start,\n",
    "    date_end=date_end,\n",
    "    before_born=True,\n",
    "    demographic_dataset=demographics\n",
    ")"
   ]
  },
  {
   "cell_type": "code",
   "execution_count": null,
   "id": "e939e93f",
   "metadata": {},
   "outputs": [],
   "source": [
    "%%time\n",
    "cleaned_dataset_one_obs.write_to_feather(\n",
    "    f\"{PROCESSED_DATASETS_PRIMARY_CARE_LOCATION}/jul_2024/clean_processed_data/observations.arrow\"\n",
    ")\n",
    "cleaned_dataset_one_obs.write_to_log(\n",
    "    f\"{PROCESSED_DATASETS_PRIMARY_CARE_LOCATION}/jul_2024/clean_processed_data/observations_log.txt\"\n",
    ")"
   ]
  },
  {
   "cell_type": "markdown",
   "id": "b70e6555",
   "metadata": {},
   "source": [
    "**Dataset one procedures**\n",
    "\n",
    "2025-04-14: incorrect file specified here; replaced from `dataset_one_nov_2023_procedures_path` to `dataset_one_jul_2024_procedures_path`"
   ]
  },
  {
   "cell_type": "code",
   "execution_count": null,
   "id": "6c7f60ce",
   "metadata": {},
   "outputs": [],
   "source": [
    "%%time\n",
    "dataset_one_proc = RawDataset(\n",
    "    path=dataset_one_jul_2024_procedures_path, \n",
    "    dataset_type=DatasetType.PRIMARY_CARE.value, \n",
    "    coding_system=CodelistType.SNOMED.value\n",
    ")\n"
   ]
  },
  {
   "cell_type": "code",
   "execution_count": null,
   "id": "77768062",
   "metadata": {},
   "outputs": [],
   "source": [
    "%%time\n",
    "processed_dataset_one_proc = dataset_one_proc.process_dataset(\n",
    "    deduplication_options=deduplication_options, \n",
    "    column_maps=col_maps\n",
    ")"
   ]
  },
  {
   "cell_type": "code",
   "execution_count": null,
   "id": "810ed642",
   "metadata": {
    "scrolled": false
   },
   "outputs": [],
   "source": [
    "%%time\n",
    "processed_dataset_one_proc.write_to_feather(\n",
    "    f\"{PROCESSED_DATASETS_PRIMARY_CARE_LOCATION}/jul_2024/processed_data/procedures.arrow\")\n",
    "processed_dataset_one_proc.write_to_log(\n",
    "    f\"{PROCESSED_DATASETS_PRIMARY_CARE_LOCATION}/jul_2024/processed_data/procedures_log.txt\"\n",
    ")"
   ]
  },
  {
   "cell_type": "markdown",
   "id": "57d06f4f",
   "metadata": {},
   "source": [
    "We now remove the unrealistic data (i.e. event before birth, before 1st Jan 1910 or after 5th Dec 2024) and save this into a cleaned_processed_data folder"
   ]
  },
  {
   "cell_type": "code",
   "execution_count": null,
   "id": "7b61e98c",
   "metadata": {},
   "outputs": [],
   "source": [
    "%%time\n",
    "cleaned_dataset_one_proc = processed_dataset_one_proc.remove_unrealistic_dates(\n",
    "    date_start=date_start,\n",
    "    date_end=date_end,\n",
    "    before_born=True,\n",
    "    demographic_dataset=demographics\n",
    ")"
   ]
  },
  {
   "cell_type": "code",
   "execution_count": null,
   "id": "d83a5839",
   "metadata": {},
   "outputs": [],
   "source": [
    "%%time\n",
    "cleaned_dataset_one_proc.write_to_feather(\n",
    "    f\"{PROCESSED_DATASETS_PRIMARY_CARE_LOCATION}/jul_2024/clean_processed_data/procedures.arrow\"\n",
    ")\n",
    "cleaned_dataset_one_proc.write_to_log(\n",
    "    f\"{PROCESSED_DATASETS_PRIMARY_CARE_LOCATION}/jul_2024/clean_processed_data/procedures_log.txt\"\n",
    ")"
   ]
  },
  {
   "cell_type": "markdown",
   "id": "1df263c9",
   "metadata": {},
   "source": [
    "Now we merge all the datasets into one. For this we will merge `dataset_one_proc` into `dataset_one_obs`. We are loading them from file into the datasets. "
   ]
  },
  {
   "cell_type": "code",
   "execution_count": null,
   "id": "a9dfbb5a",
   "metadata": {},
   "outputs": [],
   "source": [
    "%%time\n",
    "obs_data = ProcessedDataset(\n",
    "    path=f\"{PROCESSED_DATASETS_PRIMARY_CARE_LOCATION}/jul_2024/clean_processed_data/observations.arrow\", \n",
    "    coding_system=CodelistType.SNOMED.value, \n",
    "    dataset_type=DatasetType.PRIMARY_CARE.value, \n",
    "    log_path=f\"{PROCESSED_DATASETS_PRIMARY_CARE_LOCATION}/jul_2024/clean_processed_data/observations_log.txt\"\n",
    ")"
   ]
  },
  {
   "cell_type": "code",
   "execution_count": null,
   "id": "ac224b53",
   "metadata": {},
   "outputs": [],
   "source": [
    "%%time\n",
    "proc_data = ProcessedDataset(\n",
    "    path=f\"{PROCESSED_DATASETS_PRIMARY_CARE_LOCATION}/jul_2024/clean_processed_data/procedures.arrow\", \n",
    "    coding_system=CodelistType.SNOMED.value, \n",
    "    dataset_type=DatasetType.PRIMARY_CARE.value, \n",
    "    log_path=f\"{PROCESSED_DATASETS_PRIMARY_CARE_LOCATION}/jul_2024/clean_processed_data/procedures_log.txt\"\n",
    ")"
   ]
  },
  {
   "cell_type": "code",
   "execution_count": null,
   "id": "2259606d",
   "metadata": {},
   "outputs": [],
   "source": [
    "%%time\n",
    "obs_data.merge_with_dataset(proc_data)"
   ]
  },
  {
   "cell_type": "code",
   "execution_count": null,
   "id": "89ae37bc",
   "metadata": {},
   "outputs": [],
   "source": [
    "%%time\n",
    "deduplicated_data = obs_data.deduplicate()"
   ]
  },
  {
   "cell_type": "code",
   "execution_count": null,
   "id": "cbc53eae",
   "metadata": {},
   "outputs": [],
   "source": [
    "%%time\n",
    "for log in processed_dataset_one_proc.log:\n",
    "    deduplicated_data.log.append(log)"
   ]
  },
  {
   "cell_type": "code",
   "execution_count": null,
   "id": "b4525754",
   "metadata": {},
   "outputs": [],
   "source": [
    "%%time\n",
    "deduplicated_data.log.sort()"
   ]
  },
  {
   "cell_type": "markdown",
   "id": "1b033705",
   "metadata": {},
   "source": [
    "Writing the data and logs to files to allow permanent access"
   ]
  },
  {
   "cell_type": "code",
   "execution_count": null,
   "id": "3e0ff814",
   "metadata": {},
   "outputs": [],
   "source": [
    "%%time\n",
    "deduplicated_data.write_to_log(f\"{MEGADATA_PRIMARY_CARE_LOCATION}/log_jul_24.txt\")"
   ]
  },
  {
   "cell_type": "code",
   "execution_count": null,
   "id": "a55bacea",
   "metadata": {
    "scrolled": true
   },
   "outputs": [],
   "source": [
    "%%time\n",
    "deduplicated_data.write_to_feather(f\"{MEGADATA_PRIMARY_CARE_LOCATION}/jul_2024.arrow\")"
   ]
  },
  {
   "cell_type": "markdown",
   "id": "801d74be",
   "metadata": {},
   "source": [
    "### 7th cut of data - December 2024 Data\n",
    "\n",
    "There are 2 different files - observations and procedures for this cut of data. "
   ]
  },
  {
   "cell_type": "code",
   "execution_count": null,
   "id": "13532a88",
   "metadata": {
    "scrolled": true
   },
   "outputs": [],
   "source": [
    "dataset_one_dec_2024_observations_path = f\"{dec_2024_path}/gh3_observations.csv\"\n",
    "dataset_one_dec_2024_procedures_path = f\"{dec_2024_path}/gh3_procedure_req.csv\""
   ]
  },
  {
   "cell_type": "code",
   "execution_count": null,
   "id": "b01af599",
   "metadata": {},
   "outputs": [],
   "source": [
    "AnyPath(f\"{PROCESSED_DATASETS_PRIMARY_CARE_LOCATION}/dec_2024/processed_data\").mkdir(parents=True, exist_ok=True)\n",
    "AnyPath(f\"{PROCESSED_DATASETS_PRIMARY_CARE_LOCATION}/dec_2024/clean_processed_data\").mkdir(parents=True, exist_ok=True)"
   ]
  },
  {
   "cell_type": "markdown",
   "id": "4320a659",
   "metadata": {},
   "source": [
    "**Dataset one obs**"
   ]
  },
  {
   "cell_type": "code",
   "execution_count": null,
   "id": "e11e8828",
   "metadata": {},
   "outputs": [],
   "source": [
    "%%time\n",
    "dataset_one_obs = RawDataset(\n",
    "    path=dataset_one_dec_2024_observations_path,\n",
    "    dataset_type=DatasetType.PRIMARY_CARE.value,\n",
    "    coding_system=CodelistType.SNOMED.value\n",
    ")"
   ]
  },
  {
   "cell_type": "code",
   "execution_count": null,
   "id": "6805845d",
   "metadata": {},
   "outputs": [],
   "source": [
    "%%time\n",
    "processed_dataset_one_obs = dataset_one_obs.process_dataset(\n",
    "    deduplication_options=deduplication_options,\n",
    "    column_maps=col_maps\n",
    ")"
   ]
  },
  {
   "cell_type": "code",
   "execution_count": null,
   "id": "99a7f9a0",
   "metadata": {},
   "outputs": [],
   "source": [
    "%%time\n",
    "processed_dataset_one_obs.write_to_feather(\n",
    "    f\"{PROCESSED_DATASETS_PRIMARY_CARE_LOCATION}/dec_2024/processed_data/observations.arrow\")\n",
    "processed_dataset_one_obs.write_to_log(\n",
    "    f\"{PROCESSED_DATASETS_PRIMARY_CARE_LOCATION}/dec_2024/processed_data/observations_log.txt\")"
   ]
  },
  {
   "cell_type": "markdown",
   "id": "c8485eb6",
   "metadata": {},
   "source": [
    "We now remove the unrealistic data (i.e. event before birth, before 1st Jan 1910 or after 5th Dec 2024) and save this into a cleaned_processed_data folder"
   ]
  },
  {
   "cell_type": "code",
   "execution_count": null,
   "id": "61647b3b",
   "metadata": {},
   "outputs": [],
   "source": [
    "%%time\n",
    "cleaned_dataset_one_obs = processed_dataset_one_obs.remove_unrealistic_dates(\n",
    "    date_start=date_start,\n",
    "    date_end=date_end,\n",
    "    before_born=True,\n",
    "    demographic_dataset=demographics\n",
    ")"
   ]
  },
  {
   "cell_type": "code",
   "execution_count": null,
   "id": "f66c3b09",
   "metadata": {},
   "outputs": [],
   "source": [
    "%%time\n",
    "cleaned_dataset_one_obs.write_to_feather(\n",
    "    f\"{PROCESSED_DATASETS_PRIMARY_CARE_LOCATION}/dec_2024/clean_processed_data/observations.arrow\"\n",
    ")\n",
    "cleaned_dataset_one_obs.write_to_log(\n",
    "    f\"{PROCESSED_DATASETS_PRIMARY_CARE_LOCATION}/dec_2024/clean_processed_data/observations_log.txt\"\n",
    ")"
   ]
  },
  {
   "cell_type": "markdown",
   "id": "83aaa29d",
   "metadata": {},
   "source": [
    "**Dataset one procedures**\n",
    "\n",
    "2025-04-14: incorrect file specified here; replaced from `dataset_one_nov_2023_procedures_path` to `dataset_one_jul_2024_procedures_path`"
   ]
  },
  {
   "cell_type": "code",
   "execution_count": null,
   "id": "5d87c056",
   "metadata": {},
   "outputs": [],
   "source": [
    "%%time\n",
    "dataset_one_proc = RawDataset(\n",
    "    path=dataset_one_dec_2024_procedures_path,\n",
    "    dataset_type=DatasetType.PRIMARY_CARE.value,\n",
    "    coding_system=CodelistType.SNOMED.value\n",
    ")\n"
   ]
  },
  {
   "cell_type": "code",
   "execution_count": null,
   "id": "e6c8288b",
   "metadata": {},
   "outputs": [],
   "source": [
    "%%time\n",
    "processed_dataset_one_proc = dataset_one_proc.process_dataset(\n",
    "    deduplication_options=deduplication_options, \n",
    "    column_maps=col_maps\n",
    ")"
   ]
  },
  {
   "cell_type": "code",
   "execution_count": null,
   "id": "a69782ce",
   "metadata": {
    "scrolled": false
   },
   "outputs": [],
   "source": [
    "%%time\n",
    "processed_dataset_one_proc.write_to_feather(\n",
    "    f\"{PROCESSED_DATASETS_PRIMARY_CARE_LOCATION}/dec_2024/processed_data/procedures.arrow\"\n",
    ")\n",
    "processed_dataset_one_proc.write_to_log(\n",
    "    f\"{PROCESSED_DATASETS_PRIMARY_CARE_LOCATION}/dec_2024/processed_data/procedures_log.txt\"\n",
    ")"
   ]
  },
  {
   "cell_type": "markdown",
   "id": "dde51f75",
   "metadata": {},
   "source": [
    "We now remove the unrealistic data (i.e. event before birth, before 1st Jan 1910 or after 5th Dec 2024) and save this into a cleaned_processed_data folder"
   ]
  },
  {
   "cell_type": "code",
   "execution_count": null,
   "id": "f4eea1ba",
   "metadata": {},
   "outputs": [],
   "source": [
    "%%time\n",
    "cleaned_dataset_one_proc = processed_dataset_one_proc.remove_unrealistic_dates(\n",
    "    date_start=date_start, \n",
    "    date_end=date_end, \n",
    "    before_born=True,\n",
    "    demographic_dataset=demographics\n",
    ")"
   ]
  },
  {
   "cell_type": "code",
   "execution_count": null,
   "id": "5690a79a",
   "metadata": {},
   "outputs": [],
   "source": [
    "%%time\n",
    "cleaned_dataset_one_proc.write_to_feather(\n",
    "    f\"{PROCESSED_DATASETS_PRIMARY_CARE_LOCATION}/dec_2024/clean_processed_data/procedures.arrow\"\n",
    ")\n",
    "cleaned_dataset_one_proc.write_to_log(\n",
    "    f\"{PROCESSED_DATASETS_PRIMARY_CARE_LOCATION}/dec_2024/clean_processed_data/procedures_log.txt\"\n",
    ")"
   ]
  },
  {
   "cell_type": "markdown",
   "id": "fca372b7",
   "metadata": {},
   "source": [
    "Now we merge all the datasets into one. For this we will merge `dataset_one_proc` into `dataset_one_obs`. We are loading them from file into the datasets. "
   ]
  },
  {
   "cell_type": "code",
   "execution_count": null,
   "id": "c9cc6a91",
   "metadata": {},
   "outputs": [],
   "source": [
    "%%time\n",
    "obs_data = ProcessedDataset(\n",
    "    path=f\"{PROCESSED_DATASETS_PRIMARY_CARE_LOCATION}/dec_2024/clean_processed_data/observations.arrow\", \n",
    "    coding_system=CodelistType.SNOMED.value, \n",
    "    dataset_type=DatasetType.PRIMARY_CARE.value, \n",
    "    log_path=f\"{PROCESSED_DATASETS_PRIMARY_CARE_LOCATION}/dec_2024/clean_processed_data/observations_log.txt\"\n",
    ")"
   ]
  },
  {
   "cell_type": "code",
   "execution_count": null,
   "id": "eb9c55c8",
   "metadata": {},
   "outputs": [],
   "source": [
    "%%time\n",
    "proc_data = ProcessedDataset(\n",
    "    path=f\"{PROCESSED_DATASETS_PRIMARY_CARE_LOCATION}/dec_2024/clean_processed_data/procedures.arrow\", \n",
    "    coding_system=CodelistType.SNOMED.value, \n",
    "    dataset_type=DatasetType.PRIMARY_CARE.value, \n",
    "    log_path=f\"{PROCESSED_DATASETS_PRIMARY_CARE_LOCATION}/dec_2024/clean_processed_data/procedures_log.txt\"\n",
    ")"
   ]
  },
  {
   "cell_type": "code",
   "execution_count": null,
   "id": "781fcf7f",
   "metadata": {},
   "outputs": [],
   "source": [
    "%%time\n",
    "obs_data.merge_with_dataset(proc_data)"
   ]
  },
  {
   "cell_type": "code",
   "execution_count": null,
   "id": "904d984c",
   "metadata": {},
   "outputs": [],
   "source": [
    "%%time\n",
    "deduplicated_data = obs_data.deduplicate()"
   ]
  },
  {
   "cell_type": "code",
   "execution_count": null,
   "id": "7eebe42a",
   "metadata": {},
   "outputs": [],
   "source": [
    "%%time\n",
    "for log in processed_dataset_one_proc.log:\n",
    "    deduplicated_data.log.append(log)"
   ]
  },
  {
   "cell_type": "code",
   "execution_count": null,
   "id": "fc9af03e",
   "metadata": {},
   "outputs": [],
   "source": [
    "%%time\n",
    "deduplicated_data.log.sort()"
   ]
  },
  {
   "cell_type": "markdown",
   "id": "9571ab2d",
   "metadata": {},
   "source": [
    "Writing the data and logs to files to allow permanent access"
   ]
  },
  {
   "cell_type": "code",
   "execution_count": null,
   "id": "2fa6af3c",
   "metadata": {},
   "outputs": [],
   "source": [
    "%%time\n",
    "deduplicated_data.write_to_log(f\"{MEGADATA_PRIMARY_CARE_LOCATION}/log_dec_24.txt\")"
   ]
  },
  {
   "cell_type": "code",
   "execution_count": null,
   "id": "0e5ab401",
   "metadata": {
    "scrolled": true
   },
   "outputs": [],
   "source": [
    "%%time\n",
    "deduplicated_data.write_to_feather(f\"{MEGADATA_PRIMARY_CARE_LOCATION}/dec_2024.arrow\")"
   ]
  },
  {
   "cell_type": "markdown",
   "id": "b465dcfb",
   "metadata": {},
   "source": [
    "### Merge all the primary care datasets together\n",
    "\n",
    "Here we are merging all the 6 datasets together (7 cuts but one invalid) and then deduplicate this. We will read in each cleaned, deduplicated file and merge them into each other. Once they are all merged, we will deduplicate them. "
   ]
  },
  {
   "cell_type": "code",
   "execution_count": null,
   "id": "5b41c5d5",
   "metadata": {},
   "outputs": [],
   "source": [
    "%%time\n",
    "apr_2022_data = ProcessedDataset(\n",
    "    path=f\"{MEGADATA_PRIMARY_CARE_LOCATION}/april_22.arrow\", \n",
    "    dataset_type=DatasetType.PRIMARY_CARE.value, \n",
    "    coding_system=CodelistType.SNOMED.value, \n",
    "    log_path=f\"{MEGADATA_PRIMARY_CARE_LOCATION}/log_apr_2022.txt\"\n",
    ")"
   ]
  },
  {
   "cell_type": "code",
   "execution_count": null,
   "id": "f9addaeb",
   "metadata": {},
   "outputs": [],
   "source": [
    "%%time\n",
    "dec_2022_data = ProcessedDataset(\n",
    "    path=f\"{MEGADATA_PRIMARY_CARE_LOCATION}/dec_22.arrow\", \n",
    "    dataset_type=DatasetType.PRIMARY_CARE.value, \n",
    "    coding_system=CodelistType.SNOMED.value, \n",
    "    log_path=f\"{MEGADATA_PRIMARY_CARE_LOCATION}/log_dec_2022.txt\"\n",
    ")"
   ]
  },
  {
   "cell_type": "code",
   "execution_count": null,
   "id": "af029238",
   "metadata": {},
   "outputs": [],
   "source": [
    "%%time\n",
    "mar_2023_data = ProcessedDataset(\n",
    "    path=f\"{MEGADATA_PRIMARY_CARE_LOCATION}/march_2023.arrow\", \n",
    "    dataset_type=DatasetType.PRIMARY_CARE.value, \n",
    "    coding_system=CodelistType.SNOMED.value, \n",
    "    log_path=f\"{MEGADATA_PRIMARY_CARE_LOCATION}/log_march_23.txt\"\n",
    ")"
   ]
  },
  {
   "cell_type": "code",
   "execution_count": null,
   "id": "c39af881",
   "metadata": {},
   "outputs": [],
   "source": [
    "%%time\n",
    "nov_2023_data = ProcessedDataset(\n",
    "    path=f\"{MEGADATA_PRIMARY_CARE_LOCATION}/nov_2023.arrow\", \n",
    "    dataset_type=DatasetType.PRIMARY_CARE.value, \n",
    "    coding_system=CodelistType.SNOMED.value, \n",
    "    log_path=f\"{MEGADATA_PRIMARY_CARE_LOCATION}/log_nov_23.txt\"\n",
    ")"
   ]
  },
  {
   "cell_type": "code",
   "execution_count": null,
   "id": "6ebbbbfc",
   "metadata": {},
   "outputs": [],
   "source": [
    "%%time\n",
    "jul_2024_data = ProcessedDataset(\n",
    "    path=f\"{MEGADATA_PRIMARY_CARE_LOCATION}/jul_2024.arrow\",\n",
    "    dataset_type=DatasetType.PRIMARY_CARE.value, \n",
    "    coding_system=CodelistType.SNOMED.value, \n",
    "    log_path=f\"{MEGADATA_PRIMARY_CARE_LOCATION}/log_jul_24.txt\"\n",
    ")"
   ]
  },
  {
   "cell_type": "code",
   "execution_count": null,
   "id": "fc6d160a",
   "metadata": {},
   "outputs": [],
   "source": [
    "%%time\n",
    "dec_2024_data = ProcessedDataset(\n",
    "    path=f\"{MEGADATA_PRIMARY_CARE_LOCATION}/dec_2024.arrow\", \n",
    "    dataset_type=DatasetType.PRIMARY_CARE.value, \n",
    "    coding_system=CodelistType.SNOMED.value, \n",
    "    log_path=f\"{MEGADATA_PRIMARY_CARE_LOCATION}/log_dec_24.txt\"\n",
    ")"
   ]
  },
  {
   "cell_type": "code",
   "execution_count": null,
   "id": "0761dfe8",
   "metadata": {},
   "outputs": [],
   "source": [
    "%%time\n",
    "apr_2022_data.merge_with_dataset(dec_2022_data)"
   ]
  },
  {
   "cell_type": "code",
   "execution_count": null,
   "id": "d4b91f20",
   "metadata": {},
   "outputs": [],
   "source": [
    "%%time\n",
    "apr_2022_data.merge_with_dataset(mar_2023_data)"
   ]
  },
  {
   "cell_type": "code",
   "execution_count": null,
   "id": "07bc2a2a",
   "metadata": {},
   "outputs": [],
   "source": [
    "%%time\n",
    "apr_2022_data.merge_with_dataset(nov_2023_data)"
   ]
  },
  {
   "cell_type": "code",
   "execution_count": null,
   "id": "898969b8",
   "metadata": {},
   "outputs": [],
   "source": [
    "%%time\n",
    "apr_2022_data.merge_with_dataset(jul_2024_data)"
   ]
  },
  {
   "cell_type": "code",
   "execution_count": null,
   "id": "e95c37ac",
   "metadata": {},
   "outputs": [],
   "source": [
    "%%time\n",
    "apr_2022_data.merge_with_dataset(dec_2024_data)"
   ]
  },
  {
   "cell_type": "markdown",
   "id": "c79c821c",
   "metadata": {},
   "source": [
    "We then merge all the log files together, and sort based on timestamp."
   ]
  },
  {
   "cell_type": "code",
   "execution_count": null,
   "id": "a9342625",
   "metadata": {},
   "outputs": [],
   "source": [
    "%%time\n",
    "for log in dec_2022_data.log:\n",
    "    apr_2022_data.log.append(log)\n",
    "    \n",
    "for log in mar_2023_data.log:\n",
    "    apr_2022_data.log.append(log)\n",
    "        \n",
    "for log in nov_2023_data.log:\n",
    "    apr_2022_data.log.append(log)\n",
    "    \n",
    "for log in jul_2024_data.log:\n",
    "    apr_2022_data.log.append(log)\n",
    "    \n",
    "for log in dec_2024_data.log:\n",
    "    apr_2022_data.log.append(log)"
   ]
  },
  {
   "cell_type": "code",
   "execution_count": null,
   "id": "fa2df1e3",
   "metadata": {},
   "outputs": [],
   "source": [
    "%%time\n",
    "apr_2022_data.log.sort()"
   ]
  },
  {
   "cell_type": "markdown",
   "id": "de66a6ea",
   "metadata": {},
   "source": [
    "Now we deduplicate and save the resulting file. "
   ]
  },
  {
   "cell_type": "code",
   "execution_count": null,
   "id": "e81842df",
   "metadata": {},
   "outputs": [],
   "source": [
    "%%time\n",
    "final_dataset = apr_2022_data.deduplicate()"
   ]
  },
  {
   "cell_type": "code",
   "execution_count": null,
   "id": "19dfc7ae",
   "metadata": {},
   "outputs": [],
   "source": [
    "%%time\n",
    "final_dataset.write_to_feather(f\"{MEGADATA_PRIMARY_CARE_LOCATION}/final_merged_data.arrow\")"
   ]
  },
  {
   "cell_type": "code",
   "execution_count": null,
   "id": "334c1c22",
   "metadata": {},
   "outputs": [],
   "source": [
    "%%time\n",
    "final_dataset.write_to_log(f\"{MEGADATA_PRIMARY_CARE_LOCATION}/final_log.txt\")"
   ]
  },
  {
   "cell_type": "markdown",
   "id": "fac7622c",
   "metadata": {},
   "source": [
    "## Map SNOMED codes to ICD10\n",
    "\n",
    "For the ICD10 3 digit binary traits, we want all the snomed codes (wherever possible) to be mapped to ICD10 codes. For this we need to load the mapping file, map the data and save as a new file. \n",
    "\n",
    "Our process for the mapping of SNOMED codes to ICD10 is:\n",
    "1) Load merged dataset from feather - This contains all the primary care data deduplicated. They are SNOMED at this points. \n",
    "2) Load the CSV file that maps SNOMED to ICD10. See note 2 below. \n",
    "3) Map data to ICD10 and drop rows that do not map. i.e. no ICD10 code exists for that SNOMED code\n",
    "4) Remove extra columns, and rename ICD10 column to code. Drop SNOMED code column. \n",
    "5) Deduplicate the data - This is needed as there are many SNOMED codes that map to just one ICD10 code as SNOMED is much more verbose. \n",
    "6) Save as feather file\n",
    "\n",
    "NOTE 1:  \n",
    "The removal of unrealistic dates has already taken place on the data here so we do not need to repeat this step. \n",
    "\n",
    "NOTE 2: \n",
    "Some of the long SNOMED codes that were created by the R code that generates the mapping file, saves them with scientific notation, i.e. a number with an E3 in it. We need to do a preprocessing step to load this data as strings (UTf.8) and then convert these to integrers. This is done in the preprocessing step below. "
   ]
  },
  {
   "cell_type": "markdown",
   "id": "3a8170fb",
   "metadata": {},
   "source": [
    "**Load the mapping file**\n",
    "\n",
    "We are assigning a specific schema of strings to allow us to load the numbers with scientific notation. "
   ]
  },
  {
   "cell_type": "code",
   "execution_count": null,
   "id": "6bc89d73",
   "metadata": {},
   "outputs": [],
   "source": [
    "%%time\n",
    "mapping_file = AnyPath(\n",
    "    \"/genesandhealth/library-red/genesandhealth\",\n",
    "    \"phenotypes_curated/version008_2024_02\",\n",
    "    \"3digitICD10/snomed-to-icd-mapping/snomed_to_icd_map.tsv\"\n",
    ")"
   ]
  },
  {
   "cell_type": "code",
   "execution_count": null,
   "id": "4e1e2012",
   "metadata": {},
   "outputs": [],
   "source": [
    "%%time\n",
    "schema = {\n",
    "    \"conceptId\": pl.Utf8,\n",
    "    \"mapTarget\": pl.Utf8,\n",
    "    \"ICD10_3digit\": pl.Utf8\n",
    "}"
   ]
  },
  {
   "cell_type": "code",
   "execution_count": null,
   "id": "017a02a0",
   "metadata": {},
   "outputs": [],
   "source": [
    "%%time\n",
    "mapping_data = pl.read_csv(mapping_file, separator=\"\\t\", schema=schema)"
   ]
  },
  {
   "cell_type": "markdown",
   "id": "c1ec1003",
   "metadata": {},
   "source": [
    "Here we are converting the strings to floats and then integers which will remove the scientific notation. "
   ]
  },
  {
   "cell_type": "code",
   "execution_count": null,
   "id": "c2244a8b",
   "metadata": {},
   "outputs": [],
   "source": [
    "%%time\n",
    "mapping_data = mapping_data.with_columns(pl.col('conceptId').cast(pl.Float64).cast(pl.Int64))"
   ]
  },
  {
   "cell_type": "code",
   "execution_count": null,
   "id": "0bfd2451",
   "metadata": {
    "scrolled": true
   },
   "outputs": [],
   "source": [
    "%%time\n",
    "mapping_data.write_csv(\n",
    "    AnyPath(\n",
    "        MAPPING_FILES_LOCATION,\n",
    "        \"processed_mapping_file.csv\"\n",
    "    )\n",
    ")"
   ]
  },
  {
   "cell_type": "markdown",
   "id": "a98c3031",
   "metadata": {},
   "source": [
    "Now we actually do the mapping. We first need to load out feather file and log file. The feather file is the final merged file from above. We are loading from memory as doing this over a day. "
   ]
  },
  {
   "cell_type": "code",
   "execution_count": null,
   "id": "732ee9f4",
   "metadata": {},
   "outputs": [],
   "source": [
    "%%time\n",
    "final_dataset = ProcessedDataset(\n",
    "    path=f\"{MEGADATA_PRIMARY_CARE_LOCATION}/final_merged_data.arrow\",\n",
    "    dataset_type=DatasetType.PRIMARY_CARE.value,\n",
    "    coding_system=CodelistType.SNOMED.value,\n",
    "    log_path=f\"{MEGADATA_PRIMARY_CARE_LOCATION}/final_log.txt\"\n",
    ")"
   ]
  },
  {
   "cell_type": "code",
   "execution_count": null,
   "id": "290773b8",
   "metadata": {},
   "outputs": [],
   "source": [
    "%%time\n",
    "\n",
    "# 2025-04-14: the .map_snomed_to_icd tretools function applies\n",
    "# an inner join, i.e, only snomed codes which exist both in\n",
    "# `final_dataset` and `mapping_file` are preserved\n",
    "# I.e. approx 4m rows kep from approx 66m row (nb. lot fever unique obvs)\n",
    "\n",
    "mapped_data = (\n",
    "    final_dataset\n",
    "    .map_snomed_to_icd(\n",
    "        mapping_file=f\"{MAPPING_FILES_LOCATION}/processed_mapping_file.csv\", \n",
    "        snomed_col=\"conceptId\",\n",
    "        icd_col=\"mapTarget\"\n",
    "    )\n",
    ")"
   ]
  },
  {
   "cell_type": "markdown",
   "id": "8a77b513",
   "metadata": {},
   "source": [
    "We now do a final deduplicate. "
   ]
  },
  {
   "cell_type": "code",
   "execution_count": null,
   "id": "144fb08a",
   "metadata": {
    "scrolled": true
   },
   "outputs": [],
   "source": [
    "%%time\n",
    "dedup = mapped_data.deduplicate()"
   ]
  },
  {
   "cell_type": "markdown",
   "id": "7d1591ad",
   "metadata": {},
   "source": [
    "Finally we write the merged and mapped dataset to feather and the log to a text file. \n",
    "\n",
    "**We do not need to 're-merge' this files with any other native ICD-10 dataframes, primary care data are only SNOMED** "
   ]
  },
  {
   "cell_type": "code",
   "execution_count": null,
   "id": "3598b3e5",
   "metadata": {},
   "outputs": [],
   "source": [
    "%%time\n",
    "dedup.write_to_feather(f\"{MEGADATA_PRIMARY_CARE_LOCATION}/final_mapped_data.arrow\")"
   ]
  },
  {
   "cell_type": "code",
   "execution_count": null,
   "id": "93d45954",
   "metadata": {
    "scrolled": true
   },
   "outputs": [],
   "source": [
    "%%time\n",
    "dedup.write_to_log(f\"{MEGADATA_PRIMARY_CARE_LOCATION}/final_mapped_log.txt\")"
   ]
  },
  {
   "cell_type": "markdown",
   "id": "7d6e2570",
   "metadata": {},
   "source": [
    "### Run next cell to initiate next notebook"
   ]
  },
  {
   "cell_type": "code",
   "execution_count": null,
   "id": "dd9061f2",
   "metadata": {
    "scrolled": true
   },
   "outputs": [],
   "source": [
    "redirect_to_next_notebook_in_pipeline(\"3-process-datasets-barts-health\")"
   ]
  },
  {
   "cell_type": "code",
   "execution_count": null,
   "id": "19e0af45",
   "metadata": {},
   "outputs": [],
   "source": []
  }
 ],
 "metadata": {
  "kernelspec": {
   "display_name": "Python 3 (ipykernel)",
   "language": "python",
   "name": "python3"
  },
  "language_info": {
   "codemirror_mode": {
    "name": "ipython",
    "version": 3
   },
   "file_extension": ".py",
   "mimetype": "text/x-python",
   "name": "python",
   "nbconvert_exporter": "python",
   "pygments_lexer": "ipython3",
   "version": "3.9.2"
  }
 },
 "nbformat": 4,
 "nbformat_minor": 5
}
