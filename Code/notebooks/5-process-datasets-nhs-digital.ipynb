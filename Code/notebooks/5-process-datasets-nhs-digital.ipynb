{
 "cells": [
  {
   "cell_type": "markdown",
   "id": "25c9aec2",
   "metadata": {},
   "source": [
    "# 5-process-datasets-nhs-digital -- Plan\n",
    "This notebook is for processing the various datasets we have. We take in raw datasets, and we output processed datasets as feather files (binary) with their log files where appropriate. \n",
    "\n",
    "In this notebook, we do the following:\n",
    "\n",
    "1) Process NHS digital datasets - ICD10\n",
    "2) Merge all the data together\n",
    "\n",
    "\n",
    "## Processing NHS Digital Datasets\n",
    "The NHS digital datasets are in ICD10. For now, we are only using the latest version. \n",
    "\n",
    "We process the datasets in the following way:\n",
    "1) Load the dataset in turn\n",
    "2) Expand the wide files into multirow files so that one person can have multiple rows. \n",
    "3) Deduplicate \n",
    "4) Save\n",
    "\n",
    "We will then remove unrealistic dates with previously saved Demographic data from notebook 1, and save again. \n",
    "\n",
    "For some datasets, in particular the very wide datasets, there are a few issues which required some preprocessing. These steps will be removed in future where possible, when the custom library is updated. Where preprocessing has been required, a log file is created and the final preprocessed dataset is saved in a folder called preprocessing. \n",
    "\n",
    "**As of May 2025, we now include ECDS data**"
   ]
  },
  {
   "cell_type": "markdown",
   "id": "6712ebb0",
   "metadata": {},
   "source": [
    "# Locations/paths naming convention\n",
    "\n",
    "1. We do not use relative paths.\n",
    "2. We do not explicitly use the word FOLDER in the naming, so `MEGADATA_LOCATION`, not `MEGADATA_FOLDER_LOCATION`. \n",
    "1. Location and path are in `UPPER_CASE`.\n",
    "2. When referred to as `_LOCATION`, the variable contain a string with the path.\n",
    "3. When referred to as `_PATH`, the variable is an `AnyPath` path object.\n",
    "4. The folder order is \"what it is\" / \"Where it's from\" so, for example megadata/primary_care not primary_care/megadata; so `MEGADATA_PRIMARY_CARE_LOCATION` or `PROCESSED_DATASETS_PRIMARY_CARE_PATH`\n"
   ]
  },
  {
   "cell_type": "code",
   "execution_count": null,
   "id": "4a9e0ea3",
   "metadata": {},
   "outputs": [],
   "source": [
    "VERSION = 'version010_2025_05_SR'"
   ]
  },
  {
   "cell_type": "markdown",
   "id": "e89075c8",
   "metadata": {},
   "source": [
    "### Imports\n",
    "\n",
    "This is where imports from tretools are pulled in. "
   ]
  },
  {
   "cell_type": "code",
   "execution_count": null,
   "id": "f19a30af",
   "metadata": {},
   "outputs": [],
   "source": [
    "from cloudpathlib import AnyPath\n",
    "import polars as pl\n",
    "from datetime import datetime\n",
    "\n",
    "from tretools.datasets.raw_dataset import RawDataset\n",
    "from tretools.datasets.dataset_enums.dataset_types import DatasetType\n",
    "from tretools.codelists.codelist_types import CodelistType\n",
    "from tretools.datasets.demographic_dataset import DemographicDataset\n",
    "from tretools.datasets.processed_dataset import ProcessedDataset"
   ]
  },
  {
   "cell_type": "code",
   "execution_count": null,
   "id": "6068e530",
   "metadata": {},
   "outputs": [],
   "source": [
    "# Override of tretools to accommodate NHSDIgital ECDS data\n",
    "\n",
    "import pkg_resources\n",
    "import json\n",
    "def override_expand_cols_to_rows(self, hes_subtype: str, config_path: str = None):\n",
    "        # check the dataset type\n",
    "        if self.dataset_type != DatasetType.NHS_DIGITAL.value:\n",
    "            raise NotImplementedError(\"This method is only implemented for NHS Digital datasets\")\n",
    "\n",
    "        # check if has overwritten config\n",
    "\n",
    "        # if not, check default config\n",
    "        if config_path is None:\n",
    "            if hes_subtype == \"ECDS\":\n",
    "                config = {\n",
    "                    \"nhs_number\": \"STUDY_ID\",\n",
    "                    \"date\": \"ARRIVAL_DATE\",\n",
    "                    \"column_to_expand\": [\n",
    "                        'CHIEF_COMPLAINT',\n",
    "                        'COMORBIDITIES_1', \n",
    "                        'COMORBIDITIES_10',\n",
    "                        'COMORBIDITIES_2',\n",
    "                        'COMORBIDITIES_3',\n",
    "                        'COMORBIDITIES_4',\n",
    "                        'COMORBIDITIES_5',\n",
    "                        'COMORBIDITIES_6',\n",
    "                        'COMORBIDITIES_7',\n",
    "                        'COMORBIDITIES_8',\n",
    "                        'COMORBIDITIES_9',\n",
    "                        'DIAGNOSIS_CODE_1',\n",
    "                        'DIAGNOSIS_CODE_10',\n",
    "                        'DIAGNOSIS_CODE_11',\n",
    "                        'DIAGNOSIS_CODE_12',\n",
    "                        'DIAGNOSIS_CODE_2',\n",
    "                        'DIAGNOSIS_CODE_3',\n",
    "                        'DIAGNOSIS_CODE_4',\n",
    "                        'DIAGNOSIS_CODE_5',\n",
    "                        'DIAGNOSIS_CODE_6',\n",
    "                        'DIAGNOSIS_CODE_7',\n",
    "                        'DIAGNOSIS_CODE_8',\n",
    "                        'DIAGNOSIS_CODE_9',\n",
    "                    ],\n",
    "                }\n",
    "            else:\n",
    "                resource_path = \"/usr/local/lib/python3.9/dist-packages/tretools/datasets/\"\n",
    "                if hes_subtype == \"CIV_REG\":\n",
    "                    resource_path = resource_path + \"configs/NHS_D/civ_reg.json\"\n",
    "                elif hes_subtype == \"APC\":\n",
    "                    resource_path = resource_path + \"configs/NHS_D/apc.json\"\n",
    "                elif hes_subtype == \"OP\":\n",
    "                    resource_path = resource_path + \"configs/NHS_D/op.json\"\n",
    "                # this loads the default config from the package files. We get these \n",
    "                # from the tretools package, which is installed in the environment\n",
    "                # config_path = pkg_resources.resource_filename(__name__, resource_path)\n",
    "                config_path = resource_path\n",
    "                config = json.loads(open(config_path).read())\n",
    "\n",
    "        # log the shape of the data\n",
    "        self.log.append(f\"{datetime.now()}: Data shape before expanding wide columns into rows: {self.data.shape}\")\n",
    "\n",
    "        # unpivot the data\n",
    "        self.data = (\n",
    "            self.data.lazy()\n",
    "            .unpivot(\n",
    "                on=config[\"column_to_expand\"],\n",
    "                value_name=\"code\",\n",
    "                index=[config[\"nhs_number\"], config[\"date\"]], \n",
    "            )\n",
    "            .drop_nulls()\n",
    "            .filter(pl.col(\"code\") != \"\")\n",
    "            .collect()\n",
    "        )\n",
    "        \n",
    "        # drop the variable column\n",
    "        self.data = self.data.drop(\"variable\")\n",
    "        self._standarise_column_names(\n",
    "            column_maps={\n",
    "                config[\"nhs_number\"]: \"nhs_number\",\n",
    "                config[\"date\"]: \"date\",\n",
    "                \"code\": \"code\"\n",
    "            }\n",
    "        )\n",
    "\n",
    "        # log the action\n",
    "        self.log.append(f\"{datetime.now()}: Data shape after expanding wide columns into rows: {self.data.shape}\")"
   ]
  },
  {
   "cell_type": "code",
   "execution_count": null,
   "id": "9dccdafb",
   "metadata": {},
   "outputs": [],
   "source": [
    "RawDataset._expand_cols_to_rows = override_expand_cols_to_rows"
   ]
  },
  {
   "cell_type": "markdown",
   "id": "9d328737",
   "metadata": {},
   "source": [
    "### Scripting for automated next notebook initation"
   ]
  },
  {
   "cell_type": "code",
   "execution_count": null,
   "id": "ec5a8595",
   "metadata": {},
   "outputs": [],
   "source": [
    "from IPython.display import Javascript"
   ]
  },
  {
   "cell_type": "code",
   "execution_count": null,
   "id": "f748f7d2",
   "metadata": {},
   "outputs": [],
   "source": [
    "def redirect_to_next_notebook_in_pipeline(other_notebook):\n",
    "    \n",
    "    js_code = f\"\"\"\n",
    "    if (typeof Jupyter !== 'undefined' && Jupyter.notebook && Jupyter.notebook.kernel) {{\n",
    "        // only runs when cell is executed, not from cached output\n",
    "        console.log(\"Redirecting to next notebook in pipeline...\");\n",
    "        Jupyter.notebook.save_checkpoint();\n",
    "        Jupyter.notebook.session.delete();\n",
    "        \n",
    "        setTimeout(function() {{\n",
    "            window.location.href = '{other_notebook}.ipynb';\n",
    "        }}, 1500)\n",
    "    }} else {{\n",
    "        console.log(\"Found cached output. Not an active notebook context. Skipping redirect.\")\n",
    "    }}\n",
    "    \"\"\"\n",
    "    display(Javascript(js_code))"
   ]
  },
  {
   "cell_type": "markdown",
   "id": "cf95d521",
   "metadata": {},
   "source": [
    "## Paths"
   ]
  },
  {
   "cell_type": "code",
   "execution_count": null,
   "id": "6d9b5748",
   "metadata": {},
   "outputs": [],
   "source": [
    "ROOT_LOCATION = \"/home/ivm/BI_PY\""
   ]
  },
  {
   "cell_type": "code",
   "execution_count": null,
   "id": "a540d507",
   "metadata": {},
   "outputs": [],
   "source": [
    "PROCESSED_DATASETS_LOCATION = f\"{ROOT_LOCATION}/{VERSION}/processed_datasets\"\n",
    "MEGADATA_LOCATION = f\"{ROOT_LOCATION}/{VERSION}/megadata\"\n",
    "PREPROCESSED_FILES_LOCATION = f\"{ROOT_LOCATION}/{VERSION}/preprocessed_files\""
   ]
  },
  {
   "cell_type": "code",
   "execution_count": null,
   "id": "c4f8ccc0",
   "metadata": {},
   "outputs": [],
   "source": [
    "PROCESSED_DATASETS_NHS_DIGITAL_LOCATION = f\"{PROCESSED_DATASETS_LOCATION}/nhs_digital\"\n",
    "MEGADATA_NHS_DIGITAL_LOCATION = f\"{MEGADATA_LOCATION}/nhs_digital\"\n"
   ]
  },
  {
   "cell_type": "code",
   "execution_count": null,
   "id": "0d1e87e4",
   "metadata": {},
   "outputs": [],
   "source": [
    "#INPUT_FOLDER = \"/genesandhealth/nhsdigital-sublicence-library-red/DSA__NHSDigitalNHSEngland\"\n",
    "INPUT_FOLDER = \"/genesandhealth/nhsdigital-sublicence-red/DSA__NHSDigitalNHSEngland\""
   ]
  },
  {
   "cell_type": "code",
   "execution_count": null,
   "id": "e75bb82f",
   "metadata": {},
   "outputs": [],
   "source": [
    "AnyPath(PROCESSED_DATASETS_NHS_DIGITAL_LOCATION).mkdir(parents=True, exist_ok=True)\n",
    "AnyPath(MEGADATA_NHS_DIGITAL_LOCATION).mkdir(parents=True, exist_ok=True)"
   ]
  },
  {
   "cell_type": "markdown",
   "id": "533ae1f6",
   "metadata": {},
   "source": [
    "We create the paths to the dataset original folders"
   ]
  },
  {
   "cell_type": "code",
   "execution_count": null,
   "id": "fc9ed4ee",
   "metadata": {},
   "outputs": [],
   "source": [
    "## New on 10.04.2025:\n",
    "MAR_2025_INPUT_PATH = f\"{INPUT_FOLDER}/2025_03\"\n",
    "\n",
    "## New on 06.12.2024:\n",
    "OCT_2024_INPUT_PATH = f\"{INPUT_FOLDER}/2024_10\"\n",
    "\n",
    "# Previous cuts:\n",
    "JULY_2023_INPUT_PATH = f\"{INPUT_FOLDER}/2023_07\"\n",
    "SEPT_2021_INPUT_PATH = f\"{INPUT_FOLDER}/2021_09\"\n",
    "\n"
   ]
  },
  {
   "cell_type": "markdown",
   "id": "8ee20f6b",
   "metadata": {},
   "source": [
    "## Load the data and transform it"
   ]
  },
  {
   "cell_type": "code",
   "execution_count": null,
   "id": "84c4e14d",
   "metadata": {},
   "outputs": [],
   "source": [
    "deduplication_options = ['nhs_number', 'code', 'date']"
   ]
  },
  {
   "cell_type": "code",
   "execution_count": null,
   "id": "1f991e26",
   "metadata": {},
   "outputs": [],
   "source": [
    "col_maps = {\n",
    "    \"nhs_number\": \"nhs_number\",\n",
    "    \"code\": \"code\",\n",
    "    \"date\": \"date\"\n",
    "}"
   ]
  },
  {
   "cell_type": "code",
   "execution_count": null,
   "id": "afda8ae7",
   "metadata": {},
   "outputs": [],
   "source": [
    "demographic_file_path = f\"{PROCESSED_DATASETS_LOCATION}/demographics/clean_demographics.arrow\""
   ]
  },
  {
   "cell_type": "code",
   "execution_count": null,
   "id": "889e0934",
   "metadata": {},
   "outputs": [],
   "source": [
    "date_start=datetime.strptime(\"1910-01-01\", \"%Y-%m-%d\")\n",
    "# date_end=datetime.strptime(\"2024-01-29\", \"%Y-%m-%d\")  #  MS commented out\n",
    "date_end=datetime.today() #  MS happy to hear reasons why not.\n",
    "demographics = DemographicDataset(path=demographic_file_path)"
   ]
  },
  {
   "cell_type": "markdown",
   "id": "e7ba4163",
   "metadata": {},
   "source": [
    "### 1st cut of data - Sept 2021 Data\n",
    "\n",
    "In this first set of data, we have 4 different files. \n",
    "\n",
    "No ECDS data for this cut"
   ]
  },
  {
   "cell_type": "code",
   "execution_count": null,
   "id": "f22d6189",
   "metadata": {},
   "outputs": [],
   "source": [
    "SEP_2021_OUTPUT_PATH= f\"{PROCESSED_DATASETS_NHS_DIGITAL_LOCATION}/sept_2021/processed_data\"\n",
    "AnyPath(SEP_2021_OUTPUT_PATH).mkdir(parents=True, exist_ok=True)\n",
    "SEP_2021_OUTPUT_CLEAN_PATH= f\"{PROCESSED_DATASETS_NHS_DIGITAL_LOCATION}/sept_2021/clean_processed_data\"\n",
    "AnyPath(SEP_2021_OUTPUT_CLEAN_PATH).mkdir(parents=True, exist_ok=True)"
   ]
  },
  {
   "cell_type": "code",
   "execution_count": null,
   "id": "92d0126a",
   "metadata": {},
   "outputs": [],
   "source": [
    "civreg_path = f\"{SEPT_2021_INPUT_PATH}/FILE0138006_NIC338864_CIVREG_MORT_.txt\"\n",
    "ae_path = f\"{SEPT_2021_INPUT_PATH}/NIC338864_HES_AE_all_2021_11_25.txt\"\n",
    "apc_path = f\"{SEPT_2021_INPUT_PATH}/NIC338864_HES_APC_all_2021_11_25.txt\"\n",
    "op_path = f\"{SEPT_2021_INPUT_PATH}/NIC338864_HES_OP_all_2021_11_25.txt\"\n"
   ]
  },
  {
   "cell_type": "markdown",
   "id": "603d08dc",
   "metadata": {},
   "source": [
    "**Civ Registration Data**"
   ]
  },
  {
   "cell_type": "code",
   "execution_count": null,
   "id": "14d2775e",
   "metadata": {},
   "outputs": [],
   "source": [
    "civreg_data = RawDataset(\n",
    "    path=civreg_path,\n",
    "    dataset_type=DatasetType.NHS_DIGITAL.value,\n",
    "    coding_system=CodelistType.ICD10.value\n",
    ")"
   ]
  },
  {
   "cell_type": "code",
   "execution_count": null,
   "id": "0cb7b1a2",
   "metadata": {},
   "outputs": [],
   "source": [
    "processed_civreg_data = civreg_data.process_dataset(\n",
    "    deduplication_options=deduplication_options,\n",
    "    column_maps=col_maps,\n",
    "    nhs_digital_subtype=\"CIV_REG\"\n",
    ")"
   ]
  },
  {
   "cell_type": "code",
   "execution_count": null,
   "id": "410a6e39",
   "metadata": {},
   "outputs": [],
   "source": [
    "processed_civreg_data.write_to_feather(f\"{SEP_2021_OUTPUT_PATH}/civ_reg.arrow\")"
   ]
  },
  {
   "cell_type": "code",
   "execution_count": null,
   "id": "273bb9c2",
   "metadata": {},
   "outputs": [],
   "source": [
    "processed_civreg_data.write_to_log(f\"{SEP_2021_OUTPUT_PATH}/civ_reg_log.txt\")"
   ]
  },
  {
   "cell_type": "markdown",
   "id": "1c6ad932",
   "metadata": {},
   "source": [
    "We now remove the unrealistic data (i.e. event before birth, before 1st Jan 1910 or after \\[run date of script\\]) and save this into a cleaned_processed_data folder. *MS note:* Previously end_date was hardcoded to 29th Jan 2024"
   ]
  },
  {
   "cell_type": "code",
   "execution_count": null,
   "id": "20ba3f6a",
   "metadata": {},
   "outputs": [],
   "source": [
    "cleaned_dataset = processed_civreg_data.remove_unrealistic_dates(\n",
    "    date_start=date_start,\n",
    "    date_end=date_end,\n",
    "    before_born=True,\n",
    "    demographic_dataset=demographics\n",
    ")"
   ]
  },
  {
   "cell_type": "code",
   "execution_count": null,
   "id": "a14b4090",
   "metadata": {},
   "outputs": [],
   "source": [
    "cleaned_dataset.write_to_feather(f\"{SEP_2021_OUTPUT_CLEAN_PATH}/civ_reg.arrow\")\n",
    "cleaned_dataset.write_to_log(f\"{SEP_2021_OUTPUT_CLEAN_PATH}/civ_reg_log.txt\")"
   ]
  },
  {
   "cell_type": "markdown",
   "id": "0ec8d580",
   "metadata": {},
   "source": [
    "**APC Data**"
   ]
  },
  {
   "cell_type": "code",
   "execution_count": null,
   "id": "74e4a6c6",
   "metadata": {},
   "outputs": [],
   "source": [
    "apc_data = RawDataset(\n",
    "    path=apc_path,\n",
    "    dataset_type=DatasetType.NHS_DIGITAL.value,\n",
    "    coding_system=CodelistType.ICD10.value\n",
    ")"
   ]
  },
  {
   "cell_type": "code",
   "execution_count": null,
   "id": "083c9853",
   "metadata": {},
   "outputs": [],
   "source": [
    "processed_apc_data = apc_data.process_dataset(\n",
    "    deduplication_options=deduplication_options,\n",
    "    column_maps=col_maps,\n",
    "    nhs_digital_subtype=\"APC\"\n",
    ")"
   ]
  },
  {
   "cell_type": "code",
   "execution_count": null,
   "id": "2f5a31a0",
   "metadata": {},
   "outputs": [],
   "source": [
    "processed_apc_data.write_to_feather(f\"{SEP_2021_OUTPUT_PATH}/apc.arrow\")\n",
    "processed_apc_data.write_to_log(f\"{SEP_2021_OUTPUT_PATH}/apc_log.txt\")"
   ]
  },
  {
   "cell_type": "markdown",
   "id": "8b95fa1b",
   "metadata": {},
   "source": [
    "We now remove the unrealistic data (i.e. event before birth, before 1st Jan 1910 or after 29th Jan 2024) and save this into a cleaned_processed_data folder"
   ]
  },
  {
   "cell_type": "code",
   "execution_count": null,
   "id": "6c0497b4",
   "metadata": {},
   "outputs": [],
   "source": [
    "cleaned_dataset = processed_apc_data.remove_unrealistic_dates(\n",
    "    date_start=date_start,\n",
    "    date_end=date_end,\n",
    "    before_born=True,\n",
    "    demographic_dataset=demographics\n",
    ")\n",
    "\n",
    "cleaned_dataset.write_to_feather(f\"{SEP_2021_OUTPUT_CLEAN_PATH}/apc.arrow\")\n",
    "cleaned_dataset.write_to_log(f\"{SEP_2021_OUTPUT_CLEAN_PATH}/apc_log.txt\")"
   ]
  },
  {
   "cell_type": "markdown",
   "id": "9fd13ec8",
   "metadata": {},
   "source": [
    "**OP Data**"
   ]
  },
  {
   "cell_type": "markdown",
   "id": "65df3f79",
   "metadata": {},
   "source": [
    "Processing"
   ]
  },
  {
   "cell_type": "code",
   "execution_count": null,
   "id": "b8f0d9ce",
   "metadata": {},
   "outputs": [],
   "source": [
    "op_data = RawDataset(\n",
    "    path=op_path,\n",
    "    dataset_type=DatasetType.NHS_DIGITAL.value,\n",
    "    coding_system=CodelistType.ICD10.value\n",
    ")"
   ]
  },
  {
   "cell_type": "code",
   "execution_count": null,
   "id": "9d3793aa",
   "metadata": {},
   "outputs": [],
   "source": [
    "processed_op_data = op_data.process_dataset(\n",
    "    deduplication_options=deduplication_options,\n",
    "    column_maps=col_maps,\n",
    "    nhs_digital_subtype=\"OP\"\n",
    ")"
   ]
  },
  {
   "cell_type": "code",
   "execution_count": null,
   "id": "a5413093",
   "metadata": {},
   "outputs": [],
   "source": [
    "processed_op_data.write_to_feather(f\"{SEP_2021_OUTPUT_PATH}/op.arrow\")\n",
    "processed_op_data.write_to_log(f\"{SEP_2021_OUTPUT_PATH}/op_log.txt\")"
   ]
  },
  {
   "cell_type": "markdown",
   "id": "ee835c5f",
   "metadata": {},
   "source": [
    "We now remove the unrealistic data (i.e. event before birth, before 1st Jan 1910 or after \\[run date of script\\]) and save this into a cleaned_processed_data folder"
   ]
  },
  {
   "cell_type": "code",
   "execution_count": null,
   "id": "2430c2b0",
   "metadata": {},
   "outputs": [],
   "source": [
    "cleaned_dataset = processed_op_data.remove_unrealistic_dates(\n",
    "    date_start=date_start,\n",
    "    date_end=date_end,\n",
    "    before_born=True,\n",
    "    demographic_dataset=demographics\n",
    ")\n",
    "\n",
    "cleaned_dataset.write_to_feather(f\"{SEP_2021_OUTPUT_CLEAN_PATH}/op.arrow\")\n",
    "cleaned_dataset.write_to_log(f\"{SEP_2021_OUTPUT_CLEAN_PATH}/op_log.txt\")"
   ]
  },
  {
   "cell_type": "markdown",
   "id": "2d99a0a4",
   "metadata": {},
   "source": [
    "### Merge these data together\n",
    "\n",
    "Now we merge all these datasets together and deduplicate. We load from file so that we can be assured that the correct dataset is loaded as sometimes the cells can be run manually in the wrong order. "
   ]
  },
  {
   "cell_type": "code",
   "execution_count": null,
   "id": "bf46f3e4",
   "metadata": {},
   "outputs": [],
   "source": [
    "civ_data = ProcessedDataset(\n",
    "    path=f\"{SEP_2021_OUTPUT_CLEAN_PATH}/civ_reg.arrow\",\n",
    "    dataset_type=DatasetType.NHS_DIGITAL.value,\n",
    "    coding_system=CodelistType.ICD10.value,\n",
    "    log_path=f\"{SEP_2021_OUTPUT_CLEAN_PATH}/civ_reg_log.txt\"\n",
    ")"
   ]
  },
  {
   "cell_type": "code",
   "execution_count": null,
   "id": "edb8adcf",
   "metadata": {},
   "outputs": [],
   "source": [
    "apc_data = ProcessedDataset(\n",
    "    path=f\"{SEP_2021_OUTPUT_CLEAN_PATH}/apc.arrow\",\n",
    "    dataset_type=DatasetType.NHS_DIGITAL.value,\n",
    "    coding_system=CodelistType.ICD10.value,\n",
    "    log_path=f\"{SEP_2021_OUTPUT_CLEAN_PATH}/apc_log.txt\"\n",
    ")"
   ]
  },
  {
   "cell_type": "code",
   "execution_count": null,
   "id": "a6f5897f",
   "metadata": {},
   "outputs": [],
   "source": [
    "op_data = ProcessedDataset(\n",
    "    path=f\"{SEP_2021_OUTPUT_CLEAN_PATH}/op.arrow\",\n",
    "    dataset_type=DatasetType.NHS_DIGITAL.value,\n",
    "    coding_system=CodelistType.ICD10.value,\n",
    "    log_path=f\"{SEP_2021_OUTPUT_CLEAN_PATH}/op_log.txt\"\n",
    ")"
   ]
  },
  {
   "cell_type": "markdown",
   "id": "a7043602",
   "metadata": {},
   "source": [
    "Merge the files together"
   ]
  },
  {
   "cell_type": "code",
   "execution_count": null,
   "id": "26b0eb8d",
   "metadata": {},
   "outputs": [],
   "source": [
    "civ_data.merge_with_dataset(apc_data)\n",
    "civ_data.merge_with_dataset(op_data)"
   ]
  },
  {
   "cell_type": "markdown",
   "id": "03f4228c",
   "metadata": {},
   "source": [
    "Deduplicate on code, date and nhs number"
   ]
  },
  {
   "cell_type": "code",
   "execution_count": null,
   "id": "90bfb151",
   "metadata": {},
   "outputs": [],
   "source": [
    "dedup = civ_data.deduplicate()"
   ]
  },
  {
   "cell_type": "markdown",
   "id": "18a5b5b8",
   "metadata": {},
   "source": [
    "Add all the logs together and sort. "
   ]
  },
  {
   "cell_type": "code",
   "execution_count": null,
   "id": "fe1212e9",
   "metadata": {},
   "outputs": [],
   "source": [
    "for log in apc_data.log:\n",
    "    dedup.log.append(log)\n",
    "    \n",
    "for log in op_data.log:\n",
    "    dedup.log.append(log)\n",
    "    \n",
    "dedup.log.sort()"
   ]
  },
  {
   "cell_type": "code",
   "execution_count": null,
   "id": "b1a08800",
   "metadata": {},
   "outputs": [],
   "source": [
    "dedup.write_to_feather(f\"{SEP_2021_OUTPUT_CLEAN_PATH}/merged_data.arrow\")\n",
    "dedup.write_to_log(f\"{SEP_2021_OUTPUT_CLEAN_PATH}/merged_data_log.txt\")"
   ]
  },
  {
   "cell_type": "markdown",
   "id": "b0d7f41e",
   "metadata": {},
   "source": [
    "### 2nd cut of data - July 2023 Data\n",
    "\n",
    "In this second set of data we have 5 files. \n",
    "\n",
    "Note added 06.12.2024: Seems like previously some files pre-concatenated (.e.g. NIC338864_HES_APC_1997to2023.txt) these are no longer available. Possibly owing to missing 2022 data."
   ]
  },
  {
   "cell_type": "code",
   "execution_count": null,
   "id": "82560f49",
   "metadata": {},
   "outputs": [],
   "source": [
    "JULY_2023_OUTPUT_PATH = f\"{PROCESSED_DATASETS_NHS_DIGITAL_LOCATION}/july_2023/processed_data\" # was previously named `july_path`\n",
    "AnyPath(JULY_2023_OUTPUT_PATH).mkdir(parents=True, exist_ok=True)\n",
    "JULY_2023_OUTPUT_CLEAN_PATH = f\"{PROCESSED_DATASETS_NHS_DIGITAL_LOCATION}/july_2023/clean_processed_data\"\n",
    "AnyPath(JULY_2023_OUTPUT_CLEAN_PATH).mkdir(parents=True, exist_ok=True)"
   ]
  },
  {
   "cell_type": "code",
   "execution_count": null,
   "id": "4219982e",
   "metadata": {},
   "outputs": [],
   "source": [
    "civreg_path = f\"{JULY_2023_INPUT_PATH}/FILE0179979_NIC338864_CIVREG_MORT_.txt\"\n",
    "apc_path = f\"{JULY_2023_INPUT_PATH}/HES\" \n",
    "op_path = f\"{JULY_2023_INPUT_PATH}/HES\" \n",
    "cancer_path = f\"{JULY_2023_INPUT_PATH}/FILE0190666_NIC338864_Cancer_.txt\"\n",
    "ecds_path = f\"{JULY_2023_INPUT_PATH}/ECDS\""
   ]
  },
  {
   "cell_type": "markdown",
   "id": "88cecf23",
   "metadata": {},
   "source": [
    "**Civ Registration Data**"
   ]
  },
  {
   "cell_type": "code",
   "execution_count": null,
   "id": "46b42dc4",
   "metadata": {},
   "outputs": [],
   "source": [
    "civreg_data = RawDataset(\n",
    "    path=civreg_path,\n",
    "    dataset_type=DatasetType.NHS_DIGITAL.value,\n",
    "    coding_system=CodelistType.ICD10.value\n",
    ")"
   ]
  },
  {
   "cell_type": "code",
   "execution_count": null,
   "id": "df6002ae",
   "metadata": {},
   "outputs": [],
   "source": [
    "processed_civreg_data = civreg_data.process_dataset(\n",
    "    deduplication_options=deduplication_options,\n",
    "    column_maps=col_maps,\n",
    "    nhs_digital_subtype=\"CIV_REG\"\n",
    ")"
   ]
  },
  {
   "cell_type": "code",
   "execution_count": null,
   "id": "a2c9c81d",
   "metadata": {},
   "outputs": [],
   "source": [
    "processed_civreg_data.write_to_feather(f\"{JULY_2023_OUTPUT_PATH}/civ_reg.arrow\")"
   ]
  },
  {
   "cell_type": "code",
   "execution_count": null,
   "id": "c42d24cb",
   "metadata": {},
   "outputs": [],
   "source": [
    "processed_civreg_data.write_to_log(f\"{JULY_2023_OUTPUT_PATH}/civ_reg_log.txt\")"
   ]
  },
  {
   "cell_type": "markdown",
   "id": "5cc97b68",
   "metadata": {},
   "source": [
    "We now remove the unrealistic data (i.e. event before birth, before 1st Jan 1910 or after \\[run date of script\\]) and save this into a cleaned_processed_data folder"
   ]
  },
  {
   "cell_type": "code",
   "execution_count": null,
   "id": "1836f4f1",
   "metadata": {},
   "outputs": [],
   "source": [
    "cleaned_dataset = processed_civreg_data.remove_unrealistic_dates(\n",
    "    date_start=date_start,\n",
    "    date_end=date_end,\n",
    "    before_born=True,\n",
    "    demographic_dataset=demographics\n",
    ")\n",
    "\n",
    "cleaned_dataset.write_to_feather(f\"{JULY_2023_OUTPUT_CLEAN_PATH}/civ_reg.arrow\")\n",
    "cleaned_dataset.write_to_log(f\"{JULY_2023_OUTPUT_CLEAN_PATH}/civ_reg_log.txt\")"
   ]
  },
  {
   "cell_type": "markdown",
   "id": "c3fbae30",
   "metadata": {},
   "source": [
    "**APC Data**\n",
    "\n",
    "2025-04-14 We need a fudge here, at present the pipeline expects a single APC file, we create one by concatenating `NIC338864_HES_AE_YYYY99.txt` file**s** with `nic338864_hes_apc_202299.csv` file.\n",
    "\n",
    "I have not found a way to include both .txt files and .csv file in one AnyPath glob like operation (case_sensitive=False appears not to work/be implemented)\n",
    "\n",
    "Also, this is not as easy as it seems as you get different d-types with the .txt and the .csv\n",
    "\n",
    "```\n",
    " ('KEY', '.txt dtype', '.csv dtype')\n",
    "[('ADMISTAT', 'String', 'Int64'),\n",
    " ('BEDYEAR', 'String', 'Int64'),\n",
    " ('EPIDUR', 'String', 'Int64'),\n",
    " ('IMD04', 'String', 'Float64'),\n",
    " ('IMD04C', 'String', 'Float64'),\n",
    " ('IMD04ED', 'String', 'Float64'),\n",
    " ('IMD04EM', 'String', 'Float64'),\n",
    " ('IMD04HD', 'String', 'Float64'),\n",
    " ('IMD04HS', 'String', 'Float64'),\n",
    " ('IMD04I', 'String', 'Float64'),\n",
    " ('IMD04IA', 'String', 'Float64'),\n",
    " ('IMD04IC', 'String', 'Float64'),\n",
    " ('IMD04LE', 'String', 'Float64'),\n",
    " ('IMD04RK', 'String', 'Int64'),\n",
    " ('MAINSPEF', 'String', 'Int64'),\n",
    " ('NEOCARE', 'String', 'Int64'),\n",
    " ('SUSRECID', 'String', 'Int64'),\n",
    " ('TRETSPEF', 'String', 'Int64')]\n",
    " ```\n",
    " \n",
    "The solutions is to force all d-types to string with infer_schema=False and to force the column order prior to the concat\n",
    "\n",
    "We have manually checked that on 2025-04-24, all the APC files (.txt and .csv) had the same (**220!**) columns."
   ]
  },
  {
   "cell_type": "code",
   "execution_count": null,
   "id": "a8c12e7a",
   "metadata": {
    "scrolled": true
   },
   "outputs": [],
   "source": [
    "lf_temp_txt = pl.scan_csv(\n",
    "    AnyPath(\n",
    "        apc_path,\n",
    "        \"NIC338864_HES_APC_*.txt\"\n",
    "    ),\n",
    "    infer_schema=False\n",
    "#     schema=lf_temp_csv_schema\n",
    ")\n",
    "column_order = lf_temp_txt.collect_schema().names()"
   ]
  },
  {
   "cell_type": "code",
   "execution_count": null,
   "id": "c41f536f",
   "metadata": {},
   "outputs": [],
   "source": [
    "lf_temp_csv = pl.scan_csv(\n",
    "    AnyPath(\n",
    "        apc_path,\n",
    "        \"nic338864_hes_apc_*.csv\"\n",
    "    ),\n",
    "    infer_schema=False\n",
    ")\n",
    "# lf_temp_csv_schema = lf_temp_csv.collect_schema()"
   ]
  },
  {
   "cell_type": "code",
   "execution_count": null,
   "id": "d12dec7a",
   "metadata": {},
   "outputs": [],
   "source": [
    "## Expect this to pass\n",
    "assert(\n",
    "    set(lf_temp_csv.collect_schema().names()) == \n",
    "    set(lf_temp_txt.collect_schema().names())\n",
    ")"
   ]
  },
  {
   "cell_type": "code",
   "execution_count": null,
   "id": "03274935",
   "metadata": {
    "scrolled": false
   },
   "outputs": [],
   "source": [
    "lf_temp_all = pl.concat(\n",
    "    [\n",
    "        lf_temp_txt,\n",
    "        lf_temp_csv.select(column_order)\n",
    "    ]\n",
    ")"
   ]
  },
  {
   "cell_type": "code",
   "execution_count": null,
   "id": "32bb0b41",
   "metadata": {},
   "outputs": [],
   "source": [
    "# PREPROCESSED_APC_2023_07_LOCATION = (\n",
    "#     f\"{PREPROCESSED_FILES_LOCATION}/nic338864_hes_apc_2023_07_all.csv\"\n",
    "# ) \n",
    "lf_temp_all.sink_csv(\n",
    "    AnyPath(PREPROCESSED_FILES_LOCATION,\"nic338864_hes_apc_2023_07_all.csv\")\n",
    ")"
   ]
  },
  {
   "cell_type": "code",
   "execution_count": null,
   "id": "6d5e2a7a",
   "metadata": {},
   "outputs": [],
   "source": [
    "del(lf_temp_txt, lf_temp_csv, lf_temp_all, column_order)"
   ]
  },
  {
   "cell_type": "code",
   "execution_count": null,
   "id": "5b4a093b",
   "metadata": {
    "scrolled": true
   },
   "outputs": [],
   "source": [
    "apc_data = RawDataset(\n",
    "#     path=apc_path,\n",
    "    path=f\"{PREPROCESSED_FILES_LOCATION}/nic338864_hes_apc_2023_07_all.csv\",\n",
    "    dataset_type=DatasetType.NHS_DIGITAL.value,\n",
    "    coding_system=CodelistType.ICD10.value\n",
    ")"
   ]
  },
  {
   "cell_type": "code",
   "execution_count": null,
   "id": "44e6003c",
   "metadata": {},
   "outputs": [],
   "source": [
    "processed_apc_data = apc_data.process_dataset(\n",
    "    deduplication_options=deduplication_options,\n",
    "    column_maps=col_maps,\n",
    "    nhs_digital_subtype=\"APC\"\n",
    ")"
   ]
  },
  {
   "cell_type": "code",
   "execution_count": null,
   "id": "426935e3",
   "metadata": {},
   "outputs": [],
   "source": [
    "processed_apc_data.write_to_feather(f\"{JULY_2023_OUTPUT_PATH}/apc.arrow\")\n",
    "processed_apc_data.write_to_log(f\"{JULY_2023_OUTPUT_PATH}/apc_log.txt\")"
   ]
  },
  {
   "cell_type": "markdown",
   "id": "111b1835",
   "metadata": {},
   "source": [
    "We now remove the unrealistic data (i.e. event before birth, before 1st Jan 1910 or after \\[run date of script\\]) and save this into a cleaned_processed_data folder"
   ]
  },
  {
   "cell_type": "code",
   "execution_count": null,
   "id": "38dac167",
   "metadata": {},
   "outputs": [],
   "source": [
    "cleaned_dataset = processed_apc_data.remove_unrealistic_dates(\n",
    "    date_start=date_start,\n",
    "    date_end=date_end,\n",
    "    before_born=True,\n",
    "    demographic_dataset=demographics\n",
    ")\n",
    "\n",
    "cleaned_dataset.write_to_feather(f\"{JULY_2023_OUTPUT_CLEAN_PATH}/apc.arrow\")\n",
    "cleaned_dataset.write_to_log(f\"{JULY_2023_OUTPUT_CLEAN_PATH}/apc_log.txt\")"
   ]
  },
  {
   "cell_type": "markdown",
   "id": "03009c77",
   "metadata": {},
   "source": [
    "**OP Data**\n",
    "\n",
    "Same rigmarole with OP data"
   ]
  },
  {
   "cell_type": "code",
   "execution_count": null,
   "id": "f1decf2e",
   "metadata": {
    "scrolled": true
   },
   "outputs": [],
   "source": [
    "lf_temp_txt = pl.scan_csv(\n",
    "    AnyPath(\n",
    "        apc_path,\n",
    "        \"NIC338864_HES_OP_*.txt\"\n",
    "    ),\n",
    "    infer_schema=False\n",
    "#     schema=lf_temp_csv_schema\n",
    ")\n",
    "column_order = lf_temp_txt.collect_schema().names()"
   ]
  },
  {
   "cell_type": "code",
   "execution_count": null,
   "id": "ac41b50e",
   "metadata": {},
   "outputs": [],
   "source": [
    "lf_temp_csv = pl.scan_csv(\n",
    "    AnyPath(\n",
    "        apc_path,\n",
    "        \"nic338864_hes_op_*.csv\"\n",
    "    ),\n",
    "    infer_schema=False\n",
    ")\n",
    "# lf_temp_csv_schema = lf_temp_csv.collect_schema()"
   ]
  },
  {
   "cell_type": "code",
   "execution_count": null,
   "id": "2e6bf528",
   "metadata": {},
   "outputs": [],
   "source": [
    "## Expect this to pass\n",
    "assert(\n",
    "    set(lf_temp_csv.collect_schema().names()) == \n",
    "    set(lf_temp_txt.collect_schema().names())\n",
    ")"
   ]
  },
  {
   "cell_type": "code",
   "execution_count": null,
   "id": "3fa21104",
   "metadata": {
    "scrolled": false
   },
   "outputs": [],
   "source": [
    "lf_temp_all = pl.concat(\n",
    "    [\n",
    "        lf_temp_txt,\n",
    "        lf_temp_csv.select(column_order)\n",
    "    ]\n",
    ")"
   ]
  },
  {
   "cell_type": "code",
   "execution_count": null,
   "id": "5bbf0401",
   "metadata": {},
   "outputs": [],
   "source": [
    "lf_temp_all.sink_csv(\n",
    "    AnyPath(f\"{PREPROCESSED_FILES_LOCATION}/nic338864_hes_op_2023_07_all.csv\")\n",
    ")"
   ]
  },
  {
   "cell_type": "code",
   "execution_count": null,
   "id": "d0fee706",
   "metadata": {},
   "outputs": [],
   "source": [
    "del(lf_temp_txt, lf_temp_csv, lf_temp_all, column_order)"
   ]
  },
  {
   "cell_type": "code",
   "execution_count": null,
   "id": "81b20cee",
   "metadata": {},
   "outputs": [],
   "source": [
    "op_data = RawDataset(\n",
    "#     path=op_path,\n",
    "    path=f\"{PREPROCESSED_FILES_LOCATION}/nic338864_hes_op_2023_07_all.csv\",\n",
    "    dataset_type=DatasetType.NHS_DIGITAL.value,\n",
    "    coding_system=CodelistType.ICD10.value\n",
    ")"
   ]
  },
  {
   "cell_type": "code",
   "execution_count": null,
   "id": "d6bb1539",
   "metadata": {},
   "outputs": [],
   "source": [
    "processed_op_data = op_data.process_dataset(\n",
    "    deduplication_options=deduplication_options,\n",
    "    column_maps=col_maps,\n",
    "    nhs_digital_subtype=\"OP\"\n",
    ")"
   ]
  },
  {
   "cell_type": "code",
   "execution_count": null,
   "id": "7272ae5e",
   "metadata": {},
   "outputs": [],
   "source": [
    "processed_op_data.write_to_feather(f\"{JULY_2023_OUTPUT_PATH}/op.arrow\")\n",
    "processed_op_data.write_to_log(f\"{JULY_2023_OUTPUT_PATH}/op_log.txt\")"
   ]
  },
  {
   "cell_type": "markdown",
   "id": "38de7b3e",
   "metadata": {},
   "source": [
    "We now remove the unrealistic data (i.e. event before birth, before 1st Jan 1910 or after \\[run date of script\\]) and save this into a cleaned_processed_data folder"
   ]
  },
  {
   "cell_type": "code",
   "execution_count": null,
   "id": "aba727b1",
   "metadata": {},
   "outputs": [],
   "source": [
    "cleaned_dataset = processed_op_data.remove_unrealistic_dates(\n",
    "    date_start=date_start,\n",
    "    date_end=date_end,\n",
    "    before_born=True,\n",
    "    demographic_dataset=demographics\n",
    ")\n",
    "\n",
    "cleaned_dataset.write_to_feather(f\"{JULY_2023_OUTPUT_CLEAN_PATH}/op.arrow\")\n",
    "cleaned_dataset.write_to_log(f\"{JULY_2023_OUTPUT_CLEAN_PATH}/op_log.txt\")"
   ]
  },
  {
   "cell_type": "markdown",
   "id": "5ac23bdf",
   "metadata": {},
   "source": [
    "**Cancer Registry Data**\n",
    "\n",
    "This is a 28 column txt file received in early Feb 2024 - missing in the original data. \n",
    "\n",
    "Unfortunately there is no date of diagnosis, only a year. We are therefore setting the \"date\" of diagnosis as the 1st Jan of that year. This means that we will include as many people as possible. However when we combine with demographic data to get rid of unrealistic dates, we are removing events that happen up to the first year of life (i.e. if you are born on 31st Nov, and your cancer of that year is diagnosed in Dec of the same year, when we set this diagnosis date as 1st Jan, it will get cleaned from the data as being before you were born). \n",
    "\n",
    "The second problem or caveat here is that the age at diagnosis will be slightly incorrect. Up to 364 days out of sync. \n",
    "\n",
    "**2025-04-15:  I have changed the date of assignment to be 2nd July, i.e. the middle of the year.  This means that the age at diagnosis will still be slightly incorrect but only up to 183 days out of synch.**\n",
    "\n",
    "Logs will be added to describe this process manually below. "
   ]
  },
  {
   "cell_type": "code",
   "execution_count": null,
   "id": "4ee5efe9",
   "metadata": {},
   "outputs": [],
   "source": [
    "ca_data = RawDataset(\n",
    "    path=cancer_path,\n",
    "    dataset_type=\"ca\",\n",
    "    coding_system=CodelistType.ICD10.value\n",
    ")"
   ]
  },
  {
   "cell_type": "code",
   "execution_count": null,
   "id": "8d6eb635",
   "metadata": {},
   "outputs": [],
   "source": [
    "file_year = datetime.fromtimestamp(AnyPath(cancer_path).stat().st_ctime).year"
   ]
  },
  {
   "cell_type": "code",
   "execution_count": null,
   "id": "f6902068",
   "metadata": {},
   "outputs": [],
   "source": [
    "cutoff = file_year % 2000"
   ]
  },
  {
   "cell_type": "code",
   "execution_count": null,
   "id": "d6db296d",
   "metadata": {},
   "outputs": [],
   "source": [
    "ca_data.log.append(f\"{datetime.now()}: There are {ca_data.data.shape[0]} rows in the data. The dates are all integers. We will convert these to the 1st Jan of that year - so 16 becomes 2016-01-01\")"
   ]
  },
  {
   "cell_type": "code",
   "execution_count": null,
   "id": "608fdc88",
   "metadata": {},
   "outputs": [],
   "source": [
    "ca_data.data = (\n",
    "    ca_data.data\n",
    "    .with_columns(\n",
    "        # TODO min of current year of script run and cutoff\n",
    "        pl.when(pl.col(\"CANCER_REGISTRATION_YEAR\") <= cutoff) # Hack. cutoff based on `cancer_path` creation* date. *metadata-last-modified date\n",
    "        .then((pl.col(\"CANCER_REGISTRATION_YEAR\") + 2000).cast(pl.Utf8))\n",
    "        .otherwise((pl.col(\"CANCER_REGISTRATION_YEAR\") + 1900).cast(pl.Utf8))\n",
    "        .alias(\"full_year\") \n",
    "    )\n",
    "    .with_columns(\n",
    "        pl.concat_str(\n",
    "            pl.col(\"full_year\"),\n",
    "            pl.lit(\"-07-02\")\n",
    "        )\n",
    "#         .cast(pl.Date) # to reinstate one day. We should work dates as dates as soon as we can. \n",
    "#         # The pipeline currently expects this date as a string at this stage.\n",
    "        .alias(\"full_date\") # this is the cancer registration full date\n",
    "    )\n",
    ")"
   ]
  },
  {
   "cell_type": "code",
   "execution_count": null,
   "id": "290e282f",
   "metadata": {},
   "outputs": [],
   "source": [
    "ca_data.log.append(f\"{datetime.now()}: There are now {ca_data.data.shape[0]} rows in the data\")"
   ]
  },
  {
   "cell_type": "code",
   "execution_count": null,
   "id": "1dca9fb7",
   "metadata": {},
   "outputs": [],
   "source": [
    "deduplication_options = ['nhs_number', 'code', 'date']"
   ]
  },
  {
   "cell_type": "code",
   "execution_count": null,
   "id": "a0ecd1e6",
   "metadata": {},
   "outputs": [],
   "source": [
    "col_maps = {\n",
    "    \"CANCER_SITE\": \"code\", \n",
    "    \"full_date\": \"date\", \n",
    "    \"Study_ID\": \"nhs_number\"\n",
    "}"
   ]
  },
  {
   "cell_type": "code",
   "execution_count": null,
   "id": "62fdb432",
   "metadata": {},
   "outputs": [],
   "source": [
    "processed_ca_data = ca_data.process_dataset(\n",
    "    deduplication_options=deduplication_options, \n",
    "    column_maps=col_maps\n",
    ")"
   ]
  },
  {
   "cell_type": "code",
   "execution_count": null,
   "id": "6d8316af",
   "metadata": {},
   "outputs": [],
   "source": [
    "processed_ca_data.write_to_feather(f\"{JULY_2023_OUTPUT_PATH}/ca.arrow\")\n",
    "processed_ca_data.write_to_log(f\"{JULY_2023_OUTPUT_PATH}/ca_log.txt\")"
   ]
  },
  {
   "cell_type": "markdown",
   "id": "05960d82",
   "metadata": {},
   "source": [
    "We now remove the unrealistic data (i.e. event before birth, before 1st Jan 1910 or after \\[run date of script\\]) and save this into a cleaned_processed_data folder"
   ]
  },
  {
   "cell_type": "code",
   "execution_count": null,
   "id": "4fecd1ef",
   "metadata": {},
   "outputs": [],
   "source": [
    "cleaned_dataset = processed_ca_data.remove_unrealistic_dates(date_start=date_start,\n",
    "                                                                 date_end=date_end,\n",
    "                                                                 before_born=True,\n",
    "                                                                 demographic_dataset=demographics)\n",
    "cleaned_dataset.write_to_feather(f\"{JULY_2023_OUTPUT_CLEAN_PATH}/ca.arrow\")\n",
    "cleaned_dataset.write_to_log(f\"{JULY_2023_OUTPUT_CLEAN_PATH}/ca_log.txt\")"
   ]
  },
  {
   "cell_type": "markdown",
   "id": "35937f02",
   "metadata": {},
   "source": [
    "**ECDS Data**"
   ]
  },
  {
   "cell_type": "markdown",
   "id": "a2ca7444",
   "metadata": {},
   "source": [
    "This is a \"new\" venture.\n",
    "\n",
    "#### Again we need to preprocess files to a single .csv\n",
    "\n",
    "For 2023_07 cut, there are only .txt files (i.e not .txt files + .csv file).  The separator is the pipe symbol `|`\n",
    "\n",
    "Unfortunately, even within the glob based scan_csv, there are inconsistencies in field dtypes (principally String vs Float).  So easier again to cast all the str with `infer_schema=False` argument."
   ]
  },
  {
   "cell_type": "code",
   "execution_count": null,
   "id": "e460ab35",
   "metadata": {
    "scrolled": true
   },
   "outputs": [],
   "source": [
    "lf_temp_txt = pl.scan_csv(\n",
    "    AnyPath(\n",
    "        ecds_path,\n",
    "        \"*ECDS*.txt\"\n",
    "    ),\n",
    "    separator=\"|\",\n",
    "    infer_schema=False\n",
    ")\n"
   ]
  },
  {
   "cell_type": "code",
   "execution_count": null,
   "id": "4c0ccdfd",
   "metadata": {},
   "outputs": [],
   "source": [
    "PREPROCESSED_ECDS_2023_07_LOCATION = (\n",
    "    f\"{PREPROCESSED_FILES_LOCATION}/nic338864_ecds_2023_07_all.csv\"\n",
    ") \n",
    "lf_temp_txt.sink_csv(\n",
    "    AnyPath(PREPROCESSED_ECDS_2023_07_LOCATION)\n",
    ")"
   ]
  },
  {
   "cell_type": "code",
   "execution_count": null,
   "id": "0f20219a",
   "metadata": {},
   "outputs": [],
   "source": [
    "ecds_data = RawDataset(\n",
    "#     path=op_path,\n",
    "    path=PREPROCESSED_ECDS_2023_07_LOCATION,\n",
    "    dataset_type=DatasetType.NHS_DIGITAL.value,\n",
    "    coding_system=CodelistType.SNOMED.value,\n",
    ")"
   ]
  },
  {
   "cell_type": "code",
   "execution_count": null,
   "id": "6a8d9ea9",
   "metadata": {},
   "outputs": [],
   "source": [
    "col_maps = {\n",
    "#     \"CANCER_SITE\": \"code\", \n",
    "    \"ARRIVAL_DATE\": \"date\", \n",
    "    \"STUDY_ID\": \"nhs_number\"\n",
    "}"
   ]
  },
  {
   "cell_type": "code",
   "execution_count": null,
   "id": "96482495",
   "metadata": {},
   "outputs": [],
   "source": [
    "processed_ecds_data = ecds_data.process_dataset(\n",
    "    deduplication_options=deduplication_options,\n",
    "    column_maps=col_maps,\n",
    "    nhs_digital_subtype=\"ECDS\",\n",
    ")"
   ]
  },
  {
   "cell_type": "code",
   "execution_count": null,
   "id": "9a948cc8",
   "metadata": {},
   "outputs": [],
   "source": [
    "processed_ecds_data.write_to_feather(f\"{JULY_2023_OUTPUT_PATH}/ecds.arrow\")\n",
    "processed_ecds_data.write_to_log(f\"{JULY_2023_OUTPUT_PATH}/ecds_log.txt\")"
   ]
  },
  {
   "cell_type": "markdown",
   "id": "74817166",
   "metadata": {},
   "source": [
    "We now remove the unrealistic data (i.e. event before birth, before 1st Jan 1910 or after \\[run date of script\\]) and save this into a cleaned_processed_data folder"
   ]
  },
  {
   "cell_type": "code",
   "execution_count": null,
   "id": "94ef9b9f",
   "metadata": {},
   "outputs": [],
   "source": [
    "cleaned_dataset = processed_ecds_data.remove_unrealistic_dates(\n",
    "    date_start=date_start,\n",
    "    date_end=date_end,\n",
    "    before_born=True,\n",
    "    demographic_dataset=demographics\n",
    ")\n",
    "\n",
    "cleaned_dataset.write_to_feather(f\"{JULY_2023_OUTPUT_CLEAN_PATH}/ecds.arrow\")\n",
    "cleaned_dataset.write_to_log(f\"{JULY_2023_OUTPUT_CLEAN_PATH}/ecds_log.txt\")"
   ]
  },
  {
   "cell_type": "markdown",
   "id": "fd2d9c8a",
   "metadata": {},
   "source": [
    "### Merge these data together\n",
    "\n",
    "Now we merge all these datasets together and deduplicate. We load from file so that we can be assured that the correct dataset is loaded as sometimes the cells can be run manually in the wrong order. "
   ]
  },
  {
   "cell_type": "code",
   "execution_count": null,
   "id": "200f22c9",
   "metadata": {},
   "outputs": [],
   "source": [
    "civ_data = ProcessedDataset(path=f\"{JULY_2023_OUTPUT_CLEAN_PATH}/civ_reg.arrow\", \n",
    "                            dataset_type=DatasetType.NHS_DIGITAL.value, \n",
    "                            coding_system=CodelistType.ICD10.value, \n",
    "                            log_path=f\"{JULY_2023_OUTPUT_CLEAN_PATH}/civ_reg_log.txt\")"
   ]
  },
  {
   "cell_type": "code",
   "execution_count": null,
   "id": "90cd1339",
   "metadata": {},
   "outputs": [],
   "source": [
    "apc_data = ProcessedDataset(path=f\"{JULY_2023_OUTPUT_CLEAN_PATH}/apc.arrow\", \n",
    "                            dataset_type=DatasetType.NHS_DIGITAL.value, \n",
    "                            coding_system=CodelistType.ICD10.value, \n",
    "                            log_path=f\"{JULY_2023_OUTPUT_CLEAN_PATH}/apc_log.txt\")"
   ]
  },
  {
   "cell_type": "code",
   "execution_count": null,
   "id": "b4d6acd9",
   "metadata": {},
   "outputs": [],
   "source": [
    "op_data = ProcessedDataset(path=f\"{JULY_2023_OUTPUT_CLEAN_PATH}/op.arrow\", \n",
    "                            dataset_type=DatasetType.NHS_DIGITAL.value, \n",
    "                            coding_system=CodelistType.ICD10.value, \n",
    "                            log_path=f\"{JULY_2023_OUTPUT_CLEAN_PATH}/op_log.txt\")"
   ]
  },
  {
   "cell_type": "code",
   "execution_count": null,
   "id": "4f1baadc",
   "metadata": {},
   "outputs": [],
   "source": [
    "ca_data = ProcessedDataset(path=f\"{JULY_2023_OUTPUT_CLEAN_PATH}/ca.arrow\", \n",
    "                            dataset_type=DatasetType.NHS_DIGITAL.value, \n",
    "                            coding_system=CodelistType.ICD10.value, \n",
    "                            log_path=f\"{JULY_2023_OUTPUT_CLEAN_PATH}/ca_log.txt\")"
   ]
  },
  {
   "cell_type": "code",
   "execution_count": null,
   "id": "333a5c85",
   "metadata": {},
   "outputs": [],
   "source": [
    "ecds_data = ProcessedDataset(path=f\"{JULY_2023_OUTPUT_CLEAN_PATH}/ecds.arrow\", \n",
    "                            dataset_type=DatasetType.NHS_DIGITAL.value, \n",
    "                            coding_system=CodelistType.SNOMED.value, \n",
    "                            log_path=f\"{JULY_2023_OUTPUT_CLEAN_PATH}/ecds_log.txt\")"
   ]
  },
  {
   "cell_type": "code",
   "execution_count": null,
   "id": "94ecda99",
   "metadata": {},
   "outputs": [],
   "source": [
    "civ_data.merge_with_dataset(apc_data)"
   ]
  },
  {
   "cell_type": "code",
   "execution_count": null,
   "id": "72d124ae",
   "metadata": {},
   "outputs": [],
   "source": [
    "civ_data.merge_with_dataset(op_data)"
   ]
  },
  {
   "cell_type": "code",
   "execution_count": null,
   "id": "db6d5957",
   "metadata": {},
   "outputs": [],
   "source": [
    "civ_data.merge_with_dataset(ca_data)"
   ]
  },
  {
   "cell_type": "markdown",
   "id": "f03f6d27",
   "metadata": {},
   "source": [
    "## Note\n",
    "\n",
    "ECDS data are SNOMED, others are ICD10; only same codeset data can be merged with `merge_with_dataset`\n",
    "\n",
    "ECDS data are merge later in pipeline"
   ]
  },
  {
   "cell_type": "code",
   "execution_count": null,
   "id": "9586feee",
   "metadata": {},
   "outputs": [],
   "source": [
    "dedup = civ_data.deduplicate()"
   ]
  },
  {
   "cell_type": "code",
   "execution_count": null,
   "id": "a72e9f09",
   "metadata": {},
   "outputs": [],
   "source": [
    "for log in apc_data.log:\n",
    "    dedup.log.append(log)\n",
    "    \n",
    "for log in op_data.log:\n",
    "    dedup.log.append(log)\n",
    "    \n",
    "for log in ca_data.log:\n",
    "    dedup.log.append(log)\n",
    "    \n",
    "dedup.log.sort()"
   ]
  },
  {
   "cell_type": "code",
   "execution_count": null,
   "id": "8f9c461d",
   "metadata": {},
   "outputs": [],
   "source": [
    "dedup.write_to_feather(f\"{JULY_2023_OUTPUT_CLEAN_PATH}/merged_data.arrow\")\n",
    "dedup.write_to_log(f\"{JULY_2023_OUTPUT_CLEAN_PATH}/merged_data_log.txt\")"
   ]
  },
  {
   "cell_type": "markdown",
   "id": "0d4d243d",
   "metadata": {},
   "source": [
    "###### 2024_10  START ######"
   ]
  },
  {
   "cell_type": "markdown",
   "id": "4e02091d",
   "metadata": {},
   "source": [
    "### 3rd cut of data - October 2024 Data\n",
    "\n",
    "In this third cut of data we have n files. \n"
   ]
  },
  {
   "cell_type": "code",
   "execution_count": null,
   "id": "119dd58d",
   "metadata": {},
   "outputs": [],
   "source": [
    "OCT_2024_OUTPUT_PATH = f\"{PROCESSED_DATASETS_NHS_DIGITAL_LOCATION}/october_2024/processed_data\"\n",
    "AnyPath(OCT_2024_OUTPUT_PATH).mkdir(parents=True, exist_ok=True)\n",
    "OCT_2024_OUTPUT_CLEAN_PATH = f\"{PROCESSED_DATASETS_NHS_DIGITAL_LOCATION}/october_2024/clean_processed_data\"\n",
    "AnyPath(OCT_2024_OUTPUT_CLEAN_PATH).mkdir(parents=True, exist_ok=True)"
   ]
  },
  {
   "cell_type": "code",
   "execution_count": null,
   "id": "8ca151b3",
   "metadata": {},
   "outputs": [],
   "source": [
    "civreg_path = f\"{OCT_2024_INPUT_PATH}/FILE0220457_NIC338864_CIVREG_MORT_.txt\"\n",
    "apc_path = f\"{OCT_2024_INPUT_PATH}/HES/FILE0220459_NIC338864_HES_APC_202399.txt\" \n",
    "op_path  = f\"{OCT_2024_INPUT_PATH}/HES/FILE0220461_NIC338864_HES_OP_202399.txt\" \n",
    "cancer_path = f\"{OCT_2024_INPUT_PATH}/FILE0220456_NIC338864_Cancer_.txt\"\n",
    "ecds_path = f\"{OCT_2024_INPUT_PATH}/ECDS/NIC338864_ECDS_202399.txt\""
   ]
  },
  {
   "cell_type": "markdown",
   "id": "b69d491c",
   "metadata": {},
   "source": [
    "**Civ Registration Data**"
   ]
  },
  {
   "cell_type": "code",
   "execution_count": null,
   "id": "6dfc65c2",
   "metadata": {},
   "outputs": [],
   "source": [
    "civreg_data = RawDataset(\n",
    "    path=civreg_path,\n",
    "    dataset_type=DatasetType.NHS_DIGITAL.value,\n",
    "    coding_system=CodelistType.ICD10.value\n",
    ")"
   ]
  },
  {
   "cell_type": "code",
   "execution_count": null,
   "id": "53d726fd",
   "metadata": {},
   "outputs": [],
   "source": [
    "processed_civreg_data = civreg_data.process_dataset(\n",
    "    deduplication_options=deduplication_options,\n",
    "    column_maps=col_maps,\n",
    "    nhs_digital_subtype=\"CIV_REG\"\n",
    ")"
   ]
  },
  {
   "cell_type": "code",
   "execution_count": null,
   "id": "12443270",
   "metadata": {},
   "outputs": [],
   "source": [
    "processed_civreg_data.write_to_feather(f\"{OCT_2024_OUTPUT_PATH}/civ_reg.arrow\")"
   ]
  },
  {
   "cell_type": "code",
   "execution_count": null,
   "id": "f3f810e2",
   "metadata": {},
   "outputs": [],
   "source": [
    "processed_civreg_data.write_to_log(f\"{OCT_2024_OUTPUT_PATH}/civ_reg_log.txt\")"
   ]
  },
  {
   "cell_type": "markdown",
   "id": "f7a85e63",
   "metadata": {},
   "source": [
    "We now remove the unrealistic data (i.e. event before birth, before 1st Jan 1910 or after \\[run date of script\\]) and save this into a cleaned_processed_data folder"
   ]
  },
  {
   "cell_type": "code",
   "execution_count": null,
   "id": "4e1672b4",
   "metadata": {},
   "outputs": [],
   "source": [
    "cleaned_dataset = processed_civreg_data.remove_unrealistic_dates(\n",
    "    date_start=date_start,\n",
    "    date_end=date_end,\n",
    "    before_born=True,\n",
    "    demographic_dataset=demographics\n",
    ")\n",
    "\n",
    "cleaned_dataset.write_to_feather(f\"{OCT_2024_OUTPUT_CLEAN_PATH}/civ_reg.arrow\")\n",
    "cleaned_dataset.write_to_log(f\"{OCT_2024_OUTPUT_CLEAN_PATH}/civ_reg_log.txt\")"
   ]
  },
  {
   "cell_type": "markdown",
   "id": "102df1d4",
   "metadata": {},
   "source": [
    "**APC Data**"
   ]
  },
  {
   "cell_type": "code",
   "execution_count": null,
   "id": "90dd963d",
   "metadata": {
    "scrolled": true
   },
   "outputs": [],
   "source": [
    "apc_data = RawDataset(\n",
    "    path=apc_path,\n",
    "    dataset_type=DatasetType.NHS_DIGITAL.value,\n",
    "    coding_system=CodelistType.ICD10.value\n",
    ")"
   ]
  },
  {
   "cell_type": "code",
   "execution_count": null,
   "id": "f4b276d0",
   "metadata": {},
   "outputs": [],
   "source": [
    "processed_apc_data = apc_data.process_dataset(\n",
    "    deduplication_options=deduplication_options,\n",
    "    column_maps=col_maps,\n",
    "    nhs_digital_subtype=\"APC\"\n",
    ")"
   ]
  },
  {
   "cell_type": "code",
   "execution_count": null,
   "id": "57e16639",
   "metadata": {},
   "outputs": [],
   "source": [
    "processed_apc_data.write_to_feather(f\"{OCT_2024_OUTPUT_PATH}/apc.arrow\")\n",
    "processed_apc_data.write_to_log(f\"{OCT_2024_OUTPUT_PATH}/apc_log.txt\")"
   ]
  },
  {
   "cell_type": "markdown",
   "id": "7257c015",
   "metadata": {},
   "source": [
    "We now remove the unrealistic data (i.e. event before birth, before 1st Jan 1910 or after \\[run date of script\\]) and save this into a cleaned_processed_data folder"
   ]
  },
  {
   "cell_type": "code",
   "execution_count": null,
   "id": "d619cd5f",
   "metadata": {},
   "outputs": [],
   "source": [
    "cleaned_dataset = processed_apc_data.remove_unrealistic_dates(\n",
    "    date_start=date_start,\n",
    "    date_end=date_end,\n",
    "    before_born=True,\n",
    "    demographic_dataset=demographics\n",
    ")\n",
    "\n",
    "cleaned_dataset.write_to_feather(f\"{OCT_2024_OUTPUT_CLEAN_PATH}/apc.arrow\")\n",
    "cleaned_dataset.write_to_log(f\"{OCT_2024_OUTPUT_CLEAN_PATH}/apc_log.txt\")"
   ]
  },
  {
   "cell_type": "markdown",
   "id": "8e02cd5c",
   "metadata": {},
   "source": [
    "**OP Data**"
   ]
  },
  {
   "cell_type": "code",
   "execution_count": null,
   "id": "72f2ea9b",
   "metadata": {},
   "outputs": [],
   "source": [
    "op_data = RawDataset(\n",
    "    path=op_path,\n",
    "    dataset_type=DatasetType.NHS_DIGITAL.value,\n",
    "    coding_system=CodelistType.ICD10.value\n",
    ")"
   ]
  },
  {
   "cell_type": "code",
   "execution_count": null,
   "id": "bb38f533",
   "metadata": {},
   "outputs": [],
   "source": [
    "processed_op_data = op_data.process_dataset(\n",
    "    deduplication_options=deduplication_options,\n",
    "    column_maps=col_maps,\n",
    "    nhs_digital_subtype=\"OP\"\n",
    ")"
   ]
  },
  {
   "cell_type": "code",
   "execution_count": null,
   "id": "3c832fcc",
   "metadata": {},
   "outputs": [],
   "source": [
    "processed_op_data.write_to_feather(f\"{OCT_2024_OUTPUT_PATH}/op.arrow\")\n",
    "processed_op_data.write_to_log(f\"{OCT_2024_OUTPUT_PATH}/op_log.txt\")"
   ]
  },
  {
   "cell_type": "markdown",
   "id": "8831daaf",
   "metadata": {},
   "source": [
    "We now remove the unrealistic data (i.e. event before birth, before 1st Jan 1910 or after \\[run date of script\\]) and save this into a cleaned_processed_data folder"
   ]
  },
  {
   "cell_type": "code",
   "execution_count": null,
   "id": "58bc1ed6",
   "metadata": {},
   "outputs": [],
   "source": [
    "cleaned_dataset = processed_op_data.remove_unrealistic_dates(\n",
    "    date_start=date_start,\n",
    "    date_end=date_end,\n",
    "    before_born=True,\n",
    "    demographic_dataset=demographics\n",
    ")\n",
    "\n",
    "cleaned_dataset.write_to_feather(f\"{OCT_2024_OUTPUT_CLEAN_PATH}/op.arrow\")\n",
    "cleaned_dataset.write_to_log(f\"{OCT_2024_OUTPUT_CLEAN_PATH}/op_log.txt\")"
   ]
  },
  {
   "cell_type": "markdown",
   "id": "91e6c6a2",
   "metadata": {},
   "source": [
    "**Cancer Registry Data**\n",
    "\n",
    "This is a 28 column txt file received in early Feb 2024 - missing in the original data. \n",
    "\n",
    "Unfortunately there is no date of diagnosis, only a year. We are therefore setting the \"date\" of diagnosis as the 1st Jan of that year. This means that we will include as many people as possible. However when we combine with demographic data to get rid of unrealistic dates, we are removing events that happen up to the first year of life (i.e. if you are born on 31st Nov, and your cancer of that year is diagnosed in Dec of the same year, when we set this diagnosis date as 1st Jan, it will get cleaned from the data as being before you were born). \n",
    "\n",
    "The second problem or caveat here is that the age at diagnosis will be slightly incorrect. Up to 364 days out of sync. \n",
    "\n",
    "**2025-04-15:  I have changed the date of assignment to be 2nd July, i.e. the middle of the year.  This means that the age at diagnosis will still be slightly incorrect but only up to 183 days out of synch.**\n",
    "\n",
    "Logs will be added to describe this process manually below. "
   ]
  },
  {
   "cell_type": "code",
   "execution_count": null,
   "id": "0695a089",
   "metadata": {},
   "outputs": [],
   "source": [
    "ca_data = RawDataset(\n",
    "    path=cancer_path,\n",
    "    dataset_type=\"ca\",\n",
    "    coding_system=CodelistType.ICD10.value\n",
    ")"
   ]
  },
  {
   "cell_type": "code",
   "execution_count": null,
   "id": "228edc76",
   "metadata": {},
   "outputs": [],
   "source": [
    "file_year = datetime.fromtimestamp(AnyPath(cancer_path).stat().st_ctime).year"
   ]
  },
  {
   "cell_type": "code",
   "execution_count": null,
   "id": "6fdc032b",
   "metadata": {},
   "outputs": [],
   "source": [
    "cutoff = file_year % 2000"
   ]
  },
  {
   "cell_type": "code",
   "execution_count": null,
   "id": "8ae412bf",
   "metadata": {},
   "outputs": [],
   "source": [
    "ca_data.log.append(f\"{datetime.now()}: There are {ca_data.data.shape[0]} rows in the data. The dates are all integers. We will convert these to the 1st Jan of that year - so 16 becomes 2016-01-01\")"
   ]
  },
  {
   "cell_type": "code",
   "execution_count": null,
   "id": "9505b760",
   "metadata": {},
   "outputs": [],
   "source": [
    "ca_data.data = (\n",
    "    ca_data.data\n",
    "    .with_columns(\n",
    "        # TODO min of current year of script run and cutoff\n",
    "        pl.when(pl.col(\"CANCER_REGISTRATION_YEAR\") <= cutoff) # Hack. cutoff based on `cancer_path` creation* date. *metadata-last-modified date\n",
    "        .then((pl.col(\"CANCER_REGISTRATION_YEAR\") + 2000).cast(pl.Utf8))\n",
    "        .otherwise((pl.col(\"CANCER_REGISTRATION_YEAR\") + 1900).cast(pl.Utf8))\n",
    "        .alias(\"full_year\") \n",
    "    )\n",
    "    .with_columns(\n",
    "        pl.concat_str(\n",
    "            pl.col(\"full_year\"),\n",
    "            pl.lit(\"-07-02\")\n",
    "        )\n",
    "#         .cast(pl.Date) # to reinstate one day. We should work dates as dates as soon as we can. \n",
    "#         # The pipeline currently expects this date as a string at this stage.\n",
    "        .alias(\"full_date\") # this is the cancer registration full date\n",
    "    )\n",
    ")"
   ]
  },
  {
   "cell_type": "code",
   "execution_count": null,
   "id": "f62061e8",
   "metadata": {},
   "outputs": [],
   "source": [
    "ca_data.log.append(f\"{datetime.now()}: There are now {ca_data.data.shape[0]} rows in the data\")"
   ]
  },
  {
   "cell_type": "code",
   "execution_count": null,
   "id": "15129501",
   "metadata": {},
   "outputs": [],
   "source": [
    "deduplication_options = ['nhs_number', 'code', 'date']"
   ]
  },
  {
   "cell_type": "code",
   "execution_count": null,
   "id": "ca9c6a68",
   "metadata": {},
   "outputs": [],
   "source": [
    "col_maps = {\n",
    "    \"CANCER_SITE\": \"code\", \n",
    "    \"full_date\": \"date\", \n",
    "    \"Study_ID\": \"nhs_number\"\n",
    "}"
   ]
  },
  {
   "cell_type": "code",
   "execution_count": null,
   "id": "8b63f3fd",
   "metadata": {},
   "outputs": [],
   "source": [
    "processed_ca_data = ca_data.process_dataset(\n",
    "    deduplication_options=deduplication_options, \n",
    "    column_maps=col_maps\n",
    ")"
   ]
  },
  {
   "cell_type": "code",
   "execution_count": null,
   "id": "4de20331",
   "metadata": {},
   "outputs": [],
   "source": [
    "processed_ca_data.write_to_feather(f\"{OCT_2024_OUTPUT_PATH}/ca.arrow\")\n",
    "processed_ca_data.write_to_log(f\"{OCT_2024_OUTPUT_PATH}/ca_log.txt\")"
   ]
  },
  {
   "cell_type": "markdown",
   "id": "f2e2f7fa",
   "metadata": {},
   "source": [
    "We now remove the unrealistic data (i.e. event before birth, before 1st Jan 1910 or after \\[run date of script\\]) and save this into a cleaned_processed_data folder"
   ]
  },
  {
   "cell_type": "code",
   "execution_count": null,
   "id": "624fefc4",
   "metadata": {},
   "outputs": [],
   "source": [
    "cleaned_dataset = processed_ca_data.remove_unrealistic_dates(\n",
    "    date_start=date_start,\n",
    "    date_end=date_end,\n",
    "    before_born=True,\n",
    "    demographic_dataset=demographics\n",
    ")\n",
    "\n",
    "cleaned_dataset.write_to_feather(f\"{OCT_2024_OUTPUT_CLEAN_PATH}/ca.arrow\")\n",
    "cleaned_dataset.write_to_log(f\"{OCT_2024_OUTPUT_CLEAN_PATH}/ca_log.txt\")"
   ]
  },
  {
   "cell_type": "markdown",
   "id": "a424340c",
   "metadata": {},
   "source": [
    "**ECDS Data**"
   ]
  },
  {
   "cell_type": "markdown",
   "id": "34bb0813",
   "metadata": {},
   "source": [
    "This is a \"new\" venture.\n",
    "\n",
    "#### Again we need to preprocess files to a single .csv\n",
    "\n",
    "For 2024_10 cut, there is a single .txt file.  The separator is the pipe symbol `|`\n",
    "\n",
    "Unfortunately, even within the glob based scan_csv, there are inconsistencies in field dtypes (principally String vs Float).  So easier again to cast all the str with `infer_schema=False` argument."
   ]
  },
  {
   "cell_type": "code",
   "execution_count": null,
   "id": "27f947f0",
   "metadata": {},
   "outputs": [],
   "source": [
    "ecds_path"
   ]
  },
  {
   "cell_type": "code",
   "execution_count": null,
   "id": "e795d302",
   "metadata": {
    "scrolled": true
   },
   "outputs": [],
   "source": [
    "lf_temp_txt = pl.scan_csv(\n",
    "    AnyPath(\n",
    "        ecds_path\n",
    "#         \"*ECDS*.txt\"\n",
    "    ),\n",
    "    separator=\"|\",\n",
    "    infer_schema=False\n",
    ")\n"
   ]
  },
  {
   "cell_type": "code",
   "execution_count": null,
   "id": "a956f5a6",
   "metadata": {},
   "outputs": [],
   "source": [
    "PREPROCESSED_ECDS_2024_10_LOCATION = (\n",
    "    f\"{PREPROCESSED_FILES_LOCATION}/nic338864_ecds_2024_10_all.csv\"\n",
    ") \n",
    "lf_temp_txt.sink_csv(\n",
    "    AnyPath(PREPROCESSED_ECDS_2024_10_LOCATION)\n",
    ")"
   ]
  },
  {
   "cell_type": "code",
   "execution_count": null,
   "id": "528c360f",
   "metadata": {},
   "outputs": [],
   "source": [
    "ecds_data = RawDataset(\n",
    "#     path=op_path,\n",
    "    path=PREPROCESSED_ECDS_2024_10_LOCATION,\n",
    "    dataset_type=DatasetType.NHS_DIGITAL.value,\n",
    "    coding_system=CodelistType.SNOMED.value,\n",
    ")"
   ]
  },
  {
   "cell_type": "code",
   "execution_count": null,
   "id": "41f29d94",
   "metadata": {},
   "outputs": [],
   "source": [
    "col_maps = {\n",
    "#     \"CANCER_SITE\": \"code\", \n",
    "    \"ARRIVAL_DATE\": \"date\", \n",
    "    \"STUDY_ID\": \"nhs_number\"\n",
    "}"
   ]
  },
  {
   "cell_type": "code",
   "execution_count": null,
   "id": "ff16c040",
   "metadata": {},
   "outputs": [],
   "source": [
    "processed_ecds_data = ecds_data.process_dataset(\n",
    "    deduplication_options=deduplication_options,\n",
    "    column_maps=col_maps,\n",
    "    nhs_digital_subtype=\"ECDS\",\n",
    ")"
   ]
  },
  {
   "cell_type": "code",
   "execution_count": null,
   "id": "89597a3e",
   "metadata": {},
   "outputs": [],
   "source": [
    "processed_ecds_data.write_to_feather(f\"{OCT_2024_OUTPUT_PATH}/ecds.arrow\")\n",
    "processed_ecds_data.write_to_log(f\"{OCT_2024_OUTPUT_PATH}/ecds_log.txt\")"
   ]
  },
  {
   "cell_type": "markdown",
   "id": "32278307",
   "metadata": {},
   "source": [
    "We now remove the unrealistic data (i.e. event before birth, before 1st Jan 1910 or after \\[run date of script\\]) and save this into a cleaned_processed_data folder"
   ]
  },
  {
   "cell_type": "code",
   "execution_count": null,
   "id": "2740ccbe",
   "metadata": {},
   "outputs": [],
   "source": [
    "cleaned_dataset = processed_ecds_data.remove_unrealistic_dates(\n",
    "    date_start=date_start,\n",
    "    date_end=date_end,\n",
    "    before_born=True,\n",
    "    demographic_dataset=demographics\n",
    ")\n",
    "\n",
    "cleaned_dataset.write_to_feather(f\"{OCT_2024_OUTPUT_CLEAN_PATH}/ecds.arrow\")\n",
    "cleaned_dataset.write_to_log(f\"{OCT_2024_OUTPUT_CLEAN_PATH}/ecds_log.txt\")"
   ]
  },
  {
   "cell_type": "markdown",
   "id": "d42c5110",
   "metadata": {},
   "source": [
    "### Merge these data together\n",
    "\n",
    "Now we merge all these datasets together and deduplicate. We load from file so that we can be assured that the correct dataset is loaded as sometimes the cells can be run manually in the wrong order. "
   ]
  },
  {
   "cell_type": "code",
   "execution_count": null,
   "id": "8d880a88",
   "metadata": {},
   "outputs": [],
   "source": [
    "civ_data = ProcessedDataset(path=f\"{OCT_2024_OUTPUT_CLEAN_PATH}/civ_reg.arrow\", \n",
    "                            dataset_type=DatasetType.NHS_DIGITAL.value, \n",
    "                            coding_system=CodelistType.ICD10.value, \n",
    "                            log_path=f\"{OCT_2024_OUTPUT_CLEAN_PATH}/civ_reg_log.txt\")"
   ]
  },
  {
   "cell_type": "code",
   "execution_count": null,
   "id": "ca748418",
   "metadata": {},
   "outputs": [],
   "source": [
    "apc_data = ProcessedDataset(path=f\"{OCT_2024_OUTPUT_CLEAN_PATH}/apc.arrow\", \n",
    "                            dataset_type=DatasetType.NHS_DIGITAL.value, \n",
    "                            coding_system=CodelistType.ICD10.value, \n",
    "                            log_path=f\"{OCT_2024_OUTPUT_CLEAN_PATH}/apc_log.txt\")"
   ]
  },
  {
   "cell_type": "code",
   "execution_count": null,
   "id": "3763334f",
   "metadata": {},
   "outputs": [],
   "source": [
    "op_data = ProcessedDataset(path=f\"{OCT_2024_OUTPUT_CLEAN_PATH}/op.arrow\", \n",
    "                            dataset_type=DatasetType.NHS_DIGITAL.value, \n",
    "                            coding_system=CodelistType.ICD10.value, \n",
    "                            log_path=f\"{OCT_2024_OUTPUT_CLEAN_PATH}/op_log.txt\")"
   ]
  },
  {
   "cell_type": "code",
   "execution_count": null,
   "id": "34fe506a",
   "metadata": {},
   "outputs": [],
   "source": [
    "ca_data = ProcessedDataset(path=f\"{OCT_2024_OUTPUT_CLEAN_PATH}/ca.arrow\", \n",
    "                            dataset_type=DatasetType.NHS_DIGITAL.value, \n",
    "                            coding_system=CodelistType.ICD10.value, \n",
    "                            log_path=f\"{OCT_2024_OUTPUT_CLEAN_PATH}/ca_log.txt\")"
   ]
  },
  {
   "cell_type": "code",
   "execution_count": null,
   "id": "2f621406",
   "metadata": {},
   "outputs": [],
   "source": [
    "civ_data.merge_with_dataset(apc_data)"
   ]
  },
  {
   "cell_type": "code",
   "execution_count": null,
   "id": "42e71bf9",
   "metadata": {},
   "outputs": [],
   "source": [
    "civ_data.merge_with_dataset(op_data)"
   ]
  },
  {
   "cell_type": "code",
   "execution_count": null,
   "id": "d60e40ce",
   "metadata": {},
   "outputs": [],
   "source": [
    "civ_data.merge_with_dataset(ca_data)"
   ]
  },
  {
   "cell_type": "code",
   "execution_count": null,
   "id": "9ac9c4cd",
   "metadata": {},
   "outputs": [],
   "source": [
    "dedup = civ_data.deduplicate()"
   ]
  },
  {
   "cell_type": "code",
   "execution_count": null,
   "id": "6a66110c",
   "metadata": {},
   "outputs": [],
   "source": [
    "for log in apc_data.log:\n",
    "    dedup.log.append(log)\n",
    "    \n",
    "for log in op_data.log:\n",
    "    dedup.log.append(log)\n",
    "    \n",
    "for log in ca_data.log:\n",
    "    dedup.log.append(log)\n",
    "    \n",
    "dedup.log.sort()"
   ]
  },
  {
   "cell_type": "code",
   "execution_count": null,
   "id": "53ba5ae1",
   "metadata": {},
   "outputs": [],
   "source": [
    "dedup.write_to_feather(f\"{OCT_2024_OUTPUT_CLEAN_PATH}/merged_data.arrow\")\n",
    "dedup.write_to_log(f\"{OCT_2024_OUTPUT_CLEAN_PATH}/merged_data_log.txt\")"
   ]
  },
  {
   "cell_type": "markdown",
   "id": "5dc8ef45",
   "metadata": {},
   "source": [
    "###### 2024_10 END ######"
   ]
  },
  {
   "cell_type": "markdown",
   "id": "7aac2cd5",
   "metadata": {},
   "source": [
    "###### 2025_03 START ######"
   ]
  },
  {
   "cell_type": "markdown",
   "id": "831dd328",
   "metadata": {},
   "source": [
    "### 4th cut of data - March 2025 Data\n",
    "\n",
    "2025-04-15: In this fourth cut of data we only have HES and ECDS data; there are no mortality/civic_reg or cancer data\n"
   ]
  },
  {
   "cell_type": "code",
   "execution_count": null,
   "id": "a7411d51",
   "metadata": {},
   "outputs": [],
   "source": [
    "MAR_2025_OUTPUT_PATH = f\"{PROCESSED_DATASETS_NHS_DIGITAL_LOCATION}/march_2025/processed_data\"\n",
    "AnyPath(MAR_2025_OUTPUT_PATH).mkdir(parents=True, exist_ok=True)\n",
    "MAR_2025_OUTPUT_CLEAN_PATH = f\"{PROCESSED_DATASETS_NHS_DIGITAL_LOCATION}/march_2025/clean_processed_data\"\n",
    "AnyPath(MAR_2025_OUTPUT_CLEAN_PATH).mkdir(parents=True, exist_ok=True)"
   ]
  },
  {
   "cell_type": "code",
   "execution_count": null,
   "id": "78dcda01",
   "metadata": {},
   "outputs": [],
   "source": [
    "apc_path = f\"{MAR_2025_INPUT_PATH}/HES/\" \n",
    "op_path = f\"{MAR_2025_INPUT_PATH}/HES/\" \n",
    "ecds_path = f\"{MAR_2025_INPUT_PATH}/ECDS/\""
   ]
  },
  {
   "cell_type": "markdown",
   "id": "97ffccef",
   "metadata": {},
   "source": [
    "**APC Data**"
   ]
  },
  {
   "cell_type": "markdown",
   "id": "db0f059b",
   "metadata": {},
   "source": [
    "#### Again we need to preprocess files to a single .csv\n",
    "\n",
    "For 2025_03 cut, there are only .txt files (i.e not .txt files + .csv file).  The separator is the pipe symbol `|`\n",
    "\n",
    "Unfortunately, even within the glob based scan_csv, there are inconsistencies in field dtypes (principally String vs Float).  So easier again to cast all to strings with `infer_schema=False` argument."
   ]
  },
  {
   "cell_type": "code",
   "execution_count": null,
   "id": "8af7a019",
   "metadata": {
    "scrolled": true
   },
   "outputs": [],
   "source": [
    "lf_temp_txt = pl.scan_csv(\n",
    "    AnyPath(\n",
    "        apc_path,\n",
    "        \"FILE*_NIC338864_HES_APC_*.txt\"\n",
    "    ),\n",
    "    separator=\"|\",\n",
    "    infer_schema=False\n",
    ")\n"
   ]
  },
  {
   "cell_type": "code",
   "execution_count": null,
   "id": "10f67c65",
   "metadata": {
    "scrolled": true
   },
   "outputs": [],
   "source": [
    "PREPROCESSED_APC_2025_03_LOCATION = (\n",
    "    f\"{PREPROCESSED_FILES_LOCATION}/nic338864_hes_apc_2025_03_all.csv\"\n",
    ") \n",
    "lf_temp_txt.sink_csv(\n",
    "    AnyPath(PREPROCESSED_APC_2025_03_LOCATION)\n",
    ")"
   ]
  },
  {
   "cell_type": "code",
   "execution_count": null,
   "id": "0c1ee964",
   "metadata": {},
   "outputs": [],
   "source": [
    "del(lf_temp_txt)"
   ]
  },
  {
   "cell_type": "code",
   "execution_count": null,
   "id": "683c3d08",
   "metadata": {
    "scrolled": true
   },
   "outputs": [],
   "source": [
    "apc_data = RawDataset(\n",
    "#     path=apc_path,\n",
    "    path=PREPROCESSED_APC_2025_03_LOCATION,\n",
    "    dataset_type=DatasetType.NHS_DIGITAL.value,\n",
    "    coding_system=CodelistType.ICD10.value\n",
    ")"
   ]
  },
  {
   "cell_type": "code",
   "execution_count": null,
   "id": "ee788850",
   "metadata": {},
   "outputs": [],
   "source": [
    "processed_apc_data = apc_data.process_dataset(\n",
    "    deduplication_options=deduplication_options,\n",
    "    column_maps=col_maps,\n",
    "    nhs_digital_subtype=\"APC\"\n",
    ")"
   ]
  },
  {
   "cell_type": "code",
   "execution_count": null,
   "id": "33c01df4",
   "metadata": {},
   "outputs": [],
   "source": [
    "processed_apc_data.write_to_feather(f\"{MAR_2025_OUTPUT_PATH}/apc.arrow\")\n",
    "processed_apc_data.write_to_log(f\"{MAR_2025_OUTPUT_PATH}/apc_log.txt\")"
   ]
  },
  {
   "cell_type": "markdown",
   "id": "20695fad",
   "metadata": {},
   "source": [
    "We now remove the unrealistic data (i.e. event before birth, before 1st Jan 1910 or after \\[run date of script\\]) and save this into a cleaned_processed_data folder"
   ]
  },
  {
   "cell_type": "code",
   "execution_count": null,
   "id": "3127a865",
   "metadata": {},
   "outputs": [],
   "source": [
    "cleaned_dataset = processed_apc_data.remove_unrealistic_dates(\n",
    "    date_start=date_start,\n",
    "    date_end=date_end,\n",
    "    before_born=True,\n",
    "    demographic_dataset=demographics\n",
    ")\n",
    "\n",
    "cleaned_dataset.write_to_feather(f\"{MAR_2025_OUTPUT_CLEAN_PATH}/apc.arrow\")\n",
    "cleaned_dataset.write_to_log(f\"{MAR_2025_OUTPUT_CLEAN_PATH}/apc_log.txt\")"
   ]
  },
  {
   "cell_type": "markdown",
   "id": "bfa22fd5",
   "metadata": {},
   "source": [
    "**OP Data**"
   ]
  },
  {
   "cell_type": "markdown",
   "id": "2112a5bf",
   "metadata": {},
   "source": [
    "#### Again we need to preprocess files to a single .csv\n",
    "\n",
    "For 2025_03 cut, there are only .txt files (i.e not .txt files + .csv file).  The separator is the pipe symbol `|`\n",
    "\n",
    "Unfortunately, even within the glob based scan_csv, there are inconsistencies in field dtypes (principally String vs Float).  So easier again to cast all the str with `infer_schema=False` argument."
   ]
  },
  {
   "cell_type": "code",
   "execution_count": null,
   "id": "0a8973a9",
   "metadata": {
    "scrolled": true
   },
   "outputs": [],
   "source": [
    "lf_temp_txt = pl.scan_csv(\n",
    "    AnyPath(\n",
    "        apc_path,\n",
    "        \"FILE*_NIC338864_HES_OP_*.txt\"\n",
    "    ),\n",
    "    separator=\"|\",\n",
    "    infer_schema=False\n",
    ")\n"
   ]
  },
  {
   "cell_type": "code",
   "execution_count": null,
   "id": "e53245b5",
   "metadata": {
    "scrolled": true
   },
   "outputs": [],
   "source": [
    "PREPROCESSED_OP_2025_03_LOCATION = (\n",
    "    f\"{PREPROCESSED_FILES_LOCATION}/nic338864_hes_op_2025_03_all.csv\"\n",
    ") \n",
    "lf_temp_txt.sink_csv(\n",
    "    AnyPath(PREPROCESSED_OP_2025_03_LOCATION)\n",
    ")"
   ]
  },
  {
   "cell_type": "code",
   "execution_count": null,
   "id": "02253b1e",
   "metadata": {},
   "outputs": [],
   "source": [
    "del(lf_temp_txt)"
   ]
  },
  {
   "cell_type": "code",
   "execution_count": null,
   "id": "bb293dbe",
   "metadata": {},
   "outputs": [],
   "source": [
    "op_data = RawDataset(\n",
    "#     path=op_path,\n",
    "    path=PREPROCESSED_OP_2025_03_LOCATION,\n",
    "    dataset_type=DatasetType.NHS_DIGITAL.value,\n",
    "    coding_system=CodelistType.ICD10.value\n",
    ")"
   ]
  },
  {
   "cell_type": "code",
   "execution_count": null,
   "id": "117dbefb",
   "metadata": {},
   "outputs": [],
   "source": [
    "processed_op_data = op_data.process_dataset(\n",
    "    deduplication_options=deduplication_options,\n",
    "    column_maps=col_maps,\n",
    "    nhs_digital_subtype=\"OP\"\n",
    ")"
   ]
  },
  {
   "cell_type": "code",
   "execution_count": null,
   "id": "dddda1a5",
   "metadata": {},
   "outputs": [],
   "source": [
    "processed_op_data.write_to_feather(f\"{MAR_2025_OUTPUT_PATH}/op.arrow\")\n",
    "processed_op_data.write_to_log(f\"{MAR_2025_OUTPUT_PATH}/op_log.txt\")"
   ]
  },
  {
   "cell_type": "markdown",
   "id": "ef845942",
   "metadata": {},
   "source": [
    "We now remove the unrealistic data (i.e. event before birth, before 1st Jan 1910 or after \\[run date of script\\]) and save this into a cleaned_processed_data folder"
   ]
  },
  {
   "cell_type": "code",
   "execution_count": null,
   "id": "74c68045",
   "metadata": {},
   "outputs": [],
   "source": [
    "cleaned_dataset = processed_op_data.remove_unrealistic_dates(\n",
    "    date_start=date_start,\n",
    "    date_end=date_end,\n",
    "    before_born=True,\n",
    "    demographic_dataset=demographics\n",
    ")\n",
    "\n",
    "cleaned_dataset.write_to_feather(f\"{MAR_2025_OUTPUT_CLEAN_PATH}/op.arrow\")\n",
    "cleaned_dataset.write_to_log(f\"{MAR_2025_OUTPUT_CLEAN_PATH}/op_log.txt\")"
   ]
  },
  {
   "cell_type": "markdown",
   "id": "70d86da2",
   "metadata": {},
   "source": [
    "**ECDS Data**"
   ]
  },
  {
   "cell_type": "markdown",
   "id": "738f568d",
   "metadata": {},
   "source": [
    "This is a \"new\" venture.\n",
    "\n",
    "#### Again we need to preprocess files to a single .csv\n",
    "\n",
    "For 2025_03 cut, there are only .txt files (i.e not .txt files + .csv file).  The separator is the pipe symbol `|`\n",
    "\n",
    "Unfortunately, even within the glob based scan_csv, there are inconsistencies in field dtypes (principally String vs Float).  So easier again to cast all the str with `infer_schema=False` argument."
   ]
  },
  {
   "cell_type": "code",
   "execution_count": null,
   "id": "51e1dfce",
   "metadata": {
    "scrolled": true
   },
   "outputs": [],
   "source": [
    "lf_temp_txt = pl.scan_csv(\n",
    "    AnyPath(\n",
    "        ecds_path,\n",
    "        \"*ECDS*.txt\"\n",
    "    ),\n",
    "    separator=\"|\",\n",
    "    infer_schema=False\n",
    ")\n"
   ]
  },
  {
   "cell_type": "code",
   "execution_count": null,
   "id": "5b5cce8c",
   "metadata": {},
   "outputs": [],
   "source": [
    "PREPROCESSED_ECDS_2025_03_LOCATION = (\n",
    "    f\"{PREPROCESSED_FILES_LOCATION}/nic338864_ecds_2025_03_all.csv\"\n",
    ") \n",
    "lf_temp_txt.sink_csv(\n",
    "    AnyPath(PREPROCESSED_ECDS_2025_03_LOCATION)\n",
    ")"
   ]
  },
  {
   "cell_type": "code",
   "execution_count": null,
   "id": "2bb908ad",
   "metadata": {},
   "outputs": [],
   "source": [
    "ecds_data = RawDataset(\n",
    "#     path=op_path,\n",
    "    path=PREPROCESSED_ECDS_2025_03_LOCATION,\n",
    "    dataset_type=DatasetType.NHS_DIGITAL.value,\n",
    "    coding_system=CodelistType.SNOMED.value,\n",
    ")"
   ]
  },
  {
   "cell_type": "code",
   "execution_count": null,
   "id": "662f2783",
   "metadata": {},
   "outputs": [],
   "source": [
    "col_maps = {\n",
    "#     \"CANCER_SITE\": \"code\", \n",
    "    \"ARRIVAL_DATE\": \"date\", \n",
    "    \"STUDY_ID\": \"nhs_number\"\n",
    "}"
   ]
  },
  {
   "cell_type": "code",
   "execution_count": null,
   "id": "35709b6f",
   "metadata": {},
   "outputs": [],
   "source": [
    "processed_ecds_data = ecds_data.process_dataset(\n",
    "    deduplication_options=deduplication_options,\n",
    "    column_maps=col_maps,\n",
    "    nhs_digital_subtype=\"ECDS\",\n",
    ")"
   ]
  },
  {
   "cell_type": "code",
   "execution_count": null,
   "id": "31d4da87",
   "metadata": {},
   "outputs": [],
   "source": [
    "processed_ecds_data.write_to_feather(f\"{MAR_2025_OUTPUT_PATH}/ecds.arrow\")\n",
    "processed_ecds_data.write_to_log(f\"{MAR_2025_OUTPUT_PATH}/ecds_log.txt\")"
   ]
  },
  {
   "cell_type": "markdown",
   "id": "5c48b554",
   "metadata": {},
   "source": [
    "We now remove the unrealistic data (i.e. event before birth, before 1st Jan 1910 or after \\[run date of script\\]) and save this into a cleaned_processed_data folder"
   ]
  },
  {
   "cell_type": "code",
   "execution_count": null,
   "id": "044c7c58",
   "metadata": {},
   "outputs": [],
   "source": [
    "cleaned_dataset = processed_ecds_data.remove_unrealistic_dates(\n",
    "    date_start=date_start,\n",
    "    date_end=date_end,\n",
    "    before_born=True,\n",
    "    demographic_dataset=demographics\n",
    ")\n",
    "\n",
    "cleaned_dataset.write_to_feather(f\"{MAR_2025_OUTPUT_CLEAN_PATH}/ecds.arrow\")\n",
    "cleaned_dataset.write_to_log(f\"{MAR_2025_OUTPUT_CLEAN_PATH}/ecds_log.txt\")"
   ]
  },
  {
   "cell_type": "markdown",
   "id": "6c1dafe3",
   "metadata": {},
   "source": [
    "### Merge these data together\n",
    "\n",
    "Now we merge all these datasets together and deduplicate. We load from file so that we can be assured that the correct dataset is loaded as sometimes the cells can be run manually in the wrong order. "
   ]
  },
  {
   "cell_type": "code",
   "execution_count": null,
   "id": "1afb10a1",
   "metadata": {},
   "outputs": [],
   "source": [
    "apc_data = ProcessedDataset(path=f\"{MAR_2025_OUTPUT_CLEAN_PATH}/apc.arrow\", \n",
    "                            dataset_type=DatasetType.NHS_DIGITAL.value, \n",
    "                            coding_system=CodelistType.ICD10.value, \n",
    "                            log_path=f\"{MAR_2025_OUTPUT_CLEAN_PATH}/apc_log.txt\")"
   ]
  },
  {
   "cell_type": "code",
   "execution_count": null,
   "id": "1b4d9c55",
   "metadata": {},
   "outputs": [],
   "source": [
    "op_data = ProcessedDataset(path=f\"{MAR_2025_OUTPUT_CLEAN_PATH}/op.arrow\", \n",
    "                            dataset_type=DatasetType.NHS_DIGITAL.value, \n",
    "                            coding_system=CodelistType.ICD10.value, \n",
    "                            log_path=f\"{MAR_2025_OUTPUT_CLEAN_PATH}/op_log.txt\")"
   ]
  },
  {
   "cell_type": "code",
   "execution_count": null,
   "id": "a62a2b29",
   "metadata": {},
   "outputs": [],
   "source": [
    "apc_data.merge_with_dataset(op_data)"
   ]
  },
  {
   "cell_type": "code",
   "execution_count": null,
   "id": "bfca8622",
   "metadata": {},
   "outputs": [],
   "source": [
    "dedup = apc_data.deduplicate()"
   ]
  },
  {
   "cell_type": "code",
   "execution_count": null,
   "id": "cce9a2fc",
   "metadata": {},
   "outputs": [],
   "source": [
    "for log in apc_data.log:\n",
    "    dedup.log.append(log)\n",
    "    \n",
    "for log in op_data.log:\n",
    "    dedup.log.append(log)\n",
    "    \n",
    "dedup.log.sort()"
   ]
  },
  {
   "cell_type": "code",
   "execution_count": null,
   "id": "1ceac3ed",
   "metadata": {},
   "outputs": [],
   "source": [
    "dedup.write_to_feather(f\"{MAR_2025_OUTPUT_CLEAN_PATH}/merged_data.arrow\")\n",
    "dedup.write_to_log(f\"{MAR_2025_OUTPUT_CLEAN_PATH}/merged_data_log.txt\")"
   ]
  },
  {
   "cell_type": "markdown",
   "id": "1aaeb56c",
   "metadata": {},
   "source": [
    "###### 2025_03 END ######"
   ]
  },
  {
   "cell_type": "markdown",
   "id": "08abc33e",
   "metadata": {},
   "source": [
    "### Merging all NHS Digital data together \\[ICD10\\]\n",
    "\n",
    "Now we have 4 merged datasets - from Sept 2021, July 2023, October 2024 and from March 2025. We are going to merged these into each other and deduplicate. "
   ]
  },
  {
   "cell_type": "code",
   "execution_count": null,
   "id": "9c1baeb1",
   "metadata": {},
   "outputs": [],
   "source": [
    "sept_2021_data = ProcessedDataset(path=f\"{SEP_2021_OUTPUT_CLEAN_PATH}/merged_data.arrow\", \n",
    "                                coding_system=CodelistType.ICD10.value, \n",
    "                                dataset_type=DatasetType.NHS_DIGITAL.value, \n",
    "                                log_path=f\"{SEP_2021_OUTPUT_CLEAN_PATH}/merged_data_log.txt\")"
   ]
  },
  {
   "cell_type": "code",
   "execution_count": null,
   "id": "68a75afc",
   "metadata": {},
   "outputs": [],
   "source": [
    "july_2023_data = ProcessedDataset(path=f\"{JULY_2023_OUTPUT_CLEAN_PATH}/merged_data.arrow\", \n",
    "                                coding_system=CodelistType.ICD10.value, \n",
    "                                dataset_type=DatasetType.NHS_DIGITAL.value, \n",
    "                                log_path=f\"{JULY_2023_OUTPUT_CLEAN_PATH}/merged_data_log.txt\")"
   ]
  },
  {
   "cell_type": "code",
   "execution_count": null,
   "id": "e858cb42",
   "metadata": {},
   "outputs": [],
   "source": [
    "oct_2024_data = ProcessedDataset(path=f\"{OCT_2024_OUTPUT_CLEAN_PATH}/merged_data.arrow\", \n",
    "                                coding_system=CodelistType.ICD10.value, \n",
    "                                dataset_type=DatasetType.NHS_DIGITAL.value, \n",
    "                                log_path=f\"{OCT_2024_OUTPUT_CLEAN_PATH}/merged_data_log.txt\")"
   ]
  },
  {
   "cell_type": "code",
   "execution_count": null,
   "id": "060f5d15",
   "metadata": {},
   "outputs": [],
   "source": [
    "mar_2025_data = ProcessedDataset(path=f\"{MAR_2025_OUTPUT_CLEAN_PATH}/merged_data.arrow\", \n",
    "                                coding_system=CodelistType.ICD10.value, \n",
    "                                dataset_type=DatasetType.NHS_DIGITAL.value, \n",
    "                                log_path=f\"{MAR_2025_OUTPUT_CLEAN_PATH}/merged_data_log.txt\")"
   ]
  },
  {
   "cell_type": "code",
   "execution_count": null,
   "id": "c16347d0",
   "metadata": {},
   "outputs": [],
   "source": [
    "sept_2021_data.merge_with_dataset(july_2023_data)"
   ]
  },
  {
   "cell_type": "code",
   "execution_count": null,
   "id": "12f6034e",
   "metadata": {},
   "outputs": [],
   "source": [
    "sept_2021_data.merge_with_dataset(oct_2024_data)"
   ]
  },
  {
   "cell_type": "code",
   "execution_count": null,
   "id": "58387974",
   "metadata": {},
   "outputs": [],
   "source": [
    "sept_2021_data.merge_with_dataset(mar_2025_data)"
   ]
  },
  {
   "cell_type": "code",
   "execution_count": null,
   "id": "83697f81",
   "metadata": {},
   "outputs": [],
   "source": [
    "dedup = sept_2021_data.deduplicate()"
   ]
  },
  {
   "cell_type": "code",
   "execution_count": null,
   "id": "e54cc0fd",
   "metadata": {},
   "outputs": [],
   "source": [
    "for log in july_2023_data.log:\n",
    "    dedup.log.append(log)\n",
    "    \n",
    "for log in oct_2024_data.log:\n",
    "    dedup.log.append(log)\n",
    "    \n",
    "for log in mar_2025_data.log:\n",
    "    dedup.log.append(log)\n",
    "    \n",
    "dedup.log.sort()"
   ]
  },
  {
   "cell_type": "code",
   "execution_count": null,
   "id": "8db75f24",
   "metadata": {},
   "outputs": [],
   "source": [
    "dedup.write_to_feather(f\"{MEGADATA_NHS_DIGITAL_LOCATION}/nhs_d_merged_ICD10.arrow\")"
   ]
  },
  {
   "cell_type": "code",
   "execution_count": null,
   "id": "e076f71b",
   "metadata": {},
   "outputs": [],
   "source": [
    "dedup.write_to_log(f\"{MEGADATA_NHS_DIGITAL_LOCATION}/nhs_d_merged_ICD10_log.txt\")"
   ]
  },
  {
   "cell_type": "markdown",
   "id": "a5e7d095",
   "metadata": {},
   "source": [
    "### Merging all NHS Digital data together \\[SNOMED\\]\n",
    "\n",
    "We need to do this because all other MEGADATA files generated herein are ICD10 and ECDS is SNOMED\n",
    "\n",
    "NB. there is no ECDS for Sept 2021."
   ]
  },
  {
   "cell_type": "code",
   "execution_count": null,
   "id": "e478bf7b",
   "metadata": {},
   "outputs": [],
   "source": [
    "july_2023_data = ProcessedDataset(path=f\"{JULY_2023_OUTPUT_CLEAN_PATH}/ecds.arrow\", \n",
    "                                coding_system=CodelistType.SNOMED.value, \n",
    "                                dataset_type=DatasetType.NHS_DIGITAL.value, \n",
    "                                log_path=f\"{JULY_2023_OUTPUT_CLEAN_PATH}/ecds_log.txt\")"
   ]
  },
  {
   "cell_type": "code",
   "execution_count": null,
   "id": "b09f178c",
   "metadata": {},
   "outputs": [],
   "source": [
    "oct_2024_data = ProcessedDataset(path=f\"{OCT_2024_OUTPUT_CLEAN_PATH}/ecds.arrow\", \n",
    "                                coding_system=CodelistType.SNOMED.value, \n",
    "                                dataset_type=DatasetType.NHS_DIGITAL.value, \n",
    "                                log_path=f\"{OCT_2024_OUTPUT_CLEAN_PATH}/ecds_log.txt\")"
   ]
  },
  {
   "cell_type": "code",
   "execution_count": null,
   "id": "3a922961",
   "metadata": {
    "scrolled": true
   },
   "outputs": [],
   "source": [
    "mar_2025_data = ProcessedDataset(path=f\"{MAR_2025_OUTPUT_CLEAN_PATH}/ecds.arrow\", \n",
    "                                coding_system=CodelistType.SNOMED.value, \n",
    "                                dataset_type=DatasetType.NHS_DIGITAL.value, \n",
    "                                log_path=f\"{MAR_2025_OUTPUT_CLEAN_PATH}/ecds_log.txt\")"
   ]
  },
  {
   "cell_type": "code",
   "execution_count": null,
   "id": "2c6bdb33",
   "metadata": {},
   "outputs": [],
   "source": [
    "july_2023_data.merge_with_dataset(oct_2024_data)"
   ]
  },
  {
   "cell_type": "code",
   "execution_count": null,
   "id": "f95868cf",
   "metadata": {},
   "outputs": [],
   "source": [
    "july_2023_data.merge_with_dataset(mar_2025_data)"
   ]
  },
  {
   "cell_type": "code",
   "execution_count": null,
   "id": "847b3731",
   "metadata": {},
   "outputs": [],
   "source": [
    "dedup = july_2023_data.deduplicate()"
   ]
  },
  {
   "cell_type": "code",
   "execution_count": null,
   "id": "34671874",
   "metadata": {},
   "outputs": [],
   "source": [
    "for log in oct_2024_data.log:\n",
    "    dedup.log.append(log)\n",
    "    \n",
    "for log in mar_2025_data.log:\n",
    "    dedup.log.append(log)\n",
    "    \n",
    "dedup.log.sort()"
   ]
  },
  {
   "cell_type": "code",
   "execution_count": null,
   "id": "93fd9db8",
   "metadata": {},
   "outputs": [],
   "source": [
    "dedup.write_to_feather(f\"{MEGADATA_NHS_DIGITAL_LOCATION}/nhs_d_merged_SNOMED.arrow\")"
   ]
  },
  {
   "cell_type": "code",
   "execution_count": null,
   "id": "7793ed46",
   "metadata": {},
   "outputs": [],
   "source": [
    "dedup.write_to_log(f\"{MEGADATA_NHS_DIGITAL_LOCATION}/nhs_d_merged_SNOMED_log.txt\")"
   ]
  },
  {
   "cell_type": "markdown",
   "id": "8fafd58a",
   "metadata": {},
   "source": [
    "**Map SNOMED to ICD10** \n",
    "\n",
    "Load the data from saved SNOMED dataset and map it from the mapping file. \n",
    "\n",
    "Note added 06.12.2024: Caroline's mapping files are in her /red/ directory, if full path to these is not given, these steps will only work if run from Caroline's directory.  Modified to give full path to look-up tables.\n",
    "\n",
    "Issues:\n",
    "1. Should we move the look-tables to /library-red/reference_files/\n",
    "2. What is the source of these lookup tables?  When were they last updated?\n",
    "\n",
    "\n",
    "**Note 2025-05-12: Issue of ICD10 4 digit discussed w/ DvH and SF; agreed to limit all ICD10 data versions to 3digit.  Also verfied that SNOMED_to_ICD10 table maps each SNOMED code to a single ICD10 3digit code (m:1) but to multiple ICD10 4 digit codes (m:m).**"
   ]
  },
  {
   "cell_type": "code",
   "execution_count": null,
   "id": "aa1a60eb",
   "metadata": {},
   "outputs": [],
   "source": [
    "snomed_data = ProcessedDataset(\n",
    "    path=f\"{MEGADATA_NHS_DIGITAL_LOCATION}/nhs_d_merged_SNOMED.arrow\",\n",
    "    dataset_type=DatasetType.NHS_DIGITAL.value,\n",
    "    coding_system=CodelistType.SNOMED.value,\n",
    "    log_path=f\"{MEGADATA_NHS_DIGITAL_LOCATION}/nhs_d_merged_SNOMED_log.txt\"\n",
    ")"
   ]
  },
  {
   "cell_type": "code",
   "execution_count": null,
   "id": "97f49b24",
   "metadata": {},
   "outputs": [],
   "source": [
    "# Alas we need to recast snomed_data's code field as an Int64 to work with TRE tool's merging function\n",
    "snomed_data.data = (\n",
    "    snomed_data.data\n",
    "    .with_columns(\n",
    "        pl.col(\"code\").cast(pl.Int64, strict=True)\n",
    "    )\n",
    ")"
   ]
  },
  {
   "cell_type": "code",
   "execution_count": null,
   "id": "d8ac7843",
   "metadata": {},
   "outputs": [],
   "source": [
    "mapped_data = snomed_data.map_snomed_to_icd(\n",
    "    mapping_file=f\"{ROOT_LOCATION}/{VERSION}/mapping_files/processed_mapping_file.csv\",\n",
    "    snomed_col=\"conceptId\",\n",
    "    icd_col=\"mapTarget\"\n",
    ")"
   ]
  },
  {
   "cell_type": "code",
   "execution_count": null,
   "id": "e6eeab17",
   "metadata": {},
   "outputs": [],
   "source": [
    "final_dedup = mapped_data.deduplicate()"
   ]
  },
  {
   "cell_type": "code",
   "execution_count": null,
   "id": "166b290b",
   "metadata": {},
   "outputs": [],
   "source": [
    "for log in mapped_data.log:\n",
    "    final_dedup.log.append(log)"
   ]
  },
  {
   "cell_type": "code",
   "execution_count": null,
   "id": "655f1899",
   "metadata": {},
   "outputs": [],
   "source": [
    "final_dedup.log.sort()"
   ]
  },
  {
   "cell_type": "code",
   "execution_count": null,
   "id": "c180f36a",
   "metadata": {},
   "outputs": [],
   "source": [
    "final_dedup.write_to_feather(f\"{MEGADATA_NHS_DIGITAL_LOCATION}/final_mapped_snomed_to_icd.arrow\")\n",
    "final_dedup.write_to_log(f\"{MEGADATA_NHS_DIGITAL_LOCATION}/final_mapped_snomed_to_icd_log.txt\")"
   ]
  },
  {
   "cell_type": "code",
   "execution_count": null,
   "id": "7ec11251",
   "metadata": {},
   "outputs": [],
   "source": [
    "final_dedup.coding_system = CodelistType.ICD10.value"
   ]
  },
  {
   "cell_type": "markdown",
   "id": "bd31612a",
   "metadata": {},
   "source": [
    "**Merge with the ICD data and deduplicate**"
   ]
  },
  {
   "cell_type": "code",
   "execution_count": null,
   "id": "c6cbc9b4",
   "metadata": {},
   "outputs": [],
   "source": [
    "icd_data = ProcessedDataset(\n",
    "    path=f\"{MEGADATA_NHS_DIGITAL_LOCATION}/nhs_d_merged_ICD10.arrow\",\n",
    "    dataset_type=DatasetType.NHS_DIGITAL.value,\n",
    "    coding_system=CodelistType.ICD10.value,\n",
    "    log_path=f\"{MEGADATA_NHS_DIGITAL_LOCATION}/nhs_d_merged_ICD10_log.txt\"\n",
    ")"
   ]
  },
  {
   "cell_type": "code",
   "execution_count": null,
   "id": "81d4913e",
   "metadata": {},
   "outputs": [],
   "source": [
    "icd_data.merge_with_dataset(final_dedup)"
   ]
  },
  {
   "cell_type": "code",
   "execution_count": null,
   "id": "51c183a3",
   "metadata": {},
   "outputs": [],
   "source": [
    "merged_dedup = icd_data.deduplicate()"
   ]
  },
  {
   "cell_type": "code",
   "execution_count": null,
   "id": "e632e48d",
   "metadata": {},
   "outputs": [],
   "source": [
    "for log in icd_data.log:\n",
    "    merged_dedup.log.append(log)"
   ]
  },
  {
   "cell_type": "code",
   "execution_count": null,
   "id": "06d8696e",
   "metadata": {},
   "outputs": [],
   "source": [
    "merged_dedup.log.sort()"
   ]
  },
  {
   "cell_type": "code",
   "execution_count": null,
   "id": "6514fa3e",
   "metadata": {},
   "outputs": [],
   "source": [
    "merged_dedup.write_to_feather(f\"{MEGADATA_NHS_DIGITAL_LOCATION}/merged_and_mapped.arrow\")\n",
    "merged_dedup.write_to_log(f\"{MEGADATA_NHS_DIGITAL_LOCATION}/merged_and_mapped_log.txt\")"
   ]
  },
  {
   "cell_type": "markdown",
   "id": "d4b90afb",
   "metadata": {},
   "source": [
    "### Run next cell to initiate next notebook"
   ]
  },
  {
   "cell_type": "code",
   "execution_count": null,
   "id": "a904447b",
   "metadata": {},
   "outputs": [],
   "source": [
    "redirect_to_next_notebook_in_pipeline(\"6-merge-datasets-notebook\")"
   ]
  },
  {
   "cell_type": "code",
   "execution_count": null,
   "id": "65df698a",
   "metadata": {},
   "outputs": [],
   "source": []
  }
 ],
 "metadata": {
  "kernelspec": {
   "display_name": "Python 3 (ipykernel)",
   "language": "python",
   "name": "python3"
  },
  "language_info": {
   "codemirror_mode": {
    "name": "ipython",
    "version": 3
   },
   "file_extension": ".py",
   "mimetype": "text/x-python",
   "name": "python",
   "nbconvert_exporter": "python",
   "pygments_lexer": "ipython3",
   "version": "3.9.2"
  }
 },
 "nbformat": 4,
 "nbformat_minor": 5
}
